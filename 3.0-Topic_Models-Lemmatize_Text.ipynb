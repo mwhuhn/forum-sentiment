{
 "cells": [
  {
   "cell_type": "markdown",
   "metadata": {},
   "source": [
    "# Lemmatize Forum Text\n",
    "Cleans the data for topic modelling\n",
    "\n",
    "## Data Sources\n",
    "- youbemom-merged.db (scraped with 1-Scrape_Forum.ipynb)\n",
    "\n",
    "\n",
    "## Changes\n",
    "- 2020-09-14: Created\n",
    "- 2020-09-15: Added functions for accessing database, cleaning/tokenizing text\n",
    "- 2020-09-16: Generated and saved corpus and dictionary\n",
    "- 2020-12-13: Updated for new data\n",
    "\n",
    "## TODO\n",
    "- Tutorial: https://towardsdatascience.com/topic-modelling-in-python-with-nltk-and-gensim-4ef03213cd21\n",
    "- Add actual database structure"
   ]
  },
  {
   "cell_type": "markdown",
   "metadata": {},
   "source": [
    "## Imports"
   ]
  },
  {
   "cell_type": "code",
   "execution_count": 1,
   "metadata": {},
   "outputs": [],
   "source": [
    "import sqlite3\n",
    "import pandas as pd\n",
    "import numpy as np\n",
    "from datetime import datetime\n",
    "from pathlib import Path\n",
    "from io import FileIO\n",
    "import re\n",
    "import string\n",
    "# tokenizing\n",
    "from nltk.corpus import wordnet as wn\n",
    "from nltk.tokenize import RegexpTokenizer #, word_tokenize\n",
    "from nltk.corpus import stopwords\n",
    "# saving the corpus and dictionary\n",
    "from gensim import corpora, models\n",
    "import pickle\n",
    "from youbemom import create_connection\n",
    "import swifter"
   ]
  },
  {
   "cell_type": "markdown",
   "metadata": {},
   "source": [
    "Prerequisite:"
   ]
  },
  {
   "cell_type": "code",
   "execution_count": 2,
   "metadata": {},
   "outputs": [],
   "source": [
    "# import nltk\n",
    "# nltk.download('wordnet')\n",
    "# nltk.download('stopwords')"
   ]
  },
  {
   "cell_type": "markdown",
   "metadata": {},
   "source": [
    "## Functions"
   ]
  },
  {
   "cell_type": "markdown",
   "metadata": {},
   "source": [
    "For formatting the data"
   ]
  },
  {
   "cell_type": "code",
   "execution_count": 3,
   "metadata": {},
   "outputs": [],
   "source": [
    "def clean_text(text):\n",
    "    \"\"\" cleans the input text of punctuation, extra\n",
    "        spaces, and makes letters lower case\n",
    "    :param text: text (= title + body here)\n",
    "    :return clean: clean text\n",
    "    \"\"\"\n",
    "    clean = \"\".join([t for t in text if t not in string.punctuation])\n",
    "    clean = re.sub(\" +\", \" \", clean)\n",
    "    clean = clean.strip()\n",
    "    clean = clean.lower()\n",
    "    return clean"
   ]
  },
  {
   "cell_type": "code",
   "execution_count": 4,
   "metadata": {},
   "outputs": [],
   "source": [
    "def remove_stopwords(text):\n",
    "    \"\"\" remove all stop words from the text\n",
    "        using stopwords from nltk.corpus\n",
    "    :param text: text with stopwords\n",
    "    :return words: text without stopwords\n",
    "    \"\"\"\n",
    "    words = [w for w in text if w not in stopwords.words('english')]\n",
    "    return words"
   ]
  },
  {
   "cell_type": "code",
   "execution_count": 5,
   "metadata": {},
   "outputs": [],
   "source": [
    "def encode_utf8(text):\n",
    "    words = [w.encode() for w in text]\n",
    "    return words"
   ]
  },
  {
   "cell_type": "code",
   "execution_count": 6,
   "metadata": {},
   "outputs": [],
   "source": [
    "def get_lemma(word):\n",
    "    lemma = wn.morphy(word)\n",
    "    if lemma is None:\n",
    "        return word\n",
    "    else:\n",
    "        return lemma"
   ]
  },
  {
   "cell_type": "code",
   "execution_count": 7,
   "metadata": {},
   "outputs": [],
   "source": [
    "def lemmatize(text):\n",
    "    lemmas = [get_lemma(w) for w in text]\n",
    "    return lemmas"
   ]
  },
  {
   "cell_type": "markdown",
   "metadata": {},
   "source": [
    "## File Locations"
   ]
  },
  {
   "cell_type": "code",
   "execution_count": 8,
   "metadata": {},
   "outputs": [],
   "source": [
    "p = Path.cwd()\n",
    "path_parent = p.parents[0]"
   ]
  },
  {
   "cell_type": "code",
   "execution_count": 9,
   "metadata": {},
   "outputs": [],
   "source": [
    "path_db = path_parent / \"database\" / \"youbemom-merged.db\"\n",
    "path_db = str(path_db)\n",
    "path_lemma_pkl = path_parent / \"clean_data\" / \"lemmatized_text_{}.pkl\"\n",
    "path_lemma_pkl = str(path_lemma_pkl)\n",
    "path_corpus_pkl = path_parent / \"clean_data\" / \"corpus_{}.pkl\"\n",
    "path_corpus_pkl = str(path_corpus_pkl)\n",
    "path_dictionary_gensim = path_parent / \"clean_data\" / \"dictionary_{}.gensim\"\n",
    "path_dictionary_gensim = str(path_dictionary_gensim)"
   ]
  },
  {
   "cell_type": "markdown",
   "metadata": {},
   "source": [
    "## Load Data"
   ]
  },
  {
   "cell_type": "code",
   "execution_count": 10,
   "metadata": {},
   "outputs": [],
   "source": [
    "sn_sql = ''' SELECT text_no_url FROM posts WHERE subforum=\"special-needs\" '''\n",
    "td_sql = ''' SELECT text_no_url FROM posts WHERE subforum=\"toddler\" '''"
   ]
  },
  {
   "cell_type": "code",
   "execution_count": 11,
   "metadata": {},
   "outputs": [],
   "source": [
    "sn_parents_sql = ''' SELECT text_no_url FROM posts WHERE subforum=\"special-needs\" AND parent_id=\"\" '''\n",
    "td_parents_sql = ''' SELECT text_no_url FROM posts WHERE subforum=\"toddler\" AND parent_id=\"\" '''"
   ]
  },
  {
   "cell_type": "code",
   "execution_count": 12,
   "metadata": {
    "scrolled": true
   },
   "outputs": [],
   "source": [
    "conn = create_connection(path_db)"
   ]
  },
  {
   "cell_type": "code",
   "execution_count": null,
   "metadata": {},
   "outputs": [],
   "source": [
    "sn = pd.read_sql_query(sn_sql, conn)"
   ]
  },
  {
   "cell_type": "code",
   "execution_count": null,
   "metadata": {},
   "outputs": [],
   "source": [
    "td = pd.read_sql_query(td_sql, conn)"
   ]
  },
  {
   "cell_type": "code",
   "execution_count": 13,
   "metadata": {},
   "outputs": [],
   "source": [
    "sn_parents = pd.read_sql_query(sn_parents_sql, conn)"
   ]
  },
  {
   "cell_type": "code",
   "execution_count": 14,
   "metadata": {},
   "outputs": [],
   "source": [
    "td_parents = pd.read_sql_query(td_parents_sql, conn)"
   ]
  },
  {
   "cell_type": "code",
   "execution_count": 15,
   "metadata": {},
   "outputs": [],
   "source": [
    "conn.commit()\n",
    "conn.close()"
   ]
  },
  {
   "cell_type": "markdown",
   "metadata": {},
   "source": [
    "## Tokenize/Lemmatize Text\n",
    "Tokenize the data, removing stopwords, punctuation, and making all lower case. Then lemmatize the words. Create a corpus and dictionary, and save them."
   ]
  },
  {
   "cell_type": "markdown",
   "metadata": {},
   "source": [
    "### Special Needs"
   ]
  },
  {
   "cell_type": "code",
   "execution_count": null,
   "metadata": {},
   "outputs": [],
   "source": [
    "text = sn['text_no_url']\n",
    "text = text.swifter.apply(clean_text)\n",
    "tokenizer = RegexpTokenizer(r'\\w+')\n",
    "text = text.swifter.apply(tokenizer.tokenize)\n",
    "text = text.swifter.apply(remove_stopwords)\n",
    "text = text.swifter.apply(lemmatize)\n",
    "pickle.dump(text, open(path_lemma_pkl.format(\"special-needs\"), 'wb'))"
   ]
  },
  {
   "cell_type": "code",
   "execution_count": null,
   "metadata": {},
   "outputs": [],
   "source": [
    "dictionary = corpora.Dictionary(text)\n",
    "dictionary.save(FileIO(path_dictionary_gensim.format(\"special-needs\"), \"wb\"))"
   ]
  },
  {
   "cell_type": "code",
   "execution_count": null,
   "metadata": {},
   "outputs": [],
   "source": [
    "corpus = [dictionary.doc2bow(t) for t in text]\n",
    "pickle.dump(corpus, open(path_corpus_pkl.format(\"special-needs\"), 'wb'))"
   ]
  },
  {
   "cell_type": "code",
   "execution_count": 18,
   "metadata": {},
   "outputs": [
    {
     "data": {
      "application/vnd.jupyter.widget-view+json": {
       "model_id": "9e687020fc1145e7812b15d1dff277c9",
       "version_major": 2,
       "version_minor": 0
      },
      "text/plain": [
       "HBox(children=(HTML(value='Pandas Apply'), FloatProgress(value=0.0, max=24963.0), HTML(value='')))"
      ]
     },
     "metadata": {},
     "output_type": "display_data"
    },
    {
     "name": "stdout",
     "output_type": "stream",
     "text": [
      "\n"
     ]
    },
    {
     "data": {
      "application/vnd.jupyter.widget-view+json": {
       "model_id": "a66fdb7a4fa4491eb16b1881a2a0310d",
       "version_major": 2,
       "version_minor": 0
      },
      "text/plain": [
       "HBox(children=(HTML(value='Pandas Apply'), FloatProgress(value=0.0, max=24963.0), HTML(value='')))"
      ]
     },
     "metadata": {},
     "output_type": "display_data"
    },
    {
     "name": "stdout",
     "output_type": "stream",
     "text": [
      "\n"
     ]
    },
    {
     "data": {
      "application/vnd.jupyter.widget-view+json": {
       "model_id": "1dfb2229db4d473fabbbdd49541bad9b",
       "version_major": 2,
       "version_minor": 0
      },
      "text/plain": [
       "HBox(children=(HTML(value='Pandas Apply'), FloatProgress(value=0.0, max=24963.0), HTML(value='')))"
      ]
     },
     "metadata": {},
     "output_type": "display_data"
    },
    {
     "name": "stdout",
     "output_type": "stream",
     "text": [
      "\n"
     ]
    },
    {
     "data": {
      "application/vnd.jupyter.widget-view+json": {
       "model_id": "d9d5dc9380f743c9b0cfd52747188632",
       "version_major": 2,
       "version_minor": 0
      },
      "text/plain": [
       "HBox(children=(HTML(value='Pandas Apply'), FloatProgress(value=0.0, max=24963.0), HTML(value='')))"
      ]
     },
     "metadata": {},
     "output_type": "display_data"
    },
    {
     "name": "stdout",
     "output_type": "stream",
     "text": [
      "\n"
     ]
    }
   ],
   "source": [
    "text = sn_parents['text_no_url']\n",
    "text = text.swifter.apply(clean_text)\n",
    "tokenizer = RegexpTokenizer(r'\\w+')\n",
    "text = text.swifter.apply(tokenizer.tokenize)\n",
    "text = text.swifter.apply(remove_stopwords)\n",
    "text = text.swifter.apply(lemmatize)\n",
    "pickle.dump(text, open(path_lemma_pkl.format(\"special-needs_parents\"), 'wb'))"
   ]
  },
  {
   "cell_type": "code",
   "execution_count": 19,
   "metadata": {},
   "outputs": [],
   "source": [
    "dictionary = corpora.Dictionary(text)\n",
    "dictionary.save(FileIO(path_dictionary_gensim.format(\"special-needs_parents\"), \"wb\"))"
   ]
  },
  {
   "cell_type": "code",
   "execution_count": 20,
   "metadata": {},
   "outputs": [],
   "source": [
    "corpus = [dictionary.doc2bow(t) for t in text]\n",
    "pickle.dump(corpus, open(path_corpus_pkl.format(\"special-needs_parents\"), 'wb'))"
   ]
  },
  {
   "cell_type": "markdown",
   "metadata": {},
   "source": [
    "### Toddler"
   ]
  },
  {
   "cell_type": "code",
   "execution_count": null,
   "metadata": {},
   "outputs": [],
   "source": [
    "text = td['text_no_url']\n",
    "text = text.swifter.apply(clean_text)\n",
    "tokenizer = RegexpTokenizer(r'\\w+')\n",
    "text = text.swifter.apply(tokenizer.tokenize)\n",
    "text = text.swifter.apply(remove_stopwords)\n",
    "text = text.swifter.apply(lemmatize)\n",
    "pickle.dump(text, open(path_lemma_pkl.format(\"toddler\"), 'wb'))"
   ]
  },
  {
   "cell_type": "code",
   "execution_count": null,
   "metadata": {},
   "outputs": [],
   "source": [
    "dictionary = corpora.Dictionary(text)\n",
    "dictionary.save(FileIO(path_dictionary_gensim.format(\"toddler\"), \"wb\"))"
   ]
  },
  {
   "cell_type": "code",
   "execution_count": null,
   "metadata": {},
   "outputs": [],
   "source": [
    "corpus = [dictionary.doc2bow(t) for t in text]\n",
    "pickle.dump(corpus, open(path_corpus_pkl.format(\"toddler\"), 'wb'))"
   ]
  },
  {
   "cell_type": "code",
   "execution_count": 21,
   "metadata": {},
   "outputs": [
    {
     "data": {
      "application/vnd.jupyter.widget-view+json": {
       "model_id": "d4aae5a4669b4876b814e79fa04e0c23",
       "version_major": 2,
       "version_minor": 0
      },
      "text/plain": [
       "HBox(children=(HTML(value='Pandas Apply'), FloatProgress(value=0.0, max=1525800.0), HTML(value='')))"
      ]
     },
     "metadata": {},
     "output_type": "display_data"
    },
    {
     "name": "stdout",
     "output_type": "stream",
     "text": [
      "\n"
     ]
    },
    {
     "data": {
      "application/vnd.jupyter.widget-view+json": {
       "model_id": "2dbad58797de4529a7c93d936a00484e",
       "version_major": 2,
       "version_minor": 0
      },
      "text/plain": [
       "HBox(children=(HTML(value='Pandas Apply'), FloatProgress(value=0.0, max=1525800.0), HTML(value='')))"
      ]
     },
     "metadata": {},
     "output_type": "display_data"
    },
    {
     "name": "stdout",
     "output_type": "stream",
     "text": [
      "\n"
     ]
    },
    {
     "data": {
      "application/vnd.jupyter.widget-view+json": {
       "model_id": "d6b946396f2e426ca59285ae5d136ae9",
       "version_major": 2,
       "version_minor": 0
      },
      "text/plain": [
       "HBox(children=(HTML(value='Pandas Apply'), FloatProgress(value=0.0, max=1525800.0), HTML(value='')))"
      ]
     },
     "metadata": {},
     "output_type": "display_data"
    },
    {
     "name": "stdout",
     "output_type": "stream",
     "text": [
      "\n"
     ]
    },
    {
     "data": {
      "application/vnd.jupyter.widget-view+json": {
       "model_id": "9bb14bafa984410f89a4901684a6a66e",
       "version_major": 2,
       "version_minor": 0
      },
      "text/plain": [
       "HBox(children=(HTML(value='Pandas Apply'), FloatProgress(value=0.0, max=1525800.0), HTML(value='')))"
      ]
     },
     "metadata": {},
     "output_type": "display_data"
    },
    {
     "name": "stdout",
     "output_type": "stream",
     "text": [
      "\n"
     ]
    }
   ],
   "source": [
    "text = td_parents['text_no_url']\n",
    "text = text.swifter.apply(clean_text)\n",
    "tokenizer = RegexpTokenizer(r'\\w+')\n",
    "text = text.swifter.apply(tokenizer.tokenize)\n",
    "text = text.swifter.apply(remove_stopwords)\n",
    "text = text.swifter.apply(lemmatize)\n",
    "pickle.dump(text, open(path_lemma_pkl.format(\"toddler_parents\"), 'wb'))"
   ]
  },
  {
   "cell_type": "code",
   "execution_count": 22,
   "metadata": {},
   "outputs": [],
   "source": [
    "dictionary = corpora.Dictionary(text)\n",
    "dictionary.save(FileIO(path_dictionary_gensim.format(\"toddler_parents\"), \"wb\"))"
   ]
  },
  {
   "cell_type": "code",
   "execution_count": 23,
   "metadata": {},
   "outputs": [],
   "source": [
    "corpus = [dictionary.doc2bow(t) for t in text]\n",
    "pickle.dump(corpus, open(path_corpus_pkl.format(\"toddler_parents\"), 'wb'))"
   ]
  }
 ],
 "metadata": {
  "kernelspec": {
   "display_name": "Python 3",
   "language": "python",
   "name": "python3"
  },
  "language_info": {
   "codemirror_mode": {
    "name": "ipython",
    "version": 3
   },
   "file_extension": ".py",
   "mimetype": "text/x-python",
   "name": "python",
   "nbconvert_exporter": "python",
   "pygments_lexer": "ipython3",
   "version": "3.8.5"
  }
 },
 "nbformat": 4,
 "nbformat_minor": 4
}
