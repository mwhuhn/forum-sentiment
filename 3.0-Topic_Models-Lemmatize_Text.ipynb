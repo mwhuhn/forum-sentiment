{
 "cells": [
  {
   "cell_type": "markdown",
   "metadata": {},
   "source": [
    "# Lemmatize Forum Text\n",
    "Cleans the data for topic modelling\n",
    "\n",
    "## Data Sources\n",
    "- youbemom-merged.db\n",
    "\n",
    "\n",
    "## Changes\n",
    "- 2020-09-14: Created\n",
    "- 2020-09-15: Added functions for accessing database, cleaning/tokenizing text\n",
    "- 2020-09-16: Generated and saved corpus and dictionary\n",
    "- 2020-12-13: Updated for new data\n",
    "- 2021-01-26: Updated for new clean text\n",
    "\n",
    "## TODO\n",
    "- Tutorial: https://towardsdatascience.com/topic-modelling-in-python-with-nltk-and-gensim-4ef03213cd21\n",
    "- Can I tokenize emoji?"
   ]
  },
  {
   "cell_type": "markdown",
   "metadata": {},
   "source": [
    "## Imports"
   ]
  },
  {
   "cell_type": "code",
   "execution_count": 1,
   "metadata": {},
   "outputs": [],
   "source": [
    "import sqlite3\n",
    "import pandas as pd\n",
    "import numpy as np\n",
    "from datetime import datetime\n",
    "from pathlib import Path\n",
    "from io import FileIO\n",
    "import re\n",
    "import string\n",
    "# tokenizing\n",
    "from nltk.tokenize import RegexpTokenizer #, word_tokenize\n",
    "import spacy\n",
    "# saving the corpus and dictionary\n",
    "from gensim import corpora, models\n",
    "import pickle\n",
    "# my functions\n",
    "from scraping import create_connection\n",
    "from lemmatize import *"
   ]
  },
  {
   "cell_type": "markdown",
   "metadata": {},
   "source": [
    "Prerequisite:"
   ]
  },
  {
   "cell_type": "code",
   "execution_count": 2,
   "metadata": {},
   "outputs": [],
   "source": [
    "# import nltk\n",
    "# nltk.download('wordnet')\n",
    "# nltk.download('stopwords')"
   ]
  },
  {
   "cell_type": "markdown",
   "metadata": {},
   "source": [
    "## Functions"
   ]
  },
  {
   "cell_type": "markdown",
   "metadata": {},
   "source": [
    "For processing the data"
   ]
  },
  {
   "cell_type": "code",
   "execution_count": 3,
   "metadata": {},
   "outputs": [],
   "source": [
    "def process_data(subforum=\"special-needs\", group=\"parent\"):\n",
    "    conn = create_connection(path_db)\n",
    "    sql = gen_sql(subforum, group)\n",
    "    df = pd.read_sql_query(sql, conn)\n",
    "    text = clean_data(df)\n",
    "    save_data(text, subforum, group)\n",
    "    conn.close()"
   ]
  },
  {
   "cell_type": "markdown",
   "metadata": {},
   "source": [
    "For saving the data"
   ]
  },
  {
   "cell_type": "code",
   "execution_count": 4,
   "metadata": {},
   "outputs": [],
   "source": [
    "def save_data(text, subforum=\"special-needs\", group=\"parent\"):\n",
    "    pickle.dump(text, open(path_lemma_pkl.format(subforum, group), 'wb'))\n",
    "    dictionary = corpora.Dictionary(text)\n",
    "    dictionary.save(FileIO(path_dictionary_gensim.format(subforum, group), \"wb\"))\n",
    "    corpus = [dictionary.doc2bow(t) for t in text]\n",
    "    pickle.dump(corpus, open(path_corpus_pkl.format(subforum, group), 'wb'))"
   ]
  },
  {
   "cell_type": "markdown",
   "metadata": {},
   "source": [
    "## File Locations"
   ]
  },
  {
   "cell_type": "code",
   "execution_count": 5,
   "metadata": {},
   "outputs": [],
   "source": [
    "p = Path.cwd()\n",
    "path_parent = p.parents[0]"
   ]
  },
  {
   "cell_type": "code",
   "execution_count": 6,
   "metadata": {},
   "outputs": [],
   "source": [
    "path_db = path_parent / \"database\" / \"youbemom-merged.db\"\n",
    "path_db = str(path_db)\n",
    "path_lemma_pkl = path_parent / \"clean_data\" / \"lemmatized_text_{0}_{1}.pkl\"\n",
    "path_lemma_pkl = str(path_lemma_pkl)\n",
    "path_corpus_pkl = path_parent / \"clean_data\" / \"corpus_{0}_{1}.pkl\"\n",
    "path_corpus_pkl = str(path_corpus_pkl)\n",
    "path_dictionary_gensim = path_parent / \"clean_data\" / \"dictionary_{0}_{1}.gensim\"\n",
    "path_dictionary_gensim = str(path_dictionary_gensim)"
   ]
  },
  {
   "cell_type": "markdown",
   "metadata": {},
   "source": [
    "## Process Data"
   ]
  },
  {
   "cell_type": "code",
   "execution_count": 7,
   "metadata": {},
   "outputs": [],
   "source": [
    "process_data(\"special-needs\", \"all\")"
   ]
  },
  {
   "cell_type": "code",
   "execution_count": null,
   "metadata": {},
   "outputs": [],
   "source": [
    "process_data(\"special-needs\", \"parent\")"
   ]
  },
  {
   "cell_type": "code",
   "execution_count": null,
   "metadata": {},
   "outputs": [],
   "source": [
    "process_data(\"special-needs\", \"child\")"
   ]
  },
  {
   "cell_type": "code",
   "execution_count": null,
   "metadata": {},
   "outputs": [],
   "source": [
    "process_data(\"toddler\", \"parent\")"
   ]
  }
 ],
 "metadata": {
  "kernelspec": {
   "display_name": "Python 3",
   "language": "python",
   "name": "python3"
  },
  "language_info": {
   "codemirror_mode": {
    "name": "ipython",
    "version": 3
   },
   "file_extension": ".py",
   "mimetype": "text/x-python",
   "name": "python",
   "nbconvert_exporter": "python",
   "pygments_lexer": "ipython3",
   "version": "3.8.5"
  }
 },
 "nbformat": 4,
 "nbformat_minor": 4
}
