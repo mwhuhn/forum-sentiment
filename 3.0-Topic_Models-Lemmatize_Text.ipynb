{
 "cells": [
  {
   "cell_type": "markdown",
   "metadata": {},
   "source": [
    "# Lemmatize Forum Text\n",
    "Cleans the data for topic modelling\n",
    "\n",
    "## Data Sources\n",
    "- youbemom-merged.db (scraped with 1-Scrape_Forum.ipynb)\n",
    "\n",
    "\n",
    "## Changes\n",
    "- 2020-09-14: Created\n",
    "- 2020-09-15: Added functions for accessing database, cleaning/tokenizing text\n",
    "- 2020-09-16: Generated and saved corpus and dictionary\n",
    "- 2020-12-13: Updated for new data\n",
    "\n",
    "## TODO\n",
    "- Tutorial: https://towardsdatascience.com/topic-modelling-in-python-with-nltk-and-gensim-4ef03213cd21\n",
    "- Add actual database structure"
   ]
  },
  {
   "cell_type": "markdown",
   "metadata": {},
   "source": [
    "## Imports"
   ]
  },
  {
   "cell_type": "code",
   "execution_count": 1,
   "metadata": {},
   "outputs": [],
   "source": [
    "import sqlite3\n",
    "import pandas as pd\n",
    "import numpy as np\n",
    "from datetime import datetime\n",
    "from pathlib import Path\n",
    "from io import FileIO\n",
    "import re\n",
    "import string\n",
    "# tokenizing\n",
    "from nltk.tokenize import RegexpTokenizer #, word_tokenize\n",
    "# saving the corpus and dictionary\n",
    "from gensim import corpora, models\n",
    "import pickle\n",
    "# my functions\n",
    "from youbemom import create_connection\n",
    "from lemmatize import clean_text, remove_stopwords, get_lemma, lemmatize"
   ]
  },
  {
   "cell_type": "markdown",
   "metadata": {},
   "source": [
    "Prerequisite:"
   ]
  },
  {
   "cell_type": "code",
   "execution_count": 2,
   "metadata": {},
   "outputs": [],
   "source": [
    "# import nltk\n",
    "# nltk.download('wordnet')\n",
    "# nltk.download('stopwords')"
   ]
  },
  {
   "cell_type": "markdown",
   "metadata": {},
   "source": [
    "## Functions"
   ]
  },
  {
   "cell_type": "markdown",
   "metadata": {},
   "source": [
    "For loading data"
   ]
  },
  {
   "cell_type": "code",
   "execution_count": 19,
   "metadata": {},
   "outputs": [],
   "source": [
    "def gen_sql(subforum=\"special-needs\", group=\"parent\"):\n",
    "    if group==\"parent\":\n",
    "        sql = '''\n",
    "            SELECT s.text_no_url AS text_no_url\n",
    "            FROM sentiment AS s\n",
    "            JOIN posts AS p\n",
    "            ON s.message_id = p.message_id\n",
    "            WHERE p.subforum=\"{}\" AND p.parent_id=\"\"\n",
    "        '''\n",
    "    elif group==\"all\":\n",
    "        sql = '''\n",
    "            SELECT s.text_no_url AS text_no_url\n",
    "            FROM sentiment AS s\n",
    "            JOIN posts AS p\n",
    "            ON s.message_id = p.message_id\n",
    "            WHERE p.subforum=\"{}\"\n",
    "        '''\n",
    "    elif group==\"child\":\n",
    "        sql = '''\n",
    "            SELECT s.text_no_url AS text_no_url\n",
    "            FROM sentiment AS s\n",
    "            JOIN posts AS p\n",
    "            ON s.message_id = p.message_id\n",
    "            WHERE p.subforum=\"{}\" AND p.parent_id<>\"\"\n",
    "        '''\n",
    "    return sql.format(subforum)"
   ]
  },
  {
   "cell_type": "code",
   "execution_count": 9,
   "metadata": {},
   "outputs": [],
   "source": [
    "def load_data(conn, sql):\n",
    "    return pd.read_sql_query(sql, conn)"
   ]
  },
  {
   "cell_type": "markdown",
   "metadata": {},
   "source": [
    "For processing the data"
   ]
  },
  {
   "cell_type": "code",
   "execution_count": 10,
   "metadata": {},
   "outputs": [],
   "source": [
    "def clean_data(df):\n",
    "    text = df['text_no_url']\n",
    "    text = text.apply(clean_text)\n",
    "    tokenizer = RegexpTokenizer(r'\\w+')\n",
    "    text = text.apply(tokenizer.tokenize)\n",
    "    text = text.apply(remove_stopwords)\n",
    "    text = text.apply(lemmatize)\n",
    "    return text"
   ]
  },
  {
   "cell_type": "code",
   "execution_count": 11,
   "metadata": {},
   "outputs": [],
   "source": [
    "def process_data(subforum=\"special-needs\", group=\"parent\"):\n",
    "    conn = create_connection(path_db)\n",
    "    sql = gen_sql(subforum, group)\n",
    "    df = load_data(conn, sql)\n",
    "    text = clean_data(df)\n",
    "    save_data(text, subforum, group)\n",
    "    conn.close()"
   ]
  },
  {
   "cell_type": "markdown",
   "metadata": {},
   "source": [
    "For saving the data"
   ]
  },
  {
   "cell_type": "code",
   "execution_count": 12,
   "metadata": {},
   "outputs": [],
   "source": [
    "def save_data(text, subforum=\"special-needs\", group=\"parent\"):\n",
    "    pickle.dump(text, open(path_lemma_pkl.format(subforum, group), 'wb'))\n",
    "    dictionary = corpora.Dictionary(text)\n",
    "    dictionary.save(FileIO(path_dictionary_gensim.format(subforum, group), \"wb\"))\n",
    "    corpus = [dictionary.doc2bow(t) for t in text]\n",
    "    pickle.dump(corpus, open(path_corpus_pkl.format(subforum, group), 'wb'))"
   ]
  },
  {
   "cell_type": "markdown",
   "metadata": {},
   "source": [
    "## File Locations"
   ]
  },
  {
   "cell_type": "code",
   "execution_count": 13,
   "metadata": {},
   "outputs": [],
   "source": [
    "p = Path.cwd()\n",
    "path_parent = p.parents[0]"
   ]
  },
  {
   "cell_type": "code",
   "execution_count": 14,
   "metadata": {},
   "outputs": [],
   "source": [
    "path_db = path_parent / \"database\" / \"youbemom-merged.db\"\n",
    "path_db = str(path_db)\n",
    "path_lemma_pkl = path_parent / \"clean_data\" / \"lemmatized_text_{0}_{1}.pkl\"\n",
    "path_lemma_pkl = str(path_lemma_pkl)\n",
    "path_corpus_pkl = path_parent / \"clean_data\" / \"corpus_{0}_{1}.pkl\"\n",
    "path_corpus_pkl = str(path_corpus_pkl)\n",
    "path_dictionary_gensim = path_parent / \"clean_data\" / \"dictionary_{0}_{1}.gensim\"\n",
    "path_dictionary_gensim = str(path_dictionary_gensim)"
   ]
  },
  {
   "cell_type": "markdown",
   "metadata": {},
   "source": [
    "## Process Data"
   ]
  },
  {
   "cell_type": "code",
   "execution_count": 15,
   "metadata": {},
   "outputs": [],
   "source": [
    "process_data(\"special-needs\", \"parent\")"
   ]
  },
  {
   "cell_type": "code",
   "execution_count": 16,
   "metadata": {},
   "outputs": [],
   "source": [
    "process_data(\"toddler\", \"parent\")"
   ]
  },
  {
   "cell_type": "code",
   "execution_count": 20,
   "metadata": {},
   "outputs": [],
   "source": [
    "process_data(\"special-needs\", \"child\")"
   ]
  },
  {
   "cell_type": "code",
   "execution_count": 21,
   "metadata": {},
   "outputs": [],
   "source": [
    "process_data(\"special-needs\", \"all\")"
   ]
  }
 ],
 "metadata": {
  "kernelspec": {
   "display_name": "Python 3",
   "language": "python",
   "name": "python3"
  },
  "language_info": {
   "codemirror_mode": {
    "name": "ipython",
    "version": 3
   },
   "file_extension": ".py",
   "mimetype": "text/x-python",
   "name": "python",
   "nbconvert_exporter": "python",
   "pygments_lexer": "ipython3",
   "version": "3.8.5"
  }
 },
 "nbformat": 4,
 "nbformat_minor": 4
}
