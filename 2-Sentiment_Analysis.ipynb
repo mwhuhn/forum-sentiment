{
 "cells": [
  {
   "cell_type": "markdown",
   "metadata": {},
   "source": [
    "# Run Sentiment Analysis on Forum Data\n",
    "This notebook loads the Youbemom special needs forum text and compares sentiment pre- and during the COVID-19 pandemic\n",
    "\n",
    "## Data Sources\n",
    "- youbemomTables.db (scraped with 1-Scrape_Forum.ipynb)\n",
    "\n",
    "## Changes\n",
    "- 2020-08-13: Set up data cleaning\n",
    "- 2020-08-20: Added t-tests\n",
    "- 2020-08-26: Added plots\n",
    "- 2020-09-14: Added more plots\n",
    "- 2020-09-15: Compared parent and child sentiment\n",
    "- 2020-12-10: Changed data set\n",
    "\n",
    "## Database Structure\n",
    "- threads\n",
    " - id: automatically assigned\n",
    " - url: url of top post\n",
    " - subforum: subforum of post\n",
    " - dne: post does not exist\n",
    "- posts\n",
    " - id: automatically assigned\n",
    " - family_id: thread->id\n",
    " - message_id: the unique id of the message from the html\n",
    " - parent_id: id of post this post is responding to, 0 if top post\n",
    " - date_recorded: date the data is fetched\n",
    " - date_created: date the data was created\n",
    " - title: title of the post\n",
    " - body: body of the post\n",
    " - subforum: subforum of post\n",
    " - deleted: has post been deleted\n",
    "\n",
    "## TODO\n",
    "- Does python have a regression function for continuous dependent variables between 0 and 1 or will I have to use R/Stata for a fractional regression model?\n",
    "- Set up functions for the plots so I can plug in the variable I want to see\n",
    "- Does sentiment differ between parents and children in threads?\n",
    " - Is sentiment more negative after negative posts? More positive after positive posts?\n",
    "- Is there a time-dependent function here?\n",
    " - Seasonality?\n",
    " - Does tweaking the time period cutoffs affect the significance?\n",
    "- Frequency distribution of words"
   ]
  },
  {
   "cell_type": "markdown",
   "metadata": {},
   "source": [
    "## Imports"
   ]
  },
  {
   "cell_type": "code",
   "execution_count": 2,
   "metadata": {},
   "outputs": [],
   "source": [
    "import sqlite3\n",
    "\n",
    "import pandas as pd\n",
    "import numpy as np\n",
    "from vaderSentiment.vaderSentiment import SentimentIntensityAnalyzer\n",
    "from scipy.stats import ttest_ind, kde\n",
    "from datetime import datetime\n",
    "# from nltk.probability import FreqDist\n",
    "from nltk.tokenize import RegexpTokenizer #, word_tokenize\n",
    "from nltk.corpus import stopwords\n",
    "import string\n",
    "import re\n",
    "from pathlib import Path\n",
    "import matplotlib.pyplot as plt\n",
    "import math\n",
    "from statsmodels.formula.api  import ols\n",
    "from youbemom import create_connection"
   ]
  },
  {
   "cell_type": "markdown",
   "metadata": {},
   "source": [
    "## Functions\n",
    "For formatting the data"
   ]
  },
  {
   "cell_type": "code",
   "execution_count": 3,
   "metadata": {},
   "outputs": [],
   "source": [
    "def format_data(df):\n",
    "    \"\"\" format the data frame from sql so dates are in\n",
    "        datetime format and creates text column from\n",
    "        title and body\n",
    "    :param df: data frame\n",
    "    :return df: formatted data frame\n",
    "    \"\"\"\n",
    "    df['date_recorded'] = pd.to_datetime(df['date_recorded'])\n",
    "    df['date_created'] = pd.to_datetime(df['date_created'])\n",
    "    # text = title + body\n",
    "    df['title'] = df['title'].replace('This post has been deleted\\.', '', regex=True)\n",
    "    df['text'] = df['title'] + \" \" + df['body']\n",
    "    return df"
   ]
  },
  {
   "cell_type": "code",
   "execution_count": 4,
   "metadata": {},
   "outputs": [],
   "source": [
    "def clean_text(text):\n",
    "    \"\"\" cleans the input text of punctuation, extra\n",
    "        spaces, and makes letters lower case\n",
    "    :param text: text (= title + body here)\n",
    "    :return clean: clean text\n",
    "    \"\"\"\n",
    "    clean = \"\".join([t for t in text if t not in string.punctuation])\n",
    "    clean = re.sub(\" +\", \" \", clean)\n",
    "    clean = clean.strip()\n",
    "    clean = clean.lower()\n",
    "    return clean"
   ]
  },
  {
   "cell_type": "code",
   "execution_count": 5,
   "metadata": {},
   "outputs": [],
   "source": [
    "def remove_stopwords(text):\n",
    "    \"\"\" remove all stop words from the text\n",
    "        using stopwords from nltk.corpus\n",
    "    :param text: text with stopwords\n",
    "    :return words: text without stopwords\n",
    "    \"\"\"\n",
    "    words = [w for w in text if w not in stopwords.words('english')]\n",
    "    return words"
   ]
  },
  {
   "cell_type": "markdown",
   "metadata": {},
   "source": [
    "For creating the sentiment values"
   ]
  },
  {
   "cell_type": "code",
   "execution_count": 6,
   "metadata": {},
   "outputs": [],
   "source": [
    "def sentiment_analyzer_scores(sentence, analyzer):\n",
    "    \"\"\" create sentiment scores with the VADER analyzer\n",
    "    :param sentence: sentence to create scores for\n",
    "    :param analyzer: VADER sentiment analyzer\n",
    "    :return score: a dictionary of scores (neg, neu, pos, compound)\n",
    "    \"\"\"\n",
    "    score = analyzer.polarity_scores(sentence)\n",
    "    return score"
   ]
  },
  {
   "cell_type": "markdown",
   "metadata": {},
   "source": [
    "For running statistics"
   ]
  },
  {
   "cell_type": "code",
   "execution_count": 7,
   "metadata": {},
   "outputs": [],
   "source": [
    "def ttest_sentiment(df, v):\n",
    "    \"\"\" run a t-test on the sentiment scores for\n",
    "        before and during the pandemic\n",
    "    :param df: data frame\n",
    "    :param v: the variable name to t-test on\n",
    "    :return: nothing, prints ttest results\n",
    "    \"\"\"\n",
    "    group_before = df.where(df['before'])[v].dropna()\n",
    "    group_during = df.where(df['during'])[v].dropna()\n",
    "    result = ttest_ind(group_before, group_during, equal_var=False, nan_policy=\"omit\")\n",
    "    print('\\n')\n",
    "    l = len(v)\n",
    "    print(' '*(l - 8) + 'variable    before    during statistic    pvalue')\n",
    "    print(v + '  {:1.6f}  {:1.6f} {:+1.6f}  {:1.6f}'.format(group_before.mean(), group_during.mean(), result.statistic, result.pvalue))"
   ]
  },
  {
   "cell_type": "markdown",
   "metadata": {},
   "source": [
    "For plotting"
   ]
  },
  {
   "cell_type": "code",
   "execution_count": 8,
   "metadata": {},
   "outputs": [],
   "source": [
    "# None yet"
   ]
  },
  {
   "cell_type": "markdown",
   "metadata": {},
   "source": [
    "## File Locations"
   ]
  },
  {
   "cell_type": "code",
   "execution_count": 9,
   "metadata": {},
   "outputs": [],
   "source": [
    "p = Path.cwd()\n",
    "path_parent = p.parents[0]"
   ]
  },
  {
   "cell_type": "code",
   "execution_count": null,
   "metadata": {},
   "outputs": [],
   "source": [
    "path_db = path_parent / \"database\" / \"youbemom-merged.db\"\n",
    "path_db = str(path_db)"
   ]
  },
  {
   "cell_type": "markdown",
   "metadata": {},
   "source": [
    "## Load Data"
   ]
  },
  {
   "cell_type": "code",
   "execution_count": 10,
   "metadata": {},
   "outputs": [],
   "source": [
    "conn = sqlite3.connect(path_db)\n",
    "df = pd.read_sql_query(\"SELECT * from posts\", conn)"
   ]
  },
  {
   "cell_type": "markdown",
   "metadata": {},
   "source": [
    "## Format Data\n",
    "Format the data to make dates into datetimes and create a text column from the title and body. Also, filter the data to include only dates starting Jan. 1, 2019. The scraper picked up one post from 2015 so this removes that. I want to see if there is a difference between parent and child posts so I made an \"is_parent\" indicator."
   ]
  },
  {
   "cell_type": "code",
   "execution_count": 11,
   "metadata": {},
   "outputs": [
    {
     "name": "stdout",
     "output_type": "stream",
     "text": [
      "<class 'pandas.core.frame.DataFrame'>\n",
      "RangeIndex: 16696050 entries, 0 to 16696049\n",
      "Data columns (total 10 columns):\n",
      " #   Column         Dtype \n",
      "---  ------         ----- \n",
      " 0   id             int64 \n",
      " 1   family_id      int64 \n",
      " 2   message_id     object\n",
      " 3   parent_id      object\n",
      " 4   date_recorded  object\n",
      " 5   date_created   object\n",
      " 6   title          object\n",
      " 7   body           object\n",
      " 8   subforum       object\n",
      " 9   deleted        int64 \n",
      "dtypes: int64(3), object(7)\n",
      "memory usage: 1.2+ GB\n"
     ]
    }
   ],
   "source": [
    "df.info()"
   ]
  },
  {
   "cell_type": "code",
   "execution_count": 12,
   "metadata": {},
   "outputs": [],
   "source": [
    "df = format_data(df)"
   ]
  },
  {
   "cell_type": "code",
   "execution_count": null,
   "metadata": {},
   "outputs": [],
   "source": [
    "# df = df[(df['date_created']>pd.Timestamp(2019,1,1))]"
   ]
  },
  {
   "cell_type": "code",
   "execution_count": 13,
   "metadata": {},
   "outputs": [],
   "source": [
    "df['before'] = df['date_created'] <= pd.Timestamp(2020,2,28)\n",
    "df['during'] = df['date_created'] >= pd.Timestamp(2020,4,1)\n",
    "df['march'] = ~df['before'] & ~df['during']\n",
    "df.loc[df['before'], 'period'] = 'before'\n",
    "df.loc[df['march'], 'period'] = 'march'\n",
    "df.loc[df['during'], 'period'] = 'during'"
   ]
  },
  {
   "cell_type": "code",
   "execution_count": 14,
   "metadata": {},
   "outputs": [],
   "source": [
    "df['is_parent'] = df['parent_id'] == \"\""
   ]
  },
  {
   "cell_type": "code",
   "execution_count": 15,
   "metadata": {},
   "outputs": [],
   "source": [
    "df['weekday'] = df['date_created'].dt.day_name()"
   ]
  },
  {
   "cell_type": "code",
   "execution_count": 17,
   "metadata": {},
   "outputs": [],
   "source": [
    "df['week_n'] = df['date_created'].dt.isocalendar().week"
   ]
  },
  {
   "cell_type": "code",
   "execution_count": 18,
   "metadata": {},
   "outputs": [],
   "source": [
    "df['weekday_n'] = df['date_created'].dt.day"
   ]
  },
  {
   "cell_type": "code",
   "execution_count": 19,
   "metadata": {},
   "outputs": [],
   "source": [
    "df['month'] = df['date_created'].dt.month_name()"
   ]
  },
  {
   "cell_type": "code",
   "execution_count": 20,
   "metadata": {},
   "outputs": [],
   "source": [
    "df['month_n'] = df['date_created'].dt.month"
   ]
  },
  {
   "cell_type": "markdown",
   "metadata": {},
   "source": [
    "## Add Sentiment Scores"
   ]
  },
  {
   "cell_type": "code",
   "execution_count": 21,
   "metadata": {},
   "outputs": [],
   "source": [
    "analyzer = SentimentIntensityAnalyzer()"
   ]
  },
  {
   "cell_type": "markdown",
   "metadata": {},
   "source": [
    "With the text as collected:"
   ]
  },
  {
   "cell_type": "code",
   "execution_count": 22,
   "metadata": {},
   "outputs": [],
   "source": [
    "sentiment = df['text'].apply(lambda x: sentiment_analyzer_scores(x, analyzer))"
   ]
  },
  {
   "cell_type": "code",
   "execution_count": 23,
   "metadata": {},
   "outputs": [],
   "source": [
    "df['neg_sentiment'] = sentiment.apply(lambda x: x.get('neg', 0))\n",
    "df['neu_sentiment'] = sentiment.apply(lambda x: x.get('neu', 0))\n",
    "df['pos_sentiment'] = sentiment.apply(lambda x: x.get('pos', 0))\n",
    "df['compound_sentiment'] = sentiment.apply(lambda x: x.get('compound', 0))"
   ]
  },
  {
   "cell_type": "markdown",
   "metadata": {},
   "source": [
    "Example sentiment:"
   ]
  },
  {
   "cell_type": "code",
   "execution_count": 25,
   "metadata": {},
   "outputs": [
    {
     "data": {
      "text/plain": [
       "{'neg': 0.0, 'neu': 0.747, 'pos': 0.253, 'compound': 0.5267}"
      ]
     },
     "execution_count": 25,
     "metadata": {},
     "output_type": "execute_result"
    }
   ],
   "source": [
    "sentiment[5]"
   ]
  },
  {
   "cell_type": "markdown",
   "metadata": {},
   "source": [
    "I can also do this without stop words or punctuation but VADER includes puctuation in sentiment calculation. \"!\", ALLCAPS, and degree modifiers (like \"extremely\" or \"marginally\") affects the magnitude of a sentiment. Conjunctions like \"but\" can flip the sentiment polarity. Below, we can see that the shift in sentiment is the same whether or not we include stop words, pucntuation, and lowercase everything but I'll use the as-collected text instead of the clean text in the rest of the analysis."
   ]
  },
  {
   "cell_type": "code",
   "execution_count": 26,
   "metadata": {},
   "outputs": [],
   "source": [
    "df.to_sql('posts', conn, if_exists='replace', index=False)"
   ]
  },
  {
   "cell_type": "markdown",
   "metadata": {},
   "source": [
    "## Statistical Analysis\n",
    "This test looks at whether the average sentiment is different before (up to Feb. 28, 2020) and during the pandemic (after April 1, 2020)"
   ]
  },
  {
   "cell_type": "code",
   "execution_count": 20,
   "metadata": {},
   "outputs": [
    {
     "name": "stdout",
     "output_type": "stream",
     "text": [
      "\n",
      "\n",
      "     variable    before    during statistic    pvalue\n",
      "neg_sentiment  0.087093  0.089268 -23.138229  0.000000\n",
      "\n",
      "\n",
      "     variable    before    during statistic    pvalue\n",
      "neu_sentiment  0.772647  0.768901 +25.581447  0.000000\n",
      "\n",
      "\n",
      "     variable    before    during statistic    pvalue\n",
      "pos_sentiment  0.124709  0.119449 +46.756564  0.000000\n",
      "\n",
      "\n",
      "          variable    before    during statistic    pvalue\n",
      "compound_sentiment  0.056931  0.040543 +75.963844  0.000000\n"
     ]
    }
   ],
   "source": [
    "ttest_sentiment(df, 'neg_sentiment')\n",
    "ttest_sentiment(df, 'neu_sentiment')\n",
    "ttest_sentiment(df, 'pos_sentiment')\n",
    "ttest_sentiment(df, 'compound_sentiment')"
   ]
  },
  {
   "cell_type": "markdown",
   "metadata": {},
   "source": [
    "With or with out stop words, the results show that sentiment is both more negative and less positive (p < 0.05 at least in all cases) during the pandemic compared to before the pandemic."
   ]
  },
  {
   "cell_type": "markdown",
   "metadata": {},
   "source": [
    "How about comparing sentiment of parent posts to its children? If I compare the average child sentiment to the top post of each thread:"
   ]
  },
  {
   "cell_type": "code",
   "execution_count": 21,
   "metadata": {},
   "outputs": [
    {
     "name": "stdout",
     "output_type": "stream",
     "text": [
      "<class 'pandas.core.frame.DataFrame'>\n",
      "Int64Index: 14940572 entries, 1 to 16474569\n",
      "Data columns (total 4 columns):\n",
      " #   Column              Dtype  \n",
      "---  ------              -----  \n",
      " 0   family_id           int64  \n",
      " 1   neg_sentiment       float64\n",
      " 2   pos_sentiment       float64\n",
      " 3   compound_sentiment  float64\n",
      "dtypes: float64(3), int64(1)\n",
      "memory usage: 569.9 MB\n",
      "<class 'pandas.core.frame.DataFrame'>\n",
      "Int64Index: 1352518 entries, 0 to 1352517\n",
      "Data columns (total 9 columns):\n",
      " #   Column                Non-Null Count    Dtype  \n",
      "---  ------                --------------    -----  \n",
      " 0   family_id             1352518 non-null  int64  \n",
      " 1   neg_sentiment_p       1352518 non-null  float64\n",
      " 2   pos_sentiment_p       1352518 non-null  float64\n",
      " 3   compound_sentiment_p  1352518 non-null  float64\n",
      " 4   before                1352518 non-null  bool   \n",
      " 5   during                1352518 non-null  bool   \n",
      " 6   neg_sentiment_c       1352518 non-null  float64\n",
      " 7   pos_sentiment_c       1352518 non-null  float64\n",
      " 8   compound_sentiment_c  1352518 non-null  float64\n",
      "dtypes: bool(2), float64(6), int64(1)\n",
      "memory usage: 85.1 MB\n"
     ]
    }
   ],
   "source": [
    "parents = df[df[\"is_parent\"]]\n",
    "parents = parents[[\"family_id\",\"neg_sentiment\",\"pos_sentiment\",\"compound_sentiment\",\"before\",\"during\"]]\n",
    "children = df[~df[\"is_parent\"]]\n",
    "children = children[[\"family_id\",\"neg_sentiment\",\"pos_sentiment\",\"compound_sentiment\"]]\n",
    "children.info()\n",
    "children_ave = children.groupby(\"family_id\", as_index=False).mean()\n",
    "compare = pd.merge(left=parents, right=children_ave, on=\"family_id\", how=\"inner\", suffixes=['_p','_c'])\n",
    "compare.info()"
   ]
  },
  {
   "cell_type": "code",
   "execution_count": 22,
   "metadata": {},
   "outputs": [
    {
     "data": {
      "text/html": [
       "<div>\n",
       "<style scoped>\n",
       "    .dataframe tbody tr th:only-of-type {\n",
       "        vertical-align: middle;\n",
       "    }\n",
       "\n",
       "    .dataframe tbody tr th {\n",
       "        vertical-align: top;\n",
       "    }\n",
       "\n",
       "    .dataframe thead th {\n",
       "        text-align: right;\n",
       "    }\n",
       "</style>\n",
       "<table border=\"1\" class=\"dataframe\">\n",
       "  <thead>\n",
       "    <tr style=\"text-align: right;\">\n",
       "      <th></th>\n",
       "      <th>family_id</th>\n",
       "      <th>neg_sentiment_p</th>\n",
       "      <th>pos_sentiment_p</th>\n",
       "      <th>compound_sentiment_p</th>\n",
       "      <th>before</th>\n",
       "      <th>during</th>\n",
       "      <th>neg_sentiment_c</th>\n",
       "      <th>pos_sentiment_c</th>\n",
       "      <th>compound_sentiment_c</th>\n",
       "      <th>pos_diff</th>\n",
       "      <th>neg_diff</th>\n",
       "      <th>compound_diff</th>\n",
       "    </tr>\n",
       "  </thead>\n",
       "  <tbody>\n",
       "    <tr>\n",
       "      <th>0</th>\n",
       "      <td>1</td>\n",
       "      <td>0.363</td>\n",
       "      <td>0.000</td>\n",
       "      <td>-0.6113</td>\n",
       "      <td>True</td>\n",
       "      <td>False</td>\n",
       "      <td>0.142000</td>\n",
       "      <td>0.082500</td>\n",
       "      <td>0.070125</td>\n",
       "      <td>-0.082500</td>\n",
       "      <td>0.221000</td>\n",
       "      <td>-0.681425</td>\n",
       "    </tr>\n",
       "    <tr>\n",
       "      <th>1</th>\n",
       "      <td>2</td>\n",
       "      <td>0.000</td>\n",
       "      <td>0.253</td>\n",
       "      <td>0.5267</td>\n",
       "      <td>True</td>\n",
       "      <td>False</td>\n",
       "      <td>0.241000</td>\n",
       "      <td>0.064800</td>\n",
       "      <td>-0.009840</td>\n",
       "      <td>0.188200</td>\n",
       "      <td>-0.241000</td>\n",
       "      <td>0.536540</td>\n",
       "    </tr>\n",
       "    <tr>\n",
       "      <th>2</th>\n",
       "      <td>3</td>\n",
       "      <td>0.000</td>\n",
       "      <td>0.000</td>\n",
       "      <td>0.0000</td>\n",
       "      <td>True</td>\n",
       "      <td>False</td>\n",
       "      <td>0.549500</td>\n",
       "      <td>0.061000</td>\n",
       "      <td>-0.853600</td>\n",
       "      <td>-0.061000</td>\n",
       "      <td>-0.549500</td>\n",
       "      <td>0.853600</td>\n",
       "    </tr>\n",
       "    <tr>\n",
       "      <th>3</th>\n",
       "      <td>5</td>\n",
       "      <td>0.111</td>\n",
       "      <td>0.166</td>\n",
       "      <td>0.2498</td>\n",
       "      <td>True</td>\n",
       "      <td>False</td>\n",
       "      <td>0.006444</td>\n",
       "      <td>0.193694</td>\n",
       "      <td>0.247608</td>\n",
       "      <td>-0.027694</td>\n",
       "      <td>0.104556</td>\n",
       "      <td>0.002192</td>\n",
       "    </tr>\n",
       "    <tr>\n",
       "      <th>4</th>\n",
       "      <td>6</td>\n",
       "      <td>0.000</td>\n",
       "      <td>0.255</td>\n",
       "      <td>0.3400</td>\n",
       "      <td>True</td>\n",
       "      <td>False</td>\n",
       "      <td>0.000000</td>\n",
       "      <td>0.350333</td>\n",
       "      <td>0.612567</td>\n",
       "      <td>-0.095333</td>\n",
       "      <td>0.000000</td>\n",
       "      <td>-0.272567</td>\n",
       "    </tr>\n",
       "  </tbody>\n",
       "</table>\n",
       "</div>"
      ],
      "text/plain": [
       "   family_id  neg_sentiment_p  pos_sentiment_p  compound_sentiment_p  before  \\\n",
       "0          1            0.363            0.000               -0.6113    True   \n",
       "1          2            0.000            0.253                0.5267    True   \n",
       "2          3            0.000            0.000                0.0000    True   \n",
       "3          5            0.111            0.166                0.2498    True   \n",
       "4          6            0.000            0.255                0.3400    True   \n",
       "\n",
       "   during  neg_sentiment_c  pos_sentiment_c  compound_sentiment_c  pos_diff  \\\n",
       "0   False         0.142000         0.082500              0.070125 -0.082500   \n",
       "1   False         0.241000         0.064800             -0.009840  0.188200   \n",
       "2   False         0.549500         0.061000             -0.853600 -0.061000   \n",
       "3   False         0.006444         0.193694              0.247608 -0.027694   \n",
       "4   False         0.000000         0.350333              0.612567 -0.095333   \n",
       "\n",
       "   neg_diff  compound_diff  \n",
       "0  0.221000      -0.681425  \n",
       "1 -0.241000       0.536540  \n",
       "2 -0.549500       0.853600  \n",
       "3  0.104556       0.002192  \n",
       "4  0.000000      -0.272567  "
      ]
     },
     "execution_count": 22,
     "metadata": {},
     "output_type": "execute_result"
    }
   ],
   "source": [
    "compare['pos_diff'] = compare['pos_sentiment_p'] - compare['pos_sentiment_c']\n",
    "compare['neg_diff'] = compare['neg_sentiment_p'] - compare['neg_sentiment_c']\n",
    "compare['compound_diff'] = compare['compound_sentiment_p'] - compare['compound_sentiment_c']\n",
    "compare.head()"
   ]
  },
  {
   "cell_type": "code",
   "execution_count": 23,
   "metadata": {},
   "outputs": [
    {
     "name": "stdout",
     "output_type": "stream",
     "text": [
      "                            OLS Regression Results                            \n",
      "==============================================================================\n",
      "Dep. Variable:        pos_sentiment_c   R-squared:                       0.012\n",
      "Model:                            OLS   Adj. R-squared:                  0.012\n",
      "Method:                 Least Squares   F-statistic:                 1.586e+04\n",
      "Date:                Sat, 12 Dec 2020   Prob (F-statistic):               0.00\n",
      "Time:                        18:47:51   Log-Likelihood:             8.4503e+05\n",
      "No. Observations:             1352518   AIC:                        -1.690e+06\n",
      "Df Residuals:                 1352516   BIC:                        -1.690e+06\n",
      "Df Model:                           1                                         \n",
      "Covariance Type:            nonrobust                                         \n",
      "===================================================================================\n",
      "                      coef    std err          t      P>|t|      [0.025      0.975]\n",
      "-----------------------------------------------------------------------------------\n",
      "Intercept           0.1232      0.000    886.557      0.000       0.123       0.123\n",
      "pos_sentiment_p     0.1143      0.001    125.925      0.000       0.112       0.116\n",
      "==============================================================================\n",
      "Omnibus:                   742816.581   Durbin-Watson:                   1.991\n",
      "Prob(Omnibus):                  0.000   Jarque-Bera (JB):          7530069.303\n",
      "Skew:                           2.476   Prob(JB):                         0.00\n",
      "Kurtosis:                      13.445   Cond. No.                         8.22\n",
      "==============================================================================\n",
      "\n",
      "Notes:\n",
      "[1] Standard Errors assume that the covariance matrix of the errors is correctly specified.\n",
      "                            OLS Regression Results                            \n",
      "==============================================================================\n",
      "Dep. Variable:        neg_sentiment_c   R-squared:                       0.021\n",
      "Model:                            OLS   Adj. R-squared:                  0.021\n",
      "Method:                 Least Squares   F-statistic:                 2.870e+04\n",
      "Date:                Sat, 12 Dec 2020   Prob (F-statistic):               0.00\n",
      "Time:                        18:47:51   Log-Likelihood:             1.1757e+06\n",
      "No. Observations:             1352518   AIC:                        -2.351e+06\n",
      "Df Residuals:                 1352516   BIC:                        -2.351e+06\n",
      "Df Model:                           1                                         \n",
      "Covariance Type:            nonrobust                                         \n",
      "===================================================================================\n",
      "                      coef    std err          t      P>|t|      [0.025      0.975]\n",
      "-----------------------------------------------------------------------------------\n",
      "Intercept           0.0788      0.000    747.808      0.000       0.079       0.079\n",
      "neg_sentiment_p     0.1270      0.001    169.410      0.000       0.126       0.128\n",
      "==============================================================================\n",
      "Omnibus:                   908484.081   Durbin-Watson:                   1.984\n",
      "Prob(Omnibus):                  0.000   Jarque-Bera (JB):         17135960.784\n",
      "Skew:                           2.994   Prob(JB):                         0.00\n",
      "Kurtosis:                      19.377   Cond. No.                         8.65\n",
      "==============================================================================\n",
      "\n",
      "Notes:\n",
      "[1] Standard Errors assume that the covariance matrix of the errors is correctly specified.\n",
      "                             OLS Regression Results                             \n",
      "================================================================================\n",
      "Dep. Variable:     compound_sentiment_c   R-squared:                       0.038\n",
      "Model:                              OLS   Adj. R-squared:                  0.038\n",
      "Method:                   Least Squares   F-statistic:                 5.412e+04\n",
      "Date:                  Sat, 12 Dec 2020   Prob (F-statistic):               0.00\n",
      "Time:                          18:47:52   Log-Likelihood:             2.4367e+05\n",
      "No. Observations:               1352518   AIC:                        -4.873e+05\n",
      "Df Residuals:                   1352516   BIC:                        -4.873e+05\n",
      "Df Model:                             1                                         \n",
      "Covariance Type:              nonrobust                                         \n",
      "========================================================================================\n",
      "                           coef    std err          t      P>|t|      [0.025      0.975]\n",
      "----------------------------------------------------------------------------------------\n",
      "Intercept                0.0548      0.000    314.499      0.000       0.054       0.055\n",
      "compound_sentiment_p     0.0868      0.000    232.629      0.000       0.086       0.088\n",
      "==============================================================================\n",
      "Omnibus:                    71797.496   Durbin-Watson:                   1.979\n",
      "Prob(Omnibus):                  0.000   Jarque-Bera (JB):           290407.440\n",
      "Skew:                          -0.016   Prob(JB):                         0.00\n",
      "Kurtosis:                       5.270   Cond. No.                         2.15\n",
      "==============================================================================\n",
      "\n",
      "Notes:\n",
      "[1] Standard Errors assume that the covariance matrix of the errors is correctly specified.\n"
     ]
    }
   ],
   "source": [
    "est_pos = ols(formula = 'pos_sentiment_c ~ pos_sentiment_p', data = compare).fit()\n",
    "print(est_pos.summary())\n",
    "est_neg = ols(formula = 'neg_sentiment_c ~ neg_sentiment_p', data = compare).fit()\n",
    "print(est_neg.summary())\n",
    "est_compound = ols(formula = 'compound_sentiment_c ~ compound_sentiment_p', data = compare).fit()\n",
    "print(est_compound.summary())"
   ]
  },
  {
   "cell_type": "markdown",
   "metadata": {},
   "source": [
    "So this suggests if a parent comment's negative sentiment increases, the children's negative sentiment will increase as well. Perhaps redo this analysis on each observation rather than the average children's sentiment."
   ]
  },
  {
   "cell_type": "markdown",
   "metadata": {},
   "source": [
    "## Plots\n",
    "Density plot comparing compound sentiment before and during the pandemic"
   ]
  },
  {
   "cell_type": "code",
   "execution_count": 24,
   "metadata": {},
   "outputs": [
    {
     "data": {
      "image/png": "[encoded data removed]",
      "text/plain": [
       "<Figure size 432x288 with 1 Axes>"
      ]
     },
     "metadata": {
      "needs_background": "light"
     },
     "output_type": "display_data"
    }
   ],
   "source": [
    "density_before = kde.gaussian_kde(df[\"compound_sentiment\"][df['before']])\n",
    "density_march = kde.gaussian_kde(df[\"compound_sentiment\"][df['march']])\n",
    "density_during = kde.gaussian_kde(df[\"compound_sentiment\"][df['during']])\n",
    "x = np.arange(-1.0, 1.0, 0.01)\n",
    "plt.scatter(x, density_before(x), alpha=0.5, label=\"Before\")\n",
    "plt.scatter(x, density_march(x), alpha=0.5, label=\"March\")\n",
    "plt.scatter(x, density_during(x), alpha=0.5, label=\"During\")\n",
    "plt.legend(loc=\"upper right\")\n",
    "plt.show()"
   ]
  },
  {
   "cell_type": "markdown",
   "metadata": {},
   "source": [
    "Scatter plot comparing daily average before and during the pandemic"
   ]
  },
  {
   "cell_type": "code",
   "execution_count": 27,
   "metadata": {},
   "outputs": [
    {
     "data": {
      "image/png": "[encoded data removed]",
      "text/plain": [
       "<Figure size 432x288 with 1 Axes>"
      ]
     },
     "metadata": {
      "needs_background": "light"
     },
     "output_type": "display_data"
    }
   ],
   "source": [
    "df['day'] = pd.to_datetime(df['date_created'], format=\"%Y-%m-%d\")\n",
    "daily_ave = df.resample('d', on='day').mean().dropna(how='all')\n",
    "daily_ave['before'] = daily_ave.index <= pd.Timestamp(2020,2,28)\n",
    "daily_ave['during'] = daily_ave.index >= pd.Timestamp(2020,4,1)\n",
    "daily_ave['march'] = ~daily_ave['before'] & ~daily_ave['during']\n",
    "plt.scatter(daily_ave.index[daily_ave['before']], daily_ave['compound_sentiment'][daily_ave['before']], label=\"Before\")\n",
    "plt.scatter(daily_ave.index[daily_ave['march']], daily_ave['compound_sentiment'][daily_ave['march']], label=\"March\")\n",
    "plt.scatter(daily_ave.index[daily_ave['during']], daily_ave['compound_sentiment'][daily_ave['during']], label=\"During\")\n",
    "plt.legend(loc=\"lower left\")\n",
    "plt.xticks(rotation=90)\n",
    "plt.ylabel('Compound Sentiment\\n(normalized -1 to 1)')\n",
    "plt.title('Daily Average Compound Sentiment Scores')\n",
    "plt.axhline(y=0, color='black', linestyle='-', alpha=0.5)\n",
    "plt.tight_layout()\n",
    "plt.savefig('../plots/daily_ave_compound_sentiment.png')\n",
    "\n",
    "plt.show()"
   ]
  },
  {
   "cell_type": "code",
   "execution_count": 34,
   "metadata": {},
   "outputs": [
    {
     "data": {
      "text/html": [
       "<div>\n",
       "<style scoped>\n",
       "    .dataframe tbody tr th:only-of-type {\n",
       "        vertical-align: middle;\n",
       "    }\n",
       "\n",
       "    .dataframe tbody tr th {\n",
       "        vertical-align: top;\n",
       "    }\n",
       "\n",
       "    .dataframe thead th {\n",
       "        text-align: right;\n",
       "    }\n",
       "</style>\n",
       "<table border=\"1\" class=\"dataframe\">\n",
       "  <thead>\n",
       "    <tr style=\"text-align: right;\">\n",
       "      <th></th>\n",
       "      <th>id</th>\n",
       "      <th>family_id</th>\n",
       "      <th>deleted</th>\n",
       "      <th>before</th>\n",
       "      <th>during</th>\n",
       "      <th>march</th>\n",
       "      <th>is_parent</th>\n",
       "      <th>week_n</th>\n",
       "      <th>weekday_n</th>\n",
       "      <th>month_n</th>\n",
       "      <th>neg_sentiment</th>\n",
       "      <th>neu_sentiment</th>\n",
       "      <th>pos_sentiment</th>\n",
       "      <th>compound_sentiment</th>\n",
       "    </tr>\n",
       "    <tr>\n",
       "      <th>day</th>\n",
       "      <th></th>\n",
       "      <th></th>\n",
       "      <th></th>\n",
       "      <th></th>\n",
       "      <th></th>\n",
       "      <th></th>\n",
       "      <th></th>\n",
       "      <th></th>\n",
       "      <th></th>\n",
       "      <th></th>\n",
       "      <th></th>\n",
       "      <th></th>\n",
       "      <th></th>\n",
       "      <th></th>\n",
       "    </tr>\n",
       "  </thead>\n",
       "  <tbody>\n",
       "    <tr>\n",
       "      <th>2020-12-05</th>\n",
       "      <td>9.161524e+06</td>\n",
       "      <td>8.413092e+05</td>\n",
       "      <td>0.157895</td>\n",
       "      <td>False</td>\n",
       "      <td>True</td>\n",
       "      <td>False</td>\n",
       "      <td>0.684211</td>\n",
       "      <td>49</td>\n",
       "      <td>5.0</td>\n",
       "      <td>12.0</td>\n",
       "      <td>0.035632</td>\n",
       "      <td>0.641579</td>\n",
       "      <td>0.164842</td>\n",
       "      <td>0.377558</td>\n",
       "    </tr>\n",
       "    <tr>\n",
       "      <th>2020-12-03</th>\n",
       "      <td>1.330615e+07</td>\n",
       "      <td>1.235424e+06</td>\n",
       "      <td>0.150000</td>\n",
       "      <td>False</td>\n",
       "      <td>True</td>\n",
       "      <td>False</td>\n",
       "      <td>0.150000</td>\n",
       "      <td>49</td>\n",
       "      <td>3.0</td>\n",
       "      <td>12.0</td>\n",
       "      <td>0.085050</td>\n",
       "      <td>0.658450</td>\n",
       "      <td>0.106400</td>\n",
       "      <td>0.273780</td>\n",
       "    </tr>\n",
       "    <tr>\n",
       "      <th>2020-12-06</th>\n",
       "      <td>9.041531e+06</td>\n",
       "      <td>8.275659e+05</td>\n",
       "      <td>0.041667</td>\n",
       "      <td>False</td>\n",
       "      <td>True</td>\n",
       "      <td>False</td>\n",
       "      <td>0.791667</td>\n",
       "      <td>49</td>\n",
       "      <td>6.0</td>\n",
       "      <td>12.0</td>\n",
       "      <td>0.030542</td>\n",
       "      <td>0.865208</td>\n",
       "      <td>0.062542</td>\n",
       "      <td>0.227813</td>\n",
       "    </tr>\n",
       "    <tr>\n",
       "      <th>2020-12-07</th>\n",
       "      <td>1.121383e+07</td>\n",
       "      <td>1.034358e+06</td>\n",
       "      <td>0.071429</td>\n",
       "      <td>False</td>\n",
       "      <td>True</td>\n",
       "      <td>False</td>\n",
       "      <td>0.785714</td>\n",
       "      <td>50</td>\n",
       "      <td>7.0</td>\n",
       "      <td>12.0</td>\n",
       "      <td>0.060714</td>\n",
       "      <td>0.776857</td>\n",
       "      <td>0.091036</td>\n",
       "      <td>0.225414</td>\n",
       "    </tr>\n",
       "    <tr>\n",
       "      <th>2020-12-04</th>\n",
       "      <td>1.359924e+07</td>\n",
       "      <td>1.262725e+06</td>\n",
       "      <td>0.181818</td>\n",
       "      <td>False</td>\n",
       "      <td>True</td>\n",
       "      <td>False</td>\n",
       "      <td>0.181818</td>\n",
       "      <td>49</td>\n",
       "      <td>4.0</td>\n",
       "      <td>12.0</td>\n",
       "      <td>0.039212</td>\n",
       "      <td>0.702636</td>\n",
       "      <td>0.076303</td>\n",
       "      <td>0.154700</td>\n",
       "    </tr>\n",
       "    <tr>\n",
       "      <th>2020-12-08</th>\n",
       "      <td>1.226701e+07</td>\n",
       "      <td>1.130528e+06</td>\n",
       "      <td>0.000000</td>\n",
       "      <td>False</td>\n",
       "      <td>True</td>\n",
       "      <td>False</td>\n",
       "      <td>0.800000</td>\n",
       "      <td>50</td>\n",
       "      <td>8.0</td>\n",
       "      <td>12.0</td>\n",
       "      <td>0.021600</td>\n",
       "      <td>0.949400</td>\n",
       "      <td>0.029000</td>\n",
       "      <td>0.140840</td>\n",
       "    </tr>\n",
       "    <tr>\n",
       "      <th>2020-11-26</th>\n",
       "      <td>1.557969e+07</td>\n",
       "      <td>1.454376e+06</td>\n",
       "      <td>0.037225</td>\n",
       "      <td>False</td>\n",
       "      <td>True</td>\n",
       "      <td>False</td>\n",
       "      <td>0.116907</td>\n",
       "      <td>48</td>\n",
       "      <td>26.0</td>\n",
       "      <td>11.0</td>\n",
       "      <td>0.080746</td>\n",
       "      <td>0.753529</td>\n",
       "      <td>0.128501</td>\n",
       "      <td>0.071985</td>\n",
       "    </tr>\n",
       "    <tr>\n",
       "      <th>2020-12-02</th>\n",
       "      <td>1.566255e+07</td>\n",
       "      <td>1.461998e+06</td>\n",
       "      <td>0.015628</td>\n",
       "      <td>False</td>\n",
       "      <td>True</td>\n",
       "      <td>False</td>\n",
       "      <td>0.094763</td>\n",
       "      <td>49</td>\n",
       "      <td>2.0</td>\n",
       "      <td>12.0</td>\n",
       "      <td>0.079028</td>\n",
       "      <td>0.783524</td>\n",
       "      <td>0.121819</td>\n",
       "      <td>0.067777</td>\n",
       "    </tr>\n",
       "    <tr>\n",
       "      <th>2020-09-25</th>\n",
       "      <td>1.436578e+07</td>\n",
       "      <td>1.330197e+06</td>\n",
       "      <td>0.021206</td>\n",
       "      <td>False</td>\n",
       "      <td>True</td>\n",
       "      <td>False</td>\n",
       "      <td>0.086180</td>\n",
       "      <td>39</td>\n",
       "      <td>25.0</td>\n",
       "      <td>9.0</td>\n",
       "      <td>0.083506</td>\n",
       "      <td>0.768570</td>\n",
       "      <td>0.126718</td>\n",
       "      <td>0.065862</td>\n",
       "    </tr>\n",
       "    <tr>\n",
       "      <th>2020-10-11</th>\n",
       "      <td>1.466140e+07</td>\n",
       "      <td>1.361250e+06</td>\n",
       "      <td>0.023808</td>\n",
       "      <td>False</td>\n",
       "      <td>True</td>\n",
       "      <td>False</td>\n",
       "      <td>0.081269</td>\n",
       "      <td>41</td>\n",
       "      <td>11.0</td>\n",
       "      <td>10.0</td>\n",
       "      <td>0.082781</td>\n",
       "      <td>0.770111</td>\n",
       "      <td>0.123235</td>\n",
       "      <td>0.065351</td>\n",
       "    </tr>\n",
       "    <tr>\n",
       "      <th>2020-11-27</th>\n",
       "      <td>1.559500e+07</td>\n",
       "      <td>1.455994e+06</td>\n",
       "      <td>0.034185</td>\n",
       "      <td>False</td>\n",
       "      <td>True</td>\n",
       "      <td>False</td>\n",
       "      <td>0.095170</td>\n",
       "      <td>48</td>\n",
       "      <td>27.0</td>\n",
       "      <td>11.0</td>\n",
       "      <td>0.082764</td>\n",
       "      <td>0.758416</td>\n",
       "      <td>0.124637</td>\n",
       "      <td>0.064300</td>\n",
       "    </tr>\n",
       "    <tr>\n",
       "      <th>2020-12-01</th>\n",
       "      <td>1.567245e+07</td>\n",
       "      <td>1.462951e+06</td>\n",
       "      <td>0.023747</td>\n",
       "      <td>False</td>\n",
       "      <td>True</td>\n",
       "      <td>False</td>\n",
       "      <td>0.091353</td>\n",
       "      <td>49</td>\n",
       "      <td>1.0</td>\n",
       "      <td>12.0</td>\n",
       "      <td>0.084558</td>\n",
       "      <td>0.766407</td>\n",
       "      <td>0.125289</td>\n",
       "      <td>0.064212</td>\n",
       "    </tr>\n",
       "    <tr>\n",
       "      <th>2020-10-18</th>\n",
       "      <td>1.478964e+07</td>\n",
       "      <td>1.373336e+06</td>\n",
       "      <td>0.031507</td>\n",
       "      <td>False</td>\n",
       "      <td>True</td>\n",
       "      <td>False</td>\n",
       "      <td>0.095776</td>\n",
       "      <td>42</td>\n",
       "      <td>18.0</td>\n",
       "      <td>10.0</td>\n",
       "      <td>0.085929</td>\n",
       "      <td>0.753715</td>\n",
       "      <td>0.128852</td>\n",
       "      <td>0.063770</td>\n",
       "    </tr>\n",
       "    <tr>\n",
       "      <th>2020-11-30</th>\n",
       "      <td>1.565089e+07</td>\n",
       "      <td>1.461098e+06</td>\n",
       "      <td>0.026395</td>\n",
       "      <td>False</td>\n",
       "      <td>True</td>\n",
       "      <td>False</td>\n",
       "      <td>0.083616</td>\n",
       "      <td>49</td>\n",
       "      <td>30.0</td>\n",
       "      <td>11.0</td>\n",
       "      <td>0.081034</td>\n",
       "      <td>0.767107</td>\n",
       "      <td>0.125464</td>\n",
       "      <td>0.063456</td>\n",
       "    </tr>\n",
       "    <tr>\n",
       "      <th>2020-11-28</th>\n",
       "      <td>1.561444e+07</td>\n",
       "      <td>1.457860e+06</td>\n",
       "      <td>0.031101</td>\n",
       "      <td>False</td>\n",
       "      <td>True</td>\n",
       "      <td>False</td>\n",
       "      <td>0.103104</td>\n",
       "      <td>48</td>\n",
       "      <td>28.0</td>\n",
       "      <td>11.0</td>\n",
       "      <td>0.080904</td>\n",
       "      <td>0.766579</td>\n",
       "      <td>0.121416</td>\n",
       "      <td>0.063429</td>\n",
       "    </tr>\n",
       "    <tr>\n",
       "      <th>2020-10-16</th>\n",
       "      <td>1.475666e+07</td>\n",
       "      <td>1.370412e+06</td>\n",
       "      <td>0.029752</td>\n",
       "      <td>False</td>\n",
       "      <td>True</td>\n",
       "      <td>False</td>\n",
       "      <td>0.084581</td>\n",
       "      <td>42</td>\n",
       "      <td>16.0</td>\n",
       "      <td>10.0</td>\n",
       "      <td>0.084550</td>\n",
       "      <td>0.760422</td>\n",
       "      <td>0.125225</td>\n",
       "      <td>0.062012</td>\n",
       "    </tr>\n",
       "    <tr>\n",
       "      <th>2020-11-14</th>\n",
       "      <td>1.534737e+07</td>\n",
       "      <td>1.432901e+06</td>\n",
       "      <td>0.025161</td>\n",
       "      <td>False</td>\n",
       "      <td>True</td>\n",
       "      <td>False</td>\n",
       "      <td>0.092039</td>\n",
       "      <td>46</td>\n",
       "      <td>14.0</td>\n",
       "      <td>11.0</td>\n",
       "      <td>0.084879</td>\n",
       "      <td>0.765428</td>\n",
       "      <td>0.124467</td>\n",
       "      <td>0.061236</td>\n",
       "    </tr>\n",
       "    <tr>\n",
       "      <th>2020-11-21</th>\n",
       "      <td>1.548097e+07</td>\n",
       "      <td>1.445160e+06</td>\n",
       "      <td>0.027560</td>\n",
       "      <td>False</td>\n",
       "      <td>True</td>\n",
       "      <td>False</td>\n",
       "      <td>0.088912</td>\n",
       "      <td>47</td>\n",
       "      <td>21.0</td>\n",
       "      <td>11.0</td>\n",
       "      <td>0.083062</td>\n",
       "      <td>0.767563</td>\n",
       "      <td>0.121815</td>\n",
       "      <td>0.060802</td>\n",
       "    </tr>\n",
       "    <tr>\n",
       "      <th>2020-11-17</th>\n",
       "      <td>1.540240e+07</td>\n",
       "      <td>1.437870e+06</td>\n",
       "      <td>0.023795</td>\n",
       "      <td>False</td>\n",
       "      <td>True</td>\n",
       "      <td>False</td>\n",
       "      <td>0.091391</td>\n",
       "      <td>47</td>\n",
       "      <td>17.0</td>\n",
       "      <td>11.0</td>\n",
       "      <td>0.083695</td>\n",
       "      <td>0.771541</td>\n",
       "      <td>0.120968</td>\n",
       "      <td>0.060759</td>\n",
       "    </tr>\n",
       "    <tr>\n",
       "      <th>2020-11-18</th>\n",
       "      <td>1.542450e+07</td>\n",
       "      <td>1.439949e+06</td>\n",
       "      <td>0.021328</td>\n",
       "      <td>False</td>\n",
       "      <td>True</td>\n",
       "      <td>False</td>\n",
       "      <td>0.091067</td>\n",
       "      <td>47</td>\n",
       "      <td>18.0</td>\n",
       "      <td>11.0</td>\n",
       "      <td>0.082494</td>\n",
       "      <td>0.770958</td>\n",
       "      <td>0.125219</td>\n",
       "      <td>0.060484</td>\n",
       "    </tr>\n",
       "  </tbody>\n",
       "</table>\n",
       "</div>"
      ],
      "text/plain": [
       "                      id     family_id   deleted  before  during  march  \\\n",
       "day                                                                       \n",
       "2020-12-05  9.161524e+06  8.413092e+05  0.157895   False    True  False   \n",
       "2020-12-03  1.330615e+07  1.235424e+06  0.150000   False    True  False   \n",
       "2020-12-06  9.041531e+06  8.275659e+05  0.041667   False    True  False   \n",
       "2020-12-07  1.121383e+07  1.034358e+06  0.071429   False    True  False   \n",
       "2020-12-04  1.359924e+07  1.262725e+06  0.181818   False    True  False   \n",
       "2020-12-08  1.226701e+07  1.130528e+06  0.000000   False    True  False   \n",
       "2020-11-26  1.557969e+07  1.454376e+06  0.037225   False    True  False   \n",
       "2020-12-02  1.566255e+07  1.461998e+06  0.015628   False    True  False   \n",
       "2020-09-25  1.436578e+07  1.330197e+06  0.021206   False    True  False   \n",
       "2020-10-11  1.466140e+07  1.361250e+06  0.023808   False    True  False   \n",
       "2020-11-27  1.559500e+07  1.455994e+06  0.034185   False    True  False   \n",
       "2020-12-01  1.567245e+07  1.462951e+06  0.023747   False    True  False   \n",
       "2020-10-18  1.478964e+07  1.373336e+06  0.031507   False    True  False   \n",
       "2020-11-30  1.565089e+07  1.461098e+06  0.026395   False    True  False   \n",
       "2020-11-28  1.561444e+07  1.457860e+06  0.031101   False    True  False   \n",
       "2020-10-16  1.475666e+07  1.370412e+06  0.029752   False    True  False   \n",
       "2020-11-14  1.534737e+07  1.432901e+06  0.025161   False    True  False   \n",
       "2020-11-21  1.548097e+07  1.445160e+06  0.027560   False    True  False   \n",
       "2020-11-17  1.540240e+07  1.437870e+06  0.023795   False    True  False   \n",
       "2020-11-18  1.542450e+07  1.439949e+06  0.021328   False    True  False   \n",
       "\n",
       "            is_parent  week_n  weekday_n  month_n  neg_sentiment  \\\n",
       "day                                                                \n",
       "2020-12-05   0.684211      49        5.0     12.0       0.035632   \n",
       "2020-12-03   0.150000      49        3.0     12.0       0.085050   \n",
       "2020-12-06   0.791667      49        6.0     12.0       0.030542   \n",
       "2020-12-07   0.785714      50        7.0     12.0       0.060714   \n",
       "2020-12-04   0.181818      49        4.0     12.0       0.039212   \n",
       "2020-12-08   0.800000      50        8.0     12.0       0.021600   \n",
       "2020-11-26   0.116907      48       26.0     11.0       0.080746   \n",
       "2020-12-02   0.094763      49        2.0     12.0       0.079028   \n",
       "2020-09-25   0.086180      39       25.0      9.0       0.083506   \n",
       "2020-10-11   0.081269      41       11.0     10.0       0.082781   \n",
       "2020-11-27   0.095170      48       27.0     11.0       0.082764   \n",
       "2020-12-01   0.091353      49        1.0     12.0       0.084558   \n",
       "2020-10-18   0.095776      42       18.0     10.0       0.085929   \n",
       "2020-11-30   0.083616      49       30.0     11.0       0.081034   \n",
       "2020-11-28   0.103104      48       28.0     11.0       0.080904   \n",
       "2020-10-16   0.084581      42       16.0     10.0       0.084550   \n",
       "2020-11-14   0.092039      46       14.0     11.0       0.084879   \n",
       "2020-11-21   0.088912      47       21.0     11.0       0.083062   \n",
       "2020-11-17   0.091391      47       17.0     11.0       0.083695   \n",
       "2020-11-18   0.091067      47       18.0     11.0       0.082494   \n",
       "\n",
       "            neu_sentiment  pos_sentiment  compound_sentiment  \n",
       "day                                                           \n",
       "2020-12-05       0.641579       0.164842            0.377558  \n",
       "2020-12-03       0.658450       0.106400            0.273780  \n",
       "2020-12-06       0.865208       0.062542            0.227813  \n",
       "2020-12-07       0.776857       0.091036            0.225414  \n",
       "2020-12-04       0.702636       0.076303            0.154700  \n",
       "2020-12-08       0.949400       0.029000            0.140840  \n",
       "2020-11-26       0.753529       0.128501            0.071985  \n",
       "2020-12-02       0.783524       0.121819            0.067777  \n",
       "2020-09-25       0.768570       0.126718            0.065862  \n",
       "2020-10-11       0.770111       0.123235            0.065351  \n",
       "2020-11-27       0.758416       0.124637            0.064300  \n",
       "2020-12-01       0.766407       0.125289            0.064212  \n",
       "2020-10-18       0.753715       0.128852            0.063770  \n",
       "2020-11-30       0.767107       0.125464            0.063456  \n",
       "2020-11-28       0.766579       0.121416            0.063429  \n",
       "2020-10-16       0.760422       0.125225            0.062012  \n",
       "2020-11-14       0.765428       0.124467            0.061236  \n",
       "2020-11-21       0.767563       0.121815            0.060802  \n",
       "2020-11-17       0.771541       0.120968            0.060759  \n",
       "2020-11-18       0.770958       0.125219            0.060484  "
      ]
     },
     "execution_count": 34,
     "metadata": {},
     "output_type": "execute_result"
    }
   ],
   "source": [
    "daily_ave[daily_ave['during']].sort_values(by='compound_sentiment', ascending=False).head(20)"
   ]
  },
  {
   "cell_type": "markdown",
   "metadata": {},
   "source": [
    "Seasonality"
   ]
  },
  {
   "cell_type": "code",
   "execution_count": 38,
   "metadata": {},
   "outputs": [],
   "source": [
    "weekday_ave_sn = df[df['subforum']=='special-needs'].groupby(['weekday'])['compound_sentiment'].mean()\n",
    "path_weekday_sen_sn = path_parent / \"clean_data\" / \"weekday_sentiment_special-needs.csv\"\n",
    "path_weekday_sen_sn = str(path_weekday_sen_sn)\n",
    "weekday_ave_sn.to_csv(path_weekday_sen_sn)"
   ]
  },
  {
   "cell_type": "code",
   "execution_count": 39,
   "metadata": {},
   "outputs": [],
   "source": [
    "weekday_ave_tod = df[df['subforum']=='toddler'].groupby(['weekday'])['compound_sentiment'].mean()\n",
    "path_weekday_sen_tod = path_parent / \"clean_data\" / \"weekday_sentiment_toddler.csv\"\n",
    "path_weekday_sen_tod = str(path_weekday_sen_tod)\n",
    "weekday_ave_tod.to_csv(path_weekday_sen_tod)"
   ]
  },
  {
   "cell_type": "code",
   "execution_count": null,
   "metadata": {},
   "outputs": [],
   "source": [
    "ax = weekday_ave.plot(kind='bar');\n",
    "ax.set_title(\"Average Sentiment by Weekday\")\n",
    "ax.set_ylabel(\"Compound Sentiment\\n(normalized -1 to 1)\");\n",
    "plt.show()"
   ]
  },
  {
   "cell_type": "markdown",
   "metadata": {},
   "source": [
    "Sentiment is more negative and less positive during the pandemic"
   ]
  },
  {
   "cell_type": "code",
   "execution_count": null,
   "metadata": {},
   "outputs": [],
   "source": [
    "fig, ax = plt.subplots()\n",
    "width = 0.35\n",
    "sentiments = ['Negative', 'Positive']\n",
    "x_pos = np.arange(len(sentiments))\n",
    "\n",
    "before_mean = [df[\"neg_sentiment\"][df['before']].mean(),\n",
    "               df[\"pos_sentiment\"][df['before']].mean()]\n",
    "before_se = [df[\"neg_sentiment\"][df['before']].std()/math.sqrt(len(df[\"neg_sentiment\"][df['before']])),\n",
    "             df[\"pos_sentiment\"][df['before']].std()/math.sqrt(len(df[\"pos_sentiment\"][df['before']]))]\n",
    "during_mean = [df[\"neg_sentiment\"][df['during']].mean(),\n",
    "               df[\"pos_sentiment\"][df['during']].mean()]\n",
    "during_se = [df[\"neg_sentiment\"][df['during']].std()/math.sqrt(len(df[\"neg_sentiment\"][df['during']])),\n",
    "             df[\"pos_sentiment\"][df['during']].std()/math.sqrt(len(df[\"pos_sentiment\"][df['during']]))]\n",
    "\n",
    "rects_before = ax.bar(x_pos - width/2, before_mean, width, yerr=before_se,\n",
    "                label='Before', capsize=5, color=\"cornflowerblue\")\n",
    "rects_during = ax.bar(x_pos + width/2, during_mean, width, yerr=during_se,\n",
    "                label='During', capsize=5, color=\"indianred\")\n",
    "\n",
    "# Add some text for labels, title and custom x-axis tick labels, etc.\n",
    "ax.set_ylabel('Average Sentiment Score\\n(normalized 0 to 1)')\n",
    "ax.set_title('Comparison of Sentiment Scores')\n",
    "ax.set_xticks(x_pos)\n",
    "ax.set_xticklabels(sentiments)\n",
    "ax.legend()\n",
    "fig.tight_layout()\n",
    "plt.savefig('../plots/sentiment_neg_pos.png')\n",
    "plt.show()"
   ]
  },
  {
   "cell_type": "markdown",
   "metadata": {},
   "source": [
    "## Save Clean Data in New Database"
   ]
  },
  {
   "cell_type": "code",
   "execution_count": null,
   "metadata": {},
   "outputs": [],
   "source": [
    "df.to_sql('sentiments', conn, if_exists='replace', index=False)"
   ]
  }
 ],
 "metadata": {
  "kernelspec": {
   "display_name": "Python 3",
   "language": "python",
   "name": "python3"
  },
  "language_info": {
   "codemirror_mode": {
    "name": "ipython",
    "version": 3
   },
   "file_extension": ".py",
   "mimetype": "text/x-python",
   "name": "python",
   "nbconvert_exporter": "python",
   "pygments_lexer": "ipython3",
   "version": "3.6.10"
  }
 },
 "nbformat": 4,
 "nbformat_minor": 4
}
