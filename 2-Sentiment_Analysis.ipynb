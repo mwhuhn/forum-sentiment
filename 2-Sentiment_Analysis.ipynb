{
 "cells": [
  {
   "cell_type": "markdown",
   "metadata": {},
   "source": [
    "# Run Sentiment Analysis on Forum Data\n",
    "This notebook loads the Youbemom special needs forum text and compares sentiment pre- and during the COVID-19 pandemic\n",
    "\n",
    "## Data Sources\n",
    "- youbemomTables.db (scraped with 1-Scrape_Forum.ipynb)\n",
    "\n",
    "## Changes\n",
    "- 2020-08-13: Set up data cleaning\n",
    "- 2020-08-20: Added t-tests\n",
    "- 2020-08-26: Added plots\n",
    "- 2020-09-14: Added more plots\n",
    "- 2020-09-15: Compared parent and child sentiment\n",
    "\n",
    "## Database Structure\n",
    "- threads\n",
    " - id: automatically assigned\n",
    " - url: url of top post\n",
    "- posts\n",
    " - id: automatically assigned\n",
    " - family_id: thread->id\n",
    " - message_id: the unique id of the message from the html\n",
    " - parent_id: id of post this post is responding to, 0 if top post\n",
    " - date_recorded: date the data is fetched\n",
    " - date_created: date the data was created\n",
    " - title: title of the post\n",
    " - body: body of the post\n",
    "\n",
    "## TODO\n",
    "- Does python have a regression function for continuous dependent variables between 0 and 1 or will I have to use R/Stata for a fractional regression model?\n",
    "- Set up functions for the plots so I can plug in the variable I want to see\n",
    "- Does sentiment differ between parents and children in threads?\n",
    " - Is sentiment more negative after negative posts? More positive after positive posts?\n",
    "- Is there a time-dependent function here?\n",
    " - Seasonality?\n",
    " - Does tweaking the time period cutoffs affect the significance?\n",
    "- Frequency distribution of words"
   ]
  },
  {
   "cell_type": "markdown",
   "metadata": {},
   "source": [
    "## Imports"
   ]
  },
  {
   "cell_type": "code",
   "execution_count": 1,
   "metadata": {},
   "outputs": [],
   "source": [
    "import sqlite3\n",
    "import pandas as pd\n",
    "import numpy as np\n",
    "from vaderSentiment.vaderSentiment import SentimentIntensityAnalyzer\n",
    "from scipy.stats import ttest_ind, kde\n",
    "from datetime import datetime\n",
    "# from nltk.probability import FreqDist\n",
    "from nltk.tokenize import RegexpTokenizer #, word_tokenize\n",
    "from nltk.corpus import stopwords\n",
    "import string\n",
    "import re\n",
    "from pathlib import Path\n",
    "import matplotlib.pyplot as plt\n",
    "import math\n",
    "from statsmodels.formula.api  import ols"
   ]
  },
  {
   "cell_type": "markdown",
   "metadata": {},
   "source": [
    "## Functions\n",
    "For accessing the database"
   ]
  },
  {
   "cell_type": "code",
   "execution_count": 2,
   "metadata": {},
   "outputs": [],
   "source": [
    "def create_connection(db_file):\n",
    "    \"\"\" create a database connection to the SQLite database\n",
    "        specified by the db_file\n",
    "    :param db_file: database file\n",
    "    :return: Connection object or None\n",
    "    \"\"\"\n",
    "    conn = None\n",
    "    try:\n",
    "        conn = sqlite3.connect(db_file)\n",
    "    except Error as err:\n",
    "        print(err)\n",
    "    return conn"
   ]
  },
  {
   "cell_type": "markdown",
   "metadata": {},
   "source": [
    "For formatting the data"
   ]
  },
  {
   "cell_type": "code",
   "execution_count": 3,
   "metadata": {},
   "outputs": [],
   "source": [
    "def format_data(df):\n",
    "    \"\"\" format the data frame from sql so dates are in\n",
    "        datetime format and creates text column from\n",
    "        title and body\n",
    "    :param df: data frame\n",
    "    :return df: formatted data frame\n",
    "    \"\"\"\n",
    "    df['date_recorded'] = pd.to_datetime(df['date_recorded'])\n",
    "    df['date_created'] = pd.to_datetime(df['date_created'])\n",
    "    # text = title + body\n",
    "    df['title'] = df['title'].replace('This post has been deleted\\.', '', regex=True)\n",
    "    df['text'] = df['title'] + \" \" + df['body']\n",
    "    return df"
   ]
  },
  {
   "cell_type": "code",
   "execution_count": 4,
   "metadata": {},
   "outputs": [],
   "source": [
    "def clean_text(text):\n",
    "    \"\"\" cleans the input text of punctuation, extra\n",
    "        spaces, and makes letters lower case\n",
    "    :param text: text (= title + body here)\n",
    "    :return clean: clean text\n",
    "    \"\"\"\n",
    "    clean = \"\".join([t for t in text if t not in string.punctuation])\n",
    "    clean = re.sub(\" +\", \" \", clean)\n",
    "    clean = clean.strip()\n",
    "    clean = clean.lower()\n",
    "    return clean"
   ]
  },
  {
   "cell_type": "code",
   "execution_count": 5,
   "metadata": {},
   "outputs": [],
   "source": [
    "def remove_stopwords(text):\n",
    "    \"\"\" remove all stop words from the text\n",
    "        using stopwords from nltk.corpus\n",
    "    :param text: text with stopwords\n",
    "    :return words: text without stopwords\n",
    "    \"\"\"\n",
    "    words = [w for w in text if w not in stopwords.words('english')]\n",
    "    return words"
   ]
  },
  {
   "cell_type": "markdown",
   "metadata": {},
   "source": [
    "For creating the sentiment values"
   ]
  },
  {
   "cell_type": "code",
   "execution_count": 6,
   "metadata": {},
   "outputs": [],
   "source": [
    "def sentiment_analyzer_scores(sentence, analyzer):\n",
    "    \"\"\" create sentiment scores with the VADER analyzer\n",
    "    :param sentence: sentence to create scores for\n",
    "    :param analyzer: VADER sentiment analyzer\n",
    "    :return score: a dictionary of scores (neg, neu, pos, compound)\n",
    "    \"\"\"\n",
    "    score = analyzer.polarity_scores(sentence)\n",
    "    return score"
   ]
  },
  {
   "cell_type": "markdown",
   "metadata": {},
   "source": [
    "For running statistics"
   ]
  },
  {
   "cell_type": "code",
   "execution_count": 7,
   "metadata": {},
   "outputs": [],
   "source": [
    "def ttest_sentiment(df, v):\n",
    "    \"\"\" run a t-test on the sentiment scores for\n",
    "        before and during the pandemic\n",
    "    :param df: data frame\n",
    "    :param v: the variable name to t-test on\n",
    "    :return: nothing, prints ttest results\n",
    "    \"\"\"\n",
    "    group_before = df.where(df['before'])[v].dropna()\n",
    "    group_during = df.where(df['during'])[v].dropna()\n",
    "    result = ttest_ind(group_before, group_during, equal_var=False, nan_policy=\"omit\")\n",
    "    print('\\n')\n",
    "    l = len(v)\n",
    "    print(' '*(l - 8) + 'variable    before    during statistic    pvalue')\n",
    "    print(v + '  {:1.6f}  {:1.6f} {:+1.6f}  {:1.6f}'.format(group_before.mean(), group_during.mean(), result.statistic, result.pvalue))"
   ]
  },
  {
   "cell_type": "markdown",
   "metadata": {},
   "source": [
    "For plotting"
   ]
  },
  {
   "cell_type": "code",
   "execution_count": 8,
   "metadata": {},
   "outputs": [],
   "source": [
    "# None yet"
   ]
  },
  {
   "cell_type": "markdown",
   "metadata": {},
   "source": [
    "## File Locations"
   ]
  },
  {
   "cell_type": "code",
   "execution_count": 9,
   "metadata": {},
   "outputs": [],
   "source": [
    "p = Path.cwd()\n",
    "path_parent = p.parents[0]\n",
    "path_db = path_parent / \"database\" / \"youbemomTables.db\"\n",
    "path_db = str(path_db)\n",
    "#path_sentiment_data = path_parent / \"clean_data\" / \"sentiment.csv\""
   ]
  },
  {
   "cell_type": "markdown",
   "metadata": {},
   "source": [
    "## Load Data"
   ]
  },
  {
   "cell_type": "code",
   "execution_count": 10,
   "metadata": {},
   "outputs": [],
   "source": [
    "conn = sqlite3.connect(path_db)\n",
    "df = pd.read_sql_query(\"SELECT * from posts\", conn)"
   ]
  },
  {
   "cell_type": "markdown",
   "metadata": {},
   "source": [
    "## Format Data\n",
    "Format the data to make dates into datetimes and create a text column from the title and body. Also, filter the data to include only dates starting Jan. 1, 2019. The scraper picked up one post from 2015 so this removes that. I want to see if there is a difference between parent and child posts so I made an \"is_parent\" indicator."
   ]
  },
  {
   "cell_type": "code",
   "execution_count": 11,
   "metadata": {},
   "outputs": [
    {
     "name": "stdout",
     "output_type": "stream",
     "text": [
      "<class 'pandas.core.frame.DataFrame'>\n",
      "RangeIndex: 27254 entries, 0 to 27253\n",
      "Data columns (total 8 columns):\n",
      " #   Column         Non-Null Count  Dtype \n",
      "---  ------         --------------  ----- \n",
      " 0   id             27254 non-null  int64 \n",
      " 1   family_id      27254 non-null  int64 \n",
      " 2   message_id     27254 non-null  object\n",
      " 3   parent_id      27254 non-null  object\n",
      " 4   date_recorded  27254 non-null  object\n",
      " 5   date_created   27254 non-null  object\n",
      " 6   title          27254 non-null  object\n",
      " 7   body           27254 non-null  object\n",
      "dtypes: int64(2), object(6)\n",
      "memory usage: 1.7+ MB\n"
     ]
    }
   ],
   "source": [
    "df.info()"
   ]
  },
  {
   "cell_type": "code",
   "execution_count": 12,
   "metadata": {},
   "outputs": [],
   "source": [
    "df = format_data(df)"
   ]
  },
  {
   "cell_type": "code",
   "execution_count": 13,
   "metadata": {},
   "outputs": [],
   "source": [
    "df = df[(df['date_created']>pd.Timestamp(2019,1,1))]"
   ]
  },
  {
   "cell_type": "code",
   "execution_count": 14,
   "metadata": {},
   "outputs": [
    {
     "data": {
      "text/plain": [
       "before    23201\n",
       "during     3272\n",
       "march       754\n",
       "Name: period, dtype: int64"
      ]
     },
     "execution_count": 14,
     "metadata": {},
     "output_type": "execute_result"
    }
   ],
   "source": [
    "df['before'] = df['date_created'] <= pd.Timestamp(2020,2,28)\n",
    "df['during'] = df['date_created'] >= pd.Timestamp(2020,4,1)\n",
    "df['march'] = ~df['before'] & ~df['during']\n",
    "df.loc[df['before'], 'period'] = 'before'\n",
    "df.loc[df['march'], 'period'] = 'march'\n",
    "df.loc[df['during'], 'period'] = 'during'\n",
    "df['period'].value_counts()"
   ]
  },
  {
   "cell_type": "code",
   "execution_count": 15,
   "metadata": {},
   "outputs": [
    {
     "data": {
      "text/plain": [
       "False    24732\n",
       "True      2495\n",
       "Name: is_parent, dtype: int64"
      ]
     },
     "execution_count": 15,
     "metadata": {},
     "output_type": "execute_result"
    }
   ],
   "source": [
    "df['is_parent'] = df['parent_id'] == \"\"\n",
    "df['is_parent'].value_counts()"
   ]
  },
  {
   "cell_type": "markdown",
   "metadata": {},
   "source": [
    "## Add Sentiment Scores"
   ]
  },
  {
   "cell_type": "code",
   "execution_count": 16,
   "metadata": {},
   "outputs": [],
   "source": [
    "analyzer = SentimentIntensityAnalyzer()"
   ]
  },
  {
   "cell_type": "markdown",
   "metadata": {},
   "source": [
    "With the text as collected:"
   ]
  },
  {
   "cell_type": "code",
   "execution_count": 17,
   "metadata": {},
   "outputs": [],
   "source": [
    "sentiment = df['text'].apply(lambda x: sentiment_analyzer_scores(x, analyzer))\n",
    "df['neg_sentiment'] = sentiment.apply(lambda x: x.get('neg', 0))\n",
    "df['neu_sentiment'] = sentiment.apply(lambda x: x.get('neu', 0))\n",
    "df['pos_sentiment'] = sentiment.apply(lambda x: x.get('pos', 0))\n",
    "df['compound_sentiment'] = sentiment.apply(lambda x: x.get('compound', 0))"
   ]
  },
  {
   "cell_type": "markdown",
   "metadata": {},
   "source": [
    "Example sentiment:"
   ]
  },
  {
   "cell_type": "code",
   "execution_count": 18,
   "metadata": {},
   "outputs": [
    {
     "data": {
      "text/plain": [
       "{'neg': 0.152, 'neu': 0.625, 'pos': 0.223, 'compound': 0.5946}"
      ]
     },
     "execution_count": 18,
     "metadata": {},
     "output_type": "execute_result"
    }
   ],
   "source": [
    "sentiment[5]"
   ]
  },
  {
   "cell_type": "markdown",
   "metadata": {},
   "source": [
    "I can also do this without stop words or punctuation but VADER includes puctuation in sentiment calculation. \"!\", ALLCAPS, and degree modifiers (like \"extremely\" or \"marginally\") affects the magnitude of a sentiment. Conjunctions like \"but\" can flit the sentiment polarity. Below, we can see that the shift in sentiment is the same whether or not we include stop words, pucntuation, and lowercase everything but I'll use the as-collected text instead of the clean text in the rest of the analysis."
   ]
  },
  {
   "cell_type": "code",
   "execution_count": 19,
   "metadata": {},
   "outputs": [],
   "source": [
    "# text = df['text']\n",
    "# text = text.apply(clean_text)\n",
    "# tokenizer = RegexpTokenizer(r'\\w+')\n",
    "# text = text.apply(tokenizer.tokenize)\n",
    "# text = text.apply(remove_stopwords)\n",
    "# df['text_clean'] = text.apply(lambda x: \" \".join(x))\n",
    "# sentiment_clean = df['text_clean'].apply(lambda x: sentiment_analyzer_scores(x, analyzer))\n",
    "# df['neg_sentiment_clean'] = sentiment_clean.apply(lambda x: x.get('neg', 0))\n",
    "# df['neu_sentiment_clean'] = sentiment_clean.apply(lambda x: x.get('neu', 0))\n",
    "# df['pos_sentiment_clean'] = sentiment_clean.apply(lambda x: x.get('pos', 0))\n",
    "# df['compound_sentiment_clean'] = sentiment_clean.apply(lambda x: x.get('compound', 0))"
   ]
  },
  {
   "cell_type": "markdown",
   "metadata": {},
   "source": [
    "## Statistical Analysis\n",
    "This test looks at whether the average sentiment is different before (up to Feb. 28, 2020) and during the pandemic (after April 1, 2020)"
   ]
  },
  {
   "cell_type": "code",
   "execution_count": 20,
   "metadata": {},
   "outputs": [
    {
     "name": "stdout",
     "output_type": "stream",
     "text": [
      "\n",
      "\n",
      "     variable    before    during statistic    pvalue\n",
      "neg_sentiment  0.064945  0.070258 -2.255183  0.024174\n",
      "\n",
      "\n",
      "     variable    before    during statistic    pvalue\n",
      "neu_sentiment  0.781836  0.782664 -0.181358  0.856096\n",
      "\n",
      "\n",
      "     variable    before    during statistic    pvalue\n",
      "pos_sentiment  0.116021  0.107345 +2.862065  0.004229\n",
      "\n",
      "\n",
      "          variable    before    during statistic    pvalue\n",
      "compound_sentiment  0.117299  0.090188 +3.379262  0.000733\n"
     ]
    }
   ],
   "source": [
    "ttest_sentiment(df, 'neg_sentiment')\n",
    "ttest_sentiment(df, 'neu_sentiment')\n",
    "ttest_sentiment(df, 'pos_sentiment')\n",
    "ttest_sentiment(df, 'compound_sentiment')\n",
    "# ttest_sentiment(df, 'neg_sentiment_clean')\n",
    "# ttest_sentiment(df, 'neu_sentiment_clean')\n",
    "# ttest_sentiment(df, 'pos_sentiment_clean')\n",
    "# ttest_sentiment(df, 'compound_sentiment_clean')"
   ]
  },
  {
   "cell_type": "markdown",
   "metadata": {},
   "source": [
    "With or with out stop words, the results show that sentiment is both more negative and less positive (p < 0.05 at least in all cases) during the pandemic compared to before the pandemic."
   ]
  },
  {
   "cell_type": "markdown",
   "metadata": {},
   "source": [
    "How about comparing sentiment of parent posts to its children? If I compare the average child sentiment to the top post of each thread:"
   ]
  },
  {
   "cell_type": "code",
   "execution_count": 21,
   "metadata": {},
   "outputs": [
    {
     "name": "stdout",
     "output_type": "stream",
     "text": [
      "<class 'pandas.core.frame.DataFrame'>\n",
      "Int64Index: 24732 entries, 2 to 27252\n",
      "Data columns (total 4 columns):\n",
      " #   Column              Non-Null Count  Dtype  \n",
      "---  ------              --------------  -----  \n",
      " 0   family_id           24732 non-null  int64  \n",
      " 1   neg_sentiment       24732 non-null  float64\n",
      " 2   pos_sentiment       24732 non-null  float64\n",
      " 3   compound_sentiment  24732 non-null  float64\n",
      "dtypes: float64(3), int64(1)\n",
      "memory usage: 966.1 KB\n",
      "<class 'pandas.core.frame.DataFrame'>\n",
      "Int64Index: 2213 entries, 0 to 2212\n",
      "Data columns (total 9 columns):\n",
      " #   Column                Non-Null Count  Dtype  \n",
      "---  ------                --------------  -----  \n",
      " 0   family_id             2213 non-null   int64  \n",
      " 1   neg_sentiment_p       2213 non-null   float64\n",
      " 2   pos_sentiment_p       2213 non-null   float64\n",
      " 3   compound_sentiment_p  2213 non-null   float64\n",
      " 4   before                2213 non-null   bool   \n",
      " 5   during                2213 non-null   bool   \n",
      " 6   neg_sentiment_c       2213 non-null   float64\n",
      " 7   pos_sentiment_c       2213 non-null   float64\n",
      " 8   compound_sentiment_c  2213 non-null   float64\n",
      "dtypes: bool(2), float64(6), int64(1)\n",
      "memory usage: 142.6 KB\n"
     ]
    }
   ],
   "source": [
    "parents = df[df[\"is_parent\"]]\n",
    "parents = parents[[\"family_id\",\"neg_sentiment\",\"pos_sentiment\",\"compound_sentiment\",\"before\",\"during\"]]\n",
    "children = df[~df[\"is_parent\"]]\n",
    "children = children[[\"family_id\",\"neg_sentiment\",\"pos_sentiment\",\"compound_sentiment\"]]\n",
    "children.info()\n",
    "children_ave = children.groupby(\"family_id\", as_index=False).mean()\n",
    "compare = pd.merge(left=parents, right=children_ave, on=\"family_id\", how=\"inner\", suffixes=['_p','_c'])\n",
    "compare.info()"
   ]
  },
  {
   "cell_type": "code",
   "execution_count": 22,
   "metadata": {},
   "outputs": [
    {
     "data": {
      "text/html": [
       "<div>\n",
       "<style scoped>\n",
       "    .dataframe tbody tr th:only-of-type {\n",
       "        vertical-align: middle;\n",
       "    }\n",
       "\n",
       "    .dataframe tbody tr th {\n",
       "        vertical-align: top;\n",
       "    }\n",
       "\n",
       "    .dataframe thead th {\n",
       "        text-align: right;\n",
       "    }\n",
       "</style>\n",
       "<table border=\"1\" class=\"dataframe\">\n",
       "  <thead>\n",
       "    <tr style=\"text-align: right;\">\n",
       "      <th></th>\n",
       "      <th>family_id</th>\n",
       "      <th>neg_sentiment_p</th>\n",
       "      <th>pos_sentiment_p</th>\n",
       "      <th>compound_sentiment_p</th>\n",
       "      <th>before</th>\n",
       "      <th>during</th>\n",
       "      <th>neg_sentiment_c</th>\n",
       "      <th>pos_sentiment_c</th>\n",
       "      <th>compound_sentiment_c</th>\n",
       "      <th>pos_diff</th>\n",
       "      <th>neg_diff</th>\n",
       "      <th>compound_diff</th>\n",
       "    </tr>\n",
       "  </thead>\n",
       "  <tbody>\n",
       "    <tr>\n",
       "      <th>0</th>\n",
       "      <td>2</td>\n",
       "      <td>0.000</td>\n",
       "      <td>0.612</td>\n",
       "      <td>0.7430</td>\n",
       "      <td>False</td>\n",
       "      <td>True</td>\n",
       "      <td>0.036800</td>\n",
       "      <td>0.141000</td>\n",
       "      <td>0.435860</td>\n",
       "      <td>0.471000</td>\n",
       "      <td>-0.036800</td>\n",
       "      <td>0.307140</td>\n",
       "    </tr>\n",
       "    <tr>\n",
       "      <th>1</th>\n",
       "      <td>3</td>\n",
       "      <td>0.000</td>\n",
       "      <td>0.000</td>\n",
       "      <td>0.0000</td>\n",
       "      <td>False</td>\n",
       "      <td>True</td>\n",
       "      <td>0.426667</td>\n",
       "      <td>0.000000</td>\n",
       "      <td>-0.361533</td>\n",
       "      <td>0.000000</td>\n",
       "      <td>-0.426667</td>\n",
       "      <td>0.361533</td>\n",
       "    </tr>\n",
       "    <tr>\n",
       "      <th>2</th>\n",
       "      <td>4</td>\n",
       "      <td>0.238</td>\n",
       "      <td>0.000</td>\n",
       "      <td>-0.7394</td>\n",
       "      <td>False</td>\n",
       "      <td>True</td>\n",
       "      <td>0.059111</td>\n",
       "      <td>0.129667</td>\n",
       "      <td>0.117544</td>\n",
       "      <td>-0.129667</td>\n",
       "      <td>0.178889</td>\n",
       "      <td>-0.856944</td>\n",
       "    </tr>\n",
       "    <tr>\n",
       "      <th>3</th>\n",
       "      <td>5</td>\n",
       "      <td>0.000</td>\n",
       "      <td>0.000</td>\n",
       "      <td>0.0000</td>\n",
       "      <td>False</td>\n",
       "      <td>True</td>\n",
       "      <td>0.000000</td>\n",
       "      <td>0.000000</td>\n",
       "      <td>0.000000</td>\n",
       "      <td>0.000000</td>\n",
       "      <td>0.000000</td>\n",
       "      <td>0.000000</td>\n",
       "    </tr>\n",
       "    <tr>\n",
       "      <th>4</th>\n",
       "      <td>6</td>\n",
       "      <td>0.304</td>\n",
       "      <td>0.000</td>\n",
       "      <td>-0.8694</td>\n",
       "      <td>False</td>\n",
       "      <td>True</td>\n",
       "      <td>0.000000</td>\n",
       "      <td>0.000000</td>\n",
       "      <td>0.000000</td>\n",
       "      <td>0.000000</td>\n",
       "      <td>0.304000</td>\n",
       "      <td>-0.869400</td>\n",
       "    </tr>\n",
       "  </tbody>\n",
       "</table>\n",
       "</div>"
      ],
      "text/plain": [
       "   family_id  neg_sentiment_p  pos_sentiment_p  compound_sentiment_p  before  \\\n",
       "0          2            0.000            0.612                0.7430   False   \n",
       "1          3            0.000            0.000                0.0000   False   \n",
       "2          4            0.238            0.000               -0.7394   False   \n",
       "3          5            0.000            0.000                0.0000   False   \n",
       "4          6            0.304            0.000               -0.8694   False   \n",
       "\n",
       "   during  neg_sentiment_c  pos_sentiment_c  compound_sentiment_c  pos_diff  \\\n",
       "0    True         0.036800         0.141000              0.435860  0.471000   \n",
       "1    True         0.426667         0.000000             -0.361533  0.000000   \n",
       "2    True         0.059111         0.129667              0.117544 -0.129667   \n",
       "3    True         0.000000         0.000000              0.000000  0.000000   \n",
       "4    True         0.000000         0.000000              0.000000  0.000000   \n",
       "\n",
       "   neg_diff  compound_diff  \n",
       "0 -0.036800       0.307140  \n",
       "1 -0.426667       0.361533  \n",
       "2  0.178889      -0.856944  \n",
       "3  0.000000       0.000000  \n",
       "4  0.304000      -0.869400  "
      ]
     },
     "execution_count": 22,
     "metadata": {},
     "output_type": "execute_result"
    }
   ],
   "source": [
    "compare['pos_diff'] = compare['pos_sentiment_p'] - compare['pos_sentiment_c']\n",
    "compare['neg_diff'] = compare['neg_sentiment_p'] - compare['neg_sentiment_c']\n",
    "compare['compound_diff'] = compare['compound_sentiment_p'] - compare['compound_sentiment_c']\n",
    "compare.head()"
   ]
  },
  {
   "cell_type": "code",
   "execution_count": 23,
   "metadata": {},
   "outputs": [
    {
     "name": "stdout",
     "output_type": "stream",
     "text": [
      "                            OLS Regression Results                            \n",
      "==============================================================================\n",
      "Dep. Variable:        pos_sentiment_c   R-squared:                       0.022\n",
      "Model:                            OLS   Adj. R-squared:                  0.022\n",
      "Method:                 Least Squares   F-statistic:                     50.51\n",
      "Date:                Wed, 16 Sep 2020   Prob (F-statistic):           1.59e-12\n",
      "Time:                        17:59:29   Log-Likelihood:                 1824.0\n",
      "No. Observations:                2213   AIC:                            -3644.\n",
      "Df Residuals:                    2211   BIC:                            -3633.\n",
      "Df Model:                           1                                         \n",
      "Covariance Type:            nonrobust                                         \n",
      "===================================================================================\n",
      "                      coef    std err          t      P>|t|      [0.025      0.975]\n",
      "-----------------------------------------------------------------------------------\n",
      "Intercept           0.1118      0.003     39.852      0.000       0.106       0.117\n",
      "pos_sentiment_p     0.1585      0.022      7.107      0.000       0.115       0.202\n",
      "==============================================================================\n",
      "Omnibus:                     1590.832   Durbin-Watson:                   2.081\n",
      "Prob(Omnibus):                  0.000   Jarque-Bera (JB):            36352.169\n",
      "Skew:                           3.130   Prob(JB):                         0.00\n",
      "Kurtosis:                      21.843   Cond. No.                         9.93\n",
      "==============================================================================\n",
      "\n",
      "Warnings:\n",
      "[1] Standard Errors assume that the covariance matrix of the errors is correctly specified.\n",
      "                            OLS Regression Results                            \n",
      "==============================================================================\n",
      "Dep. Variable:        neg_sentiment_c   R-squared:                       0.029\n",
      "Model:                            OLS   Adj. R-squared:                  0.028\n",
      "Method:                 Least Squares   F-statistic:                     65.49\n",
      "Date:                Wed, 16 Sep 2020   Prob (F-statistic):           9.55e-16\n",
      "Time:                        17:59:29   Log-Likelihood:                 2946.0\n",
      "No. Observations:                2213   AIC:                            -5888.\n",
      "Df Residuals:                    2211   BIC:                            -5877.\n",
      "Df Model:                           1                                         \n",
      "Covariance Type:            nonrobust                                         \n",
      "===================================================================================\n",
      "                      coef    std err          t      P>|t|      [0.025      0.975]\n",
      "-----------------------------------------------------------------------------------\n",
      "Intercept           0.0534      0.002     31.850      0.000       0.050       0.057\n",
      "neg_sentiment_p     0.1175      0.015      8.092      0.000       0.089       0.146\n",
      "==============================================================================\n",
      "Omnibus:                     2025.401   Durbin-Watson:                   1.916\n",
      "Prob(Omnibus):                  0.000   Jarque-Bera (JB):           140786.523\n",
      "Skew:                           4.062   Prob(JB):                         0.00\n",
      "Kurtosis:                      41.221   Cond. No.                         10.7\n",
      "==============================================================================\n",
      "\n",
      "Warnings:\n",
      "[1] Standard Errors assume that the covariance matrix of the errors is correctly specified.\n",
      "                             OLS Regression Results                             \n",
      "================================================================================\n",
      "Dep. Variable:     compound_sentiment_c   R-squared:                       0.036\n",
      "Model:                              OLS   Adj. R-squared:                  0.036\n",
      "Method:                   Least Squares   F-statistic:                     83.40\n",
      "Date:                  Wed, 16 Sep 2020   Prob (F-statistic):           1.47e-19\n",
      "Time:                          17:59:29   Log-Likelihood:                 254.09\n",
      "No. Observations:                  2213   AIC:                            -504.2\n",
      "Df Residuals:                      2211   BIC:                            -492.8\n",
      "Df Model:                             1                                         \n",
      "Covariance Type:              nonrobust                                         \n",
      "========================================================================================\n",
      "                           coef    std err          t      P>|t|      [0.025      0.975]\n",
      "----------------------------------------------------------------------------------------\n",
      "Intercept                0.1355      0.005     29.521      0.000       0.126       0.144\n",
      "compound_sentiment_p     0.0937      0.010      9.132      0.000       0.074       0.114\n",
      "==============================================================================\n",
      "Omnibus:                       83.975   Durbin-Watson:                   2.021\n",
      "Prob(Omnibus):                  0.000   Jarque-Bera (JB):              229.815\n",
      "Skew:                           0.112   Prob(JB):                     1.25e-50\n",
      "Kurtosis:                       4.563   Cond. No.                         2.24\n",
      "==============================================================================\n",
      "\n",
      "Warnings:\n",
      "[1] Standard Errors assume that the covariance matrix of the errors is correctly specified.\n"
     ]
    }
   ],
   "source": [
    "est_pos = ols(formula = 'pos_sentiment_c ~ pos_sentiment_p', data = compare).fit()\n",
    "print(est_pos.summary())\n",
    "est_neg = ols(formula = 'neg_sentiment_c ~ neg_sentiment_p', data = compare).fit()\n",
    "print(est_neg.summary())\n",
    "est_compound = ols(formula = 'compound_sentiment_c ~ compound_sentiment_p', data = compare).fit()\n",
    "print(est_compound.summary())"
   ]
  },
  {
   "cell_type": "markdown",
   "metadata": {},
   "source": [
    "So this suggests if a parent comment's negative sentiment increases, the children's negative sentiment will increase as well. Perhaps redo this analysis on each observation rather than the average children's sentiment."
   ]
  },
  {
   "cell_type": "markdown",
   "metadata": {},
   "source": [
    "## Plots\n",
    "Density plot comparing compound sentiment before and during the pandemic"
   ]
  },
  {
   "cell_type": "code",
   "execution_count": 24,
   "metadata": {},
   "outputs": [
    {
     "data": {
      "image/png": "[encoded data removed]",
      "text/plain": [
       "<Figure size 432x288 with 1 Axes>"
      ]
     },
     "metadata": {
      "needs_background": "light"
     },
     "output_type": "display_data"
    }
   ],
   "source": [
    "density_before = kde.gaussian_kde(df[\"compound_sentiment\"][df['before']])\n",
    "density_march = kde.gaussian_kde(df[\"compound_sentiment\"][df['march']])\n",
    "density_during = kde.gaussian_kde(df[\"compound_sentiment\"][df['during']])\n",
    "x = np.arange(-1.0, 1.0, 0.01)\n",
    "plt.scatter(x, density_before(x), alpha=0.5, label=\"Before\")\n",
    "plt.scatter(x, density_march(x), alpha=0.5, label=\"March\")\n",
    "plt.scatter(x, density_during(x), alpha=0.5, label=\"During\")\n",
    "plt.legend(loc=\"upper right\")\n",
    "plt.show()"
   ]
  },
  {
   "cell_type": "markdown",
   "metadata": {},
   "source": [
    "Scatter plot comparing daily average before and during the pandemic"
   ]
  },
  {
   "cell_type": "code",
   "execution_count": 25,
   "metadata": {},
   "outputs": [
    {
     "data": {
      "image/png": "[encoded data removed]",
      "text/plain": [
       "<Figure size 432x288 with 1 Axes>"
      ]
     },
     "metadata": {
      "needs_background": "light"
     },
     "output_type": "display_data"
    }
   ],
   "source": [
    "df['day'] = pd.to_datetime(df['date_created'], format=\"%Y-%m-%d\")\n",
    "daily_ave = df.resample('d', on='day').mean().dropna(how='all')\n",
    "daily_ave['before'] = daily_ave.index <= pd.Timestamp(2020,2,28)\n",
    "daily_ave['during'] = daily_ave.index >= pd.Timestamp(2020,4,1)\n",
    "daily_ave['march'] = ~daily_ave['before'] & ~daily_ave['during']\n",
    "plt.scatter(daily_ave.index[daily_ave['before']], daily_ave['compound_sentiment'][daily_ave['before']], label=\"Before\")\n",
    "plt.scatter(daily_ave.index[daily_ave['march']], daily_ave['compound_sentiment'][daily_ave['march']], label=\"March\")\n",
    "plt.scatter(daily_ave.index[daily_ave['during']], daily_ave['compound_sentiment'][daily_ave['during']], label=\"During\")\n",
    "plt.legend(loc=\"lower left\")\n",
    "plt.xticks(rotation=90)\n",
    "plt.ylabel('Compound Sentiment\\n(normalized -1 to 1)')\n",
    "plt.title('Daily Average Compound Sentiment Scores')\n",
    "plt.axhline(y=0, color='black', linestyle='-', alpha=0.5)\n",
    "plt.tight_layout()\n",
    "plt.savefig('../plots/daily_ave_compound_sentiment.png')\n",
    "\n",
    "plt.show()"
   ]
  },
  {
   "cell_type": "markdown",
   "metadata": {},
   "source": [
    "Sentiment is more negative and less positive during the pandemic"
   ]
  },
  {
   "cell_type": "code",
   "execution_count": 26,
   "metadata": {},
   "outputs": [
    {
     "data": {
      "image/png": "[encoded data removed]",
      "text/plain": [
       "<Figure size 432x288 with 1 Axes>"
      ]
     },
     "metadata": {
      "needs_background": "light"
     },
     "output_type": "display_data"
    }
   ],
   "source": [
    "fig, ax = plt.subplots()\n",
    "width = 0.35\n",
    "sentiments = ['Negative', 'Positive']\n",
    "x_pos = np.arange(len(sentiments))\n",
    "\n",
    "before_mean = [df[\"neg_sentiment\"][df['before']].mean(),\n",
    "               df[\"pos_sentiment\"][df['before']].mean()]\n",
    "before_se = [df[\"neg_sentiment\"][df['before']].std()/math.sqrt(len(df[\"neg_sentiment\"][df['before']])),\n",
    "             df[\"pos_sentiment\"][df['before']].std()/math.sqrt(len(df[\"pos_sentiment\"][df['before']]))]\n",
    "during_mean = [df[\"neg_sentiment\"][df['during']].mean(),\n",
    "               df[\"pos_sentiment\"][df['during']].mean()]\n",
    "during_se = [df[\"neg_sentiment\"][df['during']].std()/math.sqrt(len(df[\"neg_sentiment\"][df['during']])),\n",
    "             df[\"pos_sentiment\"][df['during']].std()/math.sqrt(len(df[\"pos_sentiment\"][df['during']]))]\n",
    "\n",
    "rects_before = ax.bar(x_pos - width/2, before_mean, width, yerr=before_se,\n",
    "                label='Before', capsize=5, color=\"cornflowerblue\")\n",
    "rects_during = ax.bar(x_pos + width/2, during_mean, width, yerr=during_se,\n",
    "                label='During', capsize=5, color=\"indianred\")\n",
    "\n",
    "# Add some text for labels, title and custom x-axis tick labels, etc.\n",
    "ax.set_ylabel('Average Sentiment Score\\n(normalized 0 to 1)')\n",
    "ax.set_title('Comparison of Sentiment Scores')\n",
    "ax.set_xticks(x_pos)\n",
    "ax.set_xticklabels(sentiments)\n",
    "ax.legend()\n",
    "fig.tight_layout()\n",
    "plt.savefig('../plots/sentiment_neg_pos.png')\n",
    "plt.show()"
   ]
  },
  {
   "cell_type": "markdown",
   "metadata": {},
   "source": [
    "## Save Clean Data in New Database"
   ]
  },
  {
   "cell_type": "code",
   "execution_count": 27,
   "metadata": {},
   "outputs": [],
   "source": [
    "df.to_sql('sentiments', conn, if_exists='replace', index=False)"
   ]
  }
 ],
 "metadata": {
  "kernelspec": {
   "display_name": "Python 3",
   "language": "python",
   "name": "python3"
  },
  "language_info": {
   "codemirror_mode": {
    "name": "ipython",
    "version": 3
   },
   "file_extension": ".py",
   "mimetype": "text/x-python",
   "name": "python",
   "nbconvert_exporter": "python",
   "pygments_lexer": "ipython3",
   "version": "3.6.10"
  }
 },
 "nbformat": 4,
 "nbformat_minor": 4
}
