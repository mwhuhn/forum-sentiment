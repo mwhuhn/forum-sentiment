{
 "cells": [
  {
   "cell_type": "markdown",
   "metadata": {},
   "source": [
    "# Run Sentiment Analysis on Forum Data\n",
    "This notebook loads the Youbemom special needs forum text and compares sentiment pre- and during the COVID-19 pandemic\n",
    "\n",
    "## Data Sources\n",
    "- youbemomTables.db (scraped with 1-Scrape_Forum.ipynb)\n",
    "\n",
    "## Changes\n",
    "- 2020-08-13: Set up data cleaning\n",
    "- 2020-08-20: Added t-tests\n",
    "- 2020-08-26: Added plots\n",
    "\n",
    "## Database Structure\n",
    "- threads\n",
    " - id: automatically assigned\n",
    " - url: url of top post\n",
    "- posts\n",
    " - id: automatically assigned\n",
    " - family_id: thread->id\n",
    " - message_id: the unique id of the message from the html\n",
    " - parent_id: id of post this post is responding to, 0 if top post\n",
    " - date_recorded: date the data is fetched\n",
    " - date_created: date the data was created\n",
    " - title: title of the post\n",
    " - body: body of the post\n",
    "\n",
    "## TODO\n",
    "- Does python have a regression function for continuous dependent variables between 0 and 1 or will I have to use R/Stata for a fractional regression model?\n",
    "- Set up functions for the plots so I can plug in the variable I want to see\n",
    "- Does sentiment differ between parents and children in threads?\n",
    " - Is sentiment more negative after negative posts? More positive after positive posts?\n",
    "- Is there a time-dependent function here?\n",
    " - Seasonality?\n",
    " - Does tweaking the time period cutoffs affect the significance?\n",
    "- Frequency distribution of words"
   ]
  },
  {
   "cell_type": "markdown",
   "metadata": {},
   "source": [
    "## Imports"
   ]
  },
  {
   "cell_type": "code",
   "execution_count": 59,
   "metadata": {},
   "outputs": [],
   "source": [
    "import sqlite3\n",
    "import pandas as pd\n",
    "import numpy as np\n",
    "from vaderSentiment.vaderSentiment import SentimentIntensityAnalyzer\n",
    "from scipy.stats import ttest_ind, kde\n",
    "from datetime import datetime\n",
    "# from nltk.probability import FreqDist\n",
    "from nltk.tokenize import RegexpTokenizer #, word_tokenize\n",
    "from nltk.corpus import stopwords\n",
    "import string\n",
    "import re\n",
    "from pathlib import Path\n",
    "import matplotlib.pyplot as plt"
   ]
  },
  {
   "cell_type": "markdown",
   "metadata": {},
   "source": [
    "## Functions\n",
    "For accessing the database"
   ]
  },
  {
   "cell_type": "code",
   "execution_count": 2,
   "metadata": {},
   "outputs": [],
   "source": [
    "def create_connection(db_file):\n",
    "    \"\"\" create a database connection to the SQLite database\n",
    "        specified by the db_file\n",
    "    :param db_file: database file\n",
    "    :return: Connection object or None\n",
    "    \"\"\"\n",
    "    conn = None\n",
    "    try:\n",
    "        conn = sqlite3.connect(db_file)\n",
    "    except Error as err:\n",
    "        print(err)\n",
    "    return conn"
   ]
  },
  {
   "cell_type": "markdown",
   "metadata": {},
   "source": [
    "For formatting the data"
   ]
  },
  {
   "cell_type": "code",
   "execution_count": 3,
   "metadata": {},
   "outputs": [],
   "source": [
    "def format_data(df):\n",
    "    \"\"\" format the data frame from sql so dates are in\n",
    "        datetime format and creates text column from\n",
    "        title and body\n",
    "    :param df: data frame\n",
    "    :return df: formatted data frame\n",
    "    \"\"\"\n",
    "    df['date_recorded'] = pd.to_datetime(df['date_recorded'])\n",
    "    df['date_created'] = pd.to_datetime(df['date_created'])\n",
    "    # text = title + body\n",
    "    df['title'] = df['title'].replace('This post has been deleted\\.', '', regex=True)\n",
    "    df['text'] = df['title'] + \" \" + df['body']\n",
    "    return df"
   ]
  },
  {
   "cell_type": "code",
   "execution_count": 4,
   "metadata": {},
   "outputs": [],
   "source": [
    "def clean_text(text):\n",
    "    \"\"\" cleans the input text of punctuation, extra\n",
    "        spaces, and makes letters lower case\n",
    "    :param text: text (= title + body here)\n",
    "    :return clean: clean text\n",
    "    \"\"\"\n",
    "    clean = \"\".join([t for t in text if t not in string.punctuation])\n",
    "    clean = re.sub(\" +\", \" \", clean)\n",
    "    clean = clean.strip()\n",
    "    clean = clean.lower()\n",
    "    return clean"
   ]
  },
  {
   "cell_type": "code",
   "execution_count": 5,
   "metadata": {},
   "outputs": [],
   "source": [
    "def remove_stopwords(text):\n",
    "    \"\"\" remove all stop words from the text\n",
    "        using stopwords from nltk.corpus\n",
    "    :param text: text with stopwords\n",
    "    :return words: text without stopwords\n",
    "    \"\"\"\n",
    "    words = [w for w in text if w not in stopwords.words('english')]\n",
    "    return words"
   ]
  },
  {
   "cell_type": "markdown",
   "metadata": {},
   "source": [
    "For creating the sentiment values"
   ]
  },
  {
   "cell_type": "code",
   "execution_count": 6,
   "metadata": {},
   "outputs": [],
   "source": [
    "def sentiment_analyzer_scores(sentence, analyzer):\n",
    "    \"\"\" create sentiment scores with the VADER analyzer\n",
    "    :param sentence: sentence to create scores for\n",
    "    :param analyzer: VADER sentiment analyzer\n",
    "    :return score: a dictionary of scores (neg, neu, pos, compound)\n",
    "    \"\"\"\n",
    "    score = analyzer.polarity_scores(sentence)\n",
    "    return score"
   ]
  },
  {
   "cell_type": "markdown",
   "metadata": {},
   "source": [
    "For running statistics"
   ]
  },
  {
   "cell_type": "code",
   "execution_count": 42,
   "metadata": {},
   "outputs": [],
   "source": [
    "def ttest_sentiment(df, v):\n",
    "    \"\"\" run a t-test on the sentiment scores for\n",
    "        before and during the pandemic\n",
    "    :param df: data frame\n",
    "    :param v: the variable name to t-test on\n",
    "    :return ttest: the t-test results\n",
    "    \"\"\"\n",
    "    group_before = df.where(df['before'])[v].dropna()\n",
    "    group_during = df.where(df['during'])[v].dropna()\n",
    "    print(\"Mean before: \" + str(group_before.mean()))\n",
    "    print(\"Mean during: \" + str(group_during.mean()))\n",
    "    return ttest_ind(group_before, group_during, equal_var=False, nan_policy=\"omit\")"
   ]
  },
  {
   "cell_type": "markdown",
   "metadata": {},
   "source": [
    "For plotting"
   ]
  },
  {
   "cell_type": "code",
   "execution_count": null,
   "metadata": {},
   "outputs": [],
   "source": [
    "# None yet"
   ]
  },
  {
   "cell_type": "markdown",
   "metadata": {},
   "source": [
    "## File Locations"
   ]
  },
  {
   "cell_type": "code",
   "execution_count": 9,
   "metadata": {},
   "outputs": [],
   "source": [
    "p = Path.cwd()\n",
    "path_parent = p.parents[0]\n",
    "path_db = path_parent / \"database\" / \"youbemomTables.db\"\n",
    "path_db = str(path_db)\n",
    "path_sentiment_data = path_parent / \"clean_data\" / \"sentiment.csv\""
   ]
  },
  {
   "cell_type": "markdown",
   "metadata": {},
   "source": [
    "## Variables"
   ]
  },
  {
   "cell_type": "code",
   "execution_count": null,
   "metadata": {},
   "outputs": [],
   "source": [
    "# None yet"
   ]
  },
  {
   "cell_type": "markdown",
   "metadata": {},
   "source": [
    "## Load Data"
   ]
  },
  {
   "cell_type": "code",
   "execution_count": 11,
   "metadata": {},
   "outputs": [],
   "source": [
    "conn = sqlite3.connect(path_db)\n",
    "df = pd.read_sql_query(\"SELECT * from posts\", conn)"
   ]
  },
  {
   "cell_type": "markdown",
   "metadata": {},
   "source": [
    "## Clean Data\n",
    "Format the data to make dates into datetimes and create a text column from the title and body. Also, filter the data to include only dates starting Jan. 1, 2019. The scraper picked up one post from 2015 so this removes that."
   ]
  },
  {
   "cell_type": "code",
   "execution_count": 21,
   "metadata": {},
   "outputs": [
    {
     "name": "stdout",
     "output_type": "stream",
     "text": [
      "<class 'pandas.core.frame.DataFrame'>\n",
      "RangeIndex: 27254 entries, 0 to 27253\n",
      "Data columns (total 9 columns):\n",
      " #   Column         Non-Null Count  Dtype         \n",
      "---  ------         --------------  -----         \n",
      " 0   id             27254 non-null  int64         \n",
      " 1   family_id      27254 non-null  int64         \n",
      " 2   message_id     27254 non-null  object        \n",
      " 3   parent_id      27254 non-null  object        \n",
      " 4   date_recorded  27254 non-null  datetime64[ns]\n",
      " 5   date_created   27254 non-null  datetime64[ns]\n",
      " 6   title          27254 non-null  object        \n",
      " 7   body           27254 non-null  object        \n",
      " 8   text           27254 non-null  object        \n",
      "dtypes: datetime64[ns](2), int64(2), object(5)\n",
      "memory usage: 1.9+ MB\n"
     ]
    }
   ],
   "source": [
    "df.info()"
   ]
  },
  {
   "cell_type": "code",
   "execution_count": 20,
   "metadata": {},
   "outputs": [],
   "source": [
    "df = format_data(df)"
   ]
  },
  {
   "cell_type": "code",
   "execution_count": 34,
   "metadata": {},
   "outputs": [],
   "source": [
    "df = df[(df['date_created']>pd.Timestamp(2019,1,1))]"
   ]
  },
  {
   "cell_type": "code",
   "execution_count": 44,
   "metadata": {},
   "outputs": [],
   "source": [
    "df['before'] = df['date_created'] <= pd.Timestamp(2020,2,28)\n",
    "df['during'] = df['date_created'] >= pd.Timestamp(2020,4,1)"
   ]
  },
  {
   "cell_type": "markdown",
   "metadata": {},
   "source": [
    "## Add Sentiment Scores"
   ]
  },
  {
   "cell_type": "code",
   "execution_count": 23,
   "metadata": {},
   "outputs": [],
   "source": [
    "analyzer = SentimentIntensityAnalyzer()"
   ]
  },
  {
   "cell_type": "markdown",
   "metadata": {},
   "source": [
    "Including stop words and punctuation"
   ]
  },
  {
   "cell_type": "code",
   "execution_count": 24,
   "metadata": {},
   "outputs": [],
   "source": [
    "sentiment = df['text'].apply(lambda x: sentiment_analyzer_scores(x, analyzer))\n",
    "df['neg_sentiment'] = sentiment.apply(lambda x: x.get('neg', 0))\n",
    "df['neu_sentiment'] = sentiment.apply(lambda x: x.get('neu', 0))\n",
    "df['pos_sentiment'] = sentiment.apply(lambda x: x.get('pos', 0))\n",
    "df['compound_sentiment'] = sentiment.apply(lambda x: x.get('compound', 0))"
   ]
  },
  {
   "cell_type": "markdown",
   "metadata": {},
   "source": [
    "Without stop words or punctuation"
   ]
  },
  {
   "cell_type": "code",
   "execution_count": 25,
   "metadata": {},
   "outputs": [],
   "source": [
    "text = df['text']\n",
    "text = text.apply(clean_text)\n",
    "tokenizer = RegexpTokenizer(r'\\w+')\n",
    "text = text.apply(tokenizer.tokenize)\n",
    "text = text.apply(remove_stopwords)\n",
    "df['text_clean'] = text.apply(lambda x: \" \".join(x))\n",
    "sentiment_clean = df['text_clean'].apply(lambda x: sentiment_analyzer_scores(x, analyzer))\n",
    "df['neg_sentiment_clean'] = sentiment_clean.apply(lambda x: x.get('neg', 0))\n",
    "df['neu_sentiment_clean'] = sentiment_clean.apply(lambda x: x.get('neu', 0))\n",
    "df['pos_sentiment_clean'] = sentiment_clean.apply(lambda x: x.get('pos', 0))\n",
    "df['compound_sentiment_clean'] = sentiment_clean.apply(lambda x: x.get('compound', 0))"
   ]
  },
  {
   "cell_type": "markdown",
   "metadata": {},
   "source": [
    "## Statistical Analysis\n",
    "This test looks at whether the average sentiment is different before (up to Feb. 28, 2020) and during the pandemic (after April 1, 2020)"
   ]
  },
  {
   "cell_type": "code",
   "execution_count": 45,
   "metadata": {},
   "outputs": [
    {
     "name": "stdout",
     "output_type": "stream",
     "text": [
      "Mean before: 0.06494482996422572\n",
      "Mean during: 0.07025825183374085\n",
      "Ttest_indResult(statistic=-2.25518289473822, pvalue=0.024174138207942363)\n",
      "Mean before: 0.7818360415499378\n",
      "Mean during: 0.782663508557458\n",
      "Ttest_indResult(statistic=-0.18135753345823505, pvalue=0.8560956147596687)\n",
      "Mean before: 0.1160214214904536\n",
      "Mean during: 0.10734474327628352\n",
      "Ttest_indResult(statistic=2.862065173222564, pvalue=0.004228914949499747)\n",
      "Mean before: 0.11729874574371635\n",
      "Mean during: 0.09018771393643076\n",
      "Ttest_indResult(statistic=3.379261874125834, pvalue=0.0007333561369110925)\n",
      "Mean before: 0.09346446273867547\n",
      "Mean during: 0.10132915647921761\n",
      "Ttest_indResult(statistic=-2.4453634590902653, pvalue=0.014512032279225916)\n",
      "Mean before: 0.6644398948321218\n",
      "Mean during: 0.6633154034229808\n",
      "Ttest_indResult(statistic=0.20225303143053983, pvalue=0.8397286636157647)\n",
      "Mean before: 0.19537144950648655\n",
      "Mean during: 0.18493704156479226\n",
      "Ttest_indResult(statistic=2.392966597165032, pvalue=0.01675559862705916)\n",
      "Mean before: 0.150898112150334\n",
      "Mean during: 0.12679758557457252\n",
      "Ttest_indResult(statistic=3.108675853136953, pvalue=0.0018917116241325357)\n"
     ]
    }
   ],
   "source": [
    "print(ttest_sentiment(df, 'neg_sentiment'))\n",
    "print(ttest_sentiment(df, 'neu_sentiment'))\n",
    "print(ttest_sentiment(df, 'pos_sentiment'))\n",
    "print(ttest_sentiment(df, 'compound_sentiment'))\n",
    "print(ttest_sentiment(df, 'neg_sentiment_clean'))\n",
    "print(ttest_sentiment(df, 'neu_sentiment_clean'))\n",
    "print(ttest_sentiment(df, 'pos_sentiment_clean'))\n",
    "print(ttest_sentiment(df, 'compound_sentiment_clean'))"
   ]
  },
  {
   "cell_type": "markdown",
   "metadata": {},
   "source": [
    "With or with out stop words, the results show that sentiment is both more negative and less positive (p < 0.05 at least in all cases) during the pandemic compared to before the pandemic."
   ]
  },
  {
   "cell_type": "markdown",
   "metadata": {},
   "source": [
    "## Plots\n",
    "Density plot comparing compound sentiment before and during the pandemic"
   ]
  },
  {
   "cell_type": "code",
   "execution_count": 100,
   "metadata": {},
   "outputs": [
    {
     "data": {
      "image/png": "[encoded data removed]",
      "text/plain": [
       "<Figure size 432x288 with 1 Axes>"
      ]
     },
     "metadata": {
      "needs_background": "light"
     },
     "output_type": "display_data"
    }
   ],
   "source": [
    "density_before = kde.gaussian_kde(df[\"compound_sentiment\"][df['before']])\n",
    "density_during = kde.gaussian_kde(df[\"compound_sentiment\"][df['during']])\n",
    "x = np.arange(-1.0, 1.0, 0.01)\n",
    "plt.scatter(x, density_before(x), alpha=0.5, label=\"Before\")\n",
    "plt.scatter(x, density_during(x), alpha=0.5, label=\"During\")\n",
    "plt.legend(loc=\"upper right\")\n",
    "plt.show()"
   ]
  },
  {
   "cell_type": "markdown",
   "metadata": {},
   "source": [
    "Scatter plot comparing daily average before and during the pandemic"
   ]
  },
  {
   "cell_type": "code",
   "execution_count": 99,
   "metadata": {},
   "outputs": [
    {
     "data": {
      "image/png": "[encoded data removed]",
      "text/plain": [
       "<Figure size 432x288 with 1 Axes>"
      ]
     },
     "metadata": {
      "needs_background": "light"
     },
     "output_type": "display_data"
    }
   ],
   "source": [
    "df['day'] = pd.to_datetime(df['date_created'], format=\"%Y-%m-%d\")\n",
    "daily_ave = df.resample('d', on='day').mean().dropna(how='all')\n",
    "daily_ave['before'] = daily_ave.index <= pd.Timestamp(2020,2,28)\n",
    "daily_ave['during'] = daily_ave.index >= pd.Timestamp(2020,4,1)\n",
    "plt.scatter(daily_ave.index[daily_ave['before']], daily_ave['compound_sentiment'][daily_ave['before']], label=\"Before\")\n",
    "plt.scatter(daily_ave.index[daily_ave['during']], daily_ave['compound_sentiment'][daily_ave['during']], label=\"During\")\n",
    "plt.legend(loc=\"lower left\")\n",
    "plt.xticks(rotation=90)\n",
    "plt.show()"
   ]
  }
 ],
 "metadata": {
  "kernelspec": {
   "display_name": "Python 3",
   "language": "python",
   "name": "python3"
  },
  "language_info": {
   "codemirror_mode": {
    "name": "ipython",
    "version": 3
   },
   "file_extension": ".py",
   "mimetype": "text/x-python",
   "name": "python",
   "nbconvert_exporter": "python",
   "pygments_lexer": "ipython3",
   "version": "3.6.10"
  }
 },
 "nbformat": 4,
 "nbformat_minor": 4
}
