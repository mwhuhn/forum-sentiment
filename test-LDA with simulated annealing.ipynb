{
 "cells": [
  {
   "cell_type": "code",
   "execution_count": 1,
   "metadata": {},
   "outputs": [],
   "source": [
    "import warnings\n",
    "warnings.filterwarnings(\"ignore\", category=DeprecationWarning)"
   ]
  },
  {
   "cell_type": "code",
   "execution_count": 2,
   "metadata": {},
   "outputs": [],
   "source": [
    "from gensim import corpora\n",
    "import pickle\n",
    "from pathlib import Path\n",
    "from io import FileIO\n",
    "import pyLDAvis.gensim\n",
    "from gensim.models import CoherenceModel, LdaModel, LdaMulticore\n",
    "import pandas as pd\n",
    "from youbemom import create_connection\n",
    "import csv\n",
    "import random\n",
    "import numpy as np\n",
    "import math\n",
    "import os"
   ]
  },
  {
   "cell_type": "markdown",
   "metadata": {},
   "source": [
    "## Functions"
   ]
  },
  {
   "cell_type": "markdown",
   "metadata": {},
   "source": [
    "For data"
   ]
  },
  {
   "cell_type": "code",
   "execution_count": 3,
   "metadata": {},
   "outputs": [
    {
     "name": "stderr",
     "output_type": "stream",
     "text": [
      "/home/mwh/miniconda3/envs/forum/lib/python3.8/site-packages/ipykernel/ipkernel.py:287: DeprecationWarning: `should_run_async` will not call `transform_cell` automatically in the future. Please pass the result to `transformed_cell` argument and any exception that happen during thetransform in `preprocessing_exc_tuple` in IPython 7.17 and above.\n",
      "  and should_run_async(code)\n"
     ]
    }
   ],
   "source": [
    "def load_data():\n",
    "    lemmatized_text = pickle.load(open(path_lemma_pkl.format(forum, group), 'rb'))\n",
    "    corpus = pickle.load(open(path_corpus_pkl.format(forum, group), 'rb'))\n",
    "    dictionary = corpora.Dictionary.load(path_dictionary_gensim.format(forum, group))\n",
    "    return lemmatized_text, corpus, dictionary"
   ]
  },
  {
   "cell_type": "code",
   "execution_count": 4,
   "metadata": {
    "scrolled": true
   },
   "outputs": [
    {
     "name": "stderr",
     "output_type": "stream",
     "text": [
      "/home/mwh/miniconda3/envs/forum/lib/python3.8/site-packages/ipykernel/ipkernel.py:287: DeprecationWarning: `should_run_async` will not call `transform_cell` automatically in the future. Please pass the result to `transformed_cell` argument and any exception that happen during thetransform in `preprocessing_exc_tuple` in IPython 7.17 and above.\n",
      "  and should_run_async(code)\n"
     ]
    }
   ],
   "source": [
    "def save_model(model):\n",
    "    model.save(path_saved_model.format(forum, group))"
   ]
  },
  {
   "cell_type": "code",
   "execution_count": 5,
   "metadata": {},
   "outputs": [
    {
     "name": "stderr",
     "output_type": "stream",
     "text": [
      "/home/mwh/miniconda3/envs/forum/lib/python3.8/site-packages/ipykernel/ipkernel.py:287: DeprecationWarning: `should_run_async` will not call `transform_cell` automatically in the future. Please pass the result to `transformed_cell` argument and any exception that happen during thetransform in `preprocessing_exc_tuple` in IPython 7.17 and above.\n",
      "  and should_run_async(code)\n"
     ]
    }
   ],
   "source": [
    "def save_coherence(alpha, beta, topics, iterations, coherence):\n",
    "    with open(path_saved_parameters.format(forum, group), 'a') as f:\n",
    "        writer = csv.writer(f) \n",
    "        writer.writerow([alpha, beta, topics, iterations, coherence])"
   ]
  },
  {
   "cell_type": "markdown",
   "metadata": {},
   "source": [
    "For SA"
   ]
  },
  {
   "cell_type": "code",
   "execution_count": 6,
   "metadata": {},
   "outputs": [
    {
     "name": "stderr",
     "output_type": "stream",
     "text": [
      "/home/mwh/miniconda3/envs/forum/lib/python3.8/site-packages/ipykernel/ipkernel.py:287: DeprecationWarning: `should_run_async` will not call `transform_cell` automatically in the future. Please pass the result to `transformed_cell` argument and any exception that happen during thetransform in `preprocessing_exc_tuple` in IPython 7.17 and above.\n",
      "  and should_run_async(code)\n"
     ]
    }
   ],
   "source": [
    "# initial state\n",
    "def initialize_state(lower_bounds, upper_bounds):\n",
    "#     state = [random.randint(lower_bounds[0], upper_bounds[0]),\n",
    "#             random.randint(lower_bounds[1], upper_bounds[1])]\n",
    "#     noise = [random.random() for i in range(2)]\n",
    "#     state += [l + r * (u - l) for l, u, r in zip(lower_bounds[2:], upper_bounds[2:], noise)]\n",
    "    noise = [random.random() for i in lower_bounds]\n",
    "    state = [l + r * (u - l) for l, u, r in zip(lower_bounds, upper_bounds, noise)]\n",
    "    return state"
   ]
  },
  {
   "cell_type": "code",
   "execution_count": 7,
   "metadata": {},
   "outputs": [
    {
     "name": "stderr",
     "output_type": "stream",
     "text": [
      "/home/mwh/miniconda3/envs/forum/lib/python3.8/site-packages/ipykernel/ipkernel.py:287: DeprecationWarning: `should_run_async` will not call `transform_cell` automatically in the future. Please pass the result to `transformed_cell` argument and any exception that happen during thetransform in `preprocessing_exc_tuple` in IPython 7.17 and above.\n",
      "  and should_run_async(code)\n"
     ]
    }
   ],
   "source": [
    "# get neighbors\n",
    "def get_neighbor(state, eta, indpb, low, up):\n",
    "    \"\"\"Polynomial mutation as implemented in original NSGA-II algorithm in\n",
    "    C by Deb.\n",
    "    :param state: a list of values to be mutated.\n",
    "    :param eta: Crowding degree of the mutation. A high eta will produce\n",
    "                a mutant resembling its parent, while a small eta will\n",
    "                produce a solution much more different.\n",
    "    :param indpb: Probability of the mutation for each gene. A high p\n",
    "                  will make genes more likely to mutate and a low p\n",
    "                  will make genes less likely to mutate.\n",
    "    :param low: A list of values that is the lower bound of the search\n",
    "                space.\n",
    "    :param up: A list of values values that is the upper bound of the\n",
    "               search space.\n",
    "    :returns: A list of the mutated state within the given bounds.\n",
    "    adapted from:\n",
    "    https://github.com/DEAP/deap/blob/master/deap/tools/mutation.py\n",
    "    \"\"\"\n",
    "    size = len(state)\n",
    "    new_state = state.copy()\n",
    "    \n",
    "    for i, xl, xu in zip(range(size), low, up):\n",
    "        if random.random() <= indpb:\n",
    "            x = new_state[i]\n",
    "            delta_1 = (x - xl) / (xu - xl)\n",
    "            delta_2 = (xu - x) / (xu - xl)\n",
    "            rand = random.random()\n",
    "            mut_pow = 1.0 / (eta + 1.)\n",
    "\n",
    "            if rand < 0.5:\n",
    "                xy = 1.0 - delta_1\n",
    "                val = 2.0 * rand + (1.0 - 2.0 * rand) * xy ** (eta + 1)\n",
    "                delta_q = val ** mut_pow - 1.0\n",
    "            else:\n",
    "                xy = 1.0 - delta_2\n",
    "                val = 2.0 * (1.0 - rand) + 2.0 * (rand - 0.5) * xy ** (eta + 1)\n",
    "                delta_q = 1.0 - val ** mut_pow\n",
    "\n",
    "            x = x + delta_q * (xu - xl)\n",
    "            x = min(max(x, xl), xu)\n",
    "            new_state[i] = x\n",
    "    \n",
    "    return new_state"
   ]
  },
  {
   "cell_type": "code",
   "execution_count": 8,
   "metadata": {
    "scrolled": true
   },
   "outputs": [
    {
     "name": "stderr",
     "output_type": "stream",
     "text": [
      "/home/mwh/miniconda3/envs/forum/lib/python3.8/site-packages/ipykernel/ipkernel.py:287: DeprecationWarning: `should_run_async` will not call `transform_cell` automatically in the future. Please pass the result to `transformed_cell` argument and any exception that happen during thetransform in `preprocessing_exc_tuple` in IPython 7.17 and above.\n",
      "  and should_run_async(code)\n"
     ]
    }
   ],
   "source": [
    "# get cost\n",
    "def get_cost(state):\n",
    "    print(state)\n",
    "    n_topics = int(round(state[0]))\n",
    "    n_iterations = 50 # int(round(state[1]))\n",
    "    a = state[1]\n",
    "    b = state[2]\n",
    "    # do LDA\n",
    "    model = LdaMulticore(corpus, num_topics = n_topics, id2word=dictionary, passes=n_iterations, alpha=a, eta=b, workers=w)\n",
    "    # get coherence\n",
    "    coherence_model = CoherenceModel(model=model, texts=lemmatized_text, dictionary=dictionary, coherence='c_v')\n",
    "    coherence = coherence_model.get_coherence()\n",
    "    save_coherence(a, b, n_topics, n_iterations, coherence)\n",
    "    return model, coherence"
   ]
  },
  {
   "cell_type": "markdown",
   "metadata": {},
   "source": [
    "## Path"
   ]
  },
  {
   "cell_type": "code",
   "execution_count": 9,
   "metadata": {
    "scrolled": false
   },
   "outputs": [
    {
     "name": "stderr",
     "output_type": "stream",
     "text": [
      "/home/mwh/miniconda3/envs/forum/lib/python3.8/site-packages/ipykernel/ipkernel.py:287: DeprecationWarning: `should_run_async` will not call `transform_cell` automatically in the future. Please pass the result to `transformed_cell` argument and any exception that happen during thetransform in `preprocessing_exc_tuple` in IPython 7.17 and above.\n",
      "  and should_run_async(code)\n"
     ]
    }
   ],
   "source": [
    "p = Path.cwd()\n",
    "path_parent = p.parents[0]"
   ]
  },
  {
   "cell_type": "code",
   "execution_count": 22,
   "metadata": {},
   "outputs": [
    {
     "name": "stderr",
     "output_type": "stream",
     "text": [
      "/home/mwh/miniconda3/envs/forum/lib/python3.8/site-packages/ipykernel/ipkernel.py:287: DeprecationWarning: `should_run_async` will not call `transform_cell` automatically in the future. Please pass the result to `transformed_cell` argument and any exception that happen during thetransform in `preprocessing_exc_tuple` in IPython 7.17 and above.\n",
      "  and should_run_async(code)\n"
     ]
    }
   ],
   "source": [
    "path_lemma_pkl = str(path_parent / \"clean_data\" / \"lemmatized_text_{0}_{1}.pkl\")\n",
    "path_corpus_pkl = str(path_parent / \"clean_data\" / \"corpus_{0}_{1}.pkl\")\n",
    "path_dictionary_gensim = str(path_parent / \"clean_data\" / \"dictionary_{0}_{1}.gensim\")\n",
    "path_saved_model = str(path_parent / \"clean_data\" / \"ldamodels\" / \"model_sa_tune_{0}_{1}_round_{2}.gensim\")\n",
    "path_saved_parameters = str(path_parent / \"clean_data\" / \"params_sa_tune_{0}_{1}_round_{2}.csv\")"
   ]
  },
  {
   "cell_type": "markdown",
   "metadata": {},
   "source": [
    "## Load Data"
   ]
  },
  {
   "cell_type": "code",
   "execution_count": 23,
   "metadata": {},
   "outputs": [
    {
     "name": "stderr",
     "output_type": "stream",
     "text": [
      "/home/mwh/miniconda3/envs/forum/lib/python3.8/site-packages/ipykernel/ipkernel.py:287: DeprecationWarning: `should_run_async` will not call `transform_cell` automatically in the future. Please pass the result to `transformed_cell` argument and any exception that happen during thetransform in `preprocessing_exc_tuple` in IPython 7.17 and above.\n",
      "  and should_run_async(code)\n"
     ]
    }
   ],
   "source": [
    "forum = \"special-needs\"\n",
    "group = \"parent\"\n",
    "r = 2"
   ]
  },
  {
   "cell_type": "code",
   "execution_count": 12,
   "metadata": {},
   "outputs": [
    {
     "name": "stderr",
     "output_type": "stream",
     "text": [
      "/home/mwh/miniconda3/envs/forum/lib/python3.8/site-packages/ipykernel/ipkernel.py:287: DeprecationWarning: `should_run_async` will not call `transform_cell` automatically in the future. Please pass the result to `transformed_cell` argument and any exception that happen during thetransform in `preprocessing_exc_tuple` in IPython 7.17 and above.\n",
      "  and should_run_async(code)\n"
     ]
    }
   ],
   "source": [
    "lemmatized_text, corpus, dictionary = load_data()"
   ]
  },
  {
   "cell_type": "markdown",
   "metadata": {},
   "source": [
    "## Initiate Values"
   ]
  },
  {
   "cell_type": "code",
   "execution_count": 13,
   "metadata": {},
   "outputs": [
    {
     "name": "stderr",
     "output_type": "stream",
     "text": [
      "/home/mwh/miniconda3/envs/forum/lib/python3.8/site-packages/ipykernel/ipkernel.py:287: DeprecationWarning: `should_run_async` will not call `transform_cell` automatically in the future. Please pass the result to `transformed_cell` argument and any exception that happen during thetransform in `preprocessing_exc_tuple` in IPython 7.17 and above.\n",
      "  and should_run_async(code)\n"
     ]
    }
   ],
   "source": [
    "random.seed(384)"
   ]
  },
  {
   "cell_type": "code",
   "execution_count": 14,
   "metadata": {},
   "outputs": [
    {
     "name": "stderr",
     "output_type": "stream",
     "text": [
      "/home/mwh/miniconda3/envs/forum/lib/python3.8/site-packages/ipykernel/ipkernel.py:287: DeprecationWarning: `should_run_async` will not call `transform_cell` automatically in the future. Please pass the result to `transformed_cell` argument and any exception that happen during thetransform in `preprocessing_exc_tuple` in IPython 7.17 and above.\n",
      "  and should_run_async(code)\n"
     ]
    }
   ],
   "source": [
    "# multicore workers\n",
    "w = 9"
   ]
  },
  {
   "cell_type": "code",
   "execution_count": 15,
   "metadata": {},
   "outputs": [
    {
     "name": "stderr",
     "output_type": "stream",
     "text": [
      "/home/mwh/miniconda3/envs/forum/lib/python3.8/site-packages/ipykernel/ipkernel.py:287: DeprecationWarning: `should_run_async` will not call `transform_cell` automatically in the future. Please pass the result to `transformed_cell` argument and any exception that happen during thetransform in `preprocessing_exc_tuple` in IPython 7.17 and above.\n",
      "  and should_run_async(code)\n"
     ]
    }
   ],
   "source": [
    "# temperature\n",
    "initial_temp = 100\n",
    "final_temp = 0\n",
    "delta = 1\n",
    "current_temp = initial_temp"
   ]
  },
  {
   "cell_type": "code",
   "execution_count": 16,
   "metadata": {},
   "outputs": [
    {
     "name": "stderr",
     "output_type": "stream",
     "text": [
      "/home/mwh/miniconda3/envs/forum/lib/python3.8/site-packages/ipykernel/ipkernel.py:287: DeprecationWarning: `should_run_async` will not call `transform_cell` automatically in the future. Please pass the result to `transformed_cell` argument and any exception that happen during thetransform in `preprocessing_exc_tuple` in IPython 7.17 and above.\n",
      "  and should_run_async(code)\n"
     ]
    }
   ],
   "source": [
    "# bounds\n",
    "# 1. number of topics (int)\n",
    "# 2. alpha (float)\n",
    "# 3. beta (float)\n",
    "lower_bounds = [2, 0.001, 0.001]\n",
    "upper_bounds = [20, 1.0, 1.0]"
   ]
  },
  {
   "cell_type": "code",
   "execution_count": 17,
   "metadata": {},
   "outputs": [
    {
     "name": "stderr",
     "output_type": "stream",
     "text": [
      "/home/mwh/miniconda3/envs/forum/lib/python3.8/site-packages/ipykernel/ipkernel.py:287: DeprecationWarning: `should_run_async` will not call `transform_cell` automatically in the future. Please pass the result to `transformed_cell` argument and any exception that happen during thetransform in `preprocessing_exc_tuple` in IPython 7.17 and above.\n",
      "  and should_run_async(code)\n"
     ]
    }
   ],
   "source": [
    "initial_state = initialize_state(lower_bounds, upper_bounds)\n",
    "current_state = initial_state.copy()\n",
    "solution = current_state.copy()"
   ]
  },
  {
   "cell_type": "code",
   "execution_count": 18,
   "metadata": {},
   "outputs": [
    {
     "name": "stderr",
     "output_type": "stream",
     "text": [
      "/home/mwh/miniconda3/envs/forum/lib/python3.8/site-packages/ipykernel/ipkernel.py:287: DeprecationWarning: `should_run_async` will not call `transform_cell` automatically in the future. Please pass the result to `transformed_cell` argument and any exception that happen during thetransform in `preprocessing_exc_tuple` in IPython 7.17 and above.\n",
      "  and should_run_async(code)\n"
     ]
    },
    {
     "data": {
      "text/plain": [
       "[13.601302036499723, 85.98219375217231, 0.7828901238418017, 0.7412604389008841]"
      ]
     },
     "execution_count": 18,
     "metadata": {},
     "output_type": "execute_result"
    }
   ],
   "source": [
    "current_state"
   ]
  },
  {
   "cell_type": "code",
   "execution_count": 19,
   "metadata": {},
   "outputs": [
    {
     "name": "stderr",
     "output_type": "stream",
     "text": [
      "/home/mwh/miniconda3/envs/forum/lib/python3.8/site-packages/ipykernel/ipkernel.py:287: DeprecationWarning: `should_run_async` will not call `transform_cell` automatically in the future. Please pass the result to `transformed_cell` argument and any exception that happen during thetransform in `preprocessing_exc_tuple` in IPython 7.17 and above.\n",
      "  and should_run_async(code)\n"
     ]
    }
   ],
   "source": [
    "if os.path.exists(path_saved_parameters.format(forum, group)):\n",
    "  os.remove(path_saved_parameters.format(forum, group))"
   ]
  },
  {
   "cell_type": "markdown",
   "metadata": {},
   "source": [
    "## Run SA"
   ]
  },
  {
   "cell_type": "code",
   "execution_count": 20,
   "metadata": {
    "scrolled": false
   },
   "outputs": [
    {
     "name": "stdout",
     "output_type": "stream",
     "text": [
      "[13.601302036499723, 85.98219375217231, 0.7828901238418017, 0.7412604389008841]\n"
     ]
    },
    {
     "name": "stderr",
     "output_type": "stream",
     "text": [
      "/home/mwh/miniconda3/envs/forum/lib/python3.8/site-packages/ipykernel/ipkernel.py:287: DeprecationWarning: `should_run_async` will not call `transform_cell` automatically in the future. Please pass the result to `transformed_cell` argument and any exception that happen during thetransform in `preprocessing_exc_tuple` in IPython 7.17 and above.\n",
      "  and should_run_async(code)\n"
     ]
    }
   ],
   "source": [
    "model, current_cost = get_cost(current_state)\n",
    "save_model(model)"
   ]
  },
  {
   "cell_type": "code",
   "execution_count": 21,
   "metadata": {},
   "outputs": [
    {
     "name": "stdout",
     "output_type": "stream",
     "text": [
      "current temp: 100\n",
      "using neighbor:\n",
      "[13.707305184806438, 85.98219375217231, 0.7828901238418017, 0.7359402896519851]\n",
      "[13.707305184806438, 85.98219375217231, 0.7828901238418017, 0.7359402896519851]\n"
     ]
    },
    {
     "name": "stderr",
     "output_type": "stream",
     "text": [
      "/home/mwh/miniconda3/envs/forum/lib/python3.8/site-packages/ipykernel/ipkernel.py:287: DeprecationWarning: `should_run_async` will not call `transform_cell` automatically in the future. Please pass the result to `transformed_cell` argument and any exception that happen during thetransform in `preprocessing_exc_tuple` in IPython 7.17 and above.\n",
      "  and should_run_async(code)\n"
     ]
    },
    {
     "name": "stdout",
     "output_type": "stream",
     "text": [
      "cost diff: -0.05583267626339983, new solution better\n",
      "current temp: 99\n",
      "using neighbor:\n",
      "[14.236435092350439, 113.51477806831308, 0.7828901238418017, 0.7359402896519851]\n",
      "[14.236435092350439, 113.51477806831308, 0.7828901238418017, 0.7359402896519851]\n",
      "cost diff: 0.03125066997744386, new solution worse\n",
      "accepting worse solution\n",
      "current temp: 98\n",
      "using neighbor:\n",
      "[14.236435092350439, 115.78176593341166, 0.7828901238418017, 0.7359402896519851]\n",
      "[14.236435092350439, 115.78176593341166, 0.7828901238418017, 0.7359402896519851]\n",
      "cost diff: 0.029244135252064374, new solution worse\n",
      "accepting worse solution\n",
      "current temp: 97\n",
      "using neighbor:\n",
      "[14.236435092350439, 115.78176593341166, 0.7467759171514603, 0.7359402896519851]\n",
      "[14.236435092350439, 115.78176593341166, 0.7467759171514603, 0.7359402896519851]\n",
      "cost diff: 0.0020515486034466957, new solution worse\n",
      "accepting worse solution\n",
      "current temp: 96\n",
      "using neighbor:\n",
      "[14.236435092350439, 125.9892623776846, 0.7467759171514603, 0.7359402896519851]\n",
      "[14.236435092350439, 125.9892623776846, 0.7467759171514603, 0.7359402896519851]\n",
      "cost diff: 0.023418155310571398, new solution worse\n",
      "accepting worse solution\n",
      "current temp: 95\n",
      "using neighbor:\n",
      "[14.236435092350439, 125.9892623776846, 0.7152444571824337, 0.7032463717989417]\n",
      "[14.236435092350439, 125.9892623776846, 0.7152444571824337, 0.7032463717989417]\n",
      "cost diff: -0.037836110175578364, new solution better\n",
      "current temp: 94\n",
      "using neighbor:\n",
      "[14.236435092350439, 121.05609123336555, 0.7152444571824337, 0.712242828474781]\n",
      "[14.236435092350439, 121.05609123336555, 0.7152444571824337, 0.712242828474781]\n",
      "cost diff: -0.007805499971483387, new solution better\n",
      "current temp: 93\n",
      "using neighbor:\n",
      "[14.236435092350439, 121.05609123336555, 0.7152444571824337, 0.6368023685344384]\n",
      "[14.236435092350439, 121.05609123336555, 0.7152444571824337, 0.6368023685344384]\n",
      "cost diff: 0.009661362832280473, new solution worse\n",
      "accepting worse solution\n",
      "current temp: 92\n",
      "using neighbor:\n",
      "[13.757271953721665, 121.05609123336555, 0.7152444571824337, 0.6368023685344384]\n",
      "[13.757271953721665, 121.05609123336555, 0.7152444571824337, 0.6368023685344384]\n",
      "cost diff: -0.01778579544766068, new solution better\n",
      "current temp: 91\n",
      "using neighbor:\n",
      "[13.757271953721665, 122.7936664381629, 0.7152444571824337, 0.6368023685344384]\n",
      "[13.757271953721665, 122.7936664381629, 0.7152444571824337, 0.6368023685344384]\n",
      "cost diff: 0.00964297215619303, new solution worse\n",
      "accepting worse solution\n",
      "current temp: 90\n",
      "using neighbor:\n",
      "[13.102316108474485, 122.7936664381629, 0.7152444571824337, 0.6483693467295664]\n",
      "[13.102316108474485, 122.7936664381629, 0.7152444571824337, 0.6483693467295664]\n",
      "cost diff: -0.02726047182459168, new solution better\n",
      "current temp: 89\n",
      "using neighbor:\n",
      "[13.102316108474485, 122.7936664381629, 0.7148814305544722, 0.6483693467295664]\n",
      "[13.102316108474485, 122.7936664381629, 0.7148814305544722, 0.6483693467295664]\n",
      "cost diff: 0.06990974655722826, new solution worse\n",
      "accepting worse solution\n",
      "current temp: 88\n",
      "using neighbor:\n",
      "[13.102316108474485, 120.97566076814472, 0.7148814305544722, 0.6483693467295664]\n",
      "[13.102316108474485, 120.97566076814472, 0.7148814305544722, 0.6483693467295664]\n",
      "cost diff: -0.07659552414443704, new solution better\n",
      "current temp: 87\n",
      "using neighbor:\n",
      "[14.407328163434647, 120.97566076814472, 0.7148814305544722, 0.6483693467295664]\n",
      "[14.407328163434647, 120.97566076814472, 0.7148814305544722, 0.6483693467295664]\n",
      "cost diff: 0.05995106872942779, new solution worse\n",
      "accepting worse solution\n",
      "current temp: 86\n",
      "using neighbor:\n",
      "[14.407328163434647, 128.71417521218766, 0.7148814305544722, 0.6483693467295664]\n",
      "[14.407328163434647, 128.71417521218766, 0.7148814305544722, 0.6483693467295664]\n",
      "cost diff: -0.014448170539529293, new solution better\n",
      "current temp: 85\n",
      "using neighbor:\n",
      "[14.407328163434647, 128.71417521218766, 0.814733310946866, 0.6483693467295664]\n",
      "[14.407328163434647, 128.71417521218766, 0.814733310946866, 0.6483693467295664]\n",
      "cost diff: -0.004538763915893695, new solution better\n",
      "current temp: 84\n",
      "using neighbor:\n",
      "[10.987793249280953, 128.71417521218766, 0.7877087743912605, 0.6483693467295664]\n",
      "[10.987793249280953, 128.71417521218766, 0.7877087743912605, 0.6483693467295664]\n",
      "cost diff: 0.022371458241795095, new solution worse\n",
      "accepting worse solution\n",
      "current temp: 83\n",
      "using neighbor:\n",
      "[10.987793249280953, 123.74422148703282, 0.7877087743912605, 0.6483693467295664]\n",
      "[10.987793249280953, 123.74422148703282, 0.7877087743912605, 0.6483693467295664]\n",
      "cost diff: -0.05517695823059432, new solution better\n",
      "current temp: 82\n",
      "using neighbor:\n",
      "[10.987793249280953, 127.2956135450773, 0.7877087743912605, 0.49990421543247565]\n",
      "[10.987793249280953, 127.2956135450773, 0.7877087743912605, 0.49990421543247565]\n",
      "cost diff: 0.03246291448716776, new solution worse\n",
      "accepting worse solution\n",
      "current temp: 81\n",
      "using neighbor:\n",
      "[10.628338049466436, 127.2956135450773, 0.7877087743912605, 0.49990421543247565]\n",
      "[10.628338049466436, 127.2956135450773, 0.7877087743912605, 0.49990421543247565]\n",
      "cost diff: -0.0409809023338189, new solution better\n",
      "current temp: 80\n",
      "using neighbor:\n",
      "[10.54206146328401, 127.2956135450773, 0.7877087743912605, 0.49990421543247565]\n",
      "[10.54206146328401, 127.2956135450773, 0.7877087743912605, 0.49990421543247565]\n",
      "cost diff: 0.01879457889579783, new solution worse\n",
      "accepting worse solution\n",
      "current temp: 79\n",
      "using neighbor:\n",
      "[10.54206146328401, 127.2956135450773, 0.7205484251837528, 0.49990421543247565]\n",
      "[10.54206146328401, 127.2956135450773, 0.7205484251837528, 0.49990421543247565]\n",
      "cost diff: -0.008997378775378095, new solution better\n",
      "current temp: 78\n",
      "using neighbor:\n",
      "[11.392302021275748, 127.2956135450773, 0.7205484251837528, 0.49990421543247565]\n",
      "[11.392302021275748, 127.2956135450773, 0.7205484251837528, 0.49990421543247565]\n",
      "cost diff: 0.01999415592005227, new solution worse\n",
      "accepting worse solution\n",
      "current temp: 77\n",
      "using neighbor:\n",
      "[11.392302021275748, 132.01128695544838, 0.7205484251837528, 0.49990421543247565]\n",
      "[11.392302021275748, 132.01128695544838, 0.7205484251837528, 0.49990421543247565]\n",
      "cost diff: -0.029909888265740814, new solution better\n",
      "current temp: 76\n",
      "using neighbor:\n",
      "[11.392302021275748, 137.8333254418694, 0.7205484251837528, 0.49990421543247565]\n",
      "[11.392302021275748, 137.8333254418694, 0.7205484251837528, 0.49990421543247565]\n",
      "cost diff: 0.04572598037937137, new solution worse\n",
      "accepting worse solution\n",
      "current temp: 75\n",
      "using neighbor:\n",
      "[10.903917985853983, 137.8333254418694, 0.7205484251837528, 0.49990421543247565]\n",
      "[10.903917985853983, 137.8333254418694, 0.7205484251837528, 0.49990421543247565]\n",
      "cost diff: 0.005154712539194861, new solution worse\n",
      "accepting worse solution\n",
      "current temp: 74\n",
      "using neighbor:\n",
      "[10.502308852801049, 137.8333254418694, 0.7205484251837528, 0.45275842665356036]\n",
      "[10.502308852801049, 137.8333254418694, 0.7205484251837528, 0.45275842665356036]\n",
      "cost diff: -0.034053428597506485, new solution better\n",
      "current temp: 73\n",
      "using neighbor:\n",
      "[10.502308852801049, 137.8333254418694, 0.72943780174671, 0.45275842665356036]\n",
      "[10.502308852801049, 137.8333254418694, 0.72943780174671, 0.45275842665356036]\n",
      "cost diff: 0.018175594031949682, new solution worse\n",
      "accepting worse solution\n",
      "current temp: 72\n",
      "using neighbor:\n",
      "[10.502308852801049, 137.8333254418694, 0.72943780174671, 0.4135939382276517]\n",
      "[10.502308852801049, 137.8333254418694, 0.72943780174671, 0.4135939382276517]\n",
      "cost diff: -0.02968730178371215, new solution better\n",
      "current temp: 71\n",
      "using neighbor:\n",
      "[10.502308852801049, 137.8333254418694, 0.7404335671216907, 0.38896203254102635]\n",
      "[10.502308852801049, 137.8333254418694, 0.7404335671216907, 0.38896203254102635]\n",
      "cost diff: 0.0415980107715731, new solution worse\n",
      "accepting worse solution\n",
      "current temp: 70\n",
      "using neighbor:\n",
      "[10.502308852801049, 129.47119400276574, 0.7822922387396982, 0.3747623769375453]\n",
      "[10.502308852801049, 129.47119400276574, 0.7822922387396982, 0.3747623769375453]\n",
      "cost diff: -0.05038717536376325, new solution better\n",
      "current temp: 69\n",
      "using neighbor:\n",
      "[10.238442395199288, 136.2128273951717, 0.7943921156686315, 0.3747623769375453]\n",
      "[10.238442395199288, 136.2128273951717, 0.7943921156686315, 0.3747623769375453]\n",
      "cost diff: 0.012813164892556461, new solution worse\n",
      "accepting worse solution\n",
      "current temp: 68\n",
      "using neighbor:\n",
      "[10.238442395199288, 141.47005214976343, 0.7943921156686315, 0.3747623769375453]\n",
      "[10.238442395199288, 141.47005214976343, 0.7943921156686315, 0.3747623769375453]\n"
     ]
    },
    {
     "name": "stdout",
     "output_type": "stream",
     "text": [
      "cost diff: 0.007438973583903774, new solution worse\n",
      "accepting worse solution\n",
      "current temp: 67\n",
      "using neighbor:\n",
      "[10.238442395199288, 145.27554597819534, 0.7943921156686315, 0.3747623769375453]\n",
      "[10.238442395199288, 145.27554597819534, 0.7943921156686315, 0.3747623769375453]\n",
      "cost diff: -0.02449566268156045, new solution better\n",
      "current temp: 66\n",
      "using neighbor:\n",
      "[10.238442395199288, 142.13586837839716, 0.7943921156686315, 0.40628813348587745]\n",
      "[10.238442395199288, 142.13586837839716, 0.7943921156686315, 0.40628813348587745]\n",
      "cost diff: 0.006940224855874755, new solution worse\n",
      "accepting worse solution\n",
      "current temp: 65\n",
      "using neighbor:\n",
      "[11.142941001069884, 142.13586837839716, 0.7943921156686315, 0.40628813348587745]\n",
      "[11.142941001069884, 142.13586837839716, 0.7943921156686315, 0.40628813348587745]\n",
      "cost diff: 0.044091266220126824, new solution worse\n",
      "accepting worse solution\n",
      "current temp: 64\n",
      "using neighbor:\n",
      "[11.142941001069884, 128.2780072835411, 0.9166235912760725, 0.40628813348587745]\n",
      "[11.142941001069884, 128.2780072835411, 0.9166235912760725, 0.40628813348587745]\n",
      "cost diff: -0.058291168255932946, new solution better\n",
      "current temp: 63\n",
      "using neighbor:\n",
      "[10.710679824293186, 128.2780072835411, 0.9166235912760725, 0.40628813348587745]\n",
      "[10.710679824293186, 128.2780072835411, 0.9166235912760725, 0.40628813348587745]\n",
      "cost diff: -0.011183904017859847, new solution better\n",
      "current temp: 62\n",
      "using neighbor:\n",
      "[10.710679824293186, 128.2780072835411, 0.9166235912760725, 0.48177005246201143]\n",
      "[10.710679824293186, 128.2780072835411, 0.9166235912760725, 0.48177005246201143]\n",
      "cost diff: 0.02346132719144034, new solution worse\n",
      "accepting worse solution\n",
      "current temp: 61\n",
      "using neighbor:\n",
      "[10.710679824293186, 127.64913273714998, 0.9132021517168833, 0.48177005246201143]\n",
      "[10.710679824293186, 127.64913273714998, 0.9132021517168833, 0.48177005246201143]\n",
      "cost diff: 0.022730938495495345, new solution worse\n",
      "accepting worse solution\n",
      "current temp: 60\n",
      "using neighbor:\n",
      "[11.097146143634445, 127.64913273714998, 0.9132021517168833, 0.5617871537394108]\n",
      "[11.097146143634445, 127.64913273714998, 0.9132021517168833, 0.5617871537394108]\n",
      "cost diff: 0.04519573465484, new solution worse\n",
      "accepting worse solution\n",
      "current temp: 59\n",
      "using neighbor:\n",
      "[11.097146143634445, 145.00930343198684, 0.9132021517168833, 0.4922922466897248]\n",
      "[11.097146143634445, 145.00930343198684, 0.9132021517168833, 0.4922922466897248]\n",
      "cost diff: -0.03437324375019529, new solution better\n",
      "current temp: 58\n",
      "using neighbor:\n",
      "[11.592343837418651, 145.00930343198684, 0.9132021517168833, 0.48720691260317467]\n",
      "[11.592343837418651, 145.00930343198684, 0.9132021517168833, 0.48720691260317467]\n",
      "cost diff: 0.012124172709756076, new solution worse\n",
      "accepting worse solution\n",
      "current temp: 57\n",
      "using neighbor:\n",
      "[11.592343837418651, 160.7910608955844, 0.9132021517168833, 0.48720691260317467]\n",
      "[11.592343837418651, 160.7910608955844, 0.9132021517168833, 0.48720691260317467]\n",
      "cost diff: -0.023647869861987525, new solution better\n",
      "current temp: 56\n",
      "using neighbor:\n",
      "[11.592343837418651, 160.7910608955844, 0.9485642121556697, 0.4660882790546106]\n",
      "[11.592343837418651, 160.7910608955844, 0.9485642121556697, 0.4660882790546106]\n",
      "cost diff: -0.05796325123007995, new solution better\n",
      "current temp: 55\n",
      "using neighbor:\n",
      "[11.515557663114414, 165.99630347897264, 0.9485642121556697, 0.4660882790546106]\n",
      "[11.515557663114414, 165.99630347897264, 0.9485642121556697, 0.4660882790546106]\n",
      "cost diff: 0.02445992738613778, new solution worse\n",
      "accepting worse solution\n",
      "current temp: 54\n",
      "using neighbor:\n",
      "[11.515557663114414, 165.99630347897264, 0.9807986923014752, 0.4660882790546106]\n",
      "[11.515557663114414, 165.99630347897264, 0.9807986923014752, 0.4660882790546106]\n",
      "cost diff: 0.0071326554424137045, new solution worse\n",
      "accepting worse solution\n",
      "current temp: 53\n",
      "using neighbor:\n",
      "[11.515557663114414, 166.38415539021432, 0.9807986923014752, 0.4660882790546106]\n",
      "[11.515557663114414, 166.38415539021432, 0.9807986923014752, 0.4660882790546106]\n",
      "cost diff: 0.015845238964835473, new solution worse\n",
      "accepting worse solution\n",
      "current temp: 52\n",
      "using neighbor:\n",
      "[13.995266899848946, 166.38415539021432, 0.9807986923014752, 0.4660882790546106]\n",
      "[13.995266899848946, 166.38415539021432, 0.9807986923014752, 0.4660882790546106]\n",
      "cost diff: 0.03148185037826923, new solution worse\n",
      "accepting worse solution\n",
      "current temp: 51\n",
      "using neighbor:\n",
      "[13.995266899848946, 166.38415539021432, 0.9807986923014752, 0.43753038340114375]\n",
      "[13.995266899848946, 166.38415539021432, 0.9807986923014752, 0.43753038340114375]\n",
      "cost diff: -0.031053439912112957, new solution better\n",
      "current temp: 50\n",
      "using neighbor:\n",
      "[13.995266899848946, 164.92022612287573, 0.9807986923014752, 0.43042379940215386]\n",
      "[13.995266899848946, 164.92022612287573, 0.9807986923014752, 0.43042379940215386]\n",
      "cost diff: -0.014858243374413549, new solution better\n",
      "current temp: 49\n",
      "using neighbor:\n",
      "[15.542087787774602, 164.92022612287573, 0.9839424020207247, 0.43042379940215386]\n",
      "[15.542087787774602, 164.92022612287573, 0.9839424020207247, 0.43042379940215386]\n",
      "cost diff: 0.0276490771887562, new solution worse\n",
      "accepting worse solution\n",
      "current temp: 48\n",
      "using neighbor:\n",
      "[15.542087787774602, 164.92022612287573, 0.9839424020207247, 0.43499347677623895]\n",
      "[15.542087787774602, 164.92022612287573, 0.9839424020207247, 0.43499347677623895]\n",
      "cost diff: -0.02603193067077625, new solution better\n",
      "current temp: 47\n",
      "using neighbor:\n",
      "[15.542087787774602, 164.92022612287573, 0.9839424020207247, 0.3504688526335836]\n",
      "[15.542087787774602, 164.92022612287573, 0.9839424020207247, 0.3504688526335836]\n",
      "cost diff: -0.01601565673115435, new solution better\n",
      "current temp: 46\n",
      "using neighbor:\n",
      "[15.75768201576713, 166.30043877180813, 0.9839424020207247, 0.3504688526335836]\n",
      "[15.75768201576713, 166.30043877180813, 0.9839424020207247, 0.3504688526335836]\n",
      "cost diff: 0.00950307088225566, new solution worse\n",
      "accepting worse solution\n",
      "current temp: 45\n",
      "using neighbor:\n",
      "[15.75768201576713, 164.21507304058278, 0.9839424020207247, 0.3504688526335836]\n",
      "[15.75768201576713, 164.21507304058278, 0.9839424020207247, 0.3504688526335836]\n",
      "cost diff: 0.011592914727299175, new solution worse\n",
      "accepting worse solution\n",
      "current temp: 44\n",
      "using neighbor:\n",
      "[15.75768201576713, 164.21507304058278, 0.9839424020207247, 0.39807122454014393]\n",
      "[15.75768201576713, 164.21507304058278, 0.9839424020207247, 0.39807122454014393]\n",
      "cost diff: 0.016210786330252858, new solution worse\n",
      "accepting worse solution\n",
      "current temp: 43\n",
      "using neighbor:\n",
      "[15.75768201576713, 164.21507304058278, 0.9978161552075122, 0.39807122454014393]\n",
      "[15.75768201576713, 164.21507304058278, 0.9978161552075122, 0.39807122454014393]\n",
      "cost diff: -0.03515280237489393, new solution better\n",
      "current temp: 42\n",
      "using neighbor:\n",
      "[15.935660082223793, 164.65770674283382, 0.9157792274658307, 0.39807122454014393]\n",
      "[15.935660082223793, 164.65770674283382, 0.9157792274658307, 0.39807122454014393]\n",
      "cost diff: 0.037740856406149215, new solution worse\n",
      "accepting worse solution\n",
      "current temp: 41\n",
      "using neighbor:\n",
      "[15.935660082223793, 164.65770674283382, 0.8934879448195294, 0.39807122454014393]\n",
      "[15.935660082223793, 164.65770674283382, 0.8934879448195294, 0.39807122454014393]\n",
      "cost diff: -0.008761866078501379, new solution better\n",
      "current temp: 40\n",
      "using neighbor:\n",
      "[15.935660082223793, 164.65770674283382, 0.8934879448195294, 0.42420164181371917]\n",
      "[15.935660082223793, 164.65770674283382, 0.8934879448195294, 0.42420164181371917]\n",
      "cost diff: 0.017382512137196104, new solution worse\n",
      "accepting worse solution\n",
      "current temp: 39\n",
      "using neighbor:\n",
      "[15.935660082223793, 164.65770674283382, 0.8934879448195294, 0.4385295746771761]\n",
      "[15.935660082223793, 164.65770674283382, 0.8934879448195294, 0.4385295746771761]\n",
      "cost diff: 0.00950226976445856, new solution worse\n",
      "accepting worse solution\n",
      "current temp: 38\n",
      "using neighbor:\n",
      "[15.935660082223793, 164.65770674283382, 0.8934879448195294, 0.4241589446654645]\n",
      "[15.935660082223793, 164.65770674283382, 0.8934879448195294, 0.4241589446654645]\n",
      "cost diff: -0.049246871595424846, new solution better\n",
      "current temp: 37\n",
      "using neighbor:\n",
      "[15.935660082223793, 164.65770674283382, 0.8930468254849557, 0.4241589446654645]\n",
      "[15.935660082223793, 164.65770674283382, 0.8930468254849557, 0.4241589446654645]\n",
      "cost diff: 0.040495391628680655, new solution worse\n",
      "accepting worse solution\n",
      "current temp: 36\n",
      "using neighbor:\n",
      "[15.36639504504538, 164.65770674283382, 0.8937067260118944, 0.4241589446654645]\n",
      "[15.36639504504538, 164.65770674283382, 0.8937067260118944, 0.4241589446654645]\n"
     ]
    },
    {
     "name": "stdout",
     "output_type": "stream",
     "text": [
      "cost diff: 0.038415640584732624, new solution worse\n",
      "accepting worse solution\n",
      "current temp: 35\n",
      "using neighbor:\n",
      "[15.36639504504538, 173.92391481224263, 0.8937067260118944, 0.4241589446654645]\n",
      "[15.36639504504538, 173.92391481224263, 0.8937067260118944, 0.4241589446654645]\n",
      "cost diff: -0.031175061936595194, new solution better\n",
      "current temp: 34\n",
      "using neighbor:\n",
      "[15.44086584487334, 173.92391481224263, 0.8864782226334268, 0.4241589446654645]\n",
      "[15.44086584487334, 173.92391481224263, 0.8864782226334268, 0.4241589446654645]\n",
      "cost diff: -0.0256395072066542, new solution better\n",
      "current temp: 33\n",
      "using neighbor:\n",
      "[15.44086584487334, 173.92391481224263, 0.8864782226334268, 0.49923310335304755]\n",
      "[15.44086584487334, 173.92391481224263, 0.8864782226334268, 0.49923310335304755]\n",
      "cost diff: -0.015515102856621166, new solution better\n",
      "current temp: 32\n",
      "using neighbor:\n",
      "[16.729791040952968, 173.92391481224263, 0.8864782226334268, 0.5146309556857434]\n",
      "[16.729791040952968, 173.92391481224263, 0.8864782226334268, 0.5146309556857434]\n",
      "cost diff: 0.11129344024642529, new solution worse\n",
      "accepting worse solution\n",
      "current temp: 31\n",
      "using neighbor:\n",
      "[16.729791040952968, 173.92391481224263, 0.8864782226334268, 0.5363427768939392]\n",
      "[16.729791040952968, 173.92391481224263, 0.8864782226334268, 0.5363427768939392]\n",
      "cost diff: -0.06411111181483375, new solution better\n",
      "current temp: 30\n",
      "using neighbor:\n",
      "[16.729791040952968, 171.00920626433614, 0.9020169624054867, 0.5363427768939392]\n",
      "[16.729791040952968, 171.00920626433614, 0.9020169624054867, 0.5363427768939392]\n",
      "cost diff: 0.04303645328019645, new solution worse\n",
      "accepting worse solution\n",
      "current temp: 29\n",
      "using neighbor:\n",
      "[16.729791040952968, 171.00920626433614, 0.9020169624054867, 0.5428919924849939]\n",
      "[16.729791040952968, 171.00920626433614, 0.9020169624054867, 0.5428919924849939]\n",
      "cost diff: -0.08800675436290684, new solution better\n",
      "current temp: 28\n",
      "using neighbor:\n",
      "[19.024476550342413, 171.00920626433614, 0.9020169624054867, 0.5428919924849939]\n",
      "[19.024476550342413, 171.00920626433614, 0.9020169624054867, 0.5428919924849939]\n",
      "cost diff: 0.04743327930893115, new solution worse\n",
      "accepting worse solution\n",
      "current temp: 27\n",
      "using neighbor:\n",
      "[19.951800513015073, 171.00920626433614, 0.9020169624054867, 0.5428919924849939]\n",
      "[19.951800513015073, 171.00920626433614, 0.9020169624054867, 0.5428919924849939]\n",
      "cost diff: 0.024955480966885157, new solution worse\n",
      "accepting worse solution\n",
      "current temp: 26\n",
      "using neighbor:\n",
      "[18.940109417957785, 171.00920626433614, 0.8475306970239359, 0.5428919924849939]\n",
      "[18.940109417957785, 171.00920626433614, 0.8475306970239359, 0.5428919924849939]\n",
      "cost diff: -0.022722105880056187, new solution better\n",
      "current temp: 25\n",
      "using neighbor:\n",
      "[18.457782298643977, 152.6561489702033, 0.8475306970239359, 0.5428919924849939]\n",
      "[18.457782298643977, 152.6561489702033, 0.8475306970239359, 0.5428919924849939]\n",
      "cost diff: -0.0009987156089210636, new solution better\n",
      "current temp: 24\n",
      "using neighbor:\n",
      "[19.947384584849374, 152.6561489702033, 0.8475306970239359, 0.5428919924849939]\n",
      "[19.947384584849374, 152.6561489702033, 0.8475306970239359, 0.5428919924849939]\n",
      "cost diff: 0.00036008298345069356, new solution worse\n",
      "accepting worse solution\n",
      "current temp: 23\n",
      "using neighbor:\n",
      "[19.947384584849374, 152.6561489702033, 0.7799146023468899, 0.5428919924849939]\n",
      "[19.947384584849374, 152.6561489702033, 0.7799146023468899, 0.5428919924849939]\n",
      "cost diff: -0.02430401456837461, new solution better\n",
      "current temp: 22\n",
      "using neighbor:\n",
      "[19.976512857342822, 152.6561489702033, 0.7799146023468899, 0.5428919924849939]\n",
      "[19.976512857342822, 152.6561489702033, 0.7799146023468899, 0.5428919924849939]\n",
      "cost diff: -0.013769150962232857, new solution better\n",
      "current temp: 21\n",
      "using neighbor:\n",
      "[19.992662468230186, 152.6561489702033, 0.7799146023468899, 0.5428919924849939]\n",
      "[19.992662468230186, 152.6561489702033, 0.7799146023468899, 0.5428919924849939]\n",
      "cost diff: 0.0519571030737529, new solution worse\n",
      "accepting worse solution\n",
      "current temp: 20\n",
      "using neighbor:\n",
      "[19.279036758996785, 152.6561489702033, 0.7710135509677161, 0.5428919924849939]\n",
      "[19.279036758996785, 152.6561489702033, 0.7710135509677161, 0.5428919924849939]\n",
      "cost diff: -0.023947304730578156, new solution better\n",
      "current temp: 19\n",
      "using neighbor:\n",
      "[19.279036758996785, 152.6561489702033, 0.7710135509677161, 0.539820547243651]\n",
      "[19.279036758996785, 152.6561489702033, 0.7710135509677161, 0.539820547243651]\n",
      "cost diff: 0.008280002776314577, new solution worse\n",
      "accepting worse solution\n",
      "current temp: 18\n",
      "using neighbor:\n",
      "[18.831125097370755, 152.6561489702033, 0.7710135509677161, 0.4763477613483098]\n",
      "[18.831125097370755, 152.6561489702033, 0.7710135509677161, 0.4763477613483098]\n",
      "cost diff: 0.007550315600561519, new solution worse\n",
      "accepting worse solution\n",
      "current temp: 17\n",
      "using neighbor:\n",
      "[18.831125097370755, 152.6561489702033, 0.7464501801393291, 0.4763477613483098]\n",
      "[18.831125097370755, 152.6561489702033, 0.7464501801393291, 0.4763477613483098]\n",
      "cost diff: 0.02738326514602535, new solution worse\n",
      "accepting worse solution\n",
      "current temp: 16\n",
      "using neighbor:\n",
      "[16.428943130829495, 152.54692656948194, 0.7464501801393291, 0.4763477613483098]\n",
      "[16.428943130829495, 152.54692656948194, 0.7464501801393291, 0.4763477613483098]\n",
      "cost diff: -0.011597620911586393, new solution better\n",
      "current temp: 15\n",
      "using neighbor:\n",
      "[16.522867430351734, 152.54692656948194, 0.7464501801393291, 0.4763477613483098]\n",
      "[16.522867430351734, 152.54692656948194, 0.7464501801393291, 0.4763477613483098]\n",
      "cost diff: 0.006568535477265824, new solution worse\n",
      "accepting worse solution\n",
      "current temp: 14\n",
      "using neighbor:\n",
      "[16.522867430351734, 152.54692656948194, 0.7464501801393291, 0.35025752932852483]\n",
      "[16.522867430351734, 152.54692656948194, 0.7464501801393291, 0.35025752932852483]\n",
      "cost diff: -0.02783508525031192, new solution better\n",
      "current temp: 13\n",
      "using neighbor:\n",
      "[16.522867430351734, 152.54692656948194, 0.7464501801393291, 0.3983573205521677]\n",
      "[16.522867430351734, 152.54692656948194, 0.7464501801393291, 0.3983573205521677]\n",
      "cost diff: -0.035140829135950846, new solution better\n",
      "current temp: 12\n",
      "using neighbor:\n",
      "[16.522867430351734, 152.54692656948194, 0.8909283147770399, 0.3983573205521677]\n",
      "[16.522867430351734, 152.54692656948194, 0.8909283147770399, 0.3983573205521677]\n",
      "cost diff: 0.03235987713146282, new solution worse\n",
      "accepting worse solution\n",
      "current temp: 11\n",
      "using neighbor:\n",
      "[16.522867430351734, 152.54692656948194, 0.8909283147770399, 0.3888085803272924]\n",
      "[16.522867430351734, 152.54692656948194, 0.8909283147770399, 0.3888085803272924]\n",
      "cost diff: -0.027855561208310453, new solution better\n",
      "current temp: 10\n",
      "using neighbor:\n",
      "[16.522867430351734, 151.212637890358, 0.8909283147770399, 0.3888085803272924]\n",
      "[16.522867430351734, 151.212637890358, 0.8909283147770399, 0.3888085803272924]\n",
      "cost diff: -0.030647187675158616, new solution better\n",
      "current temp: 9\n",
      "using neighbor:\n",
      "[16.522867430351734, 156.63591608682955, 0.8909283147770399, 0.3888085803272924]\n",
      "[16.522867430351734, 156.63591608682955, 0.8909283147770399, 0.3888085803272924]\n",
      "cost diff: 0.06291537151422599, new solution worse\n",
      "accepting worse solution\n",
      "current temp: 8\n",
      "using neighbor:\n",
      "[16.522867430351734, 161.7291559616861, 0.8909283147770399, 0.3888085803272924]\n",
      "[16.522867430351734, 161.7291559616861, 0.8909283147770399, 0.3888085803272924]\n",
      "cost diff: -0.03655258769185554, new solution better\n",
      "current temp: 7\n",
      "using neighbor:\n",
      "[16.640167088813865, 161.7291559616861, 0.8909283147770399, 0.3888085803272924]\n",
      "[16.640167088813865, 161.7291559616861, 0.8909283147770399, 0.3888085803272924]\n",
      "cost diff: 0.009437140176361547, new solution worse\n",
      "accepting worse solution\n",
      "current temp: 6\n",
      "using neighbor:\n",
      "[16.640167088813865, 161.7291559616861, 0.8909283147770399, 0.3852957123336081]\n",
      "[16.640167088813865, 161.7291559616861, 0.8909283147770399, 0.3852957123336081]\n",
      "cost diff: 0.0014750122193714077, new solution worse\n",
      "accepting worse solution\n",
      "current temp: 5\n",
      "using neighbor:\n",
      "[16.640167088813865, 171.25561753130762, 0.8909283147770399, 0.3852957123336081]\n",
      "[16.640167088813865, 171.25561753130762, 0.8909283147770399, 0.3852957123336081]\n",
      "cost diff: -0.0038821732635833106, new solution better\n",
      "current temp: 4\n",
      "using neighbor:\n",
      "[17.003993801101036, 171.25561753130762, 0.8515303573546389, 0.3852957123336081]\n",
      "[17.003993801101036, 171.25561753130762, 0.8515303573546389, 0.3852957123336081]\n"
     ]
    },
    {
     "name": "stdout",
     "output_type": "stream",
     "text": [
      "cost diff: 0.012140024273350258, new solution worse\n",
      "accepting worse solution\n",
      "current temp: 3\n",
      "using neighbor:\n",
      "[17.003993801101036, 160.51506008882347, 0.8515303573546389, 0.3852957123336081]\n",
      "[17.003993801101036, 160.51506008882347, 0.8515303573546389, 0.3852957123336081]\n",
      "cost diff: -0.010445703090866343, new solution better\n",
      "current temp: 2\n",
      "using neighbor:\n",
      "[17.003993801101036, 160.51506008882347, 0.8515303573546389, 0.3401930270597509]\n",
      "[17.003993801101036, 160.51506008882347, 0.8515303573546389, 0.3401930270597509]\n",
      "cost diff: 0.012675962763059156, new solution worse\n",
      "accepting worse solution\n",
      "current temp: 1\n",
      "using neighbor:\n",
      "[17.003993801101036, 160.51506008882347, 0.8887005651235037, 0.3401930270597509]\n",
      "[17.003993801101036, 160.51506008882347, 0.8887005651235037, 0.3401930270597509]\n",
      "cost diff: -0.03519908319058618, new solution better\n"
     ]
    }
   ],
   "source": [
    "while current_temp > final_temp:\n",
    "    print(\"current temp: {}\".format(current_temp))\n",
    "    eta = \n",
    "    # Get a new neighbor that is different from current state\n",
    "    neighbor = get_neighbor(current_state, 20, .25, lower_bounds, upper_bounds)\n",
    "    while neighbor == current_state:\n",
    "        neighbor = get_neighbor(current_state, 20, .25, lower_bounds, upper_bounds)\n",
    "    print(\"using neighbor:\")\n",
    "    print(neighbor)\n",
    "    \n",
    "    # Check if neighbor is best so far\n",
    "    model, neighbor_cost = get_cost(neighbor)\n",
    "    cost_diff = current_cost - neighbor_cost\n",
    "\n",
    "    # if the new solution is better (higher coherence), accept it\n",
    "    if cost_diff < 0:\n",
    "        current_state = neighbor\n",
    "        current_cost = neighbor_cost\n",
    "        save_model(model)\n",
    "        print(\"cost diff: {}, new solution better\".format(cost_diff))\n",
    "\n",
    "    # if the new solution is not better (lower coherence), accept it with a\n",
    "    # probability of e^(-cost/temp)\n",
    "    else:\n",
    "        print(\"cost diff: {}, new solution worse\".format(cost_diff))\n",
    "        if random.uniform(0, 1) < math.exp(-cost_diff / current_temp):\n",
    "            current_state = neighbor\n",
    "            current_cost = neighbor_cost\n",
    "            save_model(model)\n",
    "            print(\"accepting worse solution\")\n",
    "\n",
    "    # decrement the temperature (uses a linear cooling schedule)\n",
    "    current_temp -= delta"
   ]
  }
 ],
 "metadata": {
  "kernelspec": {
   "display_name": "Python 3",
   "language": "python",
   "name": "python3"
  },
  "language_info": {
   "codemirror_mode": {
    "name": "ipython",
    "version": 3
   },
   "file_extension": ".py",
   "mimetype": "text/x-python",
   "name": "python",
   "nbconvert_exporter": "python",
   "pygments_lexer": "ipython3",
   "version": "3.8.5"
  }
 },
 "nbformat": 4,
 "nbformat_minor": 4
}
