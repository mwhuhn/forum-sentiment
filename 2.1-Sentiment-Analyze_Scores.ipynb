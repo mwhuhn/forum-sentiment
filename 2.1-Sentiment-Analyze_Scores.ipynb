{
 "cells": [
  {
   "cell_type": "markdown",
   "metadata": {},
   "source": [
    "# Analyze Sentiment for Forum Data\n",
    "This notebook loads the sentiment data and explores results\n",
    "\n",
    "## Data Sources\n",
    "- youbemom-merged.db (with sentiment scores from 2.0-Sentiment-Create_Scores.ipynb)\n",
    "\n",
    "## Changes\n",
    "- 2020-12-13: Created\n",
    "\n",
    "## Database Structure\n",
    "- threads\n",
    " - id: automatically assigned\n",
    " - url: url of top post\n",
    " - subforum: subforum of post\n",
    " - dne: post does not exist\n",
    "- posts\n",
    " - id: automatically assigned\n",
    " - family_id: thread->id\n",
    " - message_id: the unique id of the message from the html\n",
    " - parent_id: id of post this post is responding to, 0 if top post\n",
    " - date_recorded: date the data is fetched\n",
    " - date_created: date the data was created\n",
    " - title: title of the post\n",
    " - body: body of the post\n",
    " - subforum: subforum of post\n",
    " - deleted: has post been deleted\n",
    "\n",
    "## TODO\n",
    "- Does python have a regression function for continuous dependent variables between 0 and 1 or will I have to use R/Stata for a fractional regression model?\n",
    "- Set up functions for the plots so I can plug in the variable I want to see\n",
    "- Does sentiment differ between parents and children in threads?\n",
    " - Is sentiment more negative after negative posts? More positive after positive posts?\n",
    "- Is there a time-dependent function here?\n",
    " - Seasonality?\n",
    " - Does tweaking the time period cutoffs affect the significance?\n",
    "- Frequency distribution of words\n",
    "- Robustness checks of different samples"
   ]
  },
  {
   "cell_type": "markdown",
   "metadata": {},
   "source": [
    "## Imports"
   ]
  },
  {
   "cell_type": "code",
   "execution_count": 1,
   "metadata": {},
   "outputs": [],
   "source": [
    "import sqlite3\n",
    "import pandas as pd\n",
    "import numpy as np\n",
    "from vaderSentiment.vaderSentiment import SentimentIntensityAnalyzer\n",
    "from scipy.stats import ttest_ind, kde\n",
    "from datetime import datetime\n",
    "# from nltk.probability import FreqDist\n",
    "from nltk.tokenize import RegexpTokenizer #, word_tokenize\n",
    "from nltk.corpus import stopwords\n",
    "import string\n",
    "import re\n",
    "from pathlib import Path\n",
    "import matplotlib.pyplot as plt\n",
    "import math\n",
    "from statsmodels.formula.api  import ols\n",
    "from youbemom import create_connection"
   ]
  },
  {
   "cell_type": "markdown",
   "metadata": {},
   "source": [
    "## Functions"
   ]
  },
  {
   "cell_type": "code",
   "execution_count": 46,
   "metadata": {},
   "outputs": [],
   "source": [
    "def ttest_sentiment(df, v):\n",
    "    \"\"\" run a t-test on the sentiment scores for\n",
    "        before and during the pandemic\n",
    "    :param df: data frame\n",
    "    :param v: the variable name to t-test on\n",
    "    :return: nothing, prints ttest results\n",
    "    \"\"\"\n",
    "    group_before = df.where(df['before'])[v].dropna()\n",
    "    group_during = df.where(df['during'])[v].dropna()\n",
    "    result = ttest_ind(group_before, group_during, equal_var=False, nan_policy=\"omit\")\n",
    "    print('\\n')\n",
    "    l = len(v)\n",
    "    print(' '*(l - 8) + 'variable    before    during statistic    pvalue')\n",
    "    print(v + '  {:1.6f}  {:1.6f} {:+1.6f}  {:1.6f}'.format(group_before.mean(), group_during.mean(), result.statistic, result.pvalue))"
   ]
  },
  {
   "cell_type": "code",
   "execution_count": 53,
   "metadata": {},
   "outputs": [],
   "source": [
    "def format_data(df):\n",
    "    \"\"\" format the data frame from sql so dates are in\n",
    "        datetime format and booleans are bools not ints\n",
    "    :param df: data frame\n",
    "    :return df: formatted data frame\n",
    "    \"\"\"\n",
    "    df['date_recorded'] = pd.to_datetime(df['date_recorded'])\n",
    "    df['date_created'] = pd.to_datetime(df['date_created'])\n",
    "    df['is_parent'] = df['is_parent'] == 1\n",
    "    df['deleted'] = df['deleted'] == 1\n",
    "    df['before'] = df['before'] == 1\n",
    "    df['during'] = df['during'] == 1\n",
    "    df['march'] = df['march'] == 1\n",
    "    return df"
   ]
  },
  {
   "cell_type": "code",
   "execution_count": 72,
   "metadata": {},
   "outputs": [],
   "source": [
    "def compare_parent_child(df):\n",
    "    parents = df[df[\"is_parent\"]]\n",
    "    parents = parents[[\"family_id\",\"neg_sentiment\",\"pos_sentiment\",\"compound_sentiment\"]]\n",
    "    children = df[~df[\"is_parent\"]]\n",
    "    children = children[[\"family_id\",\"neg_sentiment\",\"pos_sentiment\",\"compound_sentiment\"]]\n",
    "    children_ave = children.groupby(\"family_id\", as_index=False).mean()\n",
    "    compare = pd.merge(left=parents, right=children_ave, on=\"family_id\", how=\"inner\", suffixes=['_p','_c'])\n",
    "    compare['pos_diff'] = compare['pos_sentiment_p'] - compare['pos_sentiment_c']\n",
    "    compare['neg_diff'] = compare['neg_sentiment_p'] - compare['neg_sentiment_c']\n",
    "    compare['compound_diff'] = compare['compound_sentiment_p'] - compare['compound_sentiment_c']\n",
    "    return compare"
   ]
  },
  {
   "cell_type": "code",
   "execution_count": 101,
   "metadata": {},
   "outputs": [],
   "source": [
    "def seasonality(df, name, var):\n",
    "    grouping_ave = df.groupby([var])['compound_sentiment'].mean()\n",
    "    path_sen = path_parent / \"clean_data\" / \"sentiment_{0}_{1}.csv\".format(name, var)\n",
    "    path_sen = str(path_sen)\n",
    "    grouping_ave.to_csv(path_sen)\n",
    "    print(grouping_ave)"
   ]
  },
  {
   "cell_type": "markdown",
   "metadata": {},
   "source": [
    "## File Locations"
   ]
  },
  {
   "cell_type": "code",
   "execution_count": 3,
   "metadata": {},
   "outputs": [],
   "source": [
    "p = Path.cwd()\n",
    "path_parent = p.parents[0]"
   ]
  },
  {
   "cell_type": "code",
   "execution_count": 4,
   "metadata": {},
   "outputs": [],
   "source": [
    "path_db = path_parent / \"database\" / \"youbemom-merged.db\"\n",
    "path_db = str(path_db)"
   ]
  },
  {
   "cell_type": "markdown",
   "metadata": {},
   "source": [
    "## Load Data\n",
    "Counts of posts in each subforum"
   ]
  },
  {
   "cell_type": "code",
   "execution_count": 5,
   "metadata": {},
   "outputs": [],
   "source": [
    "counts_sql = '''\n",
    "    SELECT subforum, COUNT(family_id), MIN(date_created), MAX(date_created)\n",
    "    FROM posts\n",
    "    GROUP BY subforum\n",
    "'''"
   ]
  },
  {
   "cell_type": "code",
   "execution_count": 6,
   "metadata": {},
   "outputs": [],
   "source": [
    "conn = sqlite3.connect(path_db)\n",
    "counts = pd.read_sql_query(counts_sql, conn)"
   ]
  },
  {
   "cell_type": "code",
   "execution_count": 8,
   "metadata": {},
   "outputs": [
    {
     "data": {
      "text/html": [
       "<div>\n",
       "<style scoped>\n",
       "    .dataframe tbody tr th:only-of-type {\n",
       "        vertical-align: middle;\n",
       "    }\n",
       "\n",
       "    .dataframe tbody tr th {\n",
       "        vertical-align: top;\n",
       "    }\n",
       "\n",
       "    .dataframe thead th {\n",
       "        text-align: right;\n",
       "    }\n",
       "</style>\n",
       "<table border=\"1\" class=\"dataframe\">\n",
       "  <thead>\n",
       "    <tr style=\"text-align: right;\">\n",
       "      <th></th>\n",
       "      <th>subforum</th>\n",
       "      <th>COUNT(family_id)</th>\n",
       "      <th>MIN(date_created)</th>\n",
       "      <th>MAX(date_created)</th>\n",
       "    </tr>\n",
       "  </thead>\n",
       "  <tbody>\n",
       "    <tr>\n",
       "      <th>0</th>\n",
       "      <td>boston</td>\n",
       "      <td>230</td>\n",
       "      <td>2018-01-27 17:21:00</td>\n",
       "      <td>2020-11-23 00:23:00</td>\n",
       "    </tr>\n",
       "    <tr>\n",
       "      <th>1</th>\n",
       "      <td>chicago</td>\n",
       "      <td>193</td>\n",
       "      <td>2018-03-05 14:40:00</td>\n",
       "      <td>2020-12-08 13:50:30</td>\n",
       "    </tr>\n",
       "    <tr>\n",
       "      <th>2</th>\n",
       "      <td>elementary</td>\n",
       "      <td>3543</td>\n",
       "      <td>2013-12-05 21:43:00</td>\n",
       "      <td>2020-11-30 20:52:00</td>\n",
       "    </tr>\n",
       "    <tr>\n",
       "      <th>3</th>\n",
       "      <td>expecting</td>\n",
       "      <td>872</td>\n",
       "      <td>2018-01-24 02:43:00</td>\n",
       "      <td>2020-11-23 21:01:00</td>\n",
       "    </tr>\n",
       "    <tr>\n",
       "      <th>4</th>\n",
       "      <td>los-angeles</td>\n",
       "      <td>263</td>\n",
       "      <td>2018-01-09 20:58:00</td>\n",
       "      <td>2020-12-02 02:07:00</td>\n",
       "    </tr>\n",
       "    <tr>\n",
       "      <th>5</th>\n",
       "      <td>new-york-city</td>\n",
       "      <td>6297</td>\n",
       "      <td>2018-01-07 11:37:00</td>\n",
       "      <td>2020-11-28 03:45:00</td>\n",
       "    </tr>\n",
       "    <tr>\n",
       "      <th>6</th>\n",
       "      <td>newborn</td>\n",
       "      <td>2036</td>\n",
       "      <td>2013-11-06 20:55:00</td>\n",
       "      <td>2020-11-29 23:39:00</td>\n",
       "    </tr>\n",
       "    <tr>\n",
       "      <th>7</th>\n",
       "      <td>nyc-schools</td>\n",
       "      <td>2211</td>\n",
       "      <td>2018-01-01 16:03:00</td>\n",
       "      <td>2020-12-04 16:49:00</td>\n",
       "    </tr>\n",
       "    <tr>\n",
       "      <th>8</th>\n",
       "      <td>preschool</td>\n",
       "      <td>3000</td>\n",
       "      <td>2013-12-10 03:58:00</td>\n",
       "      <td>2020-11-23 14:34:00</td>\n",
       "    </tr>\n",
       "    <tr>\n",
       "      <th>9</th>\n",
       "      <td>single-parents</td>\n",
       "      <td>337</td>\n",
       "      <td>2018-02-07 11:29:00</td>\n",
       "      <td>2020-11-23 16:22:00</td>\n",
       "    </tr>\n",
       "    <tr>\n",
       "      <th>10</th>\n",
       "      <td>special-needs</td>\n",
       "      <td>269902</td>\n",
       "      <td>2014-02-10 18:13:00</td>\n",
       "      <td>2020-12-08 00:35:33</td>\n",
       "    </tr>\n",
       "    <tr>\n",
       "      <th>11</th>\n",
       "      <td>toddler</td>\n",
       "      <td>16399476</td>\n",
       "      <td>2018-01-01 00:00:00</td>\n",
       "      <td>2020-12-07 20:16:15</td>\n",
       "    </tr>\n",
       "    <tr>\n",
       "      <th>12</th>\n",
       "      <td>ttc</td>\n",
       "      <td>616</td>\n",
       "      <td>2018-01-20 13:21:00</td>\n",
       "      <td>2020-11-23 05:23:00</td>\n",
       "    </tr>\n",
       "    <tr>\n",
       "      <th>13</th>\n",
       "      <td>tween-teen</td>\n",
       "      <td>6455</td>\n",
       "      <td>2013-12-30 16:23:00</td>\n",
       "      <td>2020-12-06 23:33:00</td>\n",
       "    </tr>\n",
       "    <tr>\n",
       "      <th>14</th>\n",
       "      <td>weight-watchers</td>\n",
       "      <td>276</td>\n",
       "      <td>2018-01-22 03:46:00</td>\n",
       "      <td>2020-11-29 17:29:00</td>\n",
       "    </tr>\n",
       "    <tr>\n",
       "      <th>15</th>\n",
       "      <td>ybm-feedback</td>\n",
       "      <td>343</td>\n",
       "      <td>2018-01-21 19:35:00</td>\n",
       "      <td>2020-11-23 08:52:00</td>\n",
       "    </tr>\n",
       "  </tbody>\n",
       "</table>\n",
       "</div>"
      ],
      "text/plain": [
       "           subforum  COUNT(family_id)    MIN(date_created)  \\\n",
       "0            boston               230  2018-01-27 17:21:00   \n",
       "1           chicago               193  2018-03-05 14:40:00   \n",
       "2        elementary              3543  2013-12-05 21:43:00   \n",
       "3         expecting               872  2018-01-24 02:43:00   \n",
       "4       los-angeles               263  2018-01-09 20:58:00   \n",
       "5     new-york-city              6297  2018-01-07 11:37:00   \n",
       "6           newborn              2036  2013-11-06 20:55:00   \n",
       "7       nyc-schools              2211  2018-01-01 16:03:00   \n",
       "8         preschool              3000  2013-12-10 03:58:00   \n",
       "9    single-parents               337  2018-02-07 11:29:00   \n",
       "10    special-needs            269902  2014-02-10 18:13:00   \n",
       "11          toddler          16399476  2018-01-01 00:00:00   \n",
       "12              ttc               616  2018-01-20 13:21:00   \n",
       "13       tween-teen              6455  2013-12-30 16:23:00   \n",
       "14  weight-watchers               276  2018-01-22 03:46:00   \n",
       "15     ybm-feedback               343  2018-01-21 19:35:00   \n",
       "\n",
       "      MAX(date_created)  \n",
       "0   2020-11-23 00:23:00  \n",
       "1   2020-12-08 13:50:30  \n",
       "2   2020-11-30 20:52:00  \n",
       "3   2020-11-23 21:01:00  \n",
       "4   2020-12-02 02:07:00  \n",
       "5   2020-11-28 03:45:00  \n",
       "6   2020-11-29 23:39:00  \n",
       "7   2020-12-04 16:49:00  \n",
       "8   2020-11-23 14:34:00  \n",
       "9   2020-11-23 16:22:00  \n",
       "10  2020-12-08 00:35:33  \n",
       "11  2020-12-07 20:16:15  \n",
       "12  2020-11-23 05:23:00  \n",
       "13  2020-12-06 23:33:00  \n",
       "14  2020-11-29 17:29:00  \n",
       "15  2020-11-23 08:52:00  "
      ]
     },
     "execution_count": 8,
     "metadata": {},
     "output_type": "execute_result"
    }
   ],
   "source": [
    "counts.head(16)"
   ]
  },
  {
   "cell_type": "markdown",
   "metadata": {},
   "source": [
    "Special needs subforum"
   ]
  },
  {
   "cell_type": "code",
   "execution_count": 9,
   "metadata": {},
   "outputs": [],
   "source": [
    "sn_sql = ''' SELECT * FROM posts WHERE subforum=\"special-needs\" '''"
   ]
  },
  {
   "cell_type": "code",
   "execution_count": 81,
   "metadata": {},
   "outputs": [],
   "source": [
    "sn = pd.read_sql_query(sn_sql, conn)"
   ]
  },
  {
   "cell_type": "code",
   "execution_count": 82,
   "metadata": {},
   "outputs": [],
   "source": [
    "sn = format_data(sn)"
   ]
  },
  {
   "cell_type": "markdown",
   "metadata": {},
   "source": [
    "Toddler subforum: generate a 10% sample of family_ids to make processing easier"
   ]
  },
  {
   "cell_type": "code",
   "execution_count": 12,
   "metadata": {},
   "outputs": [],
   "source": [
    "td_ids_sql = ''' SELECT family_id FROM threads WHERE subforum=\"toddler\" '''"
   ]
  },
  {
   "cell_type": "code",
   "execution_count": 13,
   "metadata": {},
   "outputs": [],
   "source": [
    "td_ids = pd.read_sql_query(td_ids_sql, conn)"
   ]
  },
  {
   "cell_type": "code",
   "execution_count": 15,
   "metadata": {},
   "outputs": [],
   "source": [
    "id_10per_sample = td_ids.sample(frac = 0.1, random_state = 281)"
   ]
  },
  {
   "cell_type": "code",
   "execution_count": 17,
   "metadata": {},
   "outputs": [],
   "source": [
    "temp_table_sql = ''' CREATE TEMPORARY TABLE temp(id INTEGER NOT NULL PRIMARY KEY AUTOINCREMENT UNIQUE, family_id INTEGER); '''"
   ]
  },
  {
   "cell_type": "code",
   "execution_count": 18,
   "metadata": {},
   "outputs": [
    {
     "data": {
      "text/plain": [
       "<sqlite3.Cursor at 0x7fb44135ba40>"
      ]
     },
     "execution_count": 18,
     "metadata": {},
     "output_type": "execute_result"
    }
   ],
   "source": [
    "cur = conn.cursor()\n",
    "cur.execute(temp_table_sql)"
   ]
  },
  {
   "cell_type": "code",
   "execution_count": 19,
   "metadata": {},
   "outputs": [],
   "source": [
    "id_10per_sample.to_sql('temp', conn, if_exists='append', index=False)"
   ]
  },
  {
   "cell_type": "code",
   "execution_count": 20,
   "metadata": {},
   "outputs": [],
   "source": [
    "td_sql = ''' \n",
    "    SELECT * \n",
    "    FROM posts \n",
    "    WHERE subforum=\"toddler\" \n",
    "        AND family_id IN (SELECT family_id FROM temp)\n",
    "'''"
   ]
  },
  {
   "cell_type": "code",
   "execution_count": 83,
   "metadata": {},
   "outputs": [],
   "source": [
    "td = pd.read_sql_query(td_sql, conn)"
   ]
  },
  {
   "cell_type": "code",
   "execution_count": 84,
   "metadata": {},
   "outputs": [],
   "source": [
    "td = format_data(td)"
   ]
  },
  {
   "cell_type": "markdown",
   "metadata": {},
   "source": [
    "## Compare Sentiment"
   ]
  },
  {
   "cell_type": "markdown",
   "metadata": {},
   "source": [
    "### 1. Subsets in correct date range: 2018-01-01 to 2020-11-30"
   ]
  },
  {
   "cell_type": "code",
   "execution_count": 85,
   "metadata": {},
   "outputs": [],
   "source": [
    "mask = (td['date_created'] >= pd.Timestamp(2018, 1, 1, 0, 0, 0)) & (td['date_created'] < pd.Timestamp(2020, 12, 1, 0, 0, 0))\n",
    "td_sub = td.loc[mask]"
   ]
  },
  {
   "cell_type": "code",
   "execution_count": 86,
   "metadata": {},
   "outputs": [],
   "source": [
    "mask = (sn['date_created'] >= pd.Timestamp(2018, 1, 1, 0, 0, 0)) & (sn['date_created'] < pd.Timestamp(2020, 12, 1, 0, 0, 0))\n",
    "sn_sub = sn.loc[mask]"
   ]
  },
  {
   "cell_type": "markdown",
   "metadata": {},
   "source": [
    "### 2. Comparing sentiment before and during pandemic with a t-test"
   ]
  },
  {
   "cell_type": "code",
   "execution_count": 61,
   "metadata": {
    "scrolled": true
   },
   "outputs": [
    {
     "name": "stdout",
     "output_type": "stream",
     "text": [
      "\n",
      "GROUP\n",
      "\n",
      "\n",
      "\n",
      "     variable    before    during statistic    pvalue\n",
      "neg_sentiment  0.065994  0.070662 -2.666893  0.007673\n",
      "\n",
      "\n",
      "     variable    before    during statistic    pvalue\n",
      "neu_sentiment  0.782411  0.767375 +4.311199  0.000016\n",
      "\n",
      "\n",
      "     variable    before    during statistic    pvalue\n",
      "pos_sentiment  0.118489  0.116065 +1.041510  0.297674\n",
      "\n",
      "\n",
      "          variable    before    during statistic    pvalue\n",
      "compound_sentiment  0.125809  0.111455 +2.330966  0.019783\n",
      "\n",
      "GROUP\n",
      "\n",
      "\n",
      "\n",
      "     variable    before    during statistic    pvalue\n",
      "neg_sentiment  0.087440  0.088576 -3.806125  0.000141\n",
      "\n",
      "\n",
      "     variable    before    during statistic    pvalue\n",
      "neu_sentiment  0.772217  0.769809 +5.174986  0.000000\n",
      "\n",
      "\n",
      "     variable    before    during statistic    pvalue\n",
      "pos_sentiment  0.124902  0.119395 +15.393640  0.000000\n",
      "\n",
      "\n",
      "          variable    before    during statistic    pvalue\n",
      "compound_sentiment  0.056082  0.041731 +20.995239  0.000000\n"
     ]
    }
   ],
   "source": [
    "for df in [sn_sub, td_sub]:\n",
    "    print(\"\\nGROUP\\n\")\n",
    "    ttest_sentiment(df, 'neg_sentiment')\n",
    "    ttest_sentiment(df, 'neu_sentiment')\n",
    "    ttest_sentiment(df, 'pos_sentiment')\n",
    "    ttest_sentiment(df, 'compound_sentiment')"
   ]
  },
  {
   "cell_type": "code",
   "execution_count": 96,
   "metadata": {},
   "outputs": [
    {
     "data": {
      "image/png": "[encoded data removed]",
      "text/plain": [
       "<Figure size 432x288 with 1 Axes>"
      ]
     },
     "metadata": {
      "needs_background": "light"
     },
     "output_type": "display_data"
    },
    {
     "data": {
      "image/png": "[encoded data removed]",
      "text/plain": [
       "<Figure size 432x288 with 1 Axes>"
      ]
     },
     "metadata": {
      "needs_background": "light"
     },
     "output_type": "display_data"
    }
   ],
   "source": [
    "for df in [sn_sub, td_sub]:\n",
    "    fig, ax = plt.subplots()\n",
    "    width = 0.35\n",
    "    sentiments = ['Negative', 'Positive']\n",
    "    x_pos = np.arange(len(sentiments))\n",
    "\n",
    "    before_mean = [df[\"neg_sentiment\"][df['before']].mean(),\n",
    "                   df[\"pos_sentiment\"][df['before']].mean()]\n",
    "    before_se = [df[\"neg_sentiment\"][df['before']].std()/math.sqrt(len(df[\"neg_sentiment\"][df['before']])),\n",
    "                 df[\"pos_sentiment\"][df['before']].std()/math.sqrt(len(df[\"pos_sentiment\"][df['before']]))]\n",
    "    during_mean = [df[\"neg_sentiment\"][df['during']].mean(),\n",
    "                   df[\"pos_sentiment\"][df['during']].mean()]\n",
    "    during_se = [df[\"neg_sentiment\"][df['during']].std()/math.sqrt(len(df[\"neg_sentiment\"][df['during']])),\n",
    "                 df[\"pos_sentiment\"][df['during']].std()/math.sqrt(len(df[\"pos_sentiment\"][df['during']]))]\n",
    "\n",
    "    rects_before = ax.bar(x_pos - width/2, before_mean, width, yerr=before_se,\n",
    "                    label='Before', capsize=5, color=\"cornflowerblue\")\n",
    "    rects_during = ax.bar(x_pos + width/2, during_mean, width, yerr=during_se,\n",
    "                    label='During', capsize=5, color=\"indianred\")\n",
    "\n",
    "    # Add some text for labels, title and custom x-axis tick labels, etc.\n",
    "    ax.set_ylabel('Average Sentiment Score\\n(normalized 0 to 1)')\n",
    "    ax.set_title('Comparison of Sentiment Scores')\n",
    "    ax.set_xticks(x_pos)\n",
    "    ax.set_xticklabels(sentiments)\n",
    "    ax.legend()\n",
    "    fig.tight_layout()\n",
    "#     plt.savefig('../plots/sentiment_neg_pos.png')\n",
    "    plt.show()"
   ]
  },
  {
   "cell_type": "markdown",
   "metadata": {},
   "source": [
    "### 3. Comparing sentiment of parent and child posts"
   ]
  },
  {
   "cell_type": "code",
   "execution_count": 73,
   "metadata": {
    "scrolled": false
   },
   "outputs": [
    {
     "name": "stdout",
     "output_type": "stream",
     "text": [
      "\n",
      "GROUP\n",
      "\n",
      "                            OLS Regression Results                            \n",
      "==============================================================================\n",
      "Dep. Variable:        pos_sentiment_c   R-squared:                       0.022\n",
      "Model:                            OLS   Adj. R-squared:                  0.022\n",
      "Method:                 Least Squares   F-statistic:                     106.9\n",
      "Date:                Sun, 13 Dec 2020   Prob (F-statistic):           8.71e-25\n",
      "Time:                        15:40:36   Log-Likelihood:                 3951.0\n",
      "No. Observations:                4753   AIC:                            -7898.\n",
      "Df Residuals:                    4751   BIC:                            -7885.\n",
      "Df Model:                           1                                         \n",
      "Covariance Type:            nonrobust                                         \n",
      "===================================================================================\n",
      "                      coef    std err          t      P>|t|      [0.025      0.975]\n",
      "-----------------------------------------------------------------------------------\n",
      "Intercept           0.1124      0.002     52.770      0.000       0.108       0.117\n",
      "pos_sentiment_p     0.1696      0.016     10.338      0.000       0.137       0.202\n",
      "==============================================================================\n",
      "Omnibus:                     2940.812   Durbin-Watson:                   2.046\n",
      "Prob(Omnibus):                  0.000   Jarque-Bera (JB):            44579.545\n",
      "Skew:                           2.704   Prob(JB):                         0.00\n",
      "Kurtosis:                      16.995   Cond. No.                         10.8\n",
      "==============================================================================\n",
      "\n",
      "Notes:\n",
      "[1] Standard Errors assume that the covariance matrix of the errors is correctly specified.\n",
      "                            OLS Regression Results                            \n",
      "==============================================================================\n",
      "Dep. Variable:        neg_sentiment_c   R-squared:                       0.048\n",
      "Model:                            OLS   Adj. R-squared:                  0.047\n",
      "Method:                 Least Squares   F-statistic:                     237.2\n",
      "Date:                Sun, 13 Dec 2020   Prob (F-statistic):           2.89e-52\n",
      "Time:                        15:40:36   Log-Likelihood:                 6499.0\n",
      "No. Observations:                4753   AIC:                        -1.299e+04\n",
      "Df Residuals:                    4751   BIC:                        -1.298e+04\n",
      "Df Model:                           1                                         \n",
      "Covariance Type:            nonrobust                                         \n",
      "===================================================================================\n",
      "                      coef    std err          t      P>|t|      [0.025      0.975]\n",
      "-----------------------------------------------------------------------------------\n",
      "Intercept           0.0490      0.001     41.685      0.000       0.047       0.051\n",
      "neg_sentiment_p     0.1699      0.011     15.401      0.000       0.148       0.192\n",
      "==============================================================================\n",
      "Omnibus:                     3841.353   Durbin-Watson:                   1.978\n",
      "Prob(Omnibus):                  0.000   Jarque-Bera (JB):           177629.448\n",
      "Skew:                           3.514   Prob(JB):                         0.00\n",
      "Kurtosis:                      32.113   Cond. No.                         12.4\n",
      "==============================================================================\n",
      "\n",
      "Notes:\n",
      "[1] Standard Errors assume that the covariance matrix of the errors is correctly specified.\n",
      "                             OLS Regression Results                             \n",
      "================================================================================\n",
      "Dep. Variable:     compound_sentiment_c   R-squared:                       0.048\n",
      "Model:                              OLS   Adj. R-squared:                  0.048\n",
      "Method:                   Least Squares   F-statistic:                     239.1\n",
      "Date:                  Sun, 13 Dec 2020   Prob (F-statistic):           1.17e-52\n",
      "Time:                          15:40:36   Log-Likelihood:                 467.34\n",
      "No. Observations:                  4753   AIC:                            -930.7\n",
      "Df Residuals:                      4751   BIC:                            -917.7\n",
      "Df Model:                             1                                         \n",
      "Covariance Type:              nonrobust                                         \n",
      "========================================================================================\n",
      "                           coef    std err          t      P>|t|      [0.025      0.975]\n",
      "----------------------------------------------------------------------------------------\n",
      "Intercept                0.1405      0.003     43.703      0.000       0.134       0.147\n",
      "compound_sentiment_p     0.0875      0.006     15.463      0.000       0.076       0.099\n",
      "==============================================================================\n",
      "Omnibus:                      186.241   Durbin-Watson:                   2.004\n",
      "Prob(Omnibus):                  0.000   Jarque-Bera (JB):              543.894\n",
      "Skew:                           0.103   Prob(JB):                    7.85e-119\n",
      "Kurtosis:                       4.644   Cond. No.                         1.80\n",
      "==============================================================================\n",
      "\n",
      "Notes:\n",
      "[1] Standard Errors assume that the covariance matrix of the errors is correctly specified.\n",
      "\n",
      "GROUP\n",
      "\n",
      "                            OLS Regression Results                            \n",
      "==============================================================================\n",
      "Dep. Variable:        pos_sentiment_c   R-squared:                       0.012\n",
      "Model:                            OLS   Adj. R-squared:                  0.012\n",
      "Method:                 Least Squares   F-statistic:                     1574.\n",
      "Date:                Sun, 13 Dec 2020   Prob (F-statistic):               0.00\n",
      "Time:                        15:40:37   Log-Likelihood:                 83309.\n",
      "No. Observations:              134471   AIC:                        -1.666e+05\n",
      "Df Residuals:                  134469   BIC:                        -1.666e+05\n",
      "Df Model:                           1                                         \n",
      "Covariance Type:            nonrobust                                         \n",
      "===================================================================================\n",
      "                      coef    std err          t      P>|t|      [0.025      0.975]\n",
      "-----------------------------------------------------------------------------------\n",
      "Intercept           0.1237      0.000    279.508      0.000       0.123       0.125\n",
      "pos_sentiment_p     0.1143      0.003     39.670      0.000       0.109       0.120\n",
      "==============================================================================\n",
      "Omnibus:                    73795.389   Durbin-Watson:                   1.995\n",
      "Prob(Omnibus):                  0.000   Jarque-Bera (JB):           740285.829\n",
      "Skew:                           2.476   Prob(JB):                         0.00\n",
      "Kurtosis:                      13.373   Cond. No.                         8.18\n",
      "==============================================================================\n",
      "\n",
      "Notes:\n",
      "[1] Standard Errors assume that the covariance matrix of the errors is correctly specified.\n",
      "                            OLS Regression Results                            \n",
      "==============================================================================\n",
      "Dep. Variable:        neg_sentiment_c   R-squared:                       0.020\n",
      "Model:                            OLS   Adj. R-squared:                  0.020\n",
      "Method:                 Least Squares   F-statistic:                     2677.\n",
      "Date:                Sun, 13 Dec 2020   Prob (F-statistic):               0.00\n",
      "Time:                        15:40:37   Log-Likelihood:             1.1676e+05\n",
      "No. Observations:              134471   AIC:                        -2.335e+05\n",
      "Df Residuals:                  134469   BIC:                        -2.335e+05\n",
      "Df Model:                           1                                         \n",
      "Covariance Type:            nonrobust                                         \n",
      "===================================================================================\n",
      "                      coef    std err          t      P>|t|      [0.025      0.975]\n",
      "-----------------------------------------------------------------------------------\n",
      "Intercept           0.0791      0.000    236.382      0.000       0.078       0.080\n",
      "neg_sentiment_p     0.1226      0.002     51.743      0.000       0.118       0.127\n",
      "==============================================================================\n",
      "Omnibus:                    90037.629   Durbin-Watson:                   1.991\n",
      "Prob(Omnibus):                  0.000   Jarque-Bera (JB):          1674515.806\n",
      "Skew:                           2.984   Prob(JB):                         0.00\n",
      "Kurtosis:                      19.225   Cond. No.                         8.61\n",
      "==============================================================================\n",
      "\n",
      "Notes:\n",
      "[1] Standard Errors assume that the covariance matrix of the errors is correctly specified.\n",
      "                             OLS Regression Results                             \n",
      "================================================================================\n",
      "Dep. Variable:     compound_sentiment_c   R-squared:                       0.038\n",
      "Model:                              OLS   Adj. R-squared:                  0.038\n",
      "Method:                   Least Squares   F-statistic:                     5336.\n",
      "Date:                  Sun, 13 Dec 2020   Prob (F-statistic):               0.00\n",
      "Time:                          15:40:37   Log-Likelihood:                 24152.\n",
      "No. Observations:                134471   AIC:                        -4.830e+04\n",
      "Df Residuals:                    134469   BIC:                        -4.828e+04\n",
      "Df Model:                             1                                         \n",
      "Covariance Type:              nonrobust                                         \n",
      "========================================================================================\n",
      "                           coef    std err          t      P>|t|      [0.025      0.975]\n",
      "----------------------------------------------------------------------------------------\n",
      "Intercept                0.0550      0.001     99.506      0.000       0.054       0.056\n",
      "compound_sentiment_p     0.0865      0.001     73.047      0.000       0.084       0.089\n",
      "==============================================================================\n",
      "Omnibus:                     7195.789   Durbin-Watson:                   1.984\n",
      "Prob(Omnibus):                  0.000   Jarque-Bera (JB):            29261.938\n",
      "Skew:                          -0.019   Prob(JB):                         0.00\n",
      "Kurtosis:                       5.285   Cond. No.                         2.15\n",
      "==============================================================================\n",
      "\n",
      "Notes:\n",
      "[1] Standard Errors assume that the covariance matrix of the errors is correctly specified.\n"
     ]
    }
   ],
   "source": [
    "for df in [sn_sub, td_sub]:\n",
    "    print(\"\\nGROUP\\n\")\n",
    "    compare = compare_parent_child(df)\n",
    "    est_pos = ols(formula = 'pos_sentiment_c ~ pos_sentiment_p', data = compare).fit()\n",
    "    print(est_pos.summary())\n",
    "    est_neg = ols(formula = 'neg_sentiment_c ~ neg_sentiment_p', data = compare).fit()\n",
    "    print(est_neg.summary())\n",
    "    est_compound = ols(formula = 'compound_sentiment_c ~ compound_sentiment_p', data = compare).fit()\n",
    "    print(est_compound.summary())"
   ]
  },
  {
   "cell_type": "markdown",
   "metadata": {},
   "source": [
    "So this suggests if a parent comment's negative sentiment increases, the children's negative sentiment will increase as well. Perhaps redo this analysis on each observation rather than the average children's sentiment."
   ]
  },
  {
   "cell_type": "markdown",
   "metadata": {},
   "source": [
    "### 4. Compare density of compound sentiment"
   ]
  },
  {
   "cell_type": "code",
   "execution_count": 75,
   "metadata": {
    "scrolled": false
   },
   "outputs": [
    {
     "data": {
      "image/png": "[encoded data removed]",
      "text/plain": [
       "<Figure size 432x288 with 1 Axes>"
      ]
     },
     "metadata": {
      "needs_background": "light"
     },
     "output_type": "display_data"
    },
    {
     "data": {
      "image/png": "[encoded data removed]",
      "text/plain": [
       "<Figure size 432x288 with 1 Axes>"
      ]
     },
     "metadata": {
      "needs_background": "light"
     },
     "output_type": "display_data"
    }
   ],
   "source": [
    "for df in [sn_sub, td_sub]:\n",
    "    density_before = kde.gaussian_kde(df[\"compound_sentiment\"][df['before']])\n",
    "    density_march = kde.gaussian_kde(df[\"compound_sentiment\"][df['march']])\n",
    "    density_during = kde.gaussian_kde(df[\"compound_sentiment\"][df['during']])\n",
    "    x = np.arange(-1.0, 1.0, 0.01)\n",
    "    plt.scatter(x, density_before(x), alpha=0.5, label=\"Before\")\n",
    "    plt.scatter(x, density_march(x), alpha=0.5, label=\"March\")\n",
    "    plt.scatter(x, density_during(x), alpha=0.5, label=\"During\")\n",
    "    plt.legend(loc=\"upper right\")\n",
    "    plt.show()"
   ]
  },
  {
   "cell_type": "code",
   "execution_count": 90,
   "metadata": {
    "scrolled": true
   },
   "outputs": [
    {
     "name": "stderr",
     "output_type": "stream",
     "text": [
      "<ipython-input-90-655d7c6293a4>:3: SettingWithCopyWarning: \n",
      "A value is trying to be set on a copy of a slice from a DataFrame.\n",
      "Try using .loc[row_indexer,col_indexer] = value instead\n",
      "\n",
      "See the caveats in the documentation: https://pandas.pydata.org/pandas-docs/stable/user_guide/indexing.html#returning-a-view-versus-a-copy\n",
      "  df['date'] = pd.to_datetime(df['date_created'], format=\"%Y-%m-%d\")\n"
     ]
    },
    {
     "name": "stdout",
     "output_type": "stream",
     "text": [
      "                      id     family_id   deleted  before  during  march  \\\n",
      "date                                                                      \n",
      "2020-10-18  1.477079e+07  1.371649e+06  0.000000   False    True  False   \n",
      "2020-09-05  1.402768e+07  1.299854e+06  0.000000   False    True  False   \n",
      "2020-06-18  1.264701e+07  1.169270e+06  0.000000   False    True  False   \n",
      "2020-08-15  1.361468e+07  1.259230e+06  0.000000   False    True  False   \n",
      "2020-08-02  1.340166e+07  1.239789e+06  0.000000   False    True  False   \n",
      "2020-11-20  1.527859e+07  1.424906e+06  0.000000   False    True  False   \n",
      "2020-08-13  1.361410e+07  1.259234e+06  0.000000   False    True  False   \n",
      "2020-10-01  1.446394e+07  1.340331e+06  0.000000   False    True  False   \n",
      "2020-06-29  1.279610e+07  1.183548e+06  0.333333   False    True  False   \n",
      "2020-05-08  1.188642e+07  1.095597e+06  0.000000   False    True  False   \n",
      "2020-06-20  1.265685e+07  1.170364e+06  0.000000   False    True  False   \n",
      "2020-10-11  1.466014e+07  1.361163e+06  0.000000   False    True  False   \n",
      "2020-11-26  1.543152e+07  1.440667e+06  0.222222   False    True  False   \n",
      "2020-10-24  1.491062e+07  1.385290e+06  0.000000   False    True  False   \n",
      "2020-11-13  1.528871e+07  1.427420e+06  0.000000   False    True  False   \n",
      "2020-05-27  1.225094e+07  1.131090e+06  0.111111   False    True  False   \n",
      "2020-06-03  1.238085e+07  1.144552e+06  0.000000   False    True  False   \n",
      "2020-09-13  1.323322e+07  1.220797e+06  0.000000   False    True  False   \n",
      "2020-04-09  1.108462e+07  1.017210e+06  0.000000   False    True  False   \n",
      "2020-04-12  1.119535e+07  1.028379e+06  0.000000   False    True  False   \n",
      "\n",
      "            is_parent  week_n  weekday_n  month_n  neg_sentiment  \\\n",
      "date                                                               \n",
      "2020-10-18   0.000000    42.0       18.0     10.0       0.000000   \n",
      "2020-09-05   0.000000    36.0        5.0      9.0       0.000000   \n",
      "2020-06-18   0.500000    25.0       18.0      6.0       0.022500   \n",
      "2020-08-15   0.000000    33.0       15.0      8.0       0.053000   \n",
      "2020-08-02   0.000000    31.0        2.0      8.0       0.041000   \n",
      "2020-11-20   0.200000    47.0       20.0     11.0       0.018000   \n",
      "2020-08-13   0.111111    33.0       13.0      8.0       0.037444   \n",
      "2020-10-01   0.031250    40.0        1.0     10.0       0.027906   \n",
      "2020-06-29   0.333333    27.0       29.0      6.0       0.017333   \n",
      "2020-05-08   0.200000    19.0        8.0      5.0       0.030400   \n",
      "2020-06-20   0.125000    25.0       20.0      6.0       0.020625   \n",
      "2020-10-11   1.000000    41.0       11.0     10.0       0.000000   \n",
      "2020-11-26   0.111111    48.0       26.0     11.0       0.063333   \n",
      "2020-10-24   0.200000    43.0       24.0     10.0       0.015800   \n",
      "2020-11-13   0.166667    46.0       13.0     11.0       0.017500   \n",
      "2020-05-27   0.037037    22.0       27.0      5.0       0.008074   \n",
      "2020-06-03   0.076923    23.0        3.0      6.0       0.015000   \n",
      "2020-09-13   0.000000    37.0       13.0      9.0       0.052600   \n",
      "2020-04-09   0.000000    15.0        9.0      4.0       0.035500   \n",
      "2020-04-12   0.000000    15.0       12.0      4.0       0.000000   \n",
      "\n",
      "            neu_sentiment  pos_sentiment  compound_sentiment  \n",
      "date                                                          \n",
      "2020-10-18       0.436000       0.564000            0.952400  \n",
      "2020-09-05       0.659000       0.341000            0.885600  \n",
      "2020-06-18       0.790000       0.187500            0.842700  \n",
      "2020-08-15       0.686667       0.260333            0.793867  \n",
      "2020-08-02       0.837500       0.121500            0.728100  \n",
      "2020-11-20       0.865200       0.116800            0.600260  \n",
      "2020-08-13       0.774222       0.188333            0.557500  \n",
      "2020-10-01       0.744844       0.227219            0.536153  \n",
      "2020-06-29       0.468667       0.181000            0.509533  \n",
      "2020-05-08       0.688200       0.281400            0.502220  \n",
      "2020-06-20       0.715125       0.264250            0.471487  \n",
      "2020-10-11       0.838000       0.162000            0.440400  \n",
      "2020-11-26       0.472111       0.242333            0.438167  \n",
      "2020-10-24       0.773600       0.210600            0.416080  \n",
      "2020-11-13       0.790667       0.192000            0.386733  \n",
      "2020-05-27       0.684000       0.196852            0.379419  \n",
      "2020-06-03       0.785615       0.199385            0.364108  \n",
      "2020-09-13       0.756000       0.191400            0.363360  \n",
      "2020-04-09       0.891000       0.073500            0.361350  \n",
      "2020-04-12       0.848000       0.152000            0.361200  \n"
     ]
    },
    {
     "data": {
      "image/png": "[encoded data removed]",
      "text/plain": [
       "<Figure size 432x288 with 1 Axes>"
      ]
     },
     "metadata": {
      "needs_background": "light"
     },
     "output_type": "display_data"
    },
    {
     "name": "stderr",
     "output_type": "stream",
     "text": [
      "<ipython-input-90-655d7c6293a4>:3: SettingWithCopyWarning: \n",
      "A value is trying to be set on a copy of a slice from a DataFrame.\n",
      "Try using .loc[row_indexer,col_indexer] = value instead\n",
      "\n",
      "See the caveats in the documentation: https://pandas.pydata.org/pandas-docs/stable/user_guide/indexing.html#returning-a-view-versus-a-copy\n",
      "  df['date'] = pd.to_datetime(df['date_created'], format=\"%Y-%m-%d\")\n"
     ]
    },
    {
     "name": "stdout",
     "output_type": "stream",
     "text": [
      "                      id     family_id   deleted  before  during  march  \\\n",
      "date                                                                      \n",
      "2020-09-04  1.402759e+07  1.299833e+06  0.027092   False    True  False   \n",
      "2020-09-20  1.427554e+07  1.322179e+06  0.024188   False    True  False   \n",
      "2020-09-25  1.436571e+07  1.330195e+06  0.013014   False    True  False   \n",
      "2020-09-09  1.410452e+07  1.306486e+06  0.024569   False    True  False   \n",
      "2020-10-18  1.479115e+07  1.373474e+06  0.030230   False    True  False   \n",
      "2020-07-12  1.306149e+07  1.207909e+06  0.041850   False    True  False   \n",
      "2020-08-09  1.356206e+07  1.254221e+06  0.031538   False    True  False   \n",
      "2020-04-26  1.163939e+07  1.071412e+06  0.012730   False    True  False   \n",
      "2020-11-14  1.534770e+07  1.432932e+06  0.022336   False    True  False   \n",
      "2020-11-21  1.548375e+07  1.445435e+06  0.045791   False    True  False   \n",
      "2020-06-17  1.263393e+07  1.168052e+06  0.018647   False    True  False   \n",
      "2020-09-30  1.445554e+07  1.339594e+06  0.022582   False    True  False   \n",
      "2020-10-28  1.498125e+07  1.392228e+06  0.013789   False    True  False   \n",
      "2020-08-22  1.380579e+07  1.276914e+06  0.014446   False    True  False   \n",
      "2020-10-11  1.466066e+07  1.361197e+06  0.026274   False    True  False   \n",
      "2020-07-29  1.336884e+07  1.236518e+06  0.015595   False    True  False   \n",
      "2020-11-26  1.556308e+07  1.452775e+06  0.033183   False    True  False   \n",
      "2020-09-18  1.424647e+07  1.319325e+06  0.012508   False    True  False   \n",
      "2020-11-13  1.532838e+07  1.431126e+06  0.025812   False    True  False   \n",
      "2020-07-10  1.302743e+07  1.204920e+06  0.015586   False    True  False   \n",
      "\n",
      "            is_parent  week_n  weekday_n  month_n  neg_sentiment  \\\n",
      "date                                                               \n",
      "2020-09-04   0.091633    36.0        4.0      9.0       0.074978   \n",
      "2020-09-20   0.101589    38.0       20.0      9.0       0.074424   \n",
      "2020-09-25   0.081208    39.0       25.0      9.0       0.085648   \n",
      "2020-09-09   0.079456    37.0        9.0      9.0       0.080047   \n",
      "2020-10-18   0.093108    42.0       18.0     10.0       0.085106   \n",
      "2020-07-12   0.101322    28.0       12.0      7.0       0.074942   \n",
      "2020-08-09   0.100769    32.0        9.0      8.0       0.077001   \n",
      "2020-04-26   0.087694    17.0       26.0      4.0       0.077004   \n",
      "2020-11-14   0.112955    46.0       14.0     11.0       0.080384   \n",
      "2020-11-21   0.091582    47.0       21.0     11.0       0.074335   \n",
      "2020-06-17   0.088972    25.0       17.0      6.0       0.089876   \n",
      "2020-09-30   0.089347    40.0       30.0      9.0       0.082703   \n",
      "2020-10-28   0.106115    44.0       28.0     10.0       0.087898   \n",
      "2020-08-22   0.110754    34.0       22.0      8.0       0.078168   \n",
      "2020-10-11   0.079618    41.0       11.0     10.0       0.077756   \n",
      "2020-07-29   0.109162    31.0       29.0      7.0       0.083543   \n",
      "2020-11-26   0.109351    48.0       26.0     11.0       0.078009   \n",
      "2020-09-18   0.094434    38.0       18.0      9.0       0.083100   \n",
      "2020-11-13   0.089925    46.0       13.0     11.0       0.077483   \n",
      "2020-07-10   0.084465    28.0       10.0      7.0       0.073774   \n",
      "\n",
      "            neu_sentiment  pos_sentiment  compound_sentiment  \n",
      "date                                                          \n",
      "2020-09-04       0.767049       0.130877            0.083690  \n",
      "2020-09-20       0.774293       0.127099            0.083651  \n",
      "2020-09-25       0.768025       0.133317            0.080282  \n",
      "2020-09-09       0.771921       0.123463            0.077365  \n",
      "2020-10-18       0.749180       0.135483            0.076353  \n",
      "2020-07-12       0.754127       0.129081            0.074984  \n",
      "2020-08-09       0.767638       0.123833            0.072317  \n",
      "2020-04-26       0.781254       0.129016            0.071873  \n",
      "2020-11-14       0.764515       0.132764            0.071595  \n",
      "2020-11-21       0.757939       0.121931            0.071458  \n",
      "2020-06-17       0.770106       0.121368            0.070096  \n",
      "2020-09-30       0.768606       0.126111            0.068997  \n",
      "2020-10-28       0.776781       0.121528            0.067835  \n",
      "2020-08-22       0.779249       0.128144            0.066891  \n",
      "2020-10-11       0.772639       0.123338            0.066779  \n",
      "2020-07-29       0.772596       0.128264            0.066724  \n",
      "2020-11-26       0.766272       0.122538            0.066218  \n",
      "2020-09-18       0.773851       0.130538            0.065888  \n",
      "2020-11-13       0.767363       0.129344            0.064572  \n",
      "2020-07-10       0.790685       0.119953            0.064331  \n"
     ]
    },
    {
     "data": {
      "image/png": "[encoded data removed]",
      "text/plain": [
       "<Figure size 432x288 with 1 Axes>"
      ]
     },
     "metadata": {
      "needs_background": "light"
     },
     "output_type": "display_data"
    }
   ],
   "source": [
    "size = 3\n",
    "for df in [sn_sub, td_sub]:\n",
    "    df['date'] = pd.to_datetime(df['date_created'], format=\"%Y-%m-%d\")\n",
    "    daily_ave = df.resample('d', on='date').mean().dropna(how='all')\n",
    "    daily_ave['before'] = daily_ave.index <= pd.Timestamp(2020,2,28)\n",
    "    daily_ave['during'] = daily_ave.index >= pd.Timestamp(2020,4,1)\n",
    "    daily_ave['march'] = ~daily_ave['before'] & ~daily_ave['during']\n",
    "#     print(daily_ave[daily_ave['during']].sort_values(by='compound_sentiment', ascending=False).head(20))\n",
    "    plt.scatter(daily_ave.index[daily_ave['before']], daily_ave['compound_sentiment'][daily_ave['before']], label=\"Before\", s=size)\n",
    "    plt.scatter(daily_ave.index[daily_ave['march']], daily_ave['compound_sentiment'][daily_ave['march']], label=\"March\", s=size)\n",
    "    plt.scatter(daily_ave.index[daily_ave['during']], daily_ave['compound_sentiment'][daily_ave['during']], label=\"During\", s=size)\n",
    "    plt.legend(loc=\"lower left\")\n",
    "    plt.xticks(rotation=90)\n",
    "    plt.ylabel('Compound Sentiment\\n(normalized -1 to 1)')\n",
    "    plt.title('Daily Average Compound Sentiment Scores')\n",
    "    plt.axhline(y=0, color='black', linestyle='-', alpha=0.5)\n",
    "    plt.tight_layout()\n",
    "    # plt.savefig('../plots/daily_ave_compound_sentiment.png')\n",
    "    plt.show()"
   ]
  },
  {
   "cell_type": "markdown",
   "metadata": {},
   "source": [
    "### 5. Compare post frequency over same period for special needs and toddler subforums"
   ]
  },
  {
   "cell_type": "code",
   "execution_count": 105,
   "metadata": {},
   "outputs": [
    {
     "name": "stdout",
     "output_type": "stream",
     "text": [
      "weekday\n",
      "Friday       0.119020\n",
      "Monday       0.111130\n",
      "Saturday     0.129093\n",
      "Sunday       0.124005\n",
      "Thursday     0.130706\n",
      "Tuesday      0.128923\n",
      "Wednesday    0.125623\n",
      "Name: compound_sentiment, dtype: float64\n",
      "month\n",
      "April        0.120145\n",
      "August       0.135543\n",
      "December     0.118504\n",
      "February     0.128265\n",
      "January      0.135920\n",
      "July         0.132466\n",
      "June         0.124906\n",
      "March        0.112394\n",
      "May          0.129553\n",
      "November     0.108756\n",
      "October      0.122581\n",
      "September    0.117748\n",
      "Name: compound_sentiment, dtype: float64\n",
      "week_n\n",
      "1     0.168835\n",
      "2     0.121707\n",
      "3     0.149689\n",
      "4     0.119515\n",
      "5     0.138021\n",
      "6     0.118786\n",
      "7     0.123218\n",
      "8     0.132586\n",
      "9     0.130728\n",
      "10    0.130151\n",
      "11    0.115707\n",
      "12    0.089768\n",
      "13    0.093993\n",
      "14    0.124559\n",
      "15    0.106186\n",
      "16    0.129292\n",
      "17    0.115273\n",
      "18    0.122451\n",
      "19    0.157390\n",
      "20    0.121680\n",
      "21    0.120975\n",
      "22    0.125768\n",
      "23    0.112251\n",
      "24    0.094802\n",
      "25    0.134179\n",
      "26    0.169947\n",
      "27    0.122987\n",
      "28    0.118573\n",
      "29    0.153799\n",
      "30    0.137298\n",
      "31    0.119304\n",
      "32    0.135718\n",
      "33    0.165102\n",
      "34    0.148457\n",
      "35    0.112207\n",
      "36    0.108052\n",
      "37    0.128889\n",
      "38    0.142358\n",
      "39    0.091506\n",
      "40    0.122723\n",
      "41    0.115432\n",
      "42    0.119927\n",
      "43    0.104964\n",
      "44    0.151327\n",
      "45    0.107817\n",
      "46    0.105440\n",
      "47    0.135180\n",
      "48    0.097848\n",
      "49    0.148776\n",
      "50    0.088042\n",
      "51    0.120699\n",
      "52    0.094548\n",
      "Name: compound_sentiment, dtype: float64\n"
     ]
    }
   ],
   "source": [
    "seasonality(sn_sub, \"special-needs\", \"weekday\")\n",
    "seasonality(sn_sub, \"special-needs\", \"month\")\n",
    "seasonality(sn_sub, \"special-needs\", \"week_n\")"
   ]
  },
  {
   "cell_type": "code",
   "execution_count": 106,
   "metadata": {
    "scrolled": true
   },
   "outputs": [
    {
     "name": "stdout",
     "output_type": "stream",
     "text": [
      "weekday\n",
      "Friday       0.051646\n",
      "Monday       0.051593\n",
      "Saturday     0.051941\n",
      "Sunday       0.051259\n",
      "Thursday     0.048537\n",
      "Tuesday      0.049098\n",
      "Wednesday    0.049540\n",
      "Name: compound_sentiment, dtype: float64\n",
      "month\n",
      "April        0.048952\n",
      "August       0.049335\n",
      "December     0.068623\n",
      "February     0.053292\n",
      "January      0.055068\n",
      "July         0.048324\n",
      "June         0.042351\n",
      "March        0.042764\n",
      "May          0.044742\n",
      "November     0.056979\n",
      "October      0.049688\n",
      "September    0.053659\n",
      "Name: compound_sentiment, dtype: float64\n",
      "week_n\n",
      "1     0.059253\n",
      "2     0.056845\n",
      "3     0.059024\n",
      "4     0.053574\n",
      "5     0.051800\n",
      "6     0.055103\n",
      "7     0.049131\n",
      "8     0.057145\n",
      "9     0.049852\n",
      "10    0.041171\n",
      "11    0.034225\n",
      "12    0.044455\n",
      "13    0.049472\n",
      "14    0.048929\n",
      "15    0.049842\n",
      "16    0.045906\n",
      "17    0.048295\n",
      "18    0.047184\n",
      "19    0.042968\n",
      "20    0.051889\n",
      "21    0.056642\n",
      "22    0.023834\n",
      "23    0.033780\n",
      "24    0.043725\n",
      "25    0.046277\n",
      "26    0.049151\n",
      "27    0.041673\n",
      "28    0.047052\n",
      "29    0.048331\n",
      "30    0.054182\n",
      "31    0.052909\n",
      "32    0.043735\n",
      "33    0.049481\n",
      "34    0.055123\n",
      "35    0.046821\n",
      "36    0.052247\n",
      "37    0.054629\n",
      "38    0.056902\n",
      "39    0.048880\n",
      "40    0.044808\n",
      "41    0.047242\n",
      "42    0.056633\n",
      "43    0.052460\n",
      "44    0.052069\n",
      "45    0.051945\n",
      "46    0.056610\n",
      "47    0.057472\n",
      "48    0.064787\n",
      "49    0.066129\n",
      "50    0.067956\n",
      "51    0.073734\n",
      "52    0.065372\n",
      "Name: compound_sentiment, dtype: float64\n"
     ]
    }
   ],
   "source": [
    "seasonality(td_sub, \"toddler\", \"weekday\")\n",
    "seasonality(td_sub, \"toddler\", \"month\")\n",
    "seasonality(td_sub, \"toddler\", \"week_n\")"
   ]
  }
 ],
 "metadata": {
  "kernelspec": {
   "display_name": "Python 3",
   "language": "python",
   "name": "python3"
  },
  "language_info": {
   "codemirror_mode": {
    "name": "ipython",
    "version": 3
   },
   "file_extension": ".py",
   "mimetype": "text/x-python",
   "name": "python",
   "nbconvert_exporter": "python",
   "pygments_lexer": "ipython3",
   "version": "3.8.5"
  }
 },
 "nbformat": 4,
 "nbformat_minor": 4
}
