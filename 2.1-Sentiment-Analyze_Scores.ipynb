{
 "cells": [
  {
   "cell_type": "markdown",
   "metadata": {},
   "source": [
    "# Analyze Sentiment for Forum Data\n",
    "This notebook loads the sentiment data and explores results\n",
    "\n",
    "## Data Sources\n",
    "- youbemom-merged.db (with sentiment scores from 2.0-Sentiment-Create_Scores.ipynb)\n",
    "\n",
    "## Changes\n",
    "- 2020-12-13: Created\n",
    "\n",
    "## Database Structure\n",
    "- threads\n",
    " - id: automatically assigned\n",
    " - url: url of top post\n",
    " - subforum: subforum of post\n",
    " - dne: post does not exist\n",
    "- posts\n",
    " - id: automatically assigned\n",
    " - family_id: thread->id\n",
    " - message_id: the unique id of the message from the html\n",
    " - parent_id: id of post this post is responding to, 0 if top post\n",
    " - date_recorded: date the data is fetched\n",
    " - date_created: date the data was created\n",
    " - title: title of the post\n",
    " - body: body of the post\n",
    " - subforum: subforum of post\n",
    " - deleted: has post been deleted\n",
    " - text: title + body\n",
    " - text_no_url: text without urls\n",
    " - neg_sentiment\n",
    " - neu_sentiment\n",
    " - pos_sentiment\n",
    " - compound_sentiment\n",
    " - neg_sentiment_no_url\n",
    " - neu_sentiment_no_url\n",
    " - pos_sentiment_no_url\n",
    " - compound_sentiment_no_url\n",
    "\n",
    "## TODO\n",
    "- Does python have a regression function for continuous dependent variables between 0 and 1 or will I have to use R/Stata for a fractional regression model?\n",
    "- Set up functions for the plots so I can plug in the variable I want to see\n",
    "- Does sentiment differ between parents and children in threads?\n",
    " - Is sentiment more negative after negative posts? More positive after positive posts?\n",
    "- Is there a time-dependent function here?\n",
    " - Seasonality?\n",
    " - Does tweaking the time period cutoffs affect the significance?\n",
    "- Frequency distribution of words\n",
    "- Robustness checks of different samples\n",
    "- Scrape the rest of December so frequency counts are right"
   ]
  },
  {
   "cell_type": "markdown",
   "metadata": {},
   "source": [
    "## Imports"
   ]
  },
  {
   "cell_type": "code",
   "execution_count": 1,
   "metadata": {},
   "outputs": [],
   "source": [
    "import sqlite3\n",
    "import pandas as pd\n",
    "import numpy as np\n",
    "from vaderSentiment.vaderSentiment import SentimentIntensityAnalyzer\n",
    "from scipy.stats import ttest_ind, kde\n",
    "from datetime import datetime\n",
    "# from nltk.probability import FreqDist\n",
    "from nltk.tokenize import RegexpTokenizer #, word_tokenize\n",
    "from nltk.corpus import stopwords\n",
    "import string\n",
    "import re\n",
    "from pathlib import Path\n",
    "import matplotlib.pyplot as plt\n",
    "import math\n",
    "from statsmodels.formula.api  import ols\n",
    "from youbemom import create_connection"
   ]
  },
  {
   "cell_type": "markdown",
   "metadata": {},
   "source": [
    "## Functions"
   ]
  },
  {
   "cell_type": "code",
   "execution_count": 2,
   "metadata": {},
   "outputs": [],
   "source": [
    "def ttest_sentiment(df, v):\n",
    "    \"\"\" run a t-test on the sentiment scores for\n",
    "        before and during the pandemic\n",
    "    :param df: data frame\n",
    "    :param v: the variable name to t-test on\n",
    "    :return: nothing, prints ttest results\n",
    "    \"\"\"\n",
    "    group_before = df.where(df['before'])[v].dropna()\n",
    "    group_during = df.where(df['during'])[v].dropna()\n",
    "    result = ttest_ind(group_before, group_during, equal_var=False, nan_policy=\"omit\")\n",
    "    print('\\n')\n",
    "    l = len(v)\n",
    "    print(' '*(l - 8) + 'variable    before    during statistic    pvalue')\n",
    "    print(v + '  {:1.6f}  {:1.6f} {:+1.6f}  {:1.6f}'.format(group_before.mean(), group_during.mean(), result.statistic, result.pvalue))"
   ]
  },
  {
   "cell_type": "code",
   "execution_count": 17,
   "metadata": {},
   "outputs": [],
   "source": [
    "def create_dates(df):\n",
    "    \"\"\" create date variables\n",
    "    :param df: data frame\n",
    "    :return: formatted data frame\n",
    "    \"\"\"\n",
    "    df['date_created'] = pd.to_datetime(df['date_created'])\n",
    "    df['before'] = df['date_created'] <= pd.Timestamp(2020,2,28)\n",
    "    df['during'] = df['date_created'] >= pd.Timestamp(2020,4,1)\n",
    "    df['march'] = ~df['before'] & ~df['during']\n",
    "    df.loc[df['before'], 'period'] = 'before'\n",
    "    df.loc[df['march'], 'period'] = 'march'\n",
    "    df.loc[df['during'], 'period'] = 'during'\n",
    "    df['weekday'] = df['date_created'].dt.day_name()\n",
    "    df['week_n'] = df['date_created'].dt.isocalendar().week\n",
    "    df['weekday_n'] = df['date_created'].dt.day\n",
    "    df['month'] = df['date_created'].dt.month_name()\n",
    "    df['month_n'] = df['date_created'].dt.month\n",
    "#     df['ymd'] = df['date_created'].dt.to_period('D')\n",
    "    return df"
   ]
  },
  {
   "cell_type": "code",
   "execution_count": 5,
   "metadata": {},
   "outputs": [],
   "source": [
    "def compare_parent_child(df):\n",
    "    parents = df[df[\"is_parent\"]]\n",
    "    parents = parents[[\"family_id\",\"neg_sentiment\",\"pos_sentiment\",\"compound_sentiment\"]]\n",
    "    children = df[~df[\"is_parent\"]]\n",
    "    children = children[[\"family_id\",\"neg_sentiment\",\"pos_sentiment\",\"compound_sentiment\"]]\n",
    "    children_ave = children.groupby(\"family_id\", as_index=False).mean()\n",
    "    compare = pd.merge(left=parents, right=children_ave, on=\"family_id\", how=\"inner\", suffixes=['_p','_c'])\n",
    "    compare['pos_diff'] = compare['pos_sentiment_p'] - compare['pos_sentiment_c']\n",
    "    compare['neg_diff'] = compare['neg_sentiment_p'] - compare['neg_sentiment_c']\n",
    "    compare['compound_diff'] = compare['compound_sentiment_p'] - compare['compound_sentiment_c']\n",
    "    return compare"
   ]
  },
  {
   "cell_type": "code",
   "execution_count": 6,
   "metadata": {},
   "outputs": [],
   "source": [
    "def season_sentiment(df, name, var):\n",
    "    grouping_ave = df.groupby([var])['compound_sentiment'].mean()\n",
    "    path_sen = path_parent / \"clean_data\" / \"sentiment_{0}_{1}.csv\".format(name, var)\n",
    "    path_sen = str(path_sen)\n",
    "    grouping_ave.to_csv(path_sen)\n",
    "    print(grouping_ave)"
   ]
  },
  {
   "cell_type": "code",
   "execution_count": 7,
   "metadata": {},
   "outputs": [],
   "source": [
    "def season_freq(df, name, var):\n",
    "    grouping_freq = df.groupby(var)[var].count()\n",
    "    path_freq = path_parent / \"clean_data\" / \"frequency_{0}_{1}.csv\".format(name, var)\n",
    "    path_freq = str(path_freq)\n",
    "    grouping_freq.to_csv(path_freq)\n",
    "    print(grouping_freq)"
   ]
  },
  {
   "cell_type": "code",
   "execution_count": 80,
   "metadata": {},
   "outputs": [],
   "source": [
    "def ave_sent_day(df):\n",
    "    daily_ave = df[['date_created','compound_sentiment']].copy()\n",
    "    daily_ave = daily_ave.set_index('date_created')\n",
    "    daily_ave = daily_ave.resample('D').mean().dropna(how='all')\n",
    "    daily_ave['period'] = \"March\"\n",
    "    daily_ave.loc[daily_ave.index <= pd.Timestamp(2020,2,28), 'period'] = \"Before\"\n",
    "    daily_ave.loc[daily_ave.index >= pd.Timestamp(2020,4,1), 'period'] = \"During\"\n",
    "    return daily_ave"
   ]
  },
  {
   "cell_type": "code",
   "execution_count": 134,
   "metadata": {},
   "outputs": [],
   "source": [
    "def daily_freq(df):\n",
    "    freq = df[['date_created', 'compound_sentiment']].copy()\n",
    "    freq = freq.set_index('date_created')\n",
    "    freq = freq.resample('D').size().dropna(how='all').to_frame()\n",
    "    freq.columns = ['daily_count']\n",
    "    freq['period'] = \"March\"\n",
    "    freq.loc[freq.index <= pd.Timestamp(2020,2,28), 'period'] = \"Before\"\n",
    "    freq.loc[freq.index >= pd.Timestamp(2020,4,1), 'period'] = \"During\"\n",
    "    return freq"
   ]
  },
  {
   "cell_type": "markdown",
   "metadata": {},
   "source": [
    "## File Locations"
   ]
  },
  {
   "cell_type": "code",
   "execution_count": 9,
   "metadata": {},
   "outputs": [],
   "source": [
    "p = Path.cwd()\n",
    "path_parent = p.parents[0]"
   ]
  },
  {
   "cell_type": "code",
   "execution_count": 10,
   "metadata": {},
   "outputs": [],
   "source": [
    "path_db = path_parent / \"database\" / \"youbemom-merged.db\"\n",
    "path_db = str(path_db)"
   ]
  },
  {
   "cell_type": "markdown",
   "metadata": {},
   "source": [
    "## Load Data\n",
    "Counts of posts in each subforum"
   ]
  },
  {
   "cell_type": "code",
   "execution_count": 11,
   "metadata": {},
   "outputs": [],
   "source": [
    "counts_sql = '''\n",
    "    SELECT subforum, COUNT(family_id), MIN(date_created), MAX(date_created)\n",
    "    FROM posts\n",
    "    GROUP BY subforum\n",
    "'''"
   ]
  },
  {
   "cell_type": "code",
   "execution_count": 12,
   "metadata": {},
   "outputs": [],
   "source": [
    "conn = create_connection(path_db)\n",
    "counts = pd.read_sql_query(counts_sql, conn)"
   ]
  },
  {
   "cell_type": "code",
   "execution_count": 13,
   "metadata": {},
   "outputs": [
    {
     "data": {
      "text/html": [
       "<div>\n",
       "<style scoped>\n",
       "    .dataframe tbody tr th:only-of-type {\n",
       "        vertical-align: middle;\n",
       "    }\n",
       "\n",
       "    .dataframe tbody tr th {\n",
       "        vertical-align: top;\n",
       "    }\n",
       "\n",
       "    .dataframe thead th {\n",
       "        text-align: right;\n",
       "    }\n",
       "</style>\n",
       "<table border=\"1\" class=\"dataframe\">\n",
       "  <thead>\n",
       "    <tr style=\"text-align: right;\">\n",
       "      <th></th>\n",
       "      <th>subforum</th>\n",
       "      <th>COUNT(family_id)</th>\n",
       "      <th>MIN(date_created)</th>\n",
       "      <th>MAX(date_created)</th>\n",
       "    </tr>\n",
       "  </thead>\n",
       "  <tbody>\n",
       "    <tr>\n",
       "      <th>0</th>\n",
       "      <td>boston</td>\n",
       "      <td>230</td>\n",
       "      <td>2018-01-27 17:21:00</td>\n",
       "      <td>2020-11-23 00:23:00</td>\n",
       "    </tr>\n",
       "    <tr>\n",
       "      <th>1</th>\n",
       "      <td>chicago</td>\n",
       "      <td>193</td>\n",
       "      <td>2018-03-05 14:40:00</td>\n",
       "      <td>2020-12-08 13:50:30</td>\n",
       "    </tr>\n",
       "    <tr>\n",
       "      <th>2</th>\n",
       "      <td>elementary</td>\n",
       "      <td>3543</td>\n",
       "      <td>2013-12-05 21:43:00</td>\n",
       "      <td>2020-11-30 20:52:00</td>\n",
       "    </tr>\n",
       "    <tr>\n",
       "      <th>3</th>\n",
       "      <td>expecting</td>\n",
       "      <td>872</td>\n",
       "      <td>2018-01-24 02:43:00</td>\n",
       "      <td>2020-11-23 21:01:00</td>\n",
       "    </tr>\n",
       "    <tr>\n",
       "      <th>4</th>\n",
       "      <td>los-angeles</td>\n",
       "      <td>263</td>\n",
       "      <td>2018-01-09 20:58:00</td>\n",
       "      <td>2020-12-02 02:07:00</td>\n",
       "    </tr>\n",
       "    <tr>\n",
       "      <th>5</th>\n",
       "      <td>new-york-city</td>\n",
       "      <td>6297</td>\n",
       "      <td>2018-01-07 11:37:00</td>\n",
       "      <td>2020-11-28 03:45:00</td>\n",
       "    </tr>\n",
       "    <tr>\n",
       "      <th>6</th>\n",
       "      <td>newborn</td>\n",
       "      <td>2036</td>\n",
       "      <td>2013-11-06 20:55:00</td>\n",
       "      <td>2020-11-29 23:39:00</td>\n",
       "    </tr>\n",
       "    <tr>\n",
       "      <th>7</th>\n",
       "      <td>nyc-schools</td>\n",
       "      <td>2211</td>\n",
       "      <td>2018-01-01 16:03:00</td>\n",
       "      <td>2020-12-04 16:49:00</td>\n",
       "    </tr>\n",
       "    <tr>\n",
       "      <th>8</th>\n",
       "      <td>preschool</td>\n",
       "      <td>3000</td>\n",
       "      <td>2013-12-10 03:58:00</td>\n",
       "      <td>2020-11-23 14:34:00</td>\n",
       "    </tr>\n",
       "    <tr>\n",
       "      <th>9</th>\n",
       "      <td>single-parents</td>\n",
       "      <td>337</td>\n",
       "      <td>2018-02-07 11:29:00</td>\n",
       "      <td>2020-11-23 16:22:00</td>\n",
       "    </tr>\n",
       "    <tr>\n",
       "      <th>10</th>\n",
       "      <td>special-needs</td>\n",
       "      <td>269902</td>\n",
       "      <td>2014-02-10 18:13:00</td>\n",
       "      <td>2020-12-08 00:35:33</td>\n",
       "    </tr>\n",
       "    <tr>\n",
       "      <th>11</th>\n",
       "      <td>toddler</td>\n",
       "      <td>16399476</td>\n",
       "      <td>2018-01-01 00:00:00</td>\n",
       "      <td>2020-12-07 20:16:15</td>\n",
       "    </tr>\n",
       "    <tr>\n",
       "      <th>12</th>\n",
       "      <td>ttc</td>\n",
       "      <td>616</td>\n",
       "      <td>2018-01-20 13:21:00</td>\n",
       "      <td>2020-11-23 05:23:00</td>\n",
       "    </tr>\n",
       "    <tr>\n",
       "      <th>13</th>\n",
       "      <td>tween-teen</td>\n",
       "      <td>6455</td>\n",
       "      <td>2013-12-30 16:23:00</td>\n",
       "      <td>2020-12-06 23:33:00</td>\n",
       "    </tr>\n",
       "    <tr>\n",
       "      <th>14</th>\n",
       "      <td>weight-watchers</td>\n",
       "      <td>276</td>\n",
       "      <td>2018-01-22 03:46:00</td>\n",
       "      <td>2020-11-29 17:29:00</td>\n",
       "    </tr>\n",
       "    <tr>\n",
       "      <th>15</th>\n",
       "      <td>ybm-feedback</td>\n",
       "      <td>343</td>\n",
       "      <td>2018-01-21 19:35:00</td>\n",
       "      <td>2020-11-23 08:52:00</td>\n",
       "    </tr>\n",
       "  </tbody>\n",
       "</table>\n",
       "</div>"
      ],
      "text/plain": [
       "           subforum  COUNT(family_id)    MIN(date_created)  \\\n",
       "0            boston               230  2018-01-27 17:21:00   \n",
       "1           chicago               193  2018-03-05 14:40:00   \n",
       "2        elementary              3543  2013-12-05 21:43:00   \n",
       "3         expecting               872  2018-01-24 02:43:00   \n",
       "4       los-angeles               263  2018-01-09 20:58:00   \n",
       "5     new-york-city              6297  2018-01-07 11:37:00   \n",
       "6           newborn              2036  2013-11-06 20:55:00   \n",
       "7       nyc-schools              2211  2018-01-01 16:03:00   \n",
       "8         preschool              3000  2013-12-10 03:58:00   \n",
       "9    single-parents               337  2018-02-07 11:29:00   \n",
       "10    special-needs            269902  2014-02-10 18:13:00   \n",
       "11          toddler          16399476  2018-01-01 00:00:00   \n",
       "12              ttc               616  2018-01-20 13:21:00   \n",
       "13       tween-teen              6455  2013-12-30 16:23:00   \n",
       "14  weight-watchers               276  2018-01-22 03:46:00   \n",
       "15     ybm-feedback               343  2018-01-21 19:35:00   \n",
       "\n",
       "      MAX(date_created)  \n",
       "0   2020-11-23 00:23:00  \n",
       "1   2020-12-08 13:50:30  \n",
       "2   2020-11-30 20:52:00  \n",
       "3   2020-11-23 21:01:00  \n",
       "4   2020-12-02 02:07:00  \n",
       "5   2020-11-28 03:45:00  \n",
       "6   2020-11-29 23:39:00  \n",
       "7   2020-12-04 16:49:00  \n",
       "8   2020-11-23 14:34:00  \n",
       "9   2020-11-23 16:22:00  \n",
       "10  2020-12-08 00:35:33  \n",
       "11  2020-12-07 20:16:15  \n",
       "12  2020-11-23 05:23:00  \n",
       "13  2020-12-06 23:33:00  \n",
       "14  2020-11-29 17:29:00  \n",
       "15  2020-11-23 08:52:00  "
      ]
     },
     "execution_count": 13,
     "metadata": {},
     "output_type": "execute_result"
    }
   ],
   "source": [
    "counts.head(16)"
   ]
  },
  {
   "cell_type": "markdown",
   "metadata": {},
   "source": [
    "Special needs subforum"
   ]
  },
  {
   "cell_type": "code",
   "execution_count": 14,
   "metadata": {},
   "outputs": [],
   "source": [
    "sn_sql = ''' SELECT * FROM posts WHERE subforum=\"special-needs\" '''"
   ]
  },
  {
   "cell_type": "code",
   "execution_count": 15,
   "metadata": {},
   "outputs": [],
   "source": [
    "sn = pd.read_sql_query(sn_sql, conn)"
   ]
  },
  {
   "cell_type": "code",
   "execution_count": 18,
   "metadata": {},
   "outputs": [],
   "source": [
    "sn = create_dates(sn)"
   ]
  },
  {
   "cell_type": "code",
   "execution_count": 20,
   "metadata": {},
   "outputs": [
    {
     "data": {
      "text/html": [
       "<div>\n",
       "<style scoped>\n",
       "    .dataframe tbody tr th:only-of-type {\n",
       "        vertical-align: middle;\n",
       "    }\n",
       "\n",
       "    .dataframe tbody tr th {\n",
       "        vertical-align: top;\n",
       "    }\n",
       "\n",
       "    .dataframe thead th {\n",
       "        text-align: right;\n",
       "    }\n",
       "</style>\n",
       "<table border=\"1\" class=\"dataframe\">\n",
       "  <thead>\n",
       "    <tr style=\"text-align: right;\">\n",
       "      <th></th>\n",
       "      <th>id</th>\n",
       "      <th>family_id</th>\n",
       "      <th>message_id</th>\n",
       "      <th>parent_id</th>\n",
       "      <th>date_recorded</th>\n",
       "      <th>date_created</th>\n",
       "      <th>title</th>\n",
       "      <th>body</th>\n",
       "      <th>subforum</th>\n",
       "      <th>deleted</th>\n",
       "      <th>...</th>\n",
       "      <th>before</th>\n",
       "      <th>during</th>\n",
       "      <th>march</th>\n",
       "      <th>period</th>\n",
       "      <th>weekday</th>\n",
       "      <th>week_n</th>\n",
       "      <th>weekday_n</th>\n",
       "      <th>month</th>\n",
       "      <th>month_n</th>\n",
       "      <th>ymd</th>\n",
       "    </tr>\n",
       "  </thead>\n",
       "  <tbody>\n",
       "    <tr>\n",
       "      <th>0</th>\n",
       "      <td>1905</td>\n",
       "      <td>173</td>\n",
       "      <td>104900532</td>\n",
       "      <td></td>\n",
       "      <td>12-02-2020 10:51:54</td>\n",
       "      <td>2018-02-18 20:04:00</td>\n",
       "      <td>Son has mild Sensory Issuesany privates in Man...</td>\n",
       "      <td></td>\n",
       "      <td>special-needs</td>\n",
       "      <td>0</td>\n",
       "      <td>...</td>\n",
       "      <td>True</td>\n",
       "      <td>False</td>\n",
       "      <td>False</td>\n",
       "      <td>before</td>\n",
       "      <td>Sunday</td>\n",
       "      <td>7</td>\n",
       "      <td>18</td>\n",
       "      <td>February</td>\n",
       "      <td>2</td>\n",
       "      <td>2018-02-18</td>\n",
       "    </tr>\n",
       "    <tr>\n",
       "      <th>1</th>\n",
       "      <td>1906</td>\n",
       "      <td>173</td>\n",
       "      <td>104900615</td>\n",
       "      <td>104900532</td>\n",
       "      <td>12-02-2020 10:51:54</td>\n",
       "      <td>2018-02-18 20:09:00</td>\n",
       "      <td>That’s all he has going on?</td>\n",
       "      <td></td>\n",
       "      <td>special-needs</td>\n",
       "      <td>0</td>\n",
       "      <td>...</td>\n",
       "      <td>True</td>\n",
       "      <td>False</td>\n",
       "      <td>False</td>\n",
       "      <td>before</td>\n",
       "      <td>Sunday</td>\n",
       "      <td>7</td>\n",
       "      <td>18</td>\n",
       "      <td>February</td>\n",
       "      <td>2</td>\n",
       "      <td>2018-02-18</td>\n",
       "    </tr>\n",
       "    <tr>\n",
       "      <th>2</th>\n",
       "      <td>1907</td>\n",
       "      <td>173</td>\n",
       "      <td>104900681</td>\n",
       "      <td>104900615</td>\n",
       "      <td>12-02-2020 10:51:54</td>\n",
       "      <td>2018-02-18 20:13:00</td>\n",
       "      <td>So far. Started some NP testing to determine m...</td>\n",
       "      <td></td>\n",
       "      <td>special-needs</td>\n",
       "      <td>0</td>\n",
       "      <td>...</td>\n",
       "      <td>True</td>\n",
       "      <td>False</td>\n",
       "      <td>False</td>\n",
       "      <td>before</td>\n",
       "      <td>Sunday</td>\n",
       "      <td>7</td>\n",
       "      <td>18</td>\n",
       "      <td>February</td>\n",
       "      <td>2</td>\n",
       "      <td>2018-02-18</td>\n",
       "    </tr>\n",
       "    <tr>\n",
       "      <th>3</th>\n",
       "      <td>1908</td>\n",
       "      <td>173</td>\n",
       "      <td>104900694</td>\n",
       "      <td>104900681</td>\n",
       "      <td>12-02-2020 10:51:54</td>\n",
       "      <td>2018-02-18 20:14:00</td>\n",
       "      <td>well how old is he?</td>\n",
       "      <td></td>\n",
       "      <td>special-needs</td>\n",
       "      <td>0</td>\n",
       "      <td>...</td>\n",
       "      <td>True</td>\n",
       "      <td>False</td>\n",
       "      <td>False</td>\n",
       "      <td>before</td>\n",
       "      <td>Sunday</td>\n",
       "      <td>7</td>\n",
       "      <td>18</td>\n",
       "      <td>February</td>\n",
       "      <td>2</td>\n",
       "      <td>2018-02-18</td>\n",
       "    </tr>\n",
       "    <tr>\n",
       "      <th>4</th>\n",
       "      <td>1909</td>\n",
       "      <td>173</td>\n",
       "      <td>104900704</td>\n",
       "      <td>104900694</td>\n",
       "      <td>12-02-2020 10:51:54</td>\n",
       "      <td>2018-02-18 20:14:00</td>\n",
       "      <td>just turned 5</td>\n",
       "      <td></td>\n",
       "      <td>special-needs</td>\n",
       "      <td>0</td>\n",
       "      <td>...</td>\n",
       "      <td>True</td>\n",
       "      <td>False</td>\n",
       "      <td>False</td>\n",
       "      <td>before</td>\n",
       "      <td>Sunday</td>\n",
       "      <td>7</td>\n",
       "      <td>18</td>\n",
       "      <td>February</td>\n",
       "      <td>2</td>\n",
       "      <td>2018-02-18</td>\n",
       "    </tr>\n",
       "  </tbody>\n",
       "</table>\n",
       "<p>5 rows × 30 columns</p>\n",
       "</div>"
      ],
      "text/plain": [
       "     id  family_id message_id  parent_id        date_recorded  \\\n",
       "0  1905        173  104900532             12-02-2020 10:51:54   \n",
       "1  1906        173  104900615  104900532  12-02-2020 10:51:54   \n",
       "2  1907        173  104900681  104900615  12-02-2020 10:51:54   \n",
       "3  1908        173  104900694  104900681  12-02-2020 10:51:54   \n",
       "4  1909        173  104900704  104900694  12-02-2020 10:51:54   \n",
       "\n",
       "         date_created                                              title body  \\\n",
       "0 2018-02-18 20:04:00  Son has mild Sensory Issuesany privates in Man...        \n",
       "1 2018-02-18 20:09:00                        That’s all he has going on?        \n",
       "2 2018-02-18 20:13:00  So far. Started some NP testing to determine m...        \n",
       "3 2018-02-18 20:14:00                                well how old is he?        \n",
       "4 2018-02-18 20:14:00                                      just turned 5        \n",
       "\n",
       "        subforum  deleted  ... before during  march  period  weekday  week_n  \\\n",
       "0  special-needs        0  ...   True  False  False  before   Sunday       7   \n",
       "1  special-needs        0  ...   True  False  False  before   Sunday       7   \n",
       "2  special-needs        0  ...   True  False  False  before   Sunday       7   \n",
       "3  special-needs        0  ...   True  False  False  before   Sunday       7   \n",
       "4  special-needs        0  ...   True  False  False  before   Sunday       7   \n",
       "\n",
       "   weekday_n     month  month_n         ymd  \n",
       "0         18  February        2  2018-02-18  \n",
       "1         18  February        2  2018-02-18  \n",
       "2         18  February        2  2018-02-18  \n",
       "3         18  February        2  2018-02-18  \n",
       "4         18  February        2  2018-02-18  \n",
       "\n",
       "[5 rows x 30 columns]"
      ]
     },
     "execution_count": 20,
     "metadata": {},
     "output_type": "execute_result"
    }
   ],
   "source": [
    "sn.head()"
   ]
  },
  {
   "cell_type": "markdown",
   "metadata": {},
   "source": [
    "Toddler subforum: generate a 10% sample of family_ids to make processing easier"
   ]
  },
  {
   "cell_type": "code",
   "execution_count": 21,
   "metadata": {},
   "outputs": [],
   "source": [
    "td_ids_sql = ''' SELECT family_id FROM threads WHERE subforum=\"toddler\" '''"
   ]
  },
  {
   "cell_type": "code",
   "execution_count": 22,
   "metadata": {},
   "outputs": [],
   "source": [
    "td_ids = pd.read_sql_query(td_ids_sql, conn)"
   ]
  },
  {
   "cell_type": "code",
   "execution_count": 23,
   "metadata": {},
   "outputs": [],
   "source": [
    "id_10per_sample = td_ids.sample(frac = 0.1, random_state = 281)"
   ]
  },
  {
   "cell_type": "code",
   "execution_count": 24,
   "metadata": {},
   "outputs": [],
   "source": [
    "temp_table_sql = ''' CREATE TEMPORARY TABLE temp(id INTEGER NOT NULL PRIMARY KEY AUTOINCREMENT UNIQUE, family_id INTEGER); '''"
   ]
  },
  {
   "cell_type": "code",
   "execution_count": 25,
   "metadata": {},
   "outputs": [
    {
     "data": {
      "text/plain": [
       "<sqlite3.Cursor at 0x7f4c14034d50>"
      ]
     },
     "execution_count": 25,
     "metadata": {},
     "output_type": "execute_result"
    }
   ],
   "source": [
    "cur = conn.cursor()\n",
    "cur.execute(temp_table_sql)"
   ]
  },
  {
   "cell_type": "code",
   "execution_count": 26,
   "metadata": {},
   "outputs": [],
   "source": [
    "id_10per_sample.to_sql('temp', conn, if_exists='append', index=False)"
   ]
  },
  {
   "cell_type": "code",
   "execution_count": 27,
   "metadata": {},
   "outputs": [],
   "source": [
    "td_sql = ''' \n",
    "    SELECT * \n",
    "    FROM posts \n",
    "    WHERE subforum=\"toddler\" \n",
    "        AND family_id IN (SELECT family_id FROM temp)\n",
    "'''"
   ]
  },
  {
   "cell_type": "code",
   "execution_count": 30,
   "metadata": {},
   "outputs": [],
   "source": [
    "td = pd.read_sql_query(td_sql, conn)"
   ]
  },
  {
   "cell_type": "code",
   "execution_count": 31,
   "metadata": {},
   "outputs": [],
   "source": [
    "td = create_dates(td)"
   ]
  },
  {
   "cell_type": "code",
   "execution_count": 32,
   "metadata": {},
   "outputs": [
    {
     "data": {
      "text/html": [
       "<div>\n",
       "<style scoped>\n",
       "    .dataframe tbody tr th:only-of-type {\n",
       "        vertical-align: middle;\n",
       "    }\n",
       "\n",
       "    .dataframe tbody tr th {\n",
       "        vertical-align: top;\n",
       "    }\n",
       "\n",
       "    .dataframe thead th {\n",
       "        text-align: right;\n",
       "    }\n",
       "</style>\n",
       "<table border=\"1\" class=\"dataframe\">\n",
       "  <thead>\n",
       "    <tr style=\"text-align: right;\">\n",
       "      <th></th>\n",
       "      <th>id</th>\n",
       "      <th>family_id</th>\n",
       "      <th>message_id</th>\n",
       "      <th>parent_id</th>\n",
       "      <th>date_recorded</th>\n",
       "      <th>date_created</th>\n",
       "      <th>title</th>\n",
       "      <th>body</th>\n",
       "      <th>subforum</th>\n",
       "      <th>deleted</th>\n",
       "      <th>...</th>\n",
       "      <th>before</th>\n",
       "      <th>during</th>\n",
       "      <th>march</th>\n",
       "      <th>period</th>\n",
       "      <th>weekday</th>\n",
       "      <th>week_n</th>\n",
       "      <th>weekday_n</th>\n",
       "      <th>month</th>\n",
       "      <th>month_n</th>\n",
       "      <th>ymd</th>\n",
       "    </tr>\n",
       "  </thead>\n",
       "  <tbody>\n",
       "    <tr>\n",
       "      <th>0</th>\n",
       "      <td>15</td>\n",
       "      <td>4</td>\n",
       "      <td>104898750</td>\n",
       "      <td></td>\n",
       "      <td>12-02-2020 10:44:27</td>\n",
       "      <td>2018-02-18 18:20:00</td>\n",
       "      <td>Speaking of marijuana, High Maintenance on hbo...</td>\n",
       "      <td></td>\n",
       "      <td>toddler</td>\n",
       "      <td>0</td>\n",
       "      <td>...</td>\n",
       "      <td>True</td>\n",
       "      <td>False</td>\n",
       "      <td>False</td>\n",
       "      <td>before</td>\n",
       "      <td>Sunday</td>\n",
       "      <td>7</td>\n",
       "      <td>18</td>\n",
       "      <td>February</td>\n",
       "      <td>2</td>\n",
       "      <td>2018-02-18</td>\n",
       "    </tr>\n",
       "    <tr>\n",
       "      <th>1</th>\n",
       "      <td>111</td>\n",
       "      <td>14</td>\n",
       "      <td>104898836</td>\n",
       "      <td></td>\n",
       "      <td>12-02-2020 10:44:39</td>\n",
       "      <td>2018-02-18 18:28:00</td>\n",
       "      <td>Second day Assad mom is again on trump's side.</td>\n",
       "      <td></td>\n",
       "      <td>toddler</td>\n",
       "      <td>0</td>\n",
       "      <td>...</td>\n",
       "      <td>True</td>\n",
       "      <td>False</td>\n",
       "      <td>False</td>\n",
       "      <td>before</td>\n",
       "      <td>Sunday</td>\n",
       "      <td>7</td>\n",
       "      <td>18</td>\n",
       "      <td>February</td>\n",
       "      <td>2</td>\n",
       "      <td>2018-02-18</td>\n",
       "    </tr>\n",
       "    <tr>\n",
       "      <th>2</th>\n",
       "      <td>112</td>\n",
       "      <td>14</td>\n",
       "      <td>104898851</td>\n",
       "      <td>104898836</td>\n",
       "      <td>12-02-2020 10:44:39</td>\n",
       "      <td>2018-02-18 18:28:00</td>\n",
       "      <td>I'm \"Assad mom\" and I'm not on Trump's side. I...</td>\n",
       "      <td></td>\n",
       "      <td>toddler</td>\n",
       "      <td>0</td>\n",
       "      <td>...</td>\n",
       "      <td>True</td>\n",
       "      <td>False</td>\n",
       "      <td>False</td>\n",
       "      <td>before</td>\n",
       "      <td>Sunday</td>\n",
       "      <td>7</td>\n",
       "      <td>18</td>\n",
       "      <td>February</td>\n",
       "      <td>2</td>\n",
       "      <td>2018-02-18</td>\n",
       "    </tr>\n",
       "    <tr>\n",
       "      <th>3</th>\n",
       "      <td>113</td>\n",
       "      <td>14</td>\n",
       "      <td>104898881</td>\n",
       "      <td>104898851</td>\n",
       "      <td>12-02-2020 10:44:39</td>\n",
       "      <td>2018-02-18 18:30:00</td>\n",
       "      <td>You murdered babies with poison gassed. You ca...</td>\n",
       "      <td></td>\n",
       "      <td>toddler</td>\n",
       "      <td>0</td>\n",
       "      <td>...</td>\n",
       "      <td>True</td>\n",
       "      <td>False</td>\n",
       "      <td>False</td>\n",
       "      <td>before</td>\n",
       "      <td>Sunday</td>\n",
       "      <td>7</td>\n",
       "      <td>18</td>\n",
       "      <td>February</td>\n",
       "      <td>2</td>\n",
       "      <td>2018-02-18</td>\n",
       "    </tr>\n",
       "    <tr>\n",
       "      <th>4</th>\n",
       "      <td>114</td>\n",
       "      <td>14</td>\n",
       "      <td>104898901</td>\n",
       "      <td>104898881</td>\n",
       "      <td>12-02-2020 10:44:39</td>\n",
       "      <td>2018-02-18 18:32:00</td>\n",
       "      <td>I forgive you for your ignorance. You're too u...</td>\n",
       "      <td></td>\n",
       "      <td>toddler</td>\n",
       "      <td>0</td>\n",
       "      <td>...</td>\n",
       "      <td>True</td>\n",
       "      <td>False</td>\n",
       "      <td>False</td>\n",
       "      <td>before</td>\n",
       "      <td>Sunday</td>\n",
       "      <td>7</td>\n",
       "      <td>18</td>\n",
       "      <td>February</td>\n",
       "      <td>2</td>\n",
       "      <td>2018-02-18</td>\n",
       "    </tr>\n",
       "  </tbody>\n",
       "</table>\n",
       "<p>5 rows × 30 columns</p>\n",
       "</div>"
      ],
      "text/plain": [
       "    id  family_id message_id  parent_id        date_recorded  \\\n",
       "0   15          4  104898750             12-02-2020 10:44:27   \n",
       "1  111         14  104898836             12-02-2020 10:44:39   \n",
       "2  112         14  104898851  104898836  12-02-2020 10:44:39   \n",
       "3  113         14  104898881  104898851  12-02-2020 10:44:39   \n",
       "4  114         14  104898901  104898881  12-02-2020 10:44:39   \n",
       "\n",
       "         date_created                                              title body  \\\n",
       "0 2018-02-18 18:20:00  Speaking of marijuana, High Maintenance on hbo...        \n",
       "1 2018-02-18 18:28:00     Second day Assad mom is again on trump's side.        \n",
       "2 2018-02-18 18:28:00  I'm \"Assad mom\" and I'm not on Trump's side. I...        \n",
       "3 2018-02-18 18:30:00  You murdered babies with poison gassed. You ca...        \n",
       "4 2018-02-18 18:32:00  I forgive you for your ignorance. You're too u...        \n",
       "\n",
       "  subforum  deleted  ... before during  march  period  weekday  week_n  \\\n",
       "0  toddler        0  ...   True  False  False  before   Sunday       7   \n",
       "1  toddler        0  ...   True  False  False  before   Sunday       7   \n",
       "2  toddler        0  ...   True  False  False  before   Sunday       7   \n",
       "3  toddler        0  ...   True  False  False  before   Sunday       7   \n",
       "4  toddler        0  ...   True  False  False  before   Sunday       7   \n",
       "\n",
       "   weekday_n     month  month_n         ymd  \n",
       "0         18  February        2  2018-02-18  \n",
       "1         18  February        2  2018-02-18  \n",
       "2         18  February        2  2018-02-18  \n",
       "3         18  February        2  2018-02-18  \n",
       "4         18  February        2  2018-02-18  \n",
       "\n",
       "[5 rows x 30 columns]"
      ]
     },
     "execution_count": 32,
     "metadata": {},
     "output_type": "execute_result"
    }
   ],
   "source": [
    "td.head()"
   ]
  },
  {
   "cell_type": "markdown",
   "metadata": {},
   "source": [
    "## Compare Sentiment"
   ]
  },
  {
   "cell_type": "markdown",
   "metadata": {},
   "source": [
    "### 1. Subsets in correct date range: 2018-01-01 to 2020-11-30"
   ]
  },
  {
   "cell_type": "code",
   "execution_count": 33,
   "metadata": {},
   "outputs": [],
   "source": [
    "mask = (td['date_created'] >= pd.Timestamp(2018, 1, 1, 0, 0, 0)) & (td['date_created'] < pd.Timestamp(2020, 12, 1, 0, 0, 0))\n",
    "td_sub = td.loc[mask]"
   ]
  },
  {
   "cell_type": "code",
   "execution_count": 34,
   "metadata": {},
   "outputs": [],
   "source": [
    "mask = (sn['date_created'] >= pd.Timestamp(2018, 1, 1, 0, 0, 0)) & (sn['date_created'] < pd.Timestamp(2020, 12, 1, 0, 0, 0))\n",
    "sn_sub = sn.loc[mask]"
   ]
  },
  {
   "cell_type": "markdown",
   "metadata": {},
   "source": [
    "### 2. Comparing sentiment before and during pandemic with a t-test"
   ]
  },
  {
   "cell_type": "code",
   "execution_count": 38,
   "metadata": {
    "scrolled": false
   },
   "outputs": [
    {
     "name": "stdout",
     "output_type": "stream",
     "text": [
      "special-needs\n",
      "\n",
      "\n",
      "     variable    before    during statistic    pvalue\n",
      "neg_sentiment  0.065994  0.070662 -2.666893  0.007673\n",
      "\n",
      "\n",
      "     variable    before    during statistic    pvalue\n",
      "neu_sentiment  0.782411  0.767375 +4.311199  0.000016\n",
      "\n",
      "\n",
      "     variable    before    during statistic    pvalue\n",
      "pos_sentiment  0.118489  0.116065 +1.041510  0.297674\n",
      "\n",
      "\n",
      "          variable    before    during statistic    pvalue\n",
      "compound_sentiment  0.125809  0.111455 +2.330966  0.019783\n",
      "\n",
      "\n",
      "toddler\n",
      "\n",
      "\n",
      "     variable    before    during statistic    pvalue\n",
      "neg_sentiment  0.087440  0.088576 -3.806125  0.000141\n",
      "\n",
      "\n",
      "     variable    before    during statistic    pvalue\n",
      "neu_sentiment  0.772217  0.769809 +5.174986  0.000000\n",
      "\n",
      "\n",
      "     variable    before    during statistic    pvalue\n",
      "pos_sentiment  0.124902  0.119395 +15.393640  0.000000\n",
      "\n",
      "\n",
      "          variable    before    during statistic    pvalue\n",
      "compound_sentiment  0.056082  0.041731 +20.995239  0.000000\n",
      "\n",
      "\n"
     ]
    }
   ],
   "source": [
    "for name, df in {\"Special Needs\":sn_sub, \"Toddler\":td_sub}.items():\n",
    "    print(name)\n",
    "    ttest_sentiment(df, 'neg_sentiment')\n",
    "    ttest_sentiment(df, 'neu_sentiment')\n",
    "    ttest_sentiment(df, 'pos_sentiment')\n",
    "    ttest_sentiment(df, 'compound_sentiment')\n",
    "    print(\"\\n\")"
   ]
  },
  {
   "cell_type": "code",
   "execution_count": 39,
   "metadata": {},
   "outputs": [
    {
     "data": {
      "image/png": "[encoded data removed]",
      "text/plain": [
       "<Figure size 432x288 with 1 Axes>"
      ]
     },
     "metadata": {
      "needs_background": "light"
     },
     "output_type": "display_data"
    },
    {
     "data": {
      "image/png": "[encoded data removed]",
      "text/plain": [
       "<Figure size 432x288 with 1 Axes>"
      ]
     },
     "metadata": {
      "needs_background": "light"
     },
     "output_type": "display_data"
    }
   ],
   "source": [
    "for name, df in {\"Special Needs\":sn_sub, \"Toddler\":td_sub}.items():\n",
    "    fig, ax = plt.subplots()\n",
    "    width = 0.35\n",
    "    sentiments = ['Negative', 'Positive']\n",
    "    x_pos = np.arange(len(sentiments))\n",
    "\n",
    "    before_mean = [df[\"neg_sentiment\"][df['before']].mean(),\n",
    "                   df[\"pos_sentiment\"][df['before']].mean()]\n",
    "    before_se = [df[\"neg_sentiment\"][df['before']].std()/math.sqrt(len(df[\"neg_sentiment\"][df['before']])),\n",
    "                 df[\"pos_sentiment\"][df['before']].std()/math.sqrt(len(df[\"pos_sentiment\"][df['before']]))]\n",
    "    during_mean = [df[\"neg_sentiment\"][df['during']].mean(),\n",
    "                   df[\"pos_sentiment\"][df['during']].mean()]\n",
    "    during_se = [df[\"neg_sentiment\"][df['during']].std()/math.sqrt(len(df[\"neg_sentiment\"][df['during']])),\n",
    "                 df[\"pos_sentiment\"][df['during']].std()/math.sqrt(len(df[\"pos_sentiment\"][df['during']]))]\n",
    "\n",
    "    rects_before = ax.bar(x_pos - width/2, before_mean, width, yerr=before_se,\n",
    "                    label='Before', capsize=5, color=\"cornflowerblue\")\n",
    "    rects_during = ax.bar(x_pos + width/2, during_mean, width, yerr=during_se,\n",
    "                    label='During', capsize=5, color=\"indianred\")\n",
    "\n",
    "    # Add some text for labels, title and custom x-axis tick labels, etc.\n",
    "    ax.set_ylabel('Average Sentiment Score\\n(normalized 0 to 1)')\n",
    "    ax.set_title('Comparison of Sentiment Scores: {}'.format(name))\n",
    "    ax.set_xticks(x_pos)\n",
    "    ax.set_xticklabels(sentiments)\n",
    "    ax.legend()\n",
    "    fig.tight_layout()\n",
    "#     plt.savefig('../plots/sentiment_neg_pos.png')\n",
    "    plt.show()"
   ]
  },
  {
   "cell_type": "markdown",
   "metadata": {},
   "source": [
    "### 3. Comparing sentiment of parent and child posts"
   ]
  },
  {
   "cell_type": "code",
   "execution_count": null,
   "metadata": {
    "scrolled": false
   },
   "outputs": [],
   "source": [
    "for df in [sn_sub, td_sub]:\n",
    "    print(\"\\nGROUP\\n\")\n",
    "    compare = compare_parent_child(df)\n",
    "    est_pos = ols(formula = 'pos_sentiment_c ~ pos_sentiment_p', data = compare).fit()\n",
    "    print(est_pos.summary())\n",
    "    est_neg = ols(formula = 'neg_sentiment_c ~ neg_sentiment_p', data = compare).fit()\n",
    "    print(est_neg.summary())\n",
    "    est_compound = ols(formula = 'compound_sentiment_c ~ compound_sentiment_p', data = compare).fit()\n",
    "    print(est_compound.summary())"
   ]
  },
  {
   "cell_type": "markdown",
   "metadata": {},
   "source": [
    "So this suggests if a parent comment's negative sentiment increases, the children's negative sentiment will increase as well. Perhaps redo this analysis on each observation rather than the average children's sentiment."
   ]
  },
  {
   "cell_type": "markdown",
   "metadata": {},
   "source": [
    "### 4. Compare density of compound sentiment"
   ]
  },
  {
   "cell_type": "code",
   "execution_count": 42,
   "metadata": {
    "scrolled": false
   },
   "outputs": [
    {
     "data": {
      "image/png": "[encoded data removed]",
      "text/plain": [
       "<Figure size 432x288 with 1 Axes>"
      ]
     },
     "metadata": {
      "needs_background": "light"
     },
     "output_type": "display_data"
    },
    {
     "data": {
      "image/png": "[encoded data removed]",
      "text/plain": [
       "<Figure size 432x288 with 1 Axes>"
      ]
     },
     "metadata": {
      "needs_background": "light"
     },
     "output_type": "display_data"
    }
   ],
   "source": [
    "for name, df in {\"Special Needs\":sn_sub, \"Toddler\":td_sub}.items():\n",
    "    density_before = kde.gaussian_kde(df[\"compound_sentiment\"][df['before']])\n",
    "    density_march = kde.gaussian_kde(df[\"compound_sentiment\"][df['march']])\n",
    "    density_during = kde.gaussian_kde(df[\"compound_sentiment\"][df['during']])\n",
    "    x = np.arange(-1.0, 1.0, 0.01)\n",
    "    plt.scatter(x, density_before(x), alpha=0.5, label=\"Before\")\n",
    "    plt.scatter(x, density_march(x), alpha=0.5, label=\"March\")\n",
    "    plt.scatter(x, density_during(x), alpha=0.5, label=\"During\")\n",
    "    plt.legend(loc=\"upper right\")\n",
    "    plt.title('Density of Compound Sentiment Scores: {}'.format(name))\n",
    "    plt.show()"
   ]
  },
  {
   "cell_type": "code",
   "execution_count": 137,
   "metadata": {},
   "outputs": [
    {
     "data": {
      "image/png": "[encoded data removed]",
      "text/plain": [
       "<Figure size 432x288 with 1 Axes>"
      ]
     },
     "metadata": {
      "needs_background": "light"
     },
     "output_type": "display_data"
    },
    {
     "data": {
      "image/png": "[encoded data removed]",
      "text/plain": [
       "<Figure size 432x288 with 1 Axes>"
      ]
     },
     "metadata": {
      "needs_background": "light"
     },
     "output_type": "display_data"
    }
   ],
   "source": [
    "size = 3\n",
    "for name, df in {\"Special Needs\":sn, \"Toddler\":td_sub}.items():\n",
    "    daily_ave = ave_sent_day(df)\n",
    "    groups = daily_ave.groupby('period')\n",
    "    for period, group in groups:\n",
    "        plt.scatter(group.index, group.compound_sentiment, label=period, s=size)\n",
    "    plt.legend(loc=\"lower left\")\n",
    "    plt.xticks(rotation=90)\n",
    "    plt.ylabel('Compound Sentiment\\n(normalized -1 to 1)')\n",
    "    plt.title('Daily Average Compound Sentiment Scores: {}'.format(name))\n",
    "    plt.axhline(y=0, color='black', linestyle='-', alpha=0.5)\n",
    "    plt.tight_layout()\n",
    "    plt.show()"
   ]
  },
  {
   "cell_type": "markdown",
   "metadata": {},
   "source": [
    "### 5. Compare post frequency over same period for special needs and toddler subforums"
   ]
  },
  {
   "cell_type": "markdown",
   "metadata": {},
   "source": [
    "Frequency"
   ]
  },
  {
   "cell_type": "code",
   "execution_count": 138,
   "metadata": {},
   "outputs": [
    {
     "data": {
      "image/png": "[encoded data removed]",
      "text/plain": [
       "<Figure size 432x288 with 1 Axes>"
      ]
     },
     "metadata": {
      "needs_background": "light"
     },
     "output_type": "display_data"
    },
    {
     "data": {
      "image/png": "[encoded data removed]",
      "text/plain": [
       "<Figure size 432x288 with 1 Axes>"
      ]
     },
     "metadata": {
      "needs_background": "light"
     },
     "output_type": "display_data"
    }
   ],
   "source": [
    "size = 3\n",
    "for name, df in {\"Special Needs\":sn, \"Toddler\":td_sub}.items():\n",
    "    freq = daily_freq(df)\n",
    "    groups = freq.groupby('period')\n",
    "    for period, group in groups:\n",
    "        plt.scatter(group.index, group.daily_count, label=period, s=size)\n",
    "    plt.legend(loc=\"lower left\")\n",
    "    plt.xticks(rotation=90)\n",
    "    plt.ylabel('Frequency')\n",
    "    plt.title('Daily Frequency of Posts: {}'.format(name))\n",
    "    plt.axhline(y=0, color='black', linestyle='-', alpha=0.5)\n",
    "    plt.tight_layout()\n",
    "    plt.show()"
   ]
  }
 ],
 "metadata": {
  "kernelspec": {
   "display_name": "Python 3",
   "language": "python",
   "name": "python3"
  },
  "language_info": {
   "codemirror_mode": {
    "name": "ipython",
    "version": 3
   },
   "file_extension": ".py",
   "mimetype": "text/x-python",
   "name": "python",
   "nbconvert_exporter": "python",
   "pygments_lexer": "ipython3",
   "version": "3.8.5"
  }
 },
 "nbformat": 4,
 "nbformat_minor": 4
}
