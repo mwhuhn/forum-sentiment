{
 "cells": [
  {
   "cell_type": "markdown",
   "metadata": {},
   "source": [
    "# Analyze Sentiment for Forum Data\n",
    "This notebook loads the sentiment data and explores results\n",
    "\n",
    "## Data Sources\n",
    "- youbemom-merged.db (with sentiment scores from 2.0-Sentiment-Create_Scores.ipynb)\n",
    "\n",
    "## Changes\n",
    "- 2020-12-13: Created\n",
    "\n",
    "## Database Structure\n",
    "- threads\n",
    " - id: automatically assigned\n",
    " - url: url of top post\n",
    " - subforum: subforum of post\n",
    " - dne: post does not exist\n",
    "- posts\n",
    " - id: automatically assigned\n",
    " - family_id: thread->id\n",
    " - message_id: the unique id of the message from the html\n",
    " - parent_id: id of post this post is responding to, 0 if top post\n",
    " - date_recorded: date the data is fetched\n",
    " - date_created: date the data was created\n",
    " - title: title of the post\n",
    " - body: body of the post\n",
    " - subforum: subforum of post\n",
    " - deleted: has post been deleted\n",
    "\n",
    "## TODO\n",
    "- Does python have a regression function for continuous dependent variables between 0 and 1 or will I have to use R/Stata for a fractional regression model?\n",
    "- Set up functions for the plots so I can plug in the variable I want to see\n",
    "- Does sentiment differ between parents and children in threads?\n",
    " - Is sentiment more negative after negative posts? More positive after positive posts?\n",
    "- Is there a time-dependent function here?\n",
    " - Seasonality?\n",
    " - Does tweaking the time period cutoffs affect the significance?\n",
    "- Frequency distribution of words\n",
    "- Robustness checks of different samples\n",
    "- Scrape the rest of December so frequency counts are right"
   ]
  },
  {
   "cell_type": "markdown",
   "metadata": {},
   "source": [
    "## Imports"
   ]
  },
  {
   "cell_type": "code",
   "execution_count": 1,
   "metadata": {},
   "outputs": [],
   "source": [
    "import sqlite3\n",
    "import pandas as pd\n",
    "import numpy as np\n",
    "from vaderSentiment.vaderSentiment import SentimentIntensityAnalyzer\n",
    "from scipy.stats import ttest_ind, kde\n",
    "from datetime import datetime\n",
    "# from nltk.probability import FreqDist\n",
    "from nltk.tokenize import RegexpTokenizer #, word_tokenize\n",
    "from nltk.corpus import stopwords\n",
    "import string\n",
    "import re\n",
    "from pathlib import Path\n",
    "import matplotlib.pyplot as plt\n",
    "import math\n",
    "from statsmodels.formula.api  import ols\n",
    "from youbemom import create_connection"
   ]
  },
  {
   "cell_type": "markdown",
   "metadata": {},
   "source": [
    "## Functions"
   ]
  },
  {
   "cell_type": "code",
   "execution_count": 2,
   "metadata": {},
   "outputs": [],
   "source": [
    "def ttest_sentiment(df, v):\n",
    "    \"\"\" run a t-test on the sentiment scores for\n",
    "        before and during the pandemic\n",
    "    :param df: data frame\n",
    "    :param v: the variable name to t-test on\n",
    "    :return: nothing, prints ttest results\n",
    "    \"\"\"\n",
    "    group_before = df.where(df['before'])[v].dropna()\n",
    "    group_during = df.where(df['during'])[v].dropna()\n",
    "    result = ttest_ind(group_before, group_during, equal_var=False, nan_policy=\"omit\")\n",
    "    print('\\n')\n",
    "    l = len(v)\n",
    "    print(' '*(l - 8) + 'variable    before    during statistic    pvalue')\n",
    "    print(v + '  {:1.6f}  {:1.6f} {:+1.6f}  {:1.6f}'.format(group_before.mean(), group_during.mean(), result.statistic, result.pvalue))"
   ]
  },
  {
   "cell_type": "code",
   "execution_count": 3,
   "metadata": {},
   "outputs": [],
   "source": [
    "def format_data(df):\n",
    "    \"\"\" format the data frame from sql so dates are in\n",
    "        datetime format and booleans are bools not ints\n",
    "    :param df: data frame\n",
    "    :return df: formatted data frame\n",
    "    \"\"\"\n",
    "    df['date_recorded'] = pd.to_datetime(df['date_recorded'])\n",
    "    df['date_created'] = pd.to_datetime(df['date_created'])\n",
    "    df['is_parent'] = df['is_parent'] == 1\n",
    "    df['deleted'] = df['deleted'] == 1\n",
    "    df['before'] = df['before'] == 1\n",
    "    df['during'] = df['during'] == 1\n",
    "    df['march'] = df['march'] == 1\n",
    "    return df"
   ]
  },
  {
   "cell_type": "code",
   "execution_count": 4,
   "metadata": {},
   "outputs": [],
   "source": [
    "def compare_parent_child(df):\n",
    "    parents = df[df[\"is_parent\"]]\n",
    "    parents = parents[[\"family_id\",\"neg_sentiment\",\"pos_sentiment\",\"compound_sentiment\"]]\n",
    "    children = df[~df[\"is_parent\"]]\n",
    "    children = children[[\"family_id\",\"neg_sentiment\",\"pos_sentiment\",\"compound_sentiment\"]]\n",
    "    children_ave = children.groupby(\"family_id\", as_index=False).mean()\n",
    "    compare = pd.merge(left=parents, right=children_ave, on=\"family_id\", how=\"inner\", suffixes=['_p','_c'])\n",
    "    compare['pos_diff'] = compare['pos_sentiment_p'] - compare['pos_sentiment_c']\n",
    "    compare['neg_diff'] = compare['neg_sentiment_p'] - compare['neg_sentiment_c']\n",
    "    compare['compound_diff'] = compare['compound_sentiment_p'] - compare['compound_sentiment_c']\n",
    "    return compare"
   ]
  },
  {
   "cell_type": "code",
   "execution_count": 5,
   "metadata": {},
   "outputs": [],
   "source": [
    "def season_sentiment(df, name, var):\n",
    "    grouping_ave = df.groupby([var])['compound_sentiment'].mean()\n",
    "    path_sen = path_parent / \"clean_data\" / \"sentiment_{0}_{1}.csv\".format(name, var)\n",
    "    path_sen = str(path_sen)\n",
    "    grouping_ave.to_csv(path_sen)\n",
    "    print(grouping_ave)"
   ]
  },
  {
   "cell_type": "code",
   "execution_count": 25,
   "metadata": {},
   "outputs": [],
   "source": [
    "def season_freq(df, name, var):\n",
    "    grouping_freq = df.groupby(var)[var].count()\n",
    "    path_freq = path_parent / \"clean_data\" / \"frequency_{0}_{1}.csv\".format(name, var)\n",
    "    path_freq = str(path_freq)\n",
    "    grouping_freq.to_csv(path_freq)\n",
    "    print(grouping_freq)"
   ]
  },
  {
   "cell_type": "code",
   "execution_count": 33,
   "metadata": {},
   "outputs": [],
   "source": [
    "def ave_sent_day(df):\n",
    "    df['date'] = pd.to_datetime(df['date_created'], format=\"%Y-%m-%d\")\n",
    "    daily_ave = df.resample('d', on='date').mean().dropna(how='all')\n",
    "    daily_ave['before'] = daily_ave.index <= pd.Timestamp(2020,2,28)\n",
    "    daily_ave['during'] = daily_ave.index >= pd.Timestamp(2020,4,1)\n",
    "    daily_ave['march'] = ~daily_ave['before'] & ~daily_ave['during']\n",
    "    return daily_ave"
   ]
  },
  {
   "cell_type": "code",
   "execution_count": null,
   "metadata": {},
   "outputs": [],
   "source": []
  },
  {
   "cell_type": "markdown",
   "metadata": {},
   "source": [
    "## File Locations"
   ]
  },
  {
   "cell_type": "code",
   "execution_count": 6,
   "metadata": {},
   "outputs": [],
   "source": [
    "p = Path.cwd()\n",
    "path_parent = p.parents[0]"
   ]
  },
  {
   "cell_type": "code",
   "execution_count": 7,
   "metadata": {},
   "outputs": [],
   "source": [
    "path_db = path_parent / \"database\" / \"youbemom-merged.db\"\n",
    "path_db = str(path_db)"
   ]
  },
  {
   "cell_type": "markdown",
   "metadata": {},
   "source": [
    "## Load Data\n",
    "Counts of posts in each subforum"
   ]
  },
  {
   "cell_type": "code",
   "execution_count": 8,
   "metadata": {},
   "outputs": [],
   "source": [
    "counts_sql = '''\n",
    "    SELECT subforum, COUNT(family_id), MIN(date_created), MAX(date_created)\n",
    "    FROM posts\n",
    "    GROUP BY subforum\n",
    "'''"
   ]
  },
  {
   "cell_type": "code",
   "execution_count": 9,
   "metadata": {},
   "outputs": [],
   "source": [
    "conn = create_connection(path_db)\n",
    "counts = pd.read_sql_query(counts_sql, conn)"
   ]
  },
  {
   "cell_type": "code",
   "execution_count": 10,
   "metadata": {},
   "outputs": [
    {
     "data": {
      "text/html": [
       "<div>\n",
       "<style scoped>\n",
       "    .dataframe tbody tr th:only-of-type {\n",
       "        vertical-align: middle;\n",
       "    }\n",
       "\n",
       "    .dataframe tbody tr th {\n",
       "        vertical-align: top;\n",
       "    }\n",
       "\n",
       "    .dataframe thead th {\n",
       "        text-align: right;\n",
       "    }\n",
       "</style>\n",
       "<table border=\"1\" class=\"dataframe\">\n",
       "  <thead>\n",
       "    <tr style=\"text-align: right;\">\n",
       "      <th></th>\n",
       "      <th>subforum</th>\n",
       "      <th>COUNT(family_id)</th>\n",
       "      <th>MIN(date_created)</th>\n",
       "      <th>MAX(date_created)</th>\n",
       "    </tr>\n",
       "  </thead>\n",
       "  <tbody>\n",
       "    <tr>\n",
       "      <th>0</th>\n",
       "      <td>boston</td>\n",
       "      <td>230</td>\n",
       "      <td>2018-01-27 17:21:00</td>\n",
       "      <td>2020-11-23 00:23:00</td>\n",
       "    </tr>\n",
       "    <tr>\n",
       "      <th>1</th>\n",
       "      <td>chicago</td>\n",
       "      <td>193</td>\n",
       "      <td>2018-03-05 14:40:00</td>\n",
       "      <td>2020-12-08 13:50:30</td>\n",
       "    </tr>\n",
       "    <tr>\n",
       "      <th>2</th>\n",
       "      <td>elementary</td>\n",
       "      <td>3543</td>\n",
       "      <td>2013-12-05 21:43:00</td>\n",
       "      <td>2020-11-30 20:52:00</td>\n",
       "    </tr>\n",
       "    <tr>\n",
       "      <th>3</th>\n",
       "      <td>expecting</td>\n",
       "      <td>872</td>\n",
       "      <td>2018-01-24 02:43:00</td>\n",
       "      <td>2020-11-23 21:01:00</td>\n",
       "    </tr>\n",
       "    <tr>\n",
       "      <th>4</th>\n",
       "      <td>los-angeles</td>\n",
       "      <td>263</td>\n",
       "      <td>2018-01-09 20:58:00</td>\n",
       "      <td>2020-12-02 02:07:00</td>\n",
       "    </tr>\n",
       "    <tr>\n",
       "      <th>5</th>\n",
       "      <td>new-york-city</td>\n",
       "      <td>6297</td>\n",
       "      <td>2018-01-07 11:37:00</td>\n",
       "      <td>2020-11-28 03:45:00</td>\n",
       "    </tr>\n",
       "    <tr>\n",
       "      <th>6</th>\n",
       "      <td>newborn</td>\n",
       "      <td>2036</td>\n",
       "      <td>2013-11-06 20:55:00</td>\n",
       "      <td>2020-11-29 23:39:00</td>\n",
       "    </tr>\n",
       "    <tr>\n",
       "      <th>7</th>\n",
       "      <td>nyc-schools</td>\n",
       "      <td>2211</td>\n",
       "      <td>2018-01-01 16:03:00</td>\n",
       "      <td>2020-12-04 16:49:00</td>\n",
       "    </tr>\n",
       "    <tr>\n",
       "      <th>8</th>\n",
       "      <td>preschool</td>\n",
       "      <td>3000</td>\n",
       "      <td>2013-12-10 03:58:00</td>\n",
       "      <td>2020-11-23 14:34:00</td>\n",
       "    </tr>\n",
       "    <tr>\n",
       "      <th>9</th>\n",
       "      <td>single-parents</td>\n",
       "      <td>337</td>\n",
       "      <td>2018-02-07 11:29:00</td>\n",
       "      <td>2020-11-23 16:22:00</td>\n",
       "    </tr>\n",
       "    <tr>\n",
       "      <th>10</th>\n",
       "      <td>special-needs</td>\n",
       "      <td>269902</td>\n",
       "      <td>2014-02-10 18:13:00</td>\n",
       "      <td>2020-12-08 00:35:33</td>\n",
       "    </tr>\n",
       "    <tr>\n",
       "      <th>11</th>\n",
       "      <td>toddler</td>\n",
       "      <td>16399476</td>\n",
       "      <td>2018-01-01 00:00:00</td>\n",
       "      <td>2020-12-07 20:16:15</td>\n",
       "    </tr>\n",
       "    <tr>\n",
       "      <th>12</th>\n",
       "      <td>ttc</td>\n",
       "      <td>616</td>\n",
       "      <td>2018-01-20 13:21:00</td>\n",
       "      <td>2020-11-23 05:23:00</td>\n",
       "    </tr>\n",
       "    <tr>\n",
       "      <th>13</th>\n",
       "      <td>tween-teen</td>\n",
       "      <td>6455</td>\n",
       "      <td>2013-12-30 16:23:00</td>\n",
       "      <td>2020-12-06 23:33:00</td>\n",
       "    </tr>\n",
       "    <tr>\n",
       "      <th>14</th>\n",
       "      <td>weight-watchers</td>\n",
       "      <td>276</td>\n",
       "      <td>2018-01-22 03:46:00</td>\n",
       "      <td>2020-11-29 17:29:00</td>\n",
       "    </tr>\n",
       "    <tr>\n",
       "      <th>15</th>\n",
       "      <td>ybm-feedback</td>\n",
       "      <td>343</td>\n",
       "      <td>2018-01-21 19:35:00</td>\n",
       "      <td>2020-11-23 08:52:00</td>\n",
       "    </tr>\n",
       "  </tbody>\n",
       "</table>\n",
       "</div>"
      ],
      "text/plain": [
       "           subforum  COUNT(family_id)    MIN(date_created)  \\\n",
       "0            boston               230  2018-01-27 17:21:00   \n",
       "1           chicago               193  2018-03-05 14:40:00   \n",
       "2        elementary              3543  2013-12-05 21:43:00   \n",
       "3         expecting               872  2018-01-24 02:43:00   \n",
       "4       los-angeles               263  2018-01-09 20:58:00   \n",
       "5     new-york-city              6297  2018-01-07 11:37:00   \n",
       "6           newborn              2036  2013-11-06 20:55:00   \n",
       "7       nyc-schools              2211  2018-01-01 16:03:00   \n",
       "8         preschool              3000  2013-12-10 03:58:00   \n",
       "9    single-parents               337  2018-02-07 11:29:00   \n",
       "10    special-needs            269902  2014-02-10 18:13:00   \n",
       "11          toddler          16399476  2018-01-01 00:00:00   \n",
       "12              ttc               616  2018-01-20 13:21:00   \n",
       "13       tween-teen              6455  2013-12-30 16:23:00   \n",
       "14  weight-watchers               276  2018-01-22 03:46:00   \n",
       "15     ybm-feedback               343  2018-01-21 19:35:00   \n",
       "\n",
       "      MAX(date_created)  \n",
       "0   2020-11-23 00:23:00  \n",
       "1   2020-12-08 13:50:30  \n",
       "2   2020-11-30 20:52:00  \n",
       "3   2020-11-23 21:01:00  \n",
       "4   2020-12-02 02:07:00  \n",
       "5   2020-11-28 03:45:00  \n",
       "6   2020-11-29 23:39:00  \n",
       "7   2020-12-04 16:49:00  \n",
       "8   2020-11-23 14:34:00  \n",
       "9   2020-11-23 16:22:00  \n",
       "10  2020-12-08 00:35:33  \n",
       "11  2020-12-07 20:16:15  \n",
       "12  2020-11-23 05:23:00  \n",
       "13  2020-12-06 23:33:00  \n",
       "14  2020-11-29 17:29:00  \n",
       "15  2020-11-23 08:52:00  "
      ]
     },
     "execution_count": 10,
     "metadata": {},
     "output_type": "execute_result"
    }
   ],
   "source": [
    "counts.head(16)"
   ]
  },
  {
   "cell_type": "markdown",
   "metadata": {},
   "source": [
    "Special needs subforum"
   ]
  },
  {
   "cell_type": "code",
   "execution_count": 11,
   "metadata": {},
   "outputs": [],
   "source": [
    "sn_sql = ''' SELECT * FROM posts WHERE subforum=\"special-needs\" '''"
   ]
  },
  {
   "cell_type": "code",
   "execution_count": 12,
   "metadata": {},
   "outputs": [],
   "source": [
    "sn = pd.read_sql_query(sn_sql, conn)"
   ]
  },
  {
   "cell_type": "code",
   "execution_count": 13,
   "metadata": {},
   "outputs": [],
   "source": [
    "sn = format_data(sn)"
   ]
  },
  {
   "cell_type": "markdown",
   "metadata": {},
   "source": [
    "Toddler subforum: generate a 10% sample of family_ids to make processing easier"
   ]
  },
  {
   "cell_type": "code",
   "execution_count": 14,
   "metadata": {},
   "outputs": [],
   "source": [
    "td_ids_sql = ''' SELECT family_id FROM threads WHERE subforum=\"toddler\" '''"
   ]
  },
  {
   "cell_type": "code",
   "execution_count": 15,
   "metadata": {},
   "outputs": [],
   "source": [
    "td_ids = pd.read_sql_query(td_ids_sql, conn)"
   ]
  },
  {
   "cell_type": "code",
   "execution_count": 16,
   "metadata": {},
   "outputs": [],
   "source": [
    "id_10per_sample = td_ids.sample(frac = 0.1, random_state = 281)"
   ]
  },
  {
   "cell_type": "code",
   "execution_count": 17,
   "metadata": {},
   "outputs": [],
   "source": [
    "temp_table_sql = ''' CREATE TEMPORARY TABLE temp(id INTEGER NOT NULL PRIMARY KEY AUTOINCREMENT UNIQUE, family_id INTEGER); '''"
   ]
  },
  {
   "cell_type": "code",
   "execution_count": 18,
   "metadata": {},
   "outputs": [
    {
     "data": {
      "text/plain": [
       "<sqlite3.Cursor at 0x2114ad81500>"
      ]
     },
     "execution_count": 18,
     "metadata": {},
     "output_type": "execute_result"
    }
   ],
   "source": [
    "cur = conn.cursor()\n",
    "cur.execute(temp_table_sql)"
   ]
  },
  {
   "cell_type": "code",
   "execution_count": 19,
   "metadata": {},
   "outputs": [],
   "source": [
    "id_10per_sample.to_sql('temp', conn, if_exists='append', index=False)"
   ]
  },
  {
   "cell_type": "code",
   "execution_count": 20,
   "metadata": {},
   "outputs": [],
   "source": [
    "td_sql = ''' \n",
    "    SELECT * \n",
    "    FROM posts \n",
    "    WHERE subforum=\"toddler\" \n",
    "        AND family_id IN (SELECT family_id FROM temp)\n",
    "'''"
   ]
  },
  {
   "cell_type": "code",
   "execution_count": 21,
   "metadata": {},
   "outputs": [],
   "source": [
    "td = pd.read_sql_query(td_sql, conn)"
   ]
  },
  {
   "cell_type": "code",
   "execution_count": 22,
   "metadata": {},
   "outputs": [],
   "source": [
    "td = format_data(td)"
   ]
  },
  {
   "cell_type": "markdown",
   "metadata": {},
   "source": [
    "## Compare Sentiment"
   ]
  },
  {
   "cell_type": "markdown",
   "metadata": {},
   "source": [
    "### 1. Subsets in correct date range: 2018-01-01 to 2020-11-30"
   ]
  },
  {
   "cell_type": "code",
   "execution_count": 23,
   "metadata": {},
   "outputs": [],
   "source": [
    "mask = (td['date_created'] >= pd.Timestamp(2018, 1, 1, 0, 0, 0)) & (td['date_created'] < pd.Timestamp(2020, 12, 1, 0, 0, 0))\n",
    "td_sub = td.loc[mask]"
   ]
  },
  {
   "cell_type": "code",
   "execution_count": 24,
   "metadata": {},
   "outputs": [],
   "source": [
    "mask = (sn['date_created'] >= pd.Timestamp(2018, 1, 1, 0, 0, 0)) & (sn['date_created'] < pd.Timestamp(2020, 12, 1, 0, 0, 0))\n",
    "sn_sub = sn.loc[mask]"
   ]
  },
  {
   "cell_type": "markdown",
   "metadata": {},
   "source": [
    "### 2. Comparing sentiment before and during pandemic with a t-test"
   ]
  },
  {
   "cell_type": "code",
   "execution_count": null,
   "metadata": {
    "scrolled": true
   },
   "outputs": [],
   "source": [
    "for df in [sn_sub, td_sub]:\n",
    "    print(\"\\nGROUP\\n\")\n",
    "    ttest_sentiment(df, 'neg_sentiment')\n",
    "    ttest_sentiment(df, 'neu_sentiment')\n",
    "    ttest_sentiment(df, 'pos_sentiment')\n",
    "    ttest_sentiment(df, 'compound_sentiment')"
   ]
  },
  {
   "cell_type": "code",
   "execution_count": null,
   "metadata": {},
   "outputs": [],
   "source": [
    "for df in [sn_sub, td_sub]:\n",
    "    fig, ax = plt.subplots()\n",
    "    width = 0.35\n",
    "    sentiments = ['Negative', 'Positive']\n",
    "    x_pos = np.arange(len(sentiments))\n",
    "\n",
    "    before_mean = [df[\"neg_sentiment\"][df['before']].mean(),\n",
    "                   df[\"pos_sentiment\"][df['before']].mean()]\n",
    "    before_se = [df[\"neg_sentiment\"][df['before']].std()/math.sqrt(len(df[\"neg_sentiment\"][df['before']])),\n",
    "                 df[\"pos_sentiment\"][df['before']].std()/math.sqrt(len(df[\"pos_sentiment\"][df['before']]))]\n",
    "    during_mean = [df[\"neg_sentiment\"][df['during']].mean(),\n",
    "                   df[\"pos_sentiment\"][df['during']].mean()]\n",
    "    during_se = [df[\"neg_sentiment\"][df['during']].std()/math.sqrt(len(df[\"neg_sentiment\"][df['during']])),\n",
    "                 df[\"pos_sentiment\"][df['during']].std()/math.sqrt(len(df[\"pos_sentiment\"][df['during']]))]\n",
    "\n",
    "    rects_before = ax.bar(x_pos - width/2, before_mean, width, yerr=before_se,\n",
    "                    label='Before', capsize=5, color=\"cornflowerblue\")\n",
    "    rects_during = ax.bar(x_pos + width/2, during_mean, width, yerr=during_se,\n",
    "                    label='During', capsize=5, color=\"indianred\")\n",
    "\n",
    "    # Add some text for labels, title and custom x-axis tick labels, etc.\n",
    "    ax.set_ylabel('Average Sentiment Score\\n(normalized 0 to 1)')\n",
    "    ax.set_title('Comparison of Sentiment Scores')\n",
    "    ax.set_xticks(x_pos)\n",
    "    ax.set_xticklabels(sentiments)\n",
    "    ax.legend()\n",
    "    fig.tight_layout()\n",
    "#     plt.savefig('../plots/sentiment_neg_pos.png')\n",
    "    plt.show()"
   ]
  },
  {
   "cell_type": "markdown",
   "metadata": {},
   "source": [
    "### 3. Comparing sentiment of parent and child posts"
   ]
  },
  {
   "cell_type": "code",
   "execution_count": null,
   "metadata": {
    "scrolled": false
   },
   "outputs": [],
   "source": [
    "for df in [sn_sub, td_sub]:\n",
    "    print(\"\\nGROUP\\n\")\n",
    "    compare = compare_parent_child(df)\n",
    "    est_pos = ols(formula = 'pos_sentiment_c ~ pos_sentiment_p', data = compare).fit()\n",
    "    print(est_pos.summary())\n",
    "    est_neg = ols(formula = 'neg_sentiment_c ~ neg_sentiment_p', data = compare).fit()\n",
    "    print(est_neg.summary())\n",
    "    est_compound = ols(formula = 'compound_sentiment_c ~ compound_sentiment_p', data = compare).fit()\n",
    "    print(est_compound.summary())"
   ]
  },
  {
   "cell_type": "markdown",
   "metadata": {},
   "source": [
    "So this suggests if a parent comment's negative sentiment increases, the children's negative sentiment will increase as well. Perhaps redo this analysis on each observation rather than the average children's sentiment."
   ]
  },
  {
   "cell_type": "markdown",
   "metadata": {},
   "source": [
    "### 4. Compare density of compound sentiment"
   ]
  },
  {
   "cell_type": "code",
   "execution_count": null,
   "metadata": {
    "scrolled": false
   },
   "outputs": [],
   "source": [
    "for df in [sn_sub, td_sub]:\n",
    "    density_before = kde.gaussian_kde(df[\"compound_sentiment\"][df['before']])\n",
    "    density_march = kde.gaussian_kde(df[\"compound_sentiment\"][df['march']])\n",
    "    density_during = kde.gaussian_kde(df[\"compound_sentiment\"][df['during']])\n",
    "    x = np.arange(-1.0, 1.0, 0.01)\n",
    "    plt.scatter(x, density_before(x), alpha=0.5, label=\"Before\")\n",
    "    plt.scatter(x, density_march(x), alpha=0.5, label=\"March\")\n",
    "    plt.scatter(x, density_during(x), alpha=0.5, label=\"During\")\n",
    "    plt.legend(loc=\"upper right\")\n",
    "    plt.show()"
   ]
  },
  {
   "cell_type": "code",
   "execution_count": 34,
   "metadata": {
    "scrolled": true
   },
   "outputs": [
    {
     "name": "stderr",
     "output_type": "stream",
     "text": [
      "C:\\Users\\mwhuhn\\Anaconda3\\lib\\site-packages\\ipykernel_launcher.py:2: SettingWithCopyWarning: \n",
      "A value is trying to be set on a copy of a slice from a DataFrame.\n",
      "Try using .loc[row_indexer,col_indexer] = value instead\n",
      "\n",
      "See the caveats in the documentation: https://pandas.pydata.org/pandas-docs/stable/user_guide/indexing.html#returning-a-view-versus-a-copy\n",
      "  \n"
     ]
    },
    {
     "data": {
      "image/png": "[encoded data removed]",
      "text/plain": [
       "<Figure size 432x288 with 1 Axes>"
      ]
     },
     "metadata": {
      "needs_background": "light"
     },
     "output_type": "display_data"
    },
    {
     "name": "stderr",
     "output_type": "stream",
     "text": [
      "C:\\Users\\mwhuhn\\Anaconda3\\lib\\site-packages\\ipykernel_launcher.py:2: SettingWithCopyWarning: \n",
      "A value is trying to be set on a copy of a slice from a DataFrame.\n",
      "Try using .loc[row_indexer,col_indexer] = value instead\n",
      "\n",
      "See the caveats in the documentation: https://pandas.pydata.org/pandas-docs/stable/user_guide/indexing.html#returning-a-view-versus-a-copy\n",
      "  \n"
     ]
    },
    {
     "data": {
      "image/png": "[encoded data removed]",
      "text/plain": [
       "<Figure size 432x288 with 1 Axes>"
      ]
     },
     "metadata": {
      "needs_background": "light"
     },
     "output_type": "display_data"
    }
   ],
   "source": [
    "size = 3\n",
    "for df in [sn_sub, td_sub]:\n",
    "    daily_ave = ave_sent_day(df)\n",
    "#     print(daily_ave[daily_ave['during']].sort_values(by='compound_sentiment', ascending=False).head(20))\n",
    "    plt.scatter(daily_ave.index[daily_ave['before']], daily_ave['compound_sentiment'][daily_ave['before']], label=\"Before\", s=size)\n",
    "    plt.scatter(daily_ave.index[daily_ave['march']], daily_ave['compound_sentiment'][daily_ave['march']], label=\"March\", s=size)\n",
    "    plt.scatter(daily_ave.index[daily_ave['during']], daily_ave['compound_sentiment'][daily_ave['during']], label=\"During\", s=size)\n",
    "    plt.legend(loc=\"lower left\")\n",
    "    plt.xticks(rotation=90)\n",
    "    plt.ylabel('Compound Sentiment\\n(normalized -1 to 1)')\n",
    "    plt.title('Daily Average Compound Sentiment Scores')\n",
    "    plt.axhline(y=0, color='black', linestyle='-', alpha=0.5)\n",
    "    plt.tight_layout()\n",
    "    # plt.savefig('../plots/daily_ave_compound_sentiment.png')\n",
    "    plt.show()"
   ]
  },
  {
   "cell_type": "markdown",
   "metadata": {},
   "source": [
    "### 5. Compare post frequency over same period for special needs and toddler subforums"
   ]
  },
  {
   "cell_type": "markdown",
   "metadata": {},
   "source": [
    "Sentiment"
   ]
  },
  {
   "cell_type": "code",
   "execution_count": null,
   "metadata": {},
   "outputs": [],
   "source": [
    "season_sentiment(sn_sub, \"special-needs\", \"weekday\")\n",
    "season_sentiment(sn_sub, \"special-needs\", \"month\")\n",
    "season_sentiment(sn_sub, \"special-needs\", \"week_n\")"
   ]
  },
  {
   "cell_type": "code",
   "execution_count": null,
   "metadata": {
    "scrolled": true
   },
   "outputs": [],
   "source": [
    "season_sentiment(td_sub, \"toddler\", \"weekday\")\n",
    "season_sentiment(td_sub, \"toddler\", \"month\")\n",
    "season_sentiment(td_sub, \"toddler\", \"week_n\")"
   ]
  },
  {
   "cell_type": "markdown",
   "metadata": {},
   "source": [
    "Frequency"
   ]
  },
  {
   "cell_type": "code",
   "execution_count": 27,
   "metadata": {},
   "outputs": [
    {
     "name": "stdout",
     "output_type": "stream",
     "text": [
      "weekday\n",
      "Friday        7476\n",
      "Monday        9005\n",
      "Saturday      5497\n",
      "Sunday        5863\n",
      "Thursday      9386\n",
      "Tuesday      10671\n",
      "Wednesday    10336\n",
      "Name: weekday, dtype: int64\n",
      "month\n",
      "April        4928\n",
      "August       3725\n",
      "December     3955\n",
      "February     6793\n",
      "January      7042\n",
      "July         3487\n",
      "June         4695\n",
      "March        6226\n",
      "May          4732\n",
      "November     4279\n",
      "October      4500\n",
      "September    3872\n",
      "Name: month, dtype: int64\n",
      "week_n\n",
      "1     1095\n",
      "2     1702\n",
      "3     1604\n",
      "4     1674\n",
      "5     1610\n",
      "6     2123\n",
      "7     1724\n",
      "8     1245\n",
      "9     1842\n",
      "10    1800\n",
      "11    1645\n",
      "12    1108\n",
      "13    1055\n",
      "14    1517\n",
      "15     722\n",
      "16     990\n",
      "17    1145\n",
      "18    1321\n",
      "19    1163\n",
      "20     906\n",
      "21    1046\n",
      "22    1178\n",
      "23    1202\n",
      "24    1096\n",
      "25    1180\n",
      "26     791\n",
      "27     663\n",
      "28     804\n",
      "29     745\n",
      "30     979\n",
      "31     639\n",
      "32     685\n",
      "33     759\n",
      "34     812\n",
      "35    1198\n",
      "36     911\n",
      "37    1013\n",
      "38     862\n",
      "39     864\n",
      "40     959\n",
      "41    1016\n",
      "42    1036\n",
      "43    1022\n",
      "44    1020\n",
      "45     916\n",
      "46    1297\n",
      "47     766\n",
      "48    1092\n",
      "49     982\n",
      "50    1251\n",
      "51     996\n",
      "52     463\n",
      "Name: week_n, dtype: int64\n"
     ]
    }
   ],
   "source": [
    "season_freq(sn_sub, \"special-needs\", \"weekday\")\n",
    "season_freq(sn_sub, \"special-needs\", \"month\")\n",
    "season_freq(sn_sub, \"special-needs\", \"week_n\")"
   ]
  },
  {
   "cell_type": "code",
   "execution_count": 28,
   "metadata": {},
   "outputs": [
    {
     "name": "stdout",
     "output_type": "stream",
     "text": [
      "weekday\n",
      "Friday       226658\n",
      "Monday       257443\n",
      "Saturday     183745\n",
      "Sunday       207539\n",
      "Thursday     245996\n",
      "Tuesday      258161\n",
      "Wednesday    255595\n",
      "Name: weekday, dtype: int64\n",
      "month\n",
      "April        153960\n",
      "August       126865\n",
      "December      82452\n",
      "February     136983\n",
      "January      144199\n",
      "July         132404\n",
      "June         127005\n",
      "March        170237\n",
      "May          147507\n",
      "November     139405\n",
      "October      140080\n",
      "September    134040\n",
      "Name: month, dtype: int64\n",
      "week_n\n",
      "1     30672\n",
      "2     31114\n",
      "3     31990\n",
      "4     32170\n",
      "5     33854\n",
      "6     36763\n",
      "7     33589\n",
      "8     30776\n",
      "9     35581\n",
      "10    36122\n",
      "11    40712\n",
      "12    39196\n",
      "13    37895\n",
      "14    37969\n",
      "15    34743\n",
      "16    36389\n",
      "17    35664\n",
      "18    33540\n",
      "19    34049\n",
      "20    35203\n",
      "21    31272\n",
      "22    32715\n",
      "23    31249\n",
      "24    29938\n",
      "25    29610\n",
      "26    27658\n",
      "27    29013\n",
      "28    29713\n",
      "29    30354\n",
      "30    29152\n",
      "31    30716\n",
      "32    28305\n",
      "33    29105\n",
      "34    27579\n",
      "35    29475\n",
      "36    30368\n",
      "37    30477\n",
      "38    30838\n",
      "39    33741\n",
      "40    31558\n",
      "41    32649\n",
      "42    30209\n",
      "43    31600\n",
      "44    31642\n",
      "45    36938\n",
      "46    33837\n",
      "47    29723\n",
      "48    29350\n",
      "49    23285\n",
      "50    20147\n",
      "51    20118\n",
      "52    14812\n",
      "Name: week_n, dtype: int64\n"
     ]
    }
   ],
   "source": [
    "season_freq(td_sub, \"toddler\", \"weekday\")\n",
    "season_freq(td_sub, \"toddler\", \"month\")\n",
    "season_freq(td_sub, \"toddler\", \"week_n\")"
   ]
  }
 ],
 "metadata": {
  "kernelspec": {
   "display_name": "Python 3",
   "language": "python",
   "name": "python3"
  },
  "language_info": {
   "codemirror_mode": {
    "name": "ipython",
    "version": 3
   },
   "file_extension": ".py",
   "mimetype": "text/x-python",
   "name": "python",
   "nbconvert_exporter": "python",
   "pygments_lexer": "ipython3",
   "version": "3.6.10"
  }
 },
 "nbformat": 4,
 "nbformat_minor": 4
}
