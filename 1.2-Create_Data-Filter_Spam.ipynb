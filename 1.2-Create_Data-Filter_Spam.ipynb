{
 "cells": [
  {
   "cell_type": "markdown",
   "metadata": {},
   "source": [
    "# Filter Spam from Data\n",
    "Cleans the data for topic modelling\n",
    "\n",
    "## Data Sources\n",
    "- youbemom-merged.db (scraped with 1-Scrape_Forum.ipynb)\n",
    "\n",
    "\n",
    "## Changes\n",
    "- 2020-12-23: Created\n",
    "- 2020-01-18: Updated spam detection\n",
    "\n",
    "## TODO\n",
    "- "
   ]
  },
  {
   "cell_type": "markdown",
   "metadata": {},
   "source": [
    "## Imports"
   ]
  },
  {
   "cell_type": "code",
   "execution_count": 1,
   "metadata": {},
   "outputs": [],
   "source": [
    "import warnings\n",
    "warnings.filterwarnings(\"ignore\", category=DeprecationWarning)"
   ]
  },
  {
   "cell_type": "code",
   "execution_count": 2,
   "metadata": {},
   "outputs": [],
   "source": [
    "import sqlite3\n",
    "import pandas as pd\n",
    "from datetime import datetime\n",
    "from pathlib import Path\n",
    "from youbemom import create_connection\n",
    "import re\n",
    "from math import floor\n",
    "from tqdm.notebook import tqdm\n",
    "from langdetect import detect\n",
    "import numpy as np\n",
    "from io import FileIO\n",
    "# saving the corpus and dictionary\n",
    "from gensim import corpora, models\n",
    "import pickle\n",
    "# topic models\n",
    "import pyLDAvis.gensim\n",
    "from gensim.models import CoherenceModel, LdaModel, LdaMulticore\n",
    "# my functions\n",
    "from youbemom import create_connection\n",
    "from lemmatize import *"
   ]
  },
  {
   "cell_type": "markdown",
   "metadata": {},
   "source": [
    "## Regex Patterns"
   ]
  },
  {
   "cell_type": "code",
   "execution_count": 3,
   "metadata": {},
   "outputs": [
    {
     "name": "stderr",
     "output_type": "stream",
     "text": [
      "/home/mwh/miniconda3/envs/forum/lib/python3.8/site-packages/ipykernel/ipkernel.py:287: DeprecationWarning: `should_run_async` will not call `transform_cell` automatically in the future. Please pass the result to `transformed_cell` argument and any exception that happen during thetransform in `preprocessing_exc_tuple` in IPython 7.17 and above.\n",
      "  and should_run_async(code)\n"
     ]
    }
   ],
   "source": [
    "# old pattern = r'(http|ftp|https):\\/\\/[-a-zA-Z0-9@:%._\\+~#=]{1,256}\\.[a-zA-Z0-9()]{1,6}\\b([-a-zA-Z0-9()@:%_\\+.~#?&//=]*)'\n",
    "url_pattern = r'''((http|ftp|https):\\/\\/)[-a-zA-Z0-9@:%\\._\\+~#=]{1,256}\\.[a-zA-Z0-9\\(\\)]{1,8}\\b([-a-zA-Z0-9\\(\\)@:%\\!,\\[\\]\\{\\}\\|'\"_\\+\\.~#\\?&/=]*)|(www\\.)*[-a-zA-Z0-9@:%\\._\\+~#=]{1,256}\\.(com|be|io|org|net)\\b([-a-zA-Z0-9\\(\\)@:%\\!,\\[\\]\\{\\}\\|'\"_\\+\\.~#\\?&/=]*)'''"
   ]
  },
  {
   "cell_type": "code",
   "execution_count": 4,
   "metadata": {},
   "outputs": [
    {
     "name": "stderr",
     "output_type": "stream",
     "text": [
      "/home/mwh/miniconda3/envs/forum/lib/python3.8/site-packages/ipykernel/ipkernel.py:287: DeprecationWarning: `should_run_async` will not call `transform_cell` automatically in the future. Please pass the result to `transformed_cell` argument and any exception that happen during thetransform in `preprocessing_exc_tuple` in IPython 7.17 and above.\n",
      "  and should_run_async(code)\n"
     ]
    }
   ],
   "source": [
    "email_pattern = r'([a-zA-Z0-9_.+-]+@[a-zA-Z0-9-]+\\.[a-zA-Z0-9-.]+)'"
   ]
  },
  {
   "cell_type": "code",
   "execution_count": 5,
   "metadata": {},
   "outputs": [
    {
     "name": "stderr",
     "output_type": "stream",
     "text": [
      "/home/mwh/miniconda3/envs/forum/lib/python3.8/site-packages/ipykernel/ipkernel.py:287: DeprecationWarning: `should_run_async` will not call `transform_cell` automatically in the future. Please pass the result to `transformed_cell` argument and any exception that happen during thetransform in `preprocessing_exc_tuple` in IPython 7.17 and above.\n",
      "  and should_run_async(code)\n"
     ]
    }
   ],
   "source": [
    "large_number_pattern = r'\\b[\\+\\-x0-9]*\\d{9,}(?<!0{7})\\b'"
   ]
  },
  {
   "cell_type": "code",
   "execution_count": 6,
   "metadata": {},
   "outputs": [
    {
     "name": "stderr",
     "output_type": "stream",
     "text": [
      "/home/mwh/miniconda3/envs/forum/lib/python3.8/site-packages/ipykernel/ipkernel.py:287: DeprecationWarning: `should_run_async` will not call `transform_cell` automatically in the future. Please pass the result to `transformed_cell` argument and any exception that happen during thetransform in `preprocessing_exc_tuple` in IPython 7.17 and above.\n",
      "  and should_run_async(code)\n"
     ]
    }
   ],
   "source": [
    "subject_pattern = r'- no subject -'"
   ]
  },
  {
   "cell_type": "code",
   "execution_count": 7,
   "metadata": {},
   "outputs": [
    {
     "name": "stderr",
     "output_type": "stream",
     "text": [
      "/home/mwh/miniconda3/envs/forum/lib/python3.8/site-packages/ipykernel/ipkernel.py:287: DeprecationWarning: `should_run_async` will not call `transform_cell` automatically in the future. Please pass the result to `transformed_cell` argument and any exception that happen during thetransform in `preprocessing_exc_tuple` in IPython 7.17 and above.\n",
      "  and should_run_async(code)\n"
     ]
    }
   ],
   "source": [
    "alpha_pattern = r'[a-zA-Z]'"
   ]
  },
  {
   "cell_type": "code",
   "execution_count": 8,
   "metadata": {},
   "outputs": [
    {
     "name": "stderr",
     "output_type": "stream",
     "text": [
      "/home/mwh/miniconda3/envs/forum/lib/python3.8/site-packages/ipykernel/ipkernel.py:287: DeprecationWarning: `should_run_async` will not call `transform_cell` automatically in the future. Please pass the result to `transformed_cell` argument and any exception that happen during thetransform in `preprocessing_exc_tuple` in IPython 7.17 and above.\n",
      "  and should_run_async(code)\n"
     ]
    }
   ],
   "source": [
    "lonely_number_pattern = r'^[0-9]+$'"
   ]
  },
  {
   "cell_type": "markdown",
   "metadata": {},
   "source": [
    "## Functions"
   ]
  },
  {
   "cell_type": "code",
   "execution_count": 9,
   "metadata": {},
   "outputs": [
    {
     "name": "stderr",
     "output_type": "stream",
     "text": [
      "/home/mwh/miniconda3/envs/forum/lib/python3.8/site-packages/ipykernel/ipkernel.py:287: DeprecationWarning: `should_run_async` will not call `transform_cell` automatically in the future. Please pass the result to `transformed_cell` argument and any exception that happen during thetransform in `preprocessing_exc_tuple` in IPython 7.17 and above.\n",
      "  and should_run_async(code)\n"
     ]
    }
   ],
   "source": [
    "def format_topics_sentences(ldamodel, corpus):\n",
    "    # Init output\n",
    "    sent_topics_df = pd.DataFrame()\n",
    "\n",
    "    # Get main topic in each document\n",
    "    for i, row in enumerate(ldamodel[corpus]):\n",
    "        row = sorted(row, key=lambda x: (x[1]), reverse=True)\n",
    "        # Get the Dominant topic, Perc Contribution and Keywords for each document\n",
    "        for j, (topic_num, prop_topic) in enumerate(row):\n",
    "            if j == 0:  # => dominant topic\n",
    "                wp = ldamodel.show_topic(topic_num)\n",
    "                topic_keywords = \", \".join([word for word, prop in wp])\n",
    "                sent_topics_df = sent_topics_df.append(pd.Series([int(topic_num), round(prop_topic,4), topic_keywords]), ignore_index=True)\n",
    "            else:\n",
    "                break\n",
    "    sent_topics_df.columns = ['Dominant_Topic', 'Perc_Contribution', 'Topic_Keywords']\n",
    "    return(sent_topics_df)"
   ]
  },
  {
   "cell_type": "code",
   "execution_count": 10,
   "metadata": {},
   "outputs": [
    {
     "name": "stderr",
     "output_type": "stream",
     "text": [
      "/home/mwh/miniconda3/envs/forum/lib/python3.8/site-packages/ipykernel/ipkernel.py:287: DeprecationWarning: `should_run_async` will not call `transform_cell` automatically in the future. Please pass the result to `transformed_cell` argument and any exception that happen during thetransform in `preprocessing_exc_tuple` in IPython 7.17 and above.\n",
      "  and should_run_async(code)\n"
     ]
    }
   ],
   "source": [
    "def get_size(conn):\n",
    "    \"\"\" gets the size of the data set in number of rows\n",
    "    :param conn: connection the the db\n",
    "    :return size: size of the posts table\n",
    "    \"\"\"\n",
    "    cur = conn.cursor()\n",
    "    cur.execute(''' SELECT COUNT(message_id) FROM posts ''')\n",
    "    size = cur.fetchone()\n",
    "    if size:\n",
    "        return int(size[0])\n",
    "    raise SystemExit(\"No size found\")"
   ]
  },
  {
   "cell_type": "code",
   "execution_count": 11,
   "metadata": {},
   "outputs": [
    {
     "name": "stderr",
     "output_type": "stream",
     "text": [
      "/home/mwh/miniconda3/envs/forum/lib/python3.8/site-packages/ipykernel/ipkernel.py:287: DeprecationWarning: `should_run_async` will not call `transform_cell` automatically in the future. Please pass the result to `transformed_cell` argument and any exception that happen during thetransform in `preprocessing_exc_tuple` in IPython 7.17 and above.\n",
      "  and should_run_async(code)\n"
     ]
    }
   ],
   "source": [
    "def process_data(sql, chunksize, analyzer):\n",
    "    \"\"\" read data in chunks from the table, format the text,\n",
    "        apply the sentiemnt analyzer, and write chunks to \n",
    "        the sentiment table\n",
    "    :param sql: selects columns of the posts table\n",
    "    :param chunksize: size of chunks\n",
    "    :param analyzer: the VADER sentiment analyzer\n",
    "    \"\"\"\n",
    "    # number of symbols\n",
    "    # has url\n",
    "    # non-english words (can I do this quickly?)\n",
    "    # has email xxx@yyy\n",
    "    # has a spam word/phrase\n",
    "    reader = pd.read_sql_query(sql,\n",
    "                               conn,\n",
    "                               chunksize=chunksize)\n",
    "    for i, df in enumerate(tqdm(reader)):\n",
    "        df = format_data(df)\n",
    "        df = remove_urls(df)\n",
    "        df = gen_sentiment(df, 'text', 'all', analyzer)\n",
    "        df = gen_sentiment(df, 'text_clean', 'clean', analyzer)\n",
    "        df.drop('title', axis=1, inplace=True)\n",
    "        df.drop('body', axis=1, inplace=True)\n",
    "        if i == 0:\n",
    "            df.to_sql('sentiment', conn, if_exists='replace', index=False)\n",
    "        else:\n",
    "            df.to_sql('sentiment', conn, if_exists='append', index=False)"
   ]
  },
  {
   "cell_type": "code",
   "execution_count": 12,
   "metadata": {},
   "outputs": [
    {
     "name": "stderr",
     "output_type": "stream",
     "text": [
      "/home/mwh/miniconda3/envs/forum/lib/python3.8/site-packages/ipykernel/ipkernel.py:287: DeprecationWarning: `should_run_async` will not call `transform_cell` automatically in the future. Please pass the result to `transformed_cell` argument and any exception that happen during thetransform in `preprocessing_exc_tuple` in IPython 7.17 and above.\n",
      "  and should_run_async(code)\n",
      "<>:7: DeprecationWarning: invalid escape sequence \\.\n",
      "<>:7: DeprecationWarning: invalid escape sequence \\.\n",
      "<ipython-input-12-4b977479a769>:7: DeprecationWarning: invalid escape sequence \\.\n",
      "  df['title'] = df['title'].replace('This post has been deleted\\.', '', regex=True)\n"
     ]
    }
   ],
   "source": [
    "def create_text(df):\n",
    "    \"\"\" creates text column from\n",
    "        title and body\n",
    "    :param df: data frame\n",
    "    :return df: formatted data frame\n",
    "    \"\"\"\n",
    "    df['title'] = df['title'].replace('This post has been deleted\\.', '', regex=True)\n",
    "    df['text'] = df['title'] + \" \" + df['body']\n",
    "    return df"
   ]
  },
  {
   "cell_type": "code",
   "execution_count": 13,
   "metadata": {},
   "outputs": [
    {
     "name": "stderr",
     "output_type": "stream",
     "text": [
      "/home/mwh/miniconda3/envs/forum/lib/python3.8/site-packages/ipykernel/ipkernel.py:287: DeprecationWarning: `should_run_async` will not call `transform_cell` automatically in the future. Please pass the result to `transformed_cell` argument and any exception that happen during thetransform in `preprocessing_exc_tuple` in IPython 7.17 and above.\n",
      "  and should_run_async(code)\n"
     ]
    }
   ],
   "source": [
    "def has_url(df):\n",
    "    \"\"\" finds urls in text strings and creates\n",
    "        new column of whether text has a url\n",
    "    :param df: data frame\n",
    "    :return df: formatted data frame\n",
    "    \"\"\"\n",
    "    regex_pat = re.compile(url_pattern, flags=re.IGNORECASE)\n",
    "    df['has_url'] = df['text'].str.contains(regex_pat)\n",
    "    return df"
   ]
  },
  {
   "cell_type": "code",
   "execution_count": 14,
   "metadata": {},
   "outputs": [
    {
     "name": "stderr",
     "output_type": "stream",
     "text": [
      "/home/mwh/miniconda3/envs/forum/lib/python3.8/site-packages/ipykernel/ipkernel.py:287: DeprecationWarning: `should_run_async` will not call `transform_cell` automatically in the future. Please pass the result to `transformed_cell` argument and any exception that happen during thetransform in `preprocessing_exc_tuple` in IPython 7.17 and above.\n",
      "  and should_run_async(code)\n"
     ]
    }
   ],
   "source": [
    "def remove_urls(df):\n",
    "    \"\"\" removes urls from text strings and creates\n",
    "        new column of text without urls\n",
    "    :param df: data frame\n",
    "    :return df: formatted data frame\n",
    "    \"\"\"\n",
    "    regex_pat = re.compile(url_pattern, flags=re.IGNORECASE)\n",
    "    df['text_clean'] = df['text'].str.replace(regex_pat, \"\")\n",
    "    df['text_clean'] = df['text_clean'].str.strip()\n",
    "    return df"
   ]
  },
  {
   "cell_type": "code",
   "execution_count": 15,
   "metadata": {},
   "outputs": [
    {
     "name": "stderr",
     "output_type": "stream",
     "text": [
      "/home/mwh/miniconda3/envs/forum/lib/python3.8/site-packages/ipykernel/ipkernel.py:287: DeprecationWarning: `should_run_async` will not call `transform_cell` automatically in the future. Please pass the result to `transformed_cell` argument and any exception that happen during thetransform in `preprocessing_exc_tuple` in IPython 7.17 and above.\n",
      "  and should_run_async(code)\n"
     ]
    }
   ],
   "source": [
    "def remove_no_subject(df):\n",
    "    \"\"\" removes - no subject - from clean text strings\n",
    "    :param df: data frame\n",
    "    :return df: formatted data frame\n",
    "    \"\"\"\n",
    "    regex_pat = re.compile(subject_pattern, flags=re.IGNORECASE)\n",
    "    df['text_clean'] = df['text_clean'].str.replace(regex_pat, \"\")\n",
    "    df['text_clean'] = df['text_clean'].str.strip()\n",
    "    return df"
   ]
  },
  {
   "cell_type": "code",
   "execution_count": 16,
   "metadata": {},
   "outputs": [
    {
     "name": "stderr",
     "output_type": "stream",
     "text": [
      "/home/mwh/miniconda3/envs/forum/lib/python3.8/site-packages/ipykernel/ipkernel.py:287: DeprecationWarning: `should_run_async` will not call `transform_cell` automatically in the future. Please pass the result to `transformed_cell` argument and any exception that happen during thetransform in `preprocessing_exc_tuple` in IPython 7.17 and above.\n",
      "  and should_run_async(code)\n"
     ]
    }
   ],
   "source": [
    "def has_email(df):\n",
    "    regex_pat = re.compile(email_pattern, flags=re.IGNORECASE)\n",
    "    df['has_email'] = df['text'].str.contains(regex_pat)\n",
    "    return df"
   ]
  },
  {
   "cell_type": "code",
   "execution_count": 17,
   "metadata": {
    "scrolled": true
   },
   "outputs": [
    {
     "name": "stderr",
     "output_type": "stream",
     "text": [
      "/home/mwh/miniconda3/envs/forum/lib/python3.8/site-packages/ipykernel/ipkernel.py:287: DeprecationWarning: `should_run_async` will not call `transform_cell` automatically in the future. Please pass the result to `transformed_cell` argument and any exception that happen during thetransform in `preprocessing_exc_tuple` in IPython 7.17 and above.\n",
      "  and should_run_async(code)\n"
     ]
    }
   ],
   "source": [
    "def has_large_number(df):\n",
    "    regex_pat = re.compile(large_number_pattern, flags=re.IGNORECASE)\n",
    "    df['has_large_number'] = df['text_clean'].str.contains(regex_pat)\n",
    "    return df"
   ]
  },
  {
   "cell_type": "code",
   "execution_count": 18,
   "metadata": {},
   "outputs": [
    {
     "name": "stderr",
     "output_type": "stream",
     "text": [
      "/home/mwh/miniconda3/envs/forum/lib/python3.8/site-packages/ipykernel/ipkernel.py:287: DeprecationWarning: `should_run_async` will not call `transform_cell` automatically in the future. Please pass the result to `transformed_cell` argument and any exception that happen during thetransform in `preprocessing_exc_tuple` in IPython 7.17 and above.\n",
      "  and should_run_async(code)\n"
     ]
    }
   ],
   "source": [
    "def has_alpha(df):\n",
    "    regex_pat = re.compile(alpha_pattern, flags=re.IGNORECASE)\n",
    "    df['has_alpha'] = df['text_clean'].str.contains(regex_pat)\n",
    "    return df"
   ]
  },
  {
   "cell_type": "code",
   "execution_count": 19,
   "metadata": {},
   "outputs": [
    {
     "name": "stderr",
     "output_type": "stream",
     "text": [
      "/home/mwh/miniconda3/envs/forum/lib/python3.8/site-packages/ipykernel/ipkernel.py:287: DeprecationWarning: `should_run_async` will not call `transform_cell` automatically in the future. Please pass the result to `transformed_cell` argument and any exception that happen during thetransform in `preprocessing_exc_tuple` in IPython 7.17 and above.\n",
      "  and should_run_async(code)\n"
     ]
    }
   ],
   "source": [
    "def replace_lonely_numbers(df):\n",
    "    regex_pat = re.compile(lonely_number_pattern, flags=re.IGNORECASE)\n",
    "    df['text_clean'] = df['text_clean'].str.replace(regex_pat, \"\")\n",
    "    df['text_clean'] = df['text_clean'].str.strip()\n",
    "    return df"
   ]
  },
  {
   "cell_type": "code",
   "execution_count": 20,
   "metadata": {},
   "outputs": [
    {
     "name": "stderr",
     "output_type": "stream",
     "text": [
      "/home/mwh/miniconda3/envs/forum/lib/python3.8/site-packages/ipykernel/ipkernel.py:287: DeprecationWarning: `should_run_async` will not call `transform_cell` automatically in the future. Please pass the result to `transformed_cell` argument and any exception that happen during thetransform in `preprocessing_exc_tuple` in IPython 7.17 and above.\n",
      "  and should_run_async(code)\n"
     ]
    }
   ],
   "source": [
    "def drop_emptys(df):\n",
    "    df['text_clean'].replace('', np.nan, inplace=True)\n",
    "    df.dropna(subset=['text_clean'], inplace=True)\n",
    "    df.drop('title', axis=1, inplace=True)\n",
    "    df.drop('body', axis=1, inplace=True)\n",
    "    return df"
   ]
  },
  {
   "cell_type": "code",
   "execution_count": 21,
   "metadata": {},
   "outputs": [
    {
     "name": "stderr",
     "output_type": "stream",
     "text": [
      "/home/mwh/miniconda3/envs/forum/lib/python3.8/site-packages/ipykernel/ipkernel.py:287: DeprecationWarning: `should_run_async` will not call `transform_cell` automatically in the future. Please pass the result to `transformed_cell` argument and any exception that happen during thetransform in `preprocessing_exc_tuple` in IPython 7.17 and above.\n",
      "  and should_run_async(code)\n"
     ]
    }
   ],
   "source": [
    "def count_non_punctuation(df):\n",
    "    pattern = r'[-\\w\\s\\.,/:;!\\?\\'\\\"’]'\n",
    "    regex_pat = re.compile(pattern, flags=re.IGNORECASE)\n",
    "    df['n_symbols'] = df['text_clean'].str.replace(regex_pat, \"\").str.len()\n",
    "    return df"
   ]
  },
  {
   "cell_type": "code",
   "execution_count": 22,
   "metadata": {},
   "outputs": [
    {
     "name": "stderr",
     "output_type": "stream",
     "text": [
      "/home/mwh/miniconda3/envs/forum/lib/python3.8/site-packages/ipykernel/ipkernel.py:287: DeprecationWarning: `should_run_async` will not call `transform_cell` automatically in the future. Please pass the result to `transformed_cell` argument and any exception that happen during thetransform in `preprocessing_exc_tuple` in IPython 7.17 and above.\n",
      "  and should_run_async(code)\n"
     ]
    }
   ],
   "source": [
    "def has_word(df, word):\n",
    "    regex_pat = re.compile(word.lower(), flags=re.IGNORECASE)\n",
    "    df[word] = df['text'].str.contains(regex_pat)\n",
    "    return df"
   ]
  },
  {
   "cell_type": "markdown",
   "metadata": {},
   "source": [
    "## File Locations"
   ]
  },
  {
   "cell_type": "code",
   "execution_count": 23,
   "metadata": {},
   "outputs": [
    {
     "name": "stderr",
     "output_type": "stream",
     "text": [
      "/home/mwh/miniconda3/envs/forum/lib/python3.8/site-packages/ipykernel/ipkernel.py:287: DeprecationWarning: `should_run_async` will not call `transform_cell` automatically in the future. Please pass the result to `transformed_cell` argument and any exception that happen during thetransform in `preprocessing_exc_tuple` in IPython 7.17 and above.\n",
      "  and should_run_async(code)\n"
     ]
    }
   ],
   "source": [
    "p = Path.cwd()\n",
    "path_parent = p.parents[0]"
   ]
  },
  {
   "cell_type": "code",
   "execution_count": 24,
   "metadata": {},
   "outputs": [
    {
     "name": "stderr",
     "output_type": "stream",
     "text": [
      "/home/mwh/miniconda3/envs/forum/lib/python3.8/site-packages/ipykernel/ipkernel.py:287: DeprecationWarning: `should_run_async` will not call `transform_cell` automatically in the future. Please pass the result to `transformed_cell` argument and any exception that happen during thetransform in `preprocessing_exc_tuple` in IPython 7.17 and above.\n",
      "  and should_run_async(code)\n"
     ]
    }
   ],
   "source": [
    "# database\n",
    "path_db = str(path_parent / \"database\" / \"youbemom-merged.db\")\n",
    "# spam data\n",
    "path_spam_sample = str(path_parent / \"clean_data\" / \"spam_sample.csv\")\n",
    "path_spam_words = str(path_parent / \"clean_data\" / \"spam_words.csv\")\n",
    "# topic model data\n",
    "path_lemma_pkl = str(path_parent / \"clean_data\" / \"lemmatized_text_spam_sample.pkl\")\n",
    "path_corpus_pkl = str(path_parent / \"clean_data\" / \"corpus_spam_sample.pkl\")\n",
    "path_dictionary_gensim = str(path_parent / \"clean_data\" / \"dictionary_spam_sample.gensim\")\n",
    "# model\n",
    "path_model = str(path_parent / \"clean_data\" / \"spam_model.gensim\")"
   ]
  },
  {
   "cell_type": "markdown",
   "metadata": {},
   "source": [
    "## Load Sample of Data"
   ]
  },
  {
   "cell_type": "code",
   "execution_count": 25,
   "metadata": {},
   "outputs": [
    {
     "name": "stderr",
     "output_type": "stream",
     "text": [
      "/home/mwh/miniconda3/envs/forum/lib/python3.8/site-packages/ipykernel/ipkernel.py:287: DeprecationWarning: `should_run_async` will not call `transform_cell` automatically in the future. Please pass the result to `transformed_cell` argument and any exception that happen during thetransform in `preprocessing_exc_tuple` in IPython 7.17 and above.\n",
      "  and should_run_async(code)\n"
     ]
    }
   ],
   "source": [
    "sql = ''' SELECT message_id\n",
    "    FROM posts\n",
    "    WHERE deleted=0\n",
    "'''"
   ]
  },
  {
   "cell_type": "code",
   "execution_count": 26,
   "metadata": {},
   "outputs": [
    {
     "name": "stderr",
     "output_type": "stream",
     "text": [
      "/home/mwh/miniconda3/envs/forum/lib/python3.8/site-packages/ipykernel/ipkernel.py:287: DeprecationWarning: `should_run_async` will not call `transform_cell` automatically in the future. Please pass the result to `transformed_cell` argument and any exception that happen during thetransform in `preprocessing_exc_tuple` in IPython 7.17 and above.\n",
      "  and should_run_async(code)\n"
     ]
    }
   ],
   "source": [
    "conn = create_connection(path_db)"
   ]
  },
  {
   "cell_type": "code",
   "execution_count": 27,
   "metadata": {},
   "outputs": [
    {
     "name": "stderr",
     "output_type": "stream",
     "text": [
      "/home/mwh/miniconda3/envs/forum/lib/python3.8/site-packages/ipykernel/ipkernel.py:287: DeprecationWarning: `should_run_async` will not call `transform_cell` automatically in the future. Please pass the result to `transformed_cell` argument and any exception that happen during thetransform in `preprocessing_exc_tuple` in IPython 7.17 and above.\n",
      "  and should_run_async(code)\n"
     ]
    }
   ],
   "source": [
    "ids = pd.read_sql_query(sql, conn)"
   ]
  },
  {
   "cell_type": "code",
   "execution_count": 28,
   "metadata": {},
   "outputs": [
    {
     "name": "stderr",
     "output_type": "stream",
     "text": [
      "/home/mwh/miniconda3/envs/forum/lib/python3.8/site-packages/ipykernel/ipkernel.py:287: DeprecationWarning: `should_run_async` will not call `transform_cell` automatically in the future. Please pass the result to `transformed_cell` argument and any exception that happen during thetransform in `preprocessing_exc_tuple` in IPython 7.17 and above.\n",
      "  and should_run_async(code)\n"
     ]
    }
   ],
   "source": [
    "ids = ids.sample(n = 1000000, random_state = 391)"
   ]
  },
  {
   "cell_type": "code",
   "execution_count": 29,
   "metadata": {},
   "outputs": [
    {
     "name": "stderr",
     "output_type": "stream",
     "text": [
      "/home/mwh/miniconda3/envs/forum/lib/python3.8/site-packages/ipykernel/ipkernel.py:287: DeprecationWarning: `should_run_async` will not call `transform_cell` automatically in the future. Please pass the result to `transformed_cell` argument and any exception that happen during thetransform in `preprocessing_exc_tuple` in IPython 7.17 and above.\n",
      "  and should_run_async(code)\n"
     ]
    }
   ],
   "source": [
    "temp_table_sql = ''' \n",
    "    DROP TABLE IF EXISTS temp;\n",
    "    CREATE TEMPORARY TABLE\n",
    "        temp(id INTEGER NOT NULL PRIMARY KEY AUTOINCREMENT UNIQUE, message_id INTEGER);\n",
    "    '''"
   ]
  },
  {
   "cell_type": "code",
   "execution_count": 30,
   "metadata": {},
   "outputs": [
    {
     "name": "stderr",
     "output_type": "stream",
     "text": [
      "/home/mwh/miniconda3/envs/forum/lib/python3.8/site-packages/ipykernel/ipkernel.py:287: DeprecationWarning: `should_run_async` will not call `transform_cell` automatically in the future. Please pass the result to `transformed_cell` argument and any exception that happen during thetransform in `preprocessing_exc_tuple` in IPython 7.17 and above.\n",
      "  and should_run_async(code)\n"
     ]
    }
   ],
   "source": [
    "cur = conn.cursor()\n",
    "cur.executescript(temp_table_sql)\n",
    "ids.to_sql('temp', conn, if_exists='replace', index=False)"
   ]
  },
  {
   "cell_type": "code",
   "execution_count": 31,
   "metadata": {},
   "outputs": [
    {
     "name": "stderr",
     "output_type": "stream",
     "text": [
      "/home/mwh/miniconda3/envs/forum/lib/python3.8/site-packages/ipykernel/ipkernel.py:287: DeprecationWarning: `should_run_async` will not call `transform_cell` automatically in the future. Please pass the result to `transformed_cell` argument and any exception that happen during thetransform in `preprocessing_exc_tuple` in IPython 7.17 and above.\n",
      "  and should_run_async(code)\n"
     ]
    }
   ],
   "source": [
    "select_sql = '''\n",
    "    SELECT\n",
    "        p.message_id AS message_id,\n",
    "        p.title AS title,\n",
    "        p.body AS body\n",
    "    FROM posts AS p\n",
    "    WHERE p.message_id IN (SELECT message_id FROM temp)\n",
    "'''"
   ]
  },
  {
   "cell_type": "code",
   "execution_count": 32,
   "metadata": {},
   "outputs": [
    {
     "name": "stderr",
     "output_type": "stream",
     "text": [
      "/home/mwh/miniconda3/envs/forum/lib/python3.8/site-packages/ipykernel/ipkernel.py:287: DeprecationWarning: `should_run_async` will not call `transform_cell` automatically in the future. Please pass the result to `transformed_cell` argument and any exception that happen during thetransform in `preprocessing_exc_tuple` in IPython 7.17 and above.\n",
      "  and should_run_async(code)\n"
     ]
    }
   ],
   "source": [
    "samp = pd.read_sql_query(select_sql, conn)"
   ]
  },
  {
   "cell_type": "code",
   "execution_count": 33,
   "metadata": {},
   "outputs": [
    {
     "name": "stderr",
     "output_type": "stream",
     "text": [
      "/home/mwh/miniconda3/envs/forum/lib/python3.8/site-packages/ipykernel/ipkernel.py:287: DeprecationWarning: `should_run_async` will not call `transform_cell` automatically in the future. Please pass the result to `transformed_cell` argument and any exception that happen during thetransform in `preprocessing_exc_tuple` in IPython 7.17 and above.\n",
      "  and should_run_async(code)\n"
     ]
    }
   ],
   "source": [
    "conn.close()"
   ]
  },
  {
   "cell_type": "code",
   "execution_count": 34,
   "metadata": {},
   "outputs": [
    {
     "name": "stdout",
     "output_type": "stream",
     "text": [
      "<class 'pandas.core.frame.DataFrame'>\n",
      "RangeIndex: 1000000 entries, 0 to 999999\n",
      "Data columns (total 3 columns):\n",
      " #   Column      Non-Null Count    Dtype \n",
      "---  ------      --------------    ----- \n",
      " 0   message_id  1000000 non-null  object\n",
      " 1   title       1000000 non-null  object\n",
      " 2   body        1000000 non-null  object\n",
      "dtypes: object(3)\n",
      "memory usage: 22.9+ MB\n"
     ]
    },
    {
     "name": "stderr",
     "output_type": "stream",
     "text": [
      "/home/mwh/miniconda3/envs/forum/lib/python3.8/site-packages/ipykernel/ipkernel.py:287: DeprecationWarning: `should_run_async` will not call `transform_cell` automatically in the future. Please pass the result to `transformed_cell` argument and any exception that happen during thetransform in `preprocessing_exc_tuple` in IPython 7.17 and above.\n",
      "  and should_run_async(code)\n"
     ]
    }
   ],
   "source": [
    "samp.info()"
   ]
  },
  {
   "cell_type": "code",
   "execution_count": 35,
   "metadata": {},
   "outputs": [
    {
     "name": "stderr",
     "output_type": "stream",
     "text": [
      "/home/mwh/miniconda3/envs/forum/lib/python3.8/site-packages/ipykernel/ipkernel.py:287: DeprecationWarning: `should_run_async` will not call `transform_cell` automatically in the future. Please pass the result to `transformed_cell` argument and any exception that happen during thetransform in `preprocessing_exc_tuple` in IPython 7.17 and above.\n",
      "  and should_run_async(code)\n"
     ]
    }
   ],
   "source": [
    "samp = create_text(samp)"
   ]
  },
  {
   "cell_type": "code",
   "execution_count": 36,
   "metadata": {},
   "outputs": [
    {
     "name": "stderr",
     "output_type": "stream",
     "text": [
      "/home/mwh/miniconda3/envs/forum/lib/python3.8/site-packages/ipykernel/ipkernel.py:287: DeprecationWarning: `should_run_async` will not call `transform_cell` automatically in the future. Please pass the result to `transformed_cell` argument and any exception that happen during thetransform in `preprocessing_exc_tuple` in IPython 7.17 and above.\n",
      "  and should_run_async(code)\n",
      "/home/mwh/miniconda3/envs/forum/lib/python3.8/site-packages/pandas/core/strings.py:2001: UserWarning: This pattern has match groups. To actually get the groups, use str.extract.\n",
      "  return func(self, *args, **kwargs)\n"
     ]
    }
   ],
   "source": [
    "samp = has_url(samp)\n",
    "samp = remove_urls(samp)\n",
    "samp = has_email(samp)\n",
    "samp = has_large_number(samp)\n",
    "samp = remove_no_subject(samp)\n",
    "samp = replace_lonely_numbers(samp)\n",
    "samp = count_non_punctuation(samp)\n",
    "samp = drop_emptys(samp)"
   ]
  },
  {
   "cell_type": "code",
   "execution_count": 37,
   "metadata": {},
   "outputs": [
    {
     "name": "stdout",
     "output_type": "stream",
     "text": [
      "<class 'pandas.core.frame.DataFrame'>\n",
      "Int64Index: 996295 entries, 0 to 999999\n",
      "Data columns (total 7 columns):\n",
      " #   Column            Non-Null Count   Dtype \n",
      "---  ------            --------------   ----- \n",
      " 0   message_id        996295 non-null  object\n",
      " 1   text              996295 non-null  object\n",
      " 2   has_url           996295 non-null  bool  \n",
      " 3   text_clean        996295 non-null  object\n",
      " 4   has_email         996295 non-null  bool  \n",
      " 5   has_large_number  996295 non-null  bool  \n",
      " 6   n_symbols         996295 non-null  int64 \n",
      "dtypes: bool(3), int64(1), object(3)\n",
      "memory usage: 40.9+ MB\n"
     ]
    },
    {
     "name": "stderr",
     "output_type": "stream",
     "text": [
      "/home/mwh/miniconda3/envs/forum/lib/python3.8/site-packages/ipykernel/ipkernel.py:287: DeprecationWarning: `should_run_async` will not call `transform_cell` automatically in the future. Please pass the result to `transformed_cell` argument and any exception that happen during thetransform in `preprocessing_exc_tuple` in IPython 7.17 and above.\n",
      "  and should_run_async(code)\n"
     ]
    }
   ],
   "source": [
    "samp.info()"
   ]
  },
  {
   "cell_type": "markdown",
   "metadata": {},
   "source": [
    "## Read Spam Words"
   ]
  },
  {
   "cell_type": "code",
   "execution_count": 38,
   "metadata": {},
   "outputs": [
    {
     "name": "stderr",
     "output_type": "stream",
     "text": [
      "/home/mwh/miniconda3/envs/forum/lib/python3.8/site-packages/ipykernel/ipkernel.py:287: DeprecationWarning: `should_run_async` will not call `transform_cell` automatically in the future. Please pass the result to `transformed_cell` argument and any exception that happen during thetransform in `preprocessing_exc_tuple` in IPython 7.17 and above.\n",
      "  and should_run_async(code)\n"
     ]
    }
   ],
   "source": [
    "spam = pd.read_csv(path_spam_words)\n",
    "spam = spam['words'].tolist()"
   ]
  },
  {
   "cell_type": "code",
   "execution_count": 39,
   "metadata": {},
   "outputs": [
    {
     "name": "stderr",
     "output_type": "stream",
     "text": [
      "/home/mwh/miniconda3/envs/forum/lib/python3.8/site-packages/ipykernel/ipkernel.py:287: DeprecationWarning: `should_run_async` will not call `transform_cell` automatically in the future. Please pass the result to `transformed_cell` argument and any exception that happen during thetransform in `preprocessing_exc_tuple` in IPython 7.17 and above.\n",
      "  and should_run_async(code)\n"
     ]
    },
    {
     "name": "stdout",
     "output_type": "stream",
     "text": [
      "black magic\n",
      "False    996287\n",
      "True          8\n",
      "Name: black magic, dtype: int64\n",
      "918728849451\n",
      "False    996293\n",
      "True          2\n",
      "Name: 918728849451, dtype: int64\n",
      "vashikaran\n",
      "False    996284\n",
      "True         11\n",
      "Name: vashikaran, dtype: int64\n",
      "enlargement\n",
      "False    996289\n",
      "True          6\n",
      "Name: enlargement, dtype: int64\n",
      "pills\n",
      "False    995988\n",
      "True        307\n",
      "Name: pills, dtype: int64\n",
      "creams\n",
      "False    996150\n",
      "True        145\n",
      "Name: creams, dtype: int64\n",
      "27835121053\n",
      "False    996294\n",
      "True          1\n",
      "Name: 27835121053, dtype: int64\n",
      "bollywood\n",
      "False    996292\n",
      "True          3\n",
      "Name: bollywood, dtype: int64\n",
      "9999136878\n",
      "False    996295\n",
      "Name: 9999136878, dtype: int64\n",
      "botcho cream\n",
      "False    996294\n",
      "True          1\n",
      "Name: botcho cream, dtype: int64\n",
      "yodi pills\n",
      "False    996294\n",
      "True          1\n",
      "Name: yodi pills, dtype: int64\n",
      "enlarge\n",
      "False    996269\n",
      "True         26\n",
      "Name: enlarge, dtype: int64\n",
      "penis\n",
      "False    995816\n",
      "True        479\n",
      "Name: penis, dtype: int64\n",
      "stamina\n",
      "False    996246\n",
      "True         49\n",
      "Name: stamina, dtype: int64\n",
      "semen\n",
      "False    995533\n",
      "True        762\n",
      "Name: semen, dtype: int64\n",
      "villa rental\n",
      "False    996294\n",
      "True          1\n",
      "Name: villa rental, dtype: int64\n",
      "seo\n",
      "False    996153\n",
      "True        142\n",
      "Name: seo, dtype: int64\n",
      "Front In Web\n",
      "False    996295\n",
      "Name: Front In Web, dtype: int64\n",
      "khannagems\n",
      "False    996295\n",
      "Name: khannagems, dtype: int64\n",
      "anchorageaweigh\n",
      "False    996295\n",
      "Name: anchorageaweigh, dtype: int64\n",
      "linkquidator\n",
      "False    996295\n",
      "Name: linkquidator, dtype: int64\n",
      "male enhancement\n",
      "False    996269\n",
      "True         26\n",
      "Name: male enhancement, dtype: int64\n",
      "penis size\n",
      "False    996286\n",
      "True          9\n",
      "Name: penis size, dtype: int64\n",
      "Elexweb\n",
      "False    996295\n",
      "Name: Elexweb, dtype: int64\n",
      "Hydrocodone\n",
      "False    996294\n",
      "True          1\n",
      "Name: Hydrocodone, dtype: int64\n",
      "primeshop247\n",
      "False    996295\n",
      "Name: primeshop247, dtype: int64\n",
      "methadone\n",
      "False    996290\n",
      "True          5\n",
      "Name: methadone, dtype: int64\n",
      "s3xual\n",
      "False    996292\n",
      "True          3\n",
      "Name: s3xual, dtype: int64\n",
      "velofelsouthafricarevi\n",
      "False    996295\n",
      "Name: velofelsouthafricarevi, dtype: int64\n",
      "855 8731 8883\n",
      "False    996295\n",
      "Name: 855 8731 8883, dtype: int64\n",
      "JENDRALPOKER\n",
      "False    996295\n",
      "Name: JENDRALPOKER, dtype: int64\n",
      "agen judi\n",
      "False    996295\n",
      "Name: agen judi, dtype: int64\n",
      "supplement\n",
      "False    995928\n",
      "True        367\n",
      "Name: supplement, dtype: int64\n",
      "Grow Shop\n",
      "False    996295\n",
      "Name: Grow Shop, dtype: int64\n",
      "Vertoe\n",
      "False    996295\n",
      "Name: Vertoe, dtype: int64\n",
      "luggage storage\n",
      "False    996295\n",
      "Name: luggage storage, dtype: int64\n",
      "Exhibit People\n",
      "False    996295\n",
      "Name: Exhibit People, dtype: int64\n",
      "trade show\n",
      "False    996291\n",
      "True          4\n",
      "Name: trade show, dtype: int64\n",
      "b2b\n",
      "False    996286\n",
      "True          9\n",
      "Name: b2b, dtype: int64\n",
      "E-Commerce\n",
      "False    996289\n",
      "True          6\n",
      "Name: E-Commerce, dtype: int64\n",
      "Dubai\n",
      "False    996250\n",
      "True         45\n",
      "Name: Dubai, dtype: int64\n",
      "real estate\n",
      "False    995847\n",
      "True        448\n",
      "Name: real estate, dtype: int64\n",
      "Valo theko\n",
      "False    996295\n",
      "Name: Valo theko, dtype: int64\n",
      "Leather Wallets\n",
      "False    996295\n",
      "Name: Leather Wallets, dtype: int64\n",
      "All-natural components\n",
      "False    996295\n",
      "Name: All-natural components, dtype: int64\n",
      "remedy\n",
      "False    996249\n",
      "True         46\n",
      "Name: remedy, dtype: int64\n",
      "Puravol\n",
      "False    996295\n",
      "Name: Puravol, dtype: int64\n",
      "Nike Shoes Online\n",
      "False    996295\n",
      "Name: Nike Shoes Online, dtype: int64\n",
      "Nike Shox\n",
      "False    996295\n",
      "Name: Nike Shox, dtype: int64\n",
      "dear-fashion\n",
      "False    996295\n",
      "Name: dear-fashion, dtype: int64\n",
      "lingerie\n",
      "False    996235\n",
      "True         60\n",
      "Name: lingerie, dtype: int64\n",
      "astrologer\n",
      "False    996281\n",
      "True         14\n",
      "Name: astrologer, dtype: int64\n",
      "Indian Astrologer\n",
      "False    996294\n",
      "True          1\n",
      "Name: Indian Astrologer, dtype: int64\n",
      "9872335477\n",
      "False    996295\n",
      "Name: 9872335477, dtype: int64\n",
      "Kalma powers\n",
      "False    996295\n",
      "Name: Kalma powers, dtype: int64\n",
      "918728849451\n",
      "False    996293\n",
      "True          2\n",
      "Name: 918728849451, dtype: int64\n",
      "love marriage specialist\n",
      "False    996294\n",
      "True          1\n",
      "Name: love marriage specialist, dtype: int64\n",
      "kala jadu specialist\n",
      "False    996295\n",
      "Name: kala jadu specialist, dtype: int64\n",
      "Caste problem\n",
      "False    996295\n",
      "Name: Caste problem, dtype: int64\n",
      "molvi ji\n",
      "False    996286\n",
      "True          9\n",
      "Name: molvi ji, dtype: int64\n",
      "serum\n",
      "False    996258\n",
      "True         37\n",
      "Name: serum, dtype: int64\n",
      "Furniture Supplier\n",
      "False    996294\n",
      "True          1\n",
      "Name: Furniture Supplier, dtype: int64\n",
      "DECON\n",
      "False    996263\n",
      "True         32\n",
      "Name: DECON, dtype: int64\n",
      "de-con\n",
      "False    996294\n",
      "True          1\n",
      "Name: de-con, dtype: int64\n",
      "spell\n",
      "False    995482\n",
      "True        813\n",
      "Name: spell, dtype: int64\n",
      "love spell\n",
      "False    996292\n",
      "True          3\n",
      "Name: love spell, dtype: int64\n",
      "guru\n",
      "False    996270\n",
      "True         25\n",
      "Name: guru, dtype: int64\n",
      "27783223616\n",
      "False    996295\n",
      "Name: 27783223616, dtype: int64\n",
      "spiritual healer\n",
      "False    996294\n",
      "True          1\n",
      "Name: spiritual healer, dtype: int64\n",
      "08985305350\n",
      "False    996292\n",
      "True          3\n",
      "Name: 08985305350, dtype: int64\n",
      "obat\n",
      "False    996246\n",
      "True         49\n",
      "Name: obat, dtype: int64\n",
      "Leuxia\n",
      "False    996295\n",
      "Name: Leuxia, dtype: int64\n",
      "Astique\n",
      "False    996294\n",
      "True          1\n",
      "Name: Astique, dtype: int64\n",
      "creme\n",
      "False    996211\n",
      "True         84\n",
      "Name: creme, dtype: int64\n",
      "27719720344\n",
      "False    996295\n",
      "Name: 27719720344, dtype: int64\n",
      "Harga\n",
      "False    996290\n",
      "True          5\n",
      "Name: Harga, dtype: int64\n",
      "Aborsi\n",
      "False    996292\n",
      "True          3\n",
      "Name: Aborsi, dtype: int64\n",
      "anti-aging serum\n",
      "False    996293\n",
      "True          2\n",
      "Name: anti-aging serum, dtype: int64\n",
      "Image Revive\n",
      "False    996295\n",
      "Name: Image Revive, dtype: int64\n",
      "man improvement\n",
      "False    996295\n",
      "Name: man improvement, dtype: int64\n",
      "male improvement\n",
      "False    996292\n",
      "True          3\n",
      "Name: male improvement, dtype: int64\n",
      "manhood\n",
      "False    996279\n",
      "True         16\n",
      "Name: manhood, dtype: int64\n",
      "Zyntix\n",
      "False    996294\n",
      "True          1\n",
      "Name: Zyntix, dtype: int64\n",
      "testosterone\n",
      "False    996221\n",
      "True         74\n",
      "Name: testosterone, dtype: int64\n",
      "boosting\n",
      "False    996279\n",
      "True         16\n",
      "Name: boosting, dtype: int64\n",
      "Testo AmpX\n",
      "False    996295\n",
      "Name: Testo AmpX, dtype: int64\n",
      "free quote\n",
      "False    996295\n",
      "Name: free quote, dtype: int64\n",
      "oacdigital\n",
      "False    996295\n",
      "Name: oacdigital, dtype: int64\n",
      "Plantation Shutters\n",
      "False    996294\n",
      "True          1\n",
      "Name: Plantation Shutters, dtype: int64\n",
      "digital marketing agency\n",
      "False    996295\n",
      "Name: digital marketing agency, dtype: int64\n",
      "Porsche servicing\n",
      "False    996295\n",
      "Name: Porsche servicing, dtype: int64\n",
      "visit us at\n",
      "False    996293\n",
      "True          2\n",
      "Name: visit us at, dtype: int64\n",
      "visit [a-Z0-9]* at\n",
      "False    996288\n",
      "True          7\n",
      "Name: visit [a-Z0-9]* at, dtype: int64\n",
      "visit at\n",
      "False    996289\n",
      "True          6\n",
      "Name: visit at, dtype: int64\n",
      "T3Sol\n",
      "False    996295\n",
      "Name: T3Sol, dtype: int64\n",
      "boar bristle beard brush\n",
      "False    996295\n",
      "Name: boar bristle beard brush, dtype: int64\n",
      "aminoapp\n",
      "False    996289\n",
      "True          6\n",
      "Name: aminoapp, dtype: int64\n",
      "keto\n",
      "False    996115\n",
      "True        180\n",
      "Name: keto, dtype: int64\n",
      "xtreme\n",
      "False    994816\n",
      "True       1479\n",
      "Name: xtreme, dtype: int64\n",
      "extreme\n",
      "False    994822\n",
      "True       1473\n",
      "Name: extreme, dtype: int64\n",
      "watch\n",
      "False    987027\n",
      "True       9268\n",
      "Name: watch, dtype: int64\n",
      "live\n",
      "False    978794\n",
      "True      17501\n",
      "Name: live, dtype: int64\n",
      "streaming\n",
      "False    996159\n",
      "True        136\n",
      "Name: streaming, dtype: int64\n",
      "stream\n",
      "False    995582\n",
      "True        713\n",
      "Name: stream, dtype: int64\n",
      "vs\n",
      "False    994349\n",
      "True       1946\n",
      "Name: vs, dtype: int64\n",
      "v\\.s\\.\n",
      "False    996295\n",
      "Name: v\\.s\\., dtype: int64\n",
      "s\\.t\\.r\\.e\\.a\\.m\n",
      "False    996293\n",
      "True          2\n",
      "Name: s\\.t\\.r\\.e\\.a\\.m, dtype: int64\n",
      "visit here\n",
      "False    996233\n",
      "True         62\n",
      "Name: visit here, dtype: int64\n"
     ]
    }
   ],
   "source": [
    "for s in spam:\n",
    "    samp = has_word(samp, s)\n",
    "    print(s)\n",
    "    print(samp[s].value_counts())"
   ]
  },
  {
   "cell_type": "code",
   "execution_count": 40,
   "metadata": {},
   "outputs": [
    {
     "name": "stderr",
     "output_type": "stream",
     "text": [
      "/home/mwh/miniconda3/envs/forum/lib/python3.8/site-packages/ipykernel/ipkernel.py:287: DeprecationWarning: `should_run_async` will not call `transform_cell` automatically in the future. Please pass the result to `transformed_cell` argument and any exception that happen during thetransform in `preprocessing_exc_tuple` in IPython 7.17 and above.\n",
      "  and should_run_async(code)\n"
     ]
    }
   ],
   "source": [
    "samp.to_csv(path_spam_sample, sep ='\\t', index=False)"
   ]
  },
  {
   "cell_type": "markdown",
   "metadata": {},
   "source": [
    "## Identify Topic Model"
   ]
  },
  {
   "cell_type": "code",
   "execution_count": 41,
   "metadata": {
    "scrolled": false
   },
   "outputs": [
    {
     "name": "stderr",
     "output_type": "stream",
     "text": [
      "/home/mwh/miniconda3/envs/forum/lib/python3.8/site-packages/ipykernel/ipkernel.py:287: DeprecationWarning: `should_run_async` will not call `transform_cell` automatically in the future. Please pass the result to `transformed_cell` argument and any exception that happen during thetransform in `preprocessing_exc_tuple` in IPython 7.17 and above.\n",
      "  and should_run_async(code)\n"
     ]
    }
   ],
   "source": [
    "text = clean_data(samp)"
   ]
  },
  {
   "cell_type": "code",
   "execution_count": 42,
   "metadata": {},
   "outputs": [
    {
     "name": "stderr",
     "output_type": "stream",
     "text": [
      "/home/mwh/miniconda3/envs/forum/lib/python3.8/site-packages/ipykernel/ipkernel.py:287: DeprecationWarning: `should_run_async` will not call `transform_cell` automatically in the future. Please pass the result to `transformed_cell` argument and any exception that happen during thetransform in `preprocessing_exc_tuple` in IPython 7.17 and above.\n",
      "  and should_run_async(code)\n"
     ]
    }
   ],
   "source": [
    "pickle.dump(text, open(path_lemma_pkl, 'wb'))\n",
    "dictionary = corpora.Dictionary(text)\n",
    "dictionary.save(FileIO(path_dictionary_gensim, \"wb\"))\n",
    "corpus = [dictionary.doc2bow(t) for t in text]\n",
    "pickle.dump(corpus, open(path_corpus_pkl, 'wb'))"
   ]
  },
  {
   "cell_type": "code",
   "execution_count": 43,
   "metadata": {},
   "outputs": [
    {
     "name": "stderr",
     "output_type": "stream",
     "text": [
      "/home/mwh/miniconda3/envs/forum/lib/python3.8/site-packages/ipykernel/ipkernel.py:287: DeprecationWarning: `should_run_async` will not call `transform_cell` automatically in the future. Please pass the result to `transformed_cell` argument and any exception that happen during thetransform in `preprocessing_exc_tuple` in IPython 7.17 and above.\n",
      "  and should_run_async(code)\n"
     ]
    }
   ],
   "source": [
    "w = 15\n",
    "n_topics = 10\n",
    "NUM_WORDS = 10\n",
    "n_iterations = 50"
   ]
  },
  {
   "cell_type": "code",
   "execution_count": 44,
   "metadata": {},
   "outputs": [
    {
     "name": "stderr",
     "output_type": "stream",
     "text": [
      "/home/mwh/miniconda3/envs/forum/lib/python3.8/site-packages/ipykernel/ipkernel.py:287: DeprecationWarning: `should_run_async` will not call `transform_cell` automatically in the future. Please pass the result to `transformed_cell` argument and any exception that happen during thetransform in `preprocessing_exc_tuple` in IPython 7.17 and above.\n",
      "  and should_run_async(code)\n"
     ]
    },
    {
     "name": "stdout",
     "output_type": "stream",
     "text": [
      "CPU times: user 32min 48s, sys: 3min 56s, total: 36min 45s\n",
      "Wall time: 33min 30s\n"
     ]
    }
   ],
   "source": [
    "%time spammod = LdaMulticore(corpus, num_topics = n_topics, id2word=dictionary, passes=n_iterations, workers=w)"
   ]
  },
  {
   "cell_type": "code",
   "execution_count": 45,
   "metadata": {},
   "outputs": [
    {
     "name": "stderr",
     "output_type": "stream",
     "text": [
      "/home/mwh/miniconda3/envs/forum/lib/python3.8/site-packages/ipykernel/ipkernel.py:287: DeprecationWarning: `should_run_async` will not call `transform_cell` automatically in the future. Please pass the result to `transformed_cell` argument and any exception that happen during thetransform in `preprocessing_exc_tuple` in IPython 7.17 and above.\n",
      "  and should_run_async(code)\n"
     ]
    }
   ],
   "source": [
    "topics = spammod.print_topics(num_words=NUM_WORDS)\n",
    "coherence_model = CoherenceModel(model=spammod, texts=text, dictionary=dictionary, coherence='c_v')\n",
    "coherence = coherence_model.get_coherence()"
   ]
  },
  {
   "cell_type": "code",
   "execution_count": 46,
   "metadata": {},
   "outputs": [
    {
     "name": "stderr",
     "output_type": "stream",
     "text": [
      "/home/mwh/miniconda3/envs/forum/lib/python3.8/site-packages/ipykernel/ipkernel.py:287: DeprecationWarning: `should_run_async` will not call `transform_cell` automatically in the future. Please pass the result to `transformed_cell` argument and any exception that happen during thetransform in `preprocessing_exc_tuple` in IPython 7.17 and above.\n",
      "  and should_run_async(code)\n"
     ]
    }
   ],
   "source": [
    "spammod.save(path_model)"
   ]
  },
  {
   "cell_type": "code",
   "execution_count": 47,
   "metadata": {},
   "outputs": [
    {
     "name": "stderr",
     "output_type": "stream",
     "text": [
      "/home/mwh/miniconda3/envs/forum/lib/python3.8/site-packages/ipykernel/ipkernel.py:287: DeprecationWarning: `should_run_async` will not call `transform_cell` automatically in the future. Please pass the result to `transformed_cell` argument and any exception that happen during thetransform in `preprocessing_exc_tuple` in IPython 7.17 and above.\n",
      "  and should_run_async(code)\n"
     ]
    },
    {
     "data": {
      "text/html": [
       "\n",
       "<link rel=\"stylesheet\" type=\"text/css\" href=\"https://cdn.rawgit.com/bmabey/pyLDAvis/files/ldavis.v1.0.0.css\">\n",
       "\n",
       "\n",
       "<div id=\"ldavis_el2958121400783170498886102808194\"></div>\n",
       "<script type=\"text/javascript\">\n",
       "\n",
       "var ldavis_el2958121400783170498886102808194_data = {\"mdsDat\": {\"x\": [0.09785819906378142, -0.1529221899217197, -0.07043038546329582, -0.03457016991754438, 0.027054115460389595, 0.19415458140438888, -0.21184588778030483, 0.30608197021524824, -0.1037159540650494, -0.05166427899589384], \"y\": [-0.08758308201337395, -0.033210159686114286, -0.0550606380970583, -0.08806042467876443, -0.11854592742786943, -0.12866099250989452, 0.22516810176051172, 0.26550382294504804, 0.14891500808974498, -0.12846570838222984], \"topics\": [1, 2, 3, 4, 5, 6, 7, 8, 9, 10], \"cluster\": [1, 1, 1, 1, 1, 1, 1, 1, 1, 1], \"Freq\": [9.059475050686732, 9.282609575518434, 15.133857819577878, 21.502560611886405, 8.85503967491398, 7.488530036598673, 6.883341240208759, 5.862377266745666, 7.780319973061962, 8.151888750801506]}, \"tinfo\": {\"Term\": [\"like\", \"im\", \"yes\", \"dont\", \"kid\", \"say\", \"school\", \"op\", \"love\", \"think\", \"know\", \"look\", \"really\", \"sure\", \"go\", \"want\", \"good\", \"lol\", \"people\", \"youre\", \"going\", \"woman\", \"thats\", \"sound\", \"old\", \"day\", \"post\", \"mean\", \"dd\", \"pay\", \"op\", \"lol\", \"post\", \"mean\", \"oh\", \"ok\", \"stop\", \"agree\", \"fuck\", \"wrong\", \"yeah\", \"thank\", \"question\", \"please\", \"sense\", \"answer\", \"god\", \"fake\", \"ybm\", \"asshole\", \"asking\", \"dumb\", \"speak\", \"bitch\", \"ignore\", \"comment\", \"dislike\", \"text\", \"response\", \"joke\", \"troll\", \"stupid\", \"say\", \"talking\", \"call\", \"ask\", \"tell\", \"didnt\", \"thought\", \"np\", \"make\", \"well\", \"see\", \"someone\", \"happen\", \"would\", \"know\", \"one\", \"watch\", \"interest\", \"book\", \"test\", \"movie\", \"learn\", \"nope\", \"game\", \"reading\", \"tv\", \"list\", \"online\", \"level\", \"sport\", \"med\", \"yup\", \"luck\", \"team\", \"program\", \"article\", \"term\", \"site\", \"practice\", \"math\", \"study\", \"career\", \"interview\", \"degree\", \"grader\", \"website\", \"specific\", \"show\", \"read\", \"good\", \"play\", \"help\", \"issue\", \"job\", \"need\", \"different\", \"find\", \"write\", \"idea\", \"experience\", \"work\", \"anyone\", \"new\", \"get\", \"great\", \"also\", \"etc\", \"see\", \"try\", \"make\", \"take\", \"day\", \"week\", \"home\", \"house\", \"last\", \"night\", \"days\", \"month\", \"stay\", \"next\", \"ago\", \"1\", \"car\", \"room\", \"hours\", \"walk\", \"sleep\", \"bed\", \"ditto\", \"weekend\", \"town\", \"drive\", \"hour\", \"minutes\", \"trip\", \"vacation\", \"door\", \"near\", \"beach\", \"christmas\", \"every\", \"2\", \"years\", \"back\", \"go\", \"time\", \"live\", \"3\", \"away\", \"two\", \"take\", \"long\", \"nyc\", \"move\", \"get\", \"work\", \"dh\", \"one\", \"come\", \"year\", \"would\", \"going\", \"dont\", \"really\", \"anything\", \"care\", \"child\", \"wouldnt\", \"either\", \"understand\", \"matter\", \"divorce\", \"choice\", \"situation\", \"worse\", \"relationship\", \"anymore\", \"honestly\", \"hurt\", \"shitty\", \"abuse\", \"feelings\", \"pg\", \"strange\", \"knowing\", \"depression\", \"yikes\", \"attitude\", \"unfortunately\", \"differently\", \"anger\", \"rare\", \"imagine\", \"think\", \"know\", \"want\", \"else\", \"feel\", \"way\", \"doesnt\", \"exactly\", \"things\", \"life\", \"talk\", \"bad\", \"cant\", \"hard\", \"would\", \"people\", \"never\", \"better\", \"even\", \"like\", \"get\", \"make\", \"much\", \"say\", \"kid\", \"need\", \"one\", \"see\", \"go\", \"yes\", \"school\", \"old\", \"dd\", \"ds\", \"college\", \"girl\", \"age\", \"true\", \"yo\", \"boy\", \"grade\", \"wow\", \"older\", \"gift\", \"ita\", \"camp\", \"son\", \"brother\", \"hs\", \"invite\", \"dds\", \"13\", \"younger\", \"11\", \"teen\", \"14\", \"birthday\", \"18\", \"average\", \"young\", \"middle\", \"mom\", \"kid\", \"class\", \"teacher\", \"friend\", \"dc\", \"parent\", \"year\", \"dad\", \"high\", \"go\", \"one\", \"get\", \"love\", \"woman\", \"hate\", \"white\", \"black\", \"name\", \"man\", \"men\", \"omg\", \"vote\", \"hair\", \"american\", \"kill\", \"hillary\", \"win\", \"gay\", \"lie\", \"ha\", \"racist\", \"dead\", \"jewish\", \"jew\", \"blue\", \"liberal\", \"rape\", \"male\", \"race\", \"lying\", \"affair\", \"asian\", \"republican\", \"trump\", \"rich\", \"sex\", \"poor\", \"country\", \"guy\", \"he\", \"people\", \"fucking\", \"weird\", \"think\", \"world\", \"many\", \"hot\", \"would\", \"one\", \"eat\", \"food\", \"dog\", \"weight\", \"water\", \"eating\", \"chicken\", \"cook\", \"meal\", \"coffee\", \"favorite\", \"cat\", \"cheese\", \"cancer\", \"salad\", \"ice\", \"cream\", \"diet\", \"brand\", \"eye\", \"dry\", \"gain\", \"box\", \"sugar\", \"meat\", \"air\", \"oil\", \"surgery\", \"apple\", \"fruit\", \"mix\", \"lose\", \"awesome\", \"low\", \"bag\", \"add\", \"whats\", \"idiot\", \"make\", \"baby\", \"use\", \"dinner\", \"put\", \"get\", \"mine\", \"v\", \"easy\", \"need\", \"good\", \"im\", \"sure\", \"sorry\", \"hope\", \"suck\", \"sad\", \"awful\", \"hell\", \"link\", \"cool\", \"ny\", \"absolutely\", \"glad\", \"huh\", \"damn\", \"season\", \"hospital\", \"depress\", \"silly\", \"scary\", \"excite\", \"boring\", \"confuse\", \"boss\", \"hey\", \"curious\", \"lazy\", \"nurse\", \"bore\", \"dying\", \"fine\", \"pretty\", \"miss\", \"thinking\", \"going\", \"hear\", \"happy\", \"totally\", \"nut\", \"new\", \"news\", \"thats\", \"today\", \"still\", \"shes\", \"though\", \"look\", \"youre\", \"sound\", \"wear\", \"wtf\", \"drink\", \"face\", \"dress\", \"cute\", \"size\", \"gross\", \"clothes\", \"prefer\", \"wine\", \"wearing\", \"drinking\", \"pic\", \"shoes\", \"style\", \"tiny\", \"smell\", \"wash\", \"ugly\", \"pants\", \"drunk\", \"hands\", \"target\", \"warm\", \"pair\", \"jean\", \"dark\", \"like\", \"ass\", \"nice\", \"fat\", \"buy\", \"seem\", \"cheap\", \"one\", \"looking\", \"body\", \"big\", \"fun\", \"great\", \"little\", \"good\", \"shit\", \"kind\", \"always\", \"something\", \"get\", \"stuff\", \"right\", \"much\", \"np\", \"pay\", \"thanks\", \"course\", \"state\", \"tax\", \"business\", \"company\", \"google\", \"bill\", \"law\", \"insurance\", \"million\", \"medium\", \"ridiculous\", \"fire\", \"charge\", \"cost\", \"gun\", \"card\", \"police\", \"report\", \"income\", \"ty\", \"lawyer\", \"account\", \"loser\", \"rate\", \"policy\", \"government\", \"deserve\", \"money\", \"thats\", \"case\", \"free\", \"none\", \"right\", \"us\", \"save\", \"base\", \"point\", \"people\", \"give\", \"get\", \"trump\", \"would\", \"much\", \"job\", \"call\", \"need\"], \"Freq\": [74000.0, 47821.0, 38278.0, 59586.0, 49171.0, 40400.0, 28095.0, 27520.0, 24127.0, 50389.0, 48564.0, 21235.0, 31941.0, 16856.0, 44652.0, 38131.0, 30811.0, 15968.0, 40699.0, 14606.0, 22123.0, 14325.0, 23759.0, 13491.0, 13991.0, 16980.0, 13023.0, 12989.0, 12826.0, 12142.0, 27519.986479642106, 15967.615512900173, 13022.152992756284, 12988.796179153136, 12400.791609570495, 11665.320631509312, 8059.859056305827, 7329.037209874327, 7166.320543834708, 6956.037332168932, 6341.232612732645, 5236.803866348554, 5217.659137567824, 5160.572577338123, 3557.7070997246365, 3456.229390769442, 3391.8450349768027, 3252.3513813912955, 3094.8308728436564, 3016.1256152559927, 2914.7649580713332, 2488.501525073879, 2323.7526285458293, 2242.8632378579737, 2102.1484813798525, 1919.8071154803245, 1876.6978012821564, 1847.2144307539536, 1838.4895153002612, 1759.5654473676784, 3409.012529955259, 4303.836553202778, 25256.155828712224, 4823.268195847163, 8126.245056194595, 7541.116195688056, 8429.276796912947, 7761.527620604275, 5049.572206880051, 7099.202235130282, 7330.5671176892065, 5309.3894926767025, 5365.87903005669, 4606.213039286076, 4275.770597267772, 5885.792408379808, 5544.905301590721, 4558.495620397898, 6467.835234595547, 5753.206129113204, 5389.437399234578, 4350.586692028008, 3591.7167305411876, 3250.162749210324, 3202.856927491726, 3046.6657202279007, 3012.4237460797062, 2730.3800021022757, 2539.322436759506, 2532.876094555546, 2530.0937891343997, 2453.6891750910027, 2221.29736339822, 2084.0358074712153, 1966.7700565234024, 1961.7083881427034, 1915.409656721676, 1672.5178287725926, 1647.7546174341194, 1564.9250565820728, 1486.8915297309202, 1474.404152459515, 1396.696830050948, 1351.7113540209477, 1315.7289699345065, 1247.0744611628254, 1148.7939594452803, 1121.9960761471427, 1360.964561149122, 6475.712356192944, 6494.659636130125, 17226.412733817793, 3652.2587683670567, 6513.605710692924, 5027.352577369964, 5603.238269792357, 11133.112633095967, 4140.316664383646, 4419.461482968308, 2551.6229810014397, 3701.9027150464126, 2419.8615483872004, 4649.040704208554, 3501.7056997829295, 3691.8520020916317, 6272.811083499659, 3679.527953049216, 3739.6833670415176, 2860.87232616229, 3112.7802038295567, 3015.6113586373676, 3172.5649651988747, 3074.8473733185115, 16979.52235092481, 13523.263582063142, 13321.831043904936, 12248.257184495862, 10678.329898202757, 8064.649811889426, 7545.57305119672, 7496.649986666144, 6970.013683957653, 6068.0768506101185, 5920.889074461853, 4763.529922573923, 4704.278382590181, 4568.338293119592, 4349.84311154758, 3823.5890356336727, 3666.3560150696176, 3650.2150393507227, 3612.8079080657453, 3451.296698649187, 3410.412924803951, 3073.275627039689, 2549.2920667185517, 2404.6644240234787, 2387.797070006648, 2377.6054199548857, 2110.7944133357255, 2098.744689071725, 2070.7728606016676, 2008.282095922041, 10701.845198069112, 9416.57271939688, 12104.744288069314, 11108.10708165771, 28841.46026114544, 18116.589092114096, 9960.167019880046, 6698.014120554927, 6115.3835576160345, 6254.91991975547, 11775.606731816917, 6881.024604578739, 5212.997190184895, 5943.074932546527, 18649.267820717967, 9772.895542296546, 8773.312536578602, 11438.887525315113, 7034.063201931007, 6528.954914533473, 8143.34038475408, 6268.069897112624, 59585.9679542784, 31940.85055606716, 9651.795448717176, 9637.336887850648, 9325.475788756616, 6271.111262598493, 5771.860569306634, 5120.651888138758, 3940.876460476104, 3318.993605110583, 3243.2957479170827, 2876.969858034131, 2827.84073202692, 2561.2775509395233, 2409.007537924351, 2374.579891683951, 2362.6864636588393, 1043.2060554513384, 982.2436203566215, 964.4142107272643, 927.7382558289689, 855.0383180233665, 804.7133574154468, 673.8447263790807, 655.407059690144, 655.3386951217635, 602.7979721022867, 544.400538965959, 527.4206474447737, 520.7474453705254, 2869.2529946932596, 44945.3686897863, 43018.13669225403, 32778.390249501026, 5719.071430299691, 15723.558247578645, 15142.096957611573, 13048.236555341828, 4083.916253323357, 10930.964495035947, 11185.467415864992, 5437.869418788301, 8681.071977989326, 13305.9037042599, 8057.550816132532, 27326.48598183606, 22043.82219512942, 13069.275565843309, 8572.63521464022, 10994.997358716168, 27253.691284718065, 25731.22360282437, 15762.123717126948, 11246.469377634216, 14967.06132518731, 14891.41023686254, 11327.194539195058, 12325.709188592298, 9126.280894439311, 9999.131781809076, 38278.013906237546, 28094.45434450206, 13990.506065523596, 12825.903734979145, 10018.22217528253, 8200.45380389452, 7556.176702935336, 6734.730226465538, 6488.9019686787415, 5496.8655765027925, 4817.282809069274, 4717.605200377474, 4117.698345847805, 4015.9685367215393, 3741.766502259639, 3374.670130383723, 3277.219499807319, 3166.004551931137, 2562.938475833352, 2392.960713205391, 2232.386449752701, 2136.3613496363782, 1985.9434517180953, 1935.593825104084, 1932.603919414368, 1776.7811366986573, 1751.7732676979015, 1461.166134413429, 1361.8738702632181, 1334.9805295367773, 4823.5092639523855, 3624.430885991433, 12145.910469966075, 29811.753145831557, 5179.959145382736, 4808.804079301157, 10232.634144922255, 7037.935007283256, 6935.1594067043225, 7053.209656713961, 3318.8950653469774, 3539.724078031749, 5811.401585325243, 5777.121012946623, 4816.166014183729, 24126.805584039437, 14324.939472417645, 10952.737038987272, 7133.580958051976, 5772.1020522183035, 5685.214008761456, 5643.589605193694, 5312.082160638669, 5223.476844945762, 4329.060494434455, 3865.4507162311093, 3291.287648200059, 2852.6320429524503, 2479.5731254172642, 2379.3567739742584, 2174.39775571973, 2153.3135228440947, 2105.8896789502496, 1970.9700367028775, 1914.0785870285456, 1844.1129924658462, 1520.8954462525205, 1462.8583785979463, 1308.9566061115768, 1250.3720728460728, 1177.7762366415202, 1115.328205497819, 1103.36564431548, 1098.231938703221, 1066.3678356741866, 2065.2933535657116, 10148.917495414315, 2326.3612762896064, 3936.9788486331736, 2818.79541063075, 3169.9715053560626, 4629.024487443935, 5721.392442251045, 9405.627422327218, 3270.1406950190863, 3091.535144594412, 5443.565313598252, 2516.313124431386, 2904.423699737758, 2241.5680424106376, 2583.3861703388247, 2500.4526664436976, 7515.463264062147, 6709.073343619142, 5802.804146921877, 3896.5891569477576, 3226.6083587557064, 2807.042820119114, 2391.5837244676586, 2127.07221727486, 1994.80998346697, 1929.1372856621167, 1911.152911130214, 1891.6461338090785, 1869.0761158250627, 1717.6508910884097, 1610.5405926325368, 1607.1389285109317, 1586.854749266452, 1526.8286619536766, 1489.6615206751856, 1441.2438384261511, 1436.8617629970806, 1430.767682728775, 1369.3397469060546, 1361.059153898479, 1273.7043388116529, 1273.2689356361323, 1269.4599120128726, 1262.4450830739322, 1242.1041461150148, 1241.8439321053183, 1371.0425900669752, 2895.3526843063637, 1998.2076253883395, 2566.6852957087285, 1806.5176065527423, 2161.7462647738894, 2961.0515264127494, 1903.085271279565, 7667.816164592063, 2824.9950170491306, 4954.1194502665, 2340.9019903970316, 2761.0223692105897, 5605.113005334534, 2167.030765516965, 1694.138896154737, 1861.8342560283706, 2205.051507067711, 1907.0721655354723, 47820.95963921725, 16855.56622264194, 9637.39633928446, 6885.157783052196, 4979.559192112514, 4639.314863974142, 3832.261649683092, 3531.7106471367074, 3433.5946535506146, 2756.145466531337, 2487.6593326414786, 2211.340346976604, 2147.8479637768364, 1891.9153650839105, 1879.3899960287413, 1841.1371402138348, 1672.3983523911281, 1481.3940391926026, 1379.0291450591315, 1326.3451381375712, 1323.5944669890657, 1285.8027365896523, 1263.3517523952623, 1155.9883196576122, 1123.5904054059101, 1092.5398033205236, 1029.9913664933706, 1010.6186751572554, 940.6188664953904, 907.1138135294369, 6714.002797014426, 6532.270282873847, 3159.5500838331436, 3327.340548112556, 9619.97443873312, 3779.842937367061, 3082.0532285120853, 2706.033713475152, 1694.1448975737776, 3878.235263641266, 1948.1111950727811, 4561.915828902182, 2408.331868417561, 2690.5606054350174, 2469.4116693258698, 1928.0510024723371, 21234.20509923175, 14605.798988713988, 13491.034570539572, 5930.903703456067, 3379.617300625255, 3371.583666498964, 3357.6104926451317, 2973.098541864591, 2695.222747503012, 2394.548829547839, 2292.2440716144856, 1918.7658337527062, 1878.7322852795564, 1833.83819494058, 1692.5662576754992, 1523.488151497991, 1475.831907456838, 1419.16393490281, 1409.2711005751905, 1334.7713749694385, 1226.1677902162494, 1219.8325926819737, 1218.1479213950756, 1213.0652403393196, 1210.5310350384066, 1197.91153371263, 1151.1572328747025, 1016.2708185942593, 1009.738928741442, 963.8152819806936, 1235.2305387591027, 46745.537516342905, 2377.697317765148, 5716.05785206981, 2377.7101990598453, 4643.48447294316, 5070.940892224062, 2070.4784392316556, 12639.169799907346, 3324.4550503915934, 2099.141340528664, 4138.2997957139605, 2860.787038546588, 4744.899663819174, 3661.017265671405, 5048.294565848372, 2817.1527893439006, 2962.389134482917, 2777.139699397623, 2862.948317737291, 3371.6316556360716, 2382.7690118342503, 2620.4018735402447, 2486.6485711879645, 2450.395303846899, 12141.490957989023, 8661.294568552526, 7203.297013882033, 5836.48322113108, 2987.7690900949056, 2752.214875702051, 2680.5218737883615, 2332.985302736725, 2185.1448011048565, 2056.117854079659, 1995.198478194105, 1927.138541666362, 1910.5659309128566, 1898.8393480099867, 1881.076798187544, 1848.6724272139459, 1811.2948704396126, 1753.7235461788027, 1692.5949749559877, 1617.8579890235164, 1586.7824914035643, 1586.1031689105225, 1394.2505352952032, 1387.432302193538, 1380.8772503226207, 1309.5141180963394, 1258.2432651695142, 1186.7040171975689, 1185.0374673728977, 1160.8769275804416, 7282.010563679597, 11639.931309635986, 2826.053816881839, 2926.5774030113225, 1796.3868247352825, 6173.607130658091, 4521.319108789926, 1693.1852471884495, 1905.3652898402984, 3224.1008072086624, 5800.563548117623, 2728.8051103204866, 4172.54245000849, 2730.2756966445354, 3535.245328678832, 2961.6391237371136, 2159.120027848344, 2072.541342034244, 2050.7610773347615], \"Total\": [74000.0, 47821.0, 38278.0, 59586.0, 49171.0, 40400.0, 28095.0, 27520.0, 24127.0, 50389.0, 48564.0, 21235.0, 31941.0, 16856.0, 44652.0, 38131.0, 30811.0, 15968.0, 40699.0, 14606.0, 22123.0, 14325.0, 23759.0, 13491.0, 13991.0, 16980.0, 13023.0, 12989.0, 12826.0, 12142.0, 27520.923223599602, 15968.552205458665, 13023.089722383578, 12989.732926113169, 12401.728326507455, 11666.257614613487, 8060.795819297363, 7329.973953195382, 7167.25727202747, 6956.97407698063, 6342.169387647281, 5237.740566355788, 5218.595872324155, 5161.509309223879, 3558.6438560462498, 3457.1661065289964, 3392.7817636347845, 3253.2880960526736, 3095.767603338181, 3017.0623457892016, 2915.7017091280577, 2489.4382532322593, 2324.6893895883327, 2243.7999499567045, 2103.0852210975345, 1920.7438521732665, 1877.6345141700058, 1848.1511556153764, 1839.4262295850856, 1760.5021732389214, 3411.5765141782913, 4674.569908780487, 40400.36881597258, 5743.3376541668, 11269.404734189764, 10794.517602201224, 17334.548760294023, 15382.353557904547, 9533.645486640184, 25059.78466029842, 36224.1404244174, 20317.07792469401, 23249.93473560472, 12886.163218725458, 9830.780223977807, 50593.75755096489, 48564.44558555652, 49271.3667301482, 6468.767421580058, 5754.138321102698, 5390.369565729249, 4351.518854576477, 3592.6489018307666, 3251.0949312756193, 3203.7890733485096, 3047.5978961725154, 3013.35592123888, 2731.3121802450846, 2540.2546565515163, 2533.808289926069, 2531.02597265169, 2454.6213476678386, 2222.2295406606186, 2084.9679514549516, 1967.7022065280448, 1962.6405598398965, 1916.3418390245317, 1673.4500112663318, 1648.6868184509792, 1565.8578086388618, 1487.8237042771732, 1475.3363054106449, 1397.6289955192901, 1352.643533925979, 1316.6611670456, 1248.0066566775067, 1149.7261627630621, 1122.9282493459266, 1371.7446154217391, 8216.107556437788, 8303.351100776425, 30811.531992289383, 5036.7894195627105, 11453.81802857229, 8459.045014677427, 10124.055099602218, 31777.085562050725, 8482.068201680157, 9594.31331862753, 3642.1089038968544, 7601.950127206286, 3426.497779646723, 21842.241570164977, 10319.5979248232, 12279.308665447043, 71508.55853933727, 14318.175620555196, 15356.246775814147, 8941.407409816959, 23249.93473560472, 17233.627023046156, 36224.1404244174, 23255.565449639045, 16980.45904246964, 13524.20024227716, 13322.767730901875, 12249.193876598758, 10679.266587312317, 8065.586479034545, 7546.509726827663, 7497.586661587686, 6970.9503732638195, 6069.01354827998, 5921.825735315471, 4764.466634039913, 4705.215050701451, 4569.274978763067, 4350.779768244976, 3824.525708042461, 3667.292689558916, 3651.151708039273, 3613.744546699143, 3452.233356154392, 3411.3496123643436, 3074.2123240247506, 2550.228720535421, 2405.6010950089394, 2388.733731172848, 2378.5420732722287, 2111.7310835537774, 2099.681386434211, 2071.709510539871, 2009.2188081561621, 11965.433483820632, 11507.92130668509, 15313.899062521901, 14266.53750876625, 44652.730213007075, 27721.7640048747, 13524.366183398737, 8567.601874713218, 7842.3759470283285, 8659.70484065375, 23255.565449639045, 10057.756481860757, 6636.407570509506, 8523.576493103377, 71508.55853933727, 21842.241570164977, 20193.20317238224, 49271.3667301482, 13875.692529543976, 13582.998175651408, 50593.75755096489, 22123.518052779054, 59586.90783128051, 31941.790456374958, 9652.73534312555, 9638.27675695422, 9326.415687881916, 6272.051135902492, 5772.80046870103, 5121.5917468481375, 3941.8163440889193, 3319.933457950502, 3244.2357202475137, 2877.9097265371547, 2828.7806150354018, 2562.2174095271234, 2409.9474155154485, 2375.5197751619194, 2363.6263423843807, 1044.145947826899, 983.1835007431146, 965.3540401846866, 928.6781653808009, 855.9782123796618, 805.6532368759781, 674.7846088528883, 656.3469218776579, 656.2785674998876, 603.7378817606445, 545.3404136458303, 528.3605270401906, 521.6873749961046, 2964.2630718090795, 50389.76892419895, 48564.44558555652, 38131.14002294917, 6201.183613381985, 17909.20936260301, 18356.727524652437, 15805.723253694003, 4570.263563249986, 13238.491027854325, 13665.170498275535, 6271.3684310483095, 10875.622327345138, 18435.1820695599, 10287.492025961226, 50593.75755096489, 40699.72016131324, 20943.315355931725, 12876.960174137019, 18431.268931506533, 74000.06383751857, 71508.55853933727, 36224.1404244174, 22787.25018149587, 40400.36881597258, 49171.942504563434, 31777.085562050725, 49271.3667301482, 23249.93473560472, 44652.730213007075, 38278.94772705847, 28095.38814776622, 13991.439893596556, 12826.837562474142, 10019.15600462367, 8201.387619749952, 7557.110525456517, 6735.664043163679, 6489.835824977519, 5497.799369360418, 4818.216612625946, 4718.538973707844, 4118.632175911217, 4016.902352266083, 3742.700357188902, 3375.6039472176153, 3278.153310855226, 3166.9383931235316, 2563.8723045948027, 2393.8944968307997, 2233.320280086348, 2137.295171082832, 1986.8772561954013, 1936.5276334806065, 1933.5377256766285, 1777.7149594542873, 1752.7070762117885, 1462.0999457424878, 1362.8076914223138, 1335.9143721217217, 4830.135006089948, 4016.8942716953125, 15588.739992872883, 49171.942504563434, 6404.041119404908, 6057.934779765094, 18876.146797927595, 12154.168788940216, 12470.604212762453, 13582.998175651408, 4622.558362008567, 6751.645518298491, 44652.730213007075, 49271.3667301482, 71508.55853933727, 24127.73755497298, 14325.871397991838, 10953.668981813673, 7134.51286495503, 5773.033953920171, 5686.145933382206, 5644.52152956532, 5313.014064029675, 5224.408753562636, 4329.992371407128, 3866.382652925536, 3292.219556683736, 2853.5639688007745, 2480.5050192480544, 2380.288678660617, 2175.3296398235607, 2154.245454559702, 2106.8215723388143, 1971.901923273011, 1915.0105123871194, 1845.0448885146245, 1521.827323149029, 1463.790303825561, 1309.8885260509212, 1251.303960894886, 1178.7081555187206, 1116.2601115910823, 1104.2975681959667, 1099.1638557248555, 1067.2997401017885, 2095.146571264751, 12880.019734240355, 2709.8614339886026, 5921.600449466729, 3856.5977928371312, 4830.002121003886, 8649.099097081493, 14325.440774329583, 40699.72016131324, 6330.04462599771, 5667.208845257174, 50389.76892419895, 4614.142157839313, 14290.763678768319, 3433.29788500049, 50593.75755096489, 49271.3667301482, 7516.391906181588, 6710.002005458235, 5803.732817772289, 3897.5178090022514, 3227.537020087866, 2807.971471602153, 2392.5123476926497, 2128.0008678054955, 1995.7386438830088, 1930.0659523214917, 1912.0815974147338, 1892.5748010243765, 1870.0047358791019, 1718.5795865600646, 1611.4692042764327, 1608.0675834372462, 1587.7833794340017, 1527.757305019061, 1490.5902312099024, 1442.1725484109618, 1437.7904214867372, 1431.6963681166117, 1370.268431242531, 1361.987780506073, 1274.632962772283, 1274.197623237669, 1270.3885609759584, 1263.3737767335285, 1243.0328064502592, 1242.7725505375854, 1376.1165856642265, 4344.216691699938, 2507.5439182593773, 3704.243937865815, 2232.66024356073, 3019.539544536687, 5545.278027553046, 2552.4540591216432, 36224.1404244174, 5413.583817720485, 16952.01035492247, 4240.11643268655, 8407.78923703864, 71508.55853933727, 5943.986461741135, 2188.066958742876, 5806.964039519041, 31777.085562050725, 30811.531992289383, 47821.88836465087, 16856.49494781444, 9638.325033793435, 6886.086508101939, 4980.487909774605, 4640.243579600658, 3833.19037259867, 3532.639380974983, 3434.5233485402377, 2757.0741950619895, 2488.5880492677866, 2212.269088179255, 2148.7766754898776, 1892.8440416049548, 1880.3187223589784, 1842.0658671328592, 1673.3270874422217, 1482.3227585701613, 1379.957886326383, 1327.2738754399059, 1324.5231950399568, 1286.7314529256353, 1264.280486745867, 1156.9170683817902, 1124.5191415068603, 1093.4685273843036, 1030.9200932619501, 1011.547410813566, 941.5475984816748, 908.0425452787329, 8841.934142626711, 9049.115002443721, 4120.69454621267, 4762.987850710165, 22123.518052779054, 7378.684176415587, 6234.282515645879, 5126.418103308405, 2235.6337197125076, 12279.308665447043, 3009.672919461594, 23759.356087250424, 7297.823760203119, 16066.736354556999, 11837.262701288928, 9390.59873094954, 21235.137140564755, 14606.731052391387, 13491.966591530298, 5931.835707593574, 3380.5493534662924, 3372.515720220897, 3358.542555582388, 2974.030553959073, 2696.154759876859, 2395.4808586909667, 2293.1761003270185, 1919.697864030761, 1879.664358473662, 1834.770223821777, 1693.4982720383275, 1524.4202116515653, 1476.7639478549684, 1420.0959441789269, 1410.2031254259846, 1335.7034215362626, 1227.0998131826746, 1220.764621824058, 1219.07994831068, 1213.9972395841605, 1211.4630782366946, 1198.8435981012365, 1152.0892850286207, 1017.20288784717, 1010.6709348465724, 964.7472615658405, 1255.1052547136705, 74000.06383751857, 2863.7614565010863, 9592.289776044081, 3297.403534632268, 8996.567550838216, 10861.79643714095, 2746.209970018705, 49271.3667301482, 6110.376047832981, 3004.698530329481, 9788.340588404757, 5350.372600945381, 14318.175620555196, 9812.7008556767, 30811.531992289383, 7353.543979142163, 9350.161710693434, 12967.132522816008, 15847.171507678202, 71508.55853933727, 7937.414522712357, 20770.566491684025, 22787.25018149587, 25059.78466029842, 12142.422482627066, 8662.226116877559, 7204.228583449578, 5837.4147677547535, 2988.700580871558, 2753.146430054711, 2681.4534164339175, 2333.9168783251716, 2186.0763308109995, 2057.0493877408153, 1996.1299856647902, 1928.0700839611063, 1911.4974983828088, 1899.7709251721335, 1882.0083573756071, 1849.6039655886077, 1812.2264646131762, 1754.6550716225822, 1693.5265262769371, 1618.7895255926105, 1587.7140393147301, 1587.0346804533935, 1395.1820456779174, 1388.3638319251538, 1381.8087774880464, 1310.4456783631465, 1259.1748024801268, 1187.6355496251094, 1185.9689766219358, 1161.8085010671089, 9704.81472765849, 23759.356087250424, 3998.5163110210615, 4208.605676820344, 2227.4262808295657, 20770.566491684025, 13087.922620856698, 2059.11247082863, 2662.1017108684664, 8608.166786172222, 40699.72016131324, 12443.812904458991, 71508.55853933727, 12880.019734240355, 50593.75755096489, 22787.25018149587, 10124.055099602218, 11269.404734189764, 31777.085562050725], \"Category\": [\"Default\", \"Default\", \"Default\", \"Default\", \"Default\", \"Default\", \"Default\", \"Default\", \"Default\", \"Default\", \"Default\", \"Default\", \"Default\", \"Default\", \"Default\", \"Default\", \"Default\", \"Default\", \"Default\", \"Default\", \"Default\", \"Default\", \"Default\", \"Default\", \"Default\", \"Default\", \"Default\", \"Default\", \"Default\", \"Default\", \"Topic1\", \"Topic1\", \"Topic1\", \"Topic1\", \"Topic1\", \"Topic1\", \"Topic1\", \"Topic1\", \"Topic1\", \"Topic1\", \"Topic1\", \"Topic1\", \"Topic1\", \"Topic1\", \"Topic1\", \"Topic1\", \"Topic1\", \"Topic1\", \"Topic1\", \"Topic1\", \"Topic1\", \"Topic1\", \"Topic1\", \"Topic1\", \"Topic1\", \"Topic1\", \"Topic1\", \"Topic1\", \"Topic1\", \"Topic1\", \"Topic1\", \"Topic1\", \"Topic1\", \"Topic1\", \"Topic1\", \"Topic1\", \"Topic1\", \"Topic1\", \"Topic1\", \"Topic1\", \"Topic1\", \"Topic1\", \"Topic1\", \"Topic1\", \"Topic1\", \"Topic1\", \"Topic1\", \"Topic1\", \"Topic2\", \"Topic2\", \"Topic2\", \"Topic2\", \"Topic2\", \"Topic2\", \"Topic2\", \"Topic2\", \"Topic2\", \"Topic2\", \"Topic2\", \"Topic2\", \"Topic2\", \"Topic2\", \"Topic2\", \"Topic2\", \"Topic2\", \"Topic2\", \"Topic2\", \"Topic2\", \"Topic2\", \"Topic2\", \"Topic2\", \"Topic2\", \"Topic2\", \"Topic2\", \"Topic2\", \"Topic2\", \"Topic2\", \"Topic2\", \"Topic2\", \"Topic2\", \"Topic2\", \"Topic2\", \"Topic2\", \"Topic2\", \"Topic2\", \"Topic2\", \"Topic2\", \"Topic2\", \"Topic2\", \"Topic2\", \"Topic2\", \"Topic2\", \"Topic2\", \"Topic2\", \"Topic2\", \"Topic2\", \"Topic2\", \"Topic2\", \"Topic2\", \"Topic2\", \"Topic2\", \"Topic2\", \"Topic2\", \"Topic3\", \"Topic3\", \"Topic3\", \"Topic3\", \"Topic3\", \"Topic3\", \"Topic3\", \"Topic3\", \"Topic3\", \"Topic3\", \"Topic3\", \"Topic3\", \"Topic3\", \"Topic3\", \"Topic3\", \"Topic3\", \"Topic3\", \"Topic3\", \"Topic3\", \"Topic3\", \"Topic3\", \"Topic3\", \"Topic3\", \"Topic3\", \"Topic3\", \"Topic3\", \"Topic3\", \"Topic3\", \"Topic3\", \"Topic3\", \"Topic3\", \"Topic3\", \"Topic3\", \"Topic3\", \"Topic3\", \"Topic3\", \"Topic3\", \"Topic3\", \"Topic3\", \"Topic3\", \"Topic3\", \"Topic3\", \"Topic3\", \"Topic3\", \"Topic3\", \"Topic3\", \"Topic3\", \"Topic3\", \"Topic3\", \"Topic3\", \"Topic3\", \"Topic3\", \"Topic4\", \"Topic4\", \"Topic4\", \"Topic4\", \"Topic4\", \"Topic4\", \"Topic4\", \"Topic4\", \"Topic4\", \"Topic4\", \"Topic4\", \"Topic4\", \"Topic4\", \"Topic4\", \"Topic4\", \"Topic4\", \"Topic4\", \"Topic4\", \"Topic4\", \"Topic4\", \"Topic4\", \"Topic4\", \"Topic4\", \"Topic4\", \"Topic4\", \"Topic4\", \"Topic4\", \"Topic4\", \"Topic4\", \"Topic4\", \"Topic4\", \"Topic4\", \"Topic4\", \"Topic4\", \"Topic4\", \"Topic4\", \"Topic4\", \"Topic4\", \"Topic4\", \"Topic4\", \"Topic4\", \"Topic4\", \"Topic4\", \"Topic4\", \"Topic4\", \"Topic4\", \"Topic4\", \"Topic4\", \"Topic4\", \"Topic4\", \"Topic4\", \"Topic4\", \"Topic4\", \"Topic4\", \"Topic4\", \"Topic4\", \"Topic4\", \"Topic4\", \"Topic4\", \"Topic4\", \"Topic5\", \"Topic5\", \"Topic5\", \"Topic5\", \"Topic5\", \"Topic5\", \"Topic5\", \"Topic5\", \"Topic5\", \"Topic5\", \"Topic5\", \"Topic5\", \"Topic5\", \"Topic5\", \"Topic5\", \"Topic5\", \"Topic5\", \"Topic5\", \"Topic5\", \"Topic5\", \"Topic5\", \"Topic5\", \"Topic5\", \"Topic5\", \"Topic5\", \"Topic5\", \"Topic5\", \"Topic5\", \"Topic5\", \"Topic5\", \"Topic5\", \"Topic5\", \"Topic5\", \"Topic5\", \"Topic5\", \"Topic5\", \"Topic5\", \"Topic5\", \"Topic5\", \"Topic5\", \"Topic5\", \"Topic5\", \"Topic5\", \"Topic5\", \"Topic5\", \"Topic6\", \"Topic6\", \"Topic6\", \"Topic6\", \"Topic6\", \"Topic6\", \"Topic6\", \"Topic6\", \"Topic6\", \"Topic6\", \"Topic6\", \"Topic6\", \"Topic6\", \"Topic6\", \"Topic6\", \"Topic6\", \"Topic6\", \"Topic6\", \"Topic6\", \"Topic6\", \"Topic6\", \"Topic6\", \"Topic6\", \"Topic6\", \"Topic6\", \"Topic6\", \"Topic6\", \"Topic6\", \"Topic6\", \"Topic6\", \"Topic6\", \"Topic6\", \"Topic6\", \"Topic6\", \"Topic6\", \"Topic6\", \"Topic6\", \"Topic6\", \"Topic6\", \"Topic6\", \"Topic6\", \"Topic6\", \"Topic6\", \"Topic6\", \"Topic6\", \"Topic6\", \"Topic6\", \"Topic7\", \"Topic7\", \"Topic7\", \"Topic7\", \"Topic7\", \"Topic7\", \"Topic7\", \"Topic7\", \"Topic7\", \"Topic7\", \"Topic7\", \"Topic7\", \"Topic7\", \"Topic7\", \"Topic7\", \"Topic7\", \"Topic7\", \"Topic7\", \"Topic7\", \"Topic7\", \"Topic7\", \"Topic7\", \"Topic7\", \"Topic7\", \"Topic7\", \"Topic7\", \"Topic7\", \"Topic7\", \"Topic7\", \"Topic7\", \"Topic7\", \"Topic7\", \"Topic7\", \"Topic7\", \"Topic7\", \"Topic7\", \"Topic7\", \"Topic7\", \"Topic7\", \"Topic7\", \"Topic7\", \"Topic7\", \"Topic7\", \"Topic7\", \"Topic7\", \"Topic7\", \"Topic7\", \"Topic7\", \"Topic7\", \"Topic8\", \"Topic8\", \"Topic8\", \"Topic8\", \"Topic8\", \"Topic8\", \"Topic8\", \"Topic8\", \"Topic8\", \"Topic8\", \"Topic8\", \"Topic8\", \"Topic8\", \"Topic8\", \"Topic8\", \"Topic8\", \"Topic8\", \"Topic8\", \"Topic8\", \"Topic8\", \"Topic8\", \"Topic8\", \"Topic8\", \"Topic8\", \"Topic8\", \"Topic8\", \"Topic8\", \"Topic8\", \"Topic8\", \"Topic8\", \"Topic8\", \"Topic8\", \"Topic8\", \"Topic8\", \"Topic8\", \"Topic8\", \"Topic8\", \"Topic8\", \"Topic8\", \"Topic8\", \"Topic8\", \"Topic8\", \"Topic8\", \"Topic8\", \"Topic8\", \"Topic8\", \"Topic9\", \"Topic9\", \"Topic9\", \"Topic9\", \"Topic9\", \"Topic9\", \"Topic9\", \"Topic9\", \"Topic9\", \"Topic9\", \"Topic9\", \"Topic9\", \"Topic9\", \"Topic9\", \"Topic9\", \"Topic9\", \"Topic9\", \"Topic9\", \"Topic9\", \"Topic9\", \"Topic9\", \"Topic9\", \"Topic9\", \"Topic9\", \"Topic9\", \"Topic9\", \"Topic9\", \"Topic9\", \"Topic9\", \"Topic9\", \"Topic9\", \"Topic9\", \"Topic9\", \"Topic9\", \"Topic9\", \"Topic9\", \"Topic9\", \"Topic9\", \"Topic9\", \"Topic9\", \"Topic9\", \"Topic9\", \"Topic9\", \"Topic9\", \"Topic9\", \"Topic9\", \"Topic9\", \"Topic9\", \"Topic9\", \"Topic9\", \"Topic9\", \"Topic9\", \"Topic9\", \"Topic9\", \"Topic9\", \"Topic10\", \"Topic10\", \"Topic10\", \"Topic10\", \"Topic10\", \"Topic10\", \"Topic10\", \"Topic10\", \"Topic10\", \"Topic10\", \"Topic10\", \"Topic10\", \"Topic10\", \"Topic10\", \"Topic10\", \"Topic10\", \"Topic10\", \"Topic10\", \"Topic10\", \"Topic10\", \"Topic10\", \"Topic10\", \"Topic10\", \"Topic10\", \"Topic10\", \"Topic10\", \"Topic10\", \"Topic10\", \"Topic10\", \"Topic10\", \"Topic10\", \"Topic10\", \"Topic10\", \"Topic10\", \"Topic10\", \"Topic10\", \"Topic10\", \"Topic10\", \"Topic10\", \"Topic10\", \"Topic10\", \"Topic10\", \"Topic10\", \"Topic10\", \"Topic10\", \"Topic10\", \"Topic10\", \"Topic10\", \"Topic10\"], \"logprob\": [30.0, 29.0, 28.0, 27.0, 26.0, 25.0, 24.0, 23.0, 22.0, 21.0, 20.0, 19.0, 18.0, 17.0, 16.0, 15.0, 14.0, 13.0, 12.0, 11.0, 10.0, 9.0, 8.0, 7.0, 6.0, 5.0, 4.0, 3.0, 2.0, 1.0, -3.1333000659942627, -3.6777000427246094, -3.8815999031066895, -3.8840999603271484, -3.930500030517578, -3.9916000366210938, -4.361299991607666, -4.456399917602539, -4.478799819946289, -4.508600234985352, -4.601099967956543, -4.792500019073486, -4.796199798583984, -4.807199954986572, -5.179100036621094, -5.208000183105469, -5.226799964904785, -5.268799781799316, -5.31850004196167, -5.344200134277344, -5.378399848937988, -5.536499977111816, -5.605000019073486, -5.640500068664551, -5.7052998542785645, -5.796000003814697, -5.818699836730957, -5.834499835968018, -5.839300155639648, -5.8831000328063965, -5.221799850463867, -4.988699913024902, -3.219099998474121, -4.874800205230713, -4.353099822998047, -4.427800178527832, -4.316500186920166, -4.39900016784668, -4.82889986038208, -4.4882001876831055, -4.456200122833252, -4.77869987487793, -4.768199920654297, -4.92080020904541, -4.995299816131592, -4.6757001876831055, -4.735300064086914, -4.93120002746582, -4.6057000160217285, -4.722799777984619, -4.788099765777588, -5.002200126647949, -5.193900108337402, -5.293799877166748, -5.308499813079834, -5.358500003814697, -5.369800090789795, -5.468100070953369, -5.5406999588012695, -5.5432000160217285, -5.544300079345703, -5.574999809265137, -5.674499988555908, -5.7382001876831055, -5.796199798583984, -5.798699855804443, -5.8225998878479, -5.958199977874756, -5.973100185394287, -6.024700164794922, -6.075900077819824, -6.0843000411987305, -6.138400077819824, -6.171199798583984, -6.198200225830078, -6.251699924468994, -6.333799839019775, -6.357399940490723, -6.164400100708008, -4.604499816894531, -4.601600170135498, -3.6261000633239746, -5.177199840545654, -4.598700046539307, -4.857699871063232, -4.749199867248535, -4.062600135803223, -5.051799774169922, -4.986499786376953, -5.535799980163574, -5.163700103759766, -5.588799953460693, -4.9359002113342285, -5.219299793243408, -5.166399955749512, -4.636300086975098, -5.1697998046875, -5.153500080108643, -5.42140007019043, -5.336999893188477, -5.36870002746582, -5.317999839782715, -5.349299907684326, -4.129300117492676, -4.356900215148926, -4.3719000816345215, -4.455999851226807, -4.593100070953369, -4.873799800872803, -4.940400123596191, -4.946899890899658, -5.019700050354004, -5.158299922943115, -5.1828999519348145, -5.400400161743164, -5.412899971008301, -5.442200183868408, -5.491199970245361, -5.620200157165527, -5.662099838256836, -5.666600227355957, -5.6768999099731445, -5.722599983215332, -5.734499931335449, -5.838600158691406, -6.0254998207092285, -6.083899974822998, -6.091000080108643, -6.095200061798096, -6.214300155639648, -6.21999979019165, -6.233399868011475, -6.264100074768066, -4.59089994430542, -4.718900203704834, -4.467700004577637, -4.553699970245361, -3.5994999408721924, -4.064499855041504, -4.662700176239014, -5.059500217437744, -5.1504998207092285, -5.127999782562256, -4.495299816131592, -5.032599925994873, -5.310200214385986, -5.179100036621094, -4.0355000495910645, -4.681700229644775, -4.789599895477295, -4.5243000984191895, -5.0106000900268555, -5.085100173950195, -4.864099979400635, -5.125899791717529, -3.2251999378204346, -3.8487000465393066, -5.045400142669678, -5.046899795532227, -5.079800128936768, -5.476600170135498, -5.559599876403809, -5.679299831390381, -5.941199779510498, -6.1128997802734375, -6.136000156402588, -6.255799770355225, -6.273099899291992, -6.372099876403809, -6.4334001541137695, -6.447800159454346, -6.4527997970581055, -7.270299911499023, -7.33050012588501, -7.348800182342529, -7.387599945068359, -7.469200134277344, -7.529799938201904, -7.707300186157227, -7.735099792480469, -7.735199928283691, -7.81879997253418, -7.920599937438965, -7.952300071716309, -7.965099811553955, -6.258500099182129, -3.5071001052856445, -3.5510001182556152, -3.8227999210357666, -5.56879997253418, -4.557400226593018, -4.595099925994873, -4.743899822235107, -5.9054999351501465, -4.921000003814697, -4.8979997634887695, -5.619200229644775, -5.151400089263916, -4.724400043487549, -5.22599983215332, -4.004700183868408, -4.2195000648498535, -4.742300033569336, -5.164000034332275, -4.91510009765625, -4.007400035858154, -4.064899921417236, -4.554999828338623, -4.892499923706055, -4.6066999435424805, -4.611800193786621, -4.88539981842041, -4.800899982452393, -5.101399898529053, -5.0100998878479, -2.7804999351501465, -3.0897998809814453, -3.7869999408721924, -3.8738999366760254, -4.120999813079834, -4.321199893951416, -4.4029998779296875, -4.518099784851074, -4.555300235748291, -4.721199989318848, -4.8531999588012695, -4.874100208282471, -5.0100998878479, -5.035099983215332, -5.105800151824951, -5.209099769592285, -5.238399982452393, -5.272900104522705, -5.4842000007629395, -5.5528998374938965, -5.622300148010254, -5.666299819946289, -5.739299774169922, -5.764999866485596, -5.766499996185303, -5.850599765777588, -5.864799976348877, -6.046199798583984, -6.116499900817871, -6.136499881744385, -4.851900100708008, -5.137700080871582, -3.9284000396728516, -3.0304999351501465, -4.780600070953369, -4.854899883270264, -4.099800109863281, -4.474100112915039, -4.488800048828125, -4.47189998626709, -5.225800037384033, -5.161300182342529, -4.665599822998047, -4.671500205993652, -4.853400230407715, -3.07450008392334, -3.5957999229431152, -3.8642001152038574, -4.293000221252441, -4.504700183868408, -4.519899845123291, -4.527299880981445, -4.587800025939941, -4.604599952697754, -4.792399883270264, -4.905700206756592, -5.066500186920166, -5.209499835968018, -5.349699974060059, -5.390900135040283, -5.480999946594238, -5.490799903869629, -5.513000011444092, -5.5792999267578125, -5.608500003814697, -5.6458001136779785, -5.838500022888184, -5.877399921417236, -5.988500118255615, -6.034299850463867, -6.094099998474121, -6.148600101470947, -6.15939998626709, -6.164100170135498, -6.19350004196167, -5.53249979019165, -3.9403998851776123, -5.41349983215332, -4.887400150299072, -5.221499919891357, -5.104100227355957, -4.725399971008301, -4.513599872589111, -4.016499996185303, -5.07289981842041, -5.1290998458862305, -4.563300132751465, -5.335000038146973, -5.191500186920166, -5.4506001472473145, -5.308700084686279, -5.341300010681152, -4.156499862670898, -4.269999980926514, -4.415200233459473, -4.813399791717529, -5.002099990844727, -5.14139986038208, -5.301599979400635, -5.418799877166748, -5.482999801635742, -5.51639986038208, -5.5258002281188965, -5.536099910736084, -5.548099994659424, -5.632599830627441, -5.696899890899658, -5.699100017547607, -5.7118000984191895, -5.75029993057251, -5.775000095367432, -5.808000087738037, -5.810999870300293, -5.815299987792969, -5.8592000007629395, -5.865200042724609, -5.931600093841553, -5.9319000244140625, -5.934899806976318, -5.940499782562256, -5.956699848175049, -5.956900119781494, -5.857900142669678, -5.110400199890137, -5.481299877166748, -5.230899810791016, -5.582099914550781, -5.402599811553955, -5.0879998207092285, -5.53000020980835, -4.136499881744385, -5.135000228881836, -4.573299884796143, -5.322999954223633, -5.157899856567383, -4.44980001449585, -5.400199890136719, -5.646299839019775, -5.5518999099731445, -5.382800102233887, -5.527900218963623, -2.1454999446868896, -3.1882998943328857, -3.747299909591675, -4.083600044250488, -4.407599925994873, -4.478400230407715, -4.66949987411499, -4.751200199127197, -4.779399871826172, -4.999100208282471, -5.101600170135498, -5.219399929046631, -5.248499870300293, -5.375400066375732, -5.381999969482422, -5.402599811553955, -5.498700141906738, -5.619999885559082, -5.6915998458862305, -5.730500221252441, -5.732600212097168, -5.761600017547607, -5.779200077056885, -5.868000030517578, -5.896399974822998, -5.924499988555908, -5.983399868011475, -6.002399921417236, -6.07420015335083, -6.110400199890137, -4.108799934387207, -4.136199951171875, -4.862500190734863, -4.810800075531006, -3.7490999698638916, -4.683300018310547, -4.887400150299072, -5.017499923706055, -5.485799789428711, -4.657599925994873, -5.346099853515625, -4.495200157165527, -5.133999824523926, -5.023200035095215, -5.109000205993652, -5.356500148773193, -3.2404000759124756, -3.6145999431610107, -3.694000005722046, -4.5157999992370605, -5.078199863433838, -5.080599784851074, -5.084799766540527, -5.206399917602539, -5.304500102996826, -5.422800064086914, -5.4664998054504395, -5.6442999839782715, -5.66540002822876, -5.689599990844727, -5.769800186157227, -5.875, -5.906799793243408, -5.945899963378906, -5.952899932861328, -6.007199764251709, -6.092100143432617, -6.097300052642822, -6.098700046539307, -6.10290002822876, -6.104899883270264, -6.1153998374938965, -6.155200004577637, -6.279900074005127, -6.286300182342529, -6.332900047302246, -6.084700107574463, -2.4512999057769775, -5.429900169372559, -4.552700042724609, -5.429900169372559, -4.760499954223633, -4.672500133514404, -5.56820011138916, -3.759200096130371, -5.094699859619141, -5.554500102996826, -4.875699996948242, -5.244900226593018, -4.738900184631348, -4.998300075531006, -4.677000045776367, -5.260300159454346, -5.210000038146973, -5.274600028991699, -5.244200229644775, -5.080599784851074, -5.427700042724609, -5.332699775695801, -5.3850998878479, -5.399799823760986, -3.8459999561309814, -4.183800220489502, -4.368100166320801, -4.578499794006348, -5.2480998039245605, -5.3302001953125, -5.356599807739258, -5.495500087738037, -5.560999870300293, -5.621799945831299, -5.651899814605713, -5.686600208282471, -5.695300102233887, -5.701399803161621, -5.7108001708984375, -5.7281999588012695, -5.748600006103516, -5.780900001525879, -5.816400051116943, -5.861599922180176, -5.880899906158447, -5.881400108337402, -6.010300159454346, -6.015200138092041, -6.019899845123291, -6.072999954223633, -6.1128997802734375, -6.171500205993652, -6.172900199890137, -6.19350004196167, -4.3572001457214355, -3.888200044631958, -5.303800106048584, -5.268799781799316, -5.756899833679199, -4.52239990234375, -4.833899974822998, -5.815999984741211, -5.697999954223633, -5.171999931335449, -4.584700107574463, -5.338799953460693, -4.914100170135498, -5.3383002281188965, -5.079899787902832, -5.256899833679199, -5.572999954223633, -5.613900184631348, -5.6244001388549805], \"loglift\": [30.0, 29.0, 28.0, 27.0, 26.0, 25.0, 24.0, 23.0, 22.0, 21.0, 20.0, 19.0, 18.0, 17.0, 16.0, 15.0, 14.0, 13.0, 12.0, 11.0, 10.0, 9.0, 8.0, 7.0, 6.0, 5.0, 4.0, 3.0, 2.0, 1.0, 2.4013, 2.4013, 2.4013, 2.4013, 2.4013, 2.4013, 2.4012, 2.4012, 2.4012, 2.4012, 2.4012, 2.4012, 2.4012, 2.4012, 2.4011, 2.4011, 2.4011, 2.4011, 2.4011, 2.401, 2.401, 2.401, 2.401, 2.4009, 2.4009, 2.4009, 2.4009, 2.4009, 2.4008, 2.4008, 2.4006, 2.3187, 1.9316, 2.2268, 2.0744, 2.0427, 1.6804, 1.7173, 1.7658, 1.1401, 0.8037, 1.0594, 0.9351, 1.3726, 1.5688, 0.2501, 0.2313, 0.021, 2.3769, 2.3769, 2.3769, 2.3768, 2.3768, 2.3767, 2.3767, 2.3767, 2.3767, 2.3767, 2.3767, 2.3767, 2.3767, 2.3766, 2.3766, 2.3766, 2.3766, 2.3766, 2.3765, 2.3765, 2.3765, 2.3764, 2.3764, 2.3764, 2.3764, 2.3763, 2.3763, 2.3763, 2.3762, 2.3762, 2.3691, 2.139, 2.1313, 1.7956, 2.0556, 1.8126, 1.8567, 1.7855, 1.3282, 1.6598, 1.6019, 2.0212, 1.6575, 2.0292, 0.8298, 1.2962, 1.1752, -0.0566, 1.0183, 0.9645, 1.2375, 0.3662, 0.634, -0.0582, 0.3537, 1.8882, 1.8882, 1.8882, 1.8882, 1.8881, 1.8881, 1.8881, 1.8881, 1.8881, 1.8881, 1.8881, 1.888, 1.888, 1.888, 1.888, 1.888, 1.888, 1.888, 1.888, 1.888, 1.888, 1.8879, 1.8879, 1.8878, 1.8878, 1.8878, 1.8878, 1.8878, 1.8878, 1.8878, 1.7766, 1.6877, 1.6531, 1.638, 1.4511, 1.4628, 1.5823, 1.6421, 1.6395, 1.5629, 1.2077, 1.5087, 1.6468, 1.5276, 0.5442, 1.084, 1.0546, 0.4279, 1.2089, 1.1557, 0.0616, 0.6271, 1.537, 1.537, 1.5369, 1.5369, 1.5369, 1.5368, 1.5368, 1.5368, 1.5368, 1.5367, 1.5367, 1.5367, 1.5367, 1.5366, 1.5366, 1.5366, 1.5366, 1.5361, 1.536, 1.536, 1.536, 1.5359, 1.5358, 1.5356, 1.5356, 1.5356, 1.5354, 1.5353, 1.5352, 1.5352, 1.5044, 1.4227, 1.4157, 1.3857, 1.4561, 1.4068, 1.3445, 1.3453, 1.4245, 1.3455, 1.3368, 1.3944, 1.3116, 1.2109, 1.2927, 0.921, 0.9238, 1.0654, 1.1301, 1.0204, 0.5381, 0.5149, 0.7049, 0.8309, 0.544, 0.3425, 0.5055, 0.1513, 0.6019, 0.0406, 2.4242, 2.4242, 2.4241, 2.4241, 2.4241, 2.4241, 2.4241, 2.424, 2.424, 2.424, 2.424, 2.424, 2.424, 2.424, 2.4239, 2.4239, 2.4239, 2.4239, 2.4238, 2.4238, 2.4238, 2.4237, 2.4237, 2.4237, 2.4237, 2.4237, 2.4237, 2.4235, 2.4235, 2.4235, 2.4228, 2.3214, 2.1746, 1.9238, 2.2121, 2.1933, 1.8119, 1.8778, 1.8374, 1.7688, 2.0929, 1.7784, 0.3851, 0.2807, -0.2737, 2.5918, 2.5917, 2.5917, 2.5917, 2.5916, 2.5916, 2.5916, 2.5916, 2.5916, 2.5916, 2.5916, 2.5915, 2.5915, 2.5914, 2.5914, 2.5914, 2.5914, 2.5914, 2.5913, 2.5913, 2.5913, 2.5912, 2.5912, 2.5911, 2.5911, 2.591, 2.591, 2.591, 2.5909, 2.5909, 2.5774, 2.3535, 2.4392, 2.1836, 2.2783, 2.1707, 1.9667, 1.674, 1.1269, 1.9313, 1.9858, 0.3664, 1.9855, 0.9984, 2.1655, -0.3829, -0.3891, 2.6759, 2.6759, 2.6759, 2.6758, 2.6758, 2.6757, 2.6757, 2.6756, 2.6756, 2.6756, 2.6756, 2.6756, 2.6756, 2.6755, 2.6755, 2.6755, 2.6755, 2.6755, 2.6754, 2.6754, 2.6754, 2.6754, 2.6754, 2.6754, 2.6753, 2.6753, 2.6753, 2.6753, 2.6753, 2.6753, 2.6724, 2.2703, 2.449, 2.3092, 2.4643, 2.3419, 2.0487, 2.3825, 1.1234, 2.0257, 1.4459, 2.082, 1.5625, 0.1299, 1.667, 2.4202, 1.5386, 0.0081, -0.1063, 2.8366, 2.8366, 2.8365, 2.8365, 2.8364, 2.8364, 2.8364, 2.8364, 2.8363, 2.8363, 2.8362, 2.8362, 2.8362, 2.8361, 2.8361, 2.8361, 2.8361, 2.836, 2.8359, 2.8359, 2.8359, 2.8359, 2.8359, 2.8358, 2.8358, 2.8358, 2.8357, 2.8357, 2.8356, 2.8356, 2.5613, 2.5107, 2.571, 2.4779, 2.0038, 2.1677, 2.1321, 2.1977, 2.5593, 1.6841, 2.4016, 1.1864, 1.728, 1.0496, 1.2693, 1.2534, 2.5535, 2.5535, 2.5535, 2.5534, 2.5533, 2.5533, 2.5533, 2.5533, 2.5532, 2.5532, 2.5532, 2.5531, 2.5531, 2.5531, 2.553, 2.553, 2.5529, 2.5529, 2.5529, 2.5529, 2.5528, 2.5528, 2.5528, 2.5528, 2.5528, 2.5528, 2.5528, 2.5527, 2.5527, 2.5526, 2.5376, 2.0942, 2.3676, 2.0359, 2.2266, 1.8922, 1.7918, 2.2711, 1.193, 1.9449, 2.1949, 1.6927, 1.9275, 1.4491, 1.5676, 0.7447, 1.5941, 1.4042, 1.0126, 0.8424, -0.5008, 1.3502, 0.4834, 0.3383, 0.2286, 2.5068, 2.5068, 2.5068, 2.5068, 2.5066, 2.5066, 2.5066, 2.5065, 2.5065, 2.5065, 2.5065, 2.5064, 2.5064, 2.5064, 2.5064, 2.5064, 2.5064, 2.5064, 2.5064, 2.5063, 2.5063, 2.5063, 2.5063, 2.5062, 2.5062, 2.5062, 2.5062, 2.5061, 2.5061, 2.5061, 2.2197, 1.7934, 2.1599, 2.1436, 2.2919, 1.2937, 1.444, 2.3113, 2.1725, 1.5249, 0.5587, 0.9896, -0.3344, 0.9556, -0.1541, 0.4665, 0.9617, 0.8136, -0.2336]}, \"token.table\": {\"Topic\": [3, 5, 5, 5, 5, 3, 5, 3, 5, 8, 4, 10, 2, 7, 6, 5, 3, 1, 7, 2, 3, 4, 5, 6, 7, 9, 10, 1, 3, 4, 5, 6, 7, 9, 6, 4, 1, 4, 1, 2, 3, 4, 7, 4, 7, 2, 6, 1, 3, 4, 5, 1, 6, 9, 1, 4, 5, 3, 4, 7, 8, 8, 4, 5, 7, 3, 4, 4, 8, 9, 7, 9, 2, 10, 3, 3, 2, 4, 7, 9, 2, 3, 4, 7, 9, 10, 10, 5, 1, 6, 6, 7, 9, 2, 8, 8, 8, 7, 5, 7, 5, 10, 3, 7, 9, 1, 3, 10, 5, 7, 1, 3, 4, 3, 10, 4, 2, 4, 10, 7, 10, 3, 9, 7, 7, 4, 4, 3, 2, 5, 9, 7, 5, 1, 3, 4, 6, 1, 10, 8, 7, 8, 10, 6, 10, 10, 7, 8, 9, 4, 5, 8, 6, 9, 3, 3, 3, 4, 5, 5, 5, 6, 2, 8, 4, 10, 1, 3, 4, 5, 6, 1, 4, 7, 2, 3, 4, 5, 9, 4, 3, 7, 1, 3, 4, 1, 4, 9, 7, 4, 3, 9, 9, 9, 3, 9, 7, 5, 1, 8, 2, 3, 4, 7, 7, 7, 4, 1, 4, 2, 3, 4, 5, 7, 9, 10, 1, 2, 3, 4, 5, 6, 9, 10, 3, 6, 4, 10, 8, 2, 4, 7, 9, 1, 7, 9, 7, 4, 9, 4, 2, 4, 9, 4, 8, 10, 7, 3, 7, 10, 3, 4, 5, 7, 1, 1, 6, 8, 3, 4, 9, 7, 2, 6, 1, 2, 3, 4, 5, 7, 9, 10, 5, 5, 2, 3, 4, 7, 10, 8, 3, 4, 5, 1, 3, 4, 5, 8, 10, 2, 4, 7, 9, 10, 10, 5, 2, 2, 3, 4, 5, 8, 9, 9, 10, 3, 4, 6, 9, 6, 6, 9, 1, 3, 4, 4, 5, 8, 2, 4, 7, 6, 4, 5, 6, 8, 1, 4, 8, 8, 2, 4, 8, 2, 5, 7, 9, 10, 6, 3, 4, 8, 8, 6, 7, 3, 3, 3, 5, 8, 4, 7, 1, 2, 3, 4, 9, 7, 9, 1, 8, 4, 6, 10, 10, 2, 2, 5, 2, 4, 10, 5, 9, 6, 6, 2, 4, 10, 1, 3, 4, 5, 6, 1, 2, 4, 6, 7, 8, 9, 1, 4, 5, 4, 3, 10, 10, 8, 2, 2, 6, 6, 2, 4, 8, 4, 9, 8, 2, 3, 4, 5, 7, 9, 3, 4, 8, 1, 2, 3, 4, 9, 9, 2, 3, 8, 9, 4, 7, 10, 10, 6, 2, 7, 2, 6, 1, 2, 3, 4, 7, 10, 6, 6, 2, 3, 4, 5, 6, 10, 2, 4, 7, 1, 7, 2, 10, 6, 5, 6, 10, 3, 4, 5, 7, 3, 3, 4, 8, 5, 7, 1, 5, 4, 10, 3, 3, 4, 2, 2, 3, 4, 5, 7, 9, 10, 6, 3, 2, 3, 4, 7, 9, 10, 1, 3, 4, 5, 8, 2, 3, 8, 9, 6, 8, 3, 3, 4, 9, 3, 5, 10, 2, 1, 2, 3, 4, 5, 6, 8, 9, 10, 8, 7, 8, 8, 3, 5, 1, 7, 1, 5, 5, 6, 1, 2, 3, 4, 5, 6, 7, 9, 2, 1, 9, 9, 4, 5, 10, 1, 3, 4, 6, 10, 4, 9, 2, 5, 1, 1, 2, 4, 10, 10, 10, 4, 6, 1, 2, 9, 4, 8, 9, 2, 3, 4, 7, 9, 10, 1, 6, 6, 6, 4, 10, 1, 2, 2, 4, 4, 10, 6, 10, 1, 6, 10, 10, 1, 3, 4, 8, 9, 10, 3, 8, 7, 3, 4, 10, 1, 4, 10, 8, 5, 8, 1, 2, 3, 4, 6, 9, 4, 9, 1, 4, 6, 1, 4, 5, 6, 8, 9, 1, 4, 6, 9, 4, 9, 2, 6, 8, 2, 4, 9, 3, 9, 1, 4, 10, 1, 2, 3, 4, 9, 5, 8, 9, 1, 2, 4, 2, 10, 3, 1, 2, 3, 4, 5, 6, 7, 8, 9, 10, 1, 4, 2, 2, 3, 4, 7, 9, 1, 6, 9, 8, 7, 8, 7, 2, 3, 4, 7, 10, 1, 2, 4, 5, 1, 8, 9, 10, 2, 5, 2, 5, 1, 3, 4, 5, 2, 2, 1, 1, 10, 4, 8, 10, 2, 4, 4, 6, 4, 8, 1, 2, 3, 4, 5, 8, 9, 1, 3, 4, 5, 6, 8, 2, 3, 4, 9, 1, 3, 6, 7, 8, 1, 4, 8, 3, 3, 1, 6, 5, 6, 10, 1, 2, 3, 4, 7, 9, 2, 3, 4, 5, 10, 9, 4, 4, 1, 3, 4, 6, 10, 2, 3, 4, 6, 7, 9, 10, 6, 7, 3, 6, 3, 3, 4, 9, 9, 2, 7, 3, 4, 9, 10, 9, 9, 2, 3, 3, 7, 4, 6, 1, 2, 3, 4, 5, 7, 10, 1, 7, 8, 6, 6, 9, 6, 2, 3, 4, 4, 6, 10, 4, 1, 3, 4, 5, 6, 9, 10, 4, 5, 1, 2, 1, 9, 1, 1, 3, 5, 3, 5, 5, 4, 5, 4, 5, 5, 9, 2], \"Freq\": [0.9999020595429132, 0.9997218954305945, 0.9995584748918607, 0.99959658050031, 0.9994073327972849, 0.8183059085162107, 0.18170092967053164, 0.7817823584647134, 0.2181473914557404, 0.999426340951905, 0.9987962565053013, 0.9994146965186336, 0.28381810781401656, 0.7160032078108564, 0.9989411444719605, 0.9999014138532707, 0.999860560686454, 0.9998671273320204, 0.9990600961610446, 0.24354909468441485, 0.09559627566757246, 0.23716732696273768, 0.09898251976478893, 0.06258039571971195, 0.09768011818893645, 0.0828327402242181, 0.08159545872715825, 0.07372485769833023, 0.12716766772442106, 0.3864385585003481, 0.06393086509614619, 0.060460552756789646, 0.07411044795825873, 0.2141568303642919, 0.9996295639878392, 0.9974250024924985, 0.9996626987269156, 0.9996068729511072, 0.011046942025306969, 0.33935430677741235, 0.064343592147402, 0.5224040741967533, 0.06279314414385015, 0.9999238202333938, 0.9991691237392128, 0.9997310877150186, 0.9987822164168572, 0.6985953683064294, 0.013895942878393373, 0.28736809872517494, 9.263961918928915e-05, 0.9997593343908052, 0.1693576812757889, 0.8303764248944867, 0.999647887359476, 0.9980517914751379, 0.9993155458607205, 0.7797381866546612, 0.22008636306883814, 0.7967956156025856, 0.20298747164250053, 0.9996894564362941, 0.24512412565891778, 0.23293257155681638, 0.5218354596732802, 0.7786051796502517, 0.2213571441605595, 0.7982071957549421, 0.10500548526116162, 0.09673009675546586, 0.8093484018500409, 0.19035587757956135, 0.28398614407312317, 0.7156000058985446, 0.9996575241189648, 0.9996845630827288, 0.11524459033278434, 0.6657627176030728, 0.058709508282739194, 0.16036393466118576, 0.0008172989004363803, 0.20054471769457682, 0.2436572346925959, 0.06262552824593764, 0.4227478562507177, 0.06947040653709233, 0.9995076426217011, 0.9992476945603543, 0.9996434842791043, 0.9998208993869733, 0.9994600976495776, 0.30119494214308484, 0.6985725785174973, 0.9997459235934477, 0.9994184059493564, 0.9994315418932427, 0.9992073170957078, 0.9990743191526489, 0.9997474973161733, 0.9996040285267244, 0.9996597706550208, 0.9995835927787219, 0.286998345247731, 0.19685285415713852, 0.5160857153312219, 0.7210673670586057, 0.09494733974313416, 0.18394937877338047, 0.9996481827584429, 0.9996627525634557, 0.09975491389567286, 0.17846311403847942, 0.7217720958650479, 0.9997417651077882, 0.9996890947565523, 0.999867532652733, 0.9995242398238424, 0.2931087205445757, 0.7067621538045826, 0.9996962862318227, 0.9996734622114548, 0.24579329598581365, 0.7537661076898285, 0.99946270944676, 0.9997858536892636, 0.9998482066498756, 0.9996191028167893, 0.999393392023201, 0.19097316478718152, 0.8088642629579724, 0.9996364719449676, 0.9994477119705627, 0.9998308067104875, 0.12734499530295318, 0.5069296530622369, 0.2943997203240315, 0.07120365328767274, 0.9996127270315482, 0.9998309064661953, 0.9989871814369589, 0.9995296675764387, 0.9996103858706764, 0.9993232277327779, 0.6563144115847998, 0.3434781100375971, 0.9998294635663837, 0.9995066207115224, 0.9995715218384709, 0.9995717011893963, 0.2818785395353728, 0.7180006697758268, 0.9992986708352699, 0.015138172618307223, 0.9839812201899695, 0.9999729664275571, 0.9999324552877934, 0.22971542097889927, 0.19112783772707126, 0.5790605776681566, 0.9999347023403031, 0.9993940139385727, 0.9994723201880182, 0.9991933883748771, 0.9991076446998377, 0.9988372454816032, 0.9993041012642219, 0.08497908852553576, 0.4344531140061336, 0.41513968479578456, 0.004655031655827716, 0.060713497979199796, 0.5046041862697488, 0.4953728290872824, 0.9995043027995526, 0.4880885064305348, 0.003301081686003617, 0.30641111792583575, 0.11447679703962543, 0.08759656045359598, 0.9975420606793671, 0.4476292172942576, 0.5521074803402829, 0.9996620672632415, 0.9997939680878043, 0.9997188323313329, 0.07592186581651962, 0.8255237543116234, 0.09850862089693421, 0.999873733372073, 0.9999847645848132, 0.999653798933268, 0.9996534823901855, 0.9998470814478921, 0.9990683594715485, 0.9996056472692936, 0.9996177529096729, 0.9994502526411883, 0.9998846205585444, 0.9998239549698852, 0.9988518761767788, 0.1431040375564005, 0.16893509126694212, 0.3671453767391647, 0.32064948006018984, 0.9998148172422405, 0.9996540308147793, 0.9998613378887128, 0.07756583742529653, 0.9222432936284218, 0.319971998687684, 0.24257926080167305, 0.16261422093390163, 0.05614328673233743, 0.13991085996445043, 0.019683702121297584, 0.05916294558049103, 0.09315690668833707, 0.004665983678041344, 0.10265164091690956, 0.5965405876751695, 0.03418104322286101, 0.04655132553208689, 0.05691414974727174, 0.06532377149257881, 0.8944097190019052, 0.10555405299003984, 0.8936027306696079, 0.10633960017273003, 0.9996049936747684, 0.706260489755667, 0.2935942366504963, 0.9991869569197849, 0.9998384550520325, 0.9996040633308079, 0.2787041350407506, 0.7211734854482099, 0.9994343351161393, 0.8779840405927667, 0.12200426918692416, 0.9985973641500194, 0.4605853335454902, 0.43692548500174133, 0.10235229634344227, 0.24055822693202317, 0.7593361239405753, 0.9994642120627917, 0.999850669872018, 0.14066416420539157, 0.16394978598263543, 0.6954797443060492, 0.10166269740022822, 0.35621676775358757, 0.5421127579450419, 0.9993783653032478, 0.9998245811501176, 0.31769128320845547, 0.5165840358486571, 0.16555965430256656, 0.26577588255231804, 0.19942536334973512, 0.5347291139115203, 0.9995136062840421, 0.9998038139567997, 0.9993887639835274, 0.04041474278089656, 0.08772376521265193, 0.26079395782731485, 0.3598310541506053, 0.06734858174145253, 0.07838222605083917, 0.04715519469106685, 0.058356651081204615, 0.9998128738285027, 0.9998530489328195, 0.10792511992194634, 0.15879377287100965, 0.41731582111293175, 0.09667454896954687, 0.2193057723507011, 0.9996385499252962, 0.6458955558242391, 0.22392807678952073, 0.1301376191843089, 0.9997695803357693, 0.2833184118839835, 0.28024475968103024, 9.04015353809775e-05, 0.43483138518250175, 0.0014916253337861286, 0.5590763875133123, 0.21514671849679248, 0.06189241094786292, 0.16383476164908864, 0.9996071503943921, 0.9991829662992571, 0.9998857752980642, 0.9993684037237902, 0.25701598426527095, 0.1387746632432319, 0.10392385450726173, 0.1125841757162002, 0.05636192915817219, 0.3313969688420409, 0.9994871303922752, 0.9996266664410707, 0.10001041614748998, 0.2877756367527197, 0.5352002501118279, 0.07688662050645184, 0.9996100418043934, 0.9996423910798147, 0.9992963234715749, 0.4349603899770441, 0.1367134621443282, 0.42824678246102804, 0.5051102499922174, 0.0003208067640471371, 0.4943632233966383, 0.16379113546312174, 0.7832812875737893, 0.05287974937207016, 0.9999389262342341, 0.3789761226564473, 0.11189882568028828, 0.39935943962378617, 0.10966503751948402, 0.19407254271392818, 0.29368379892533686, 0.5122864605158161, 0.9998190075730836, 0.5687186564122466, 0.431209923859393, 0.9995383435570829, 0.14055832721489817, 0.5243166262810743, 0.10012373993390006, 0.052579774669429764, 0.18247403490911965, 0.9997964046659307, 0.9999423745187651, 0.9997811951862687, 0.99984221689625, 0.9992069168949806, 0.653016450974128, 0.34689678550855774, 0.9995181920250812, 0.9998207750595266, 0.9999025342719867, 0.9996263424173522, 0.9995540881412295, 0.9997350078677204, 0.9993361078550167, 0.15351324074377637, 0.4869803061126479, 0.05274962256919822, 0.19837015170661076, 0.10826169420062377, 0.7455570035430393, 0.25426510525456253, 0.9994839861520362, 0.9999814234719446, 0.9678628146350922, 0.03171108559627001, 0.9993480416867148, 0.9994339117828472, 0.9998021734898997, 0.9994978457160064, 0.9994088263568284, 0.5942751210423364, 0.4014637579191912, 0.004137582899638307, 0.9998210846926775, 0.9992254328199619, 0.9994563620087218, 0.9994336785402193, 0.5534343644791252, 0.23320694887296353, 0.21325446955388744, 0.9997147556836028, 0.0908648260048979, 0.30283530081444376, 0.6062807056530922, 0.9998023633579128, 0.1062013717756713, 0.13047902675359413, 0.3750737269056185, 0.00021390004385835103, 0.06951751425396409, 0.0017112003508668082, 0.3167859649542179, 0.11417817980092684, 0.8857920538640706, 2.0591195635874996e-05, 0.9991891835766574, 0.9998813975377465, 0.9994898577802414, 0.9990176696527288, 0.9991075028336689, 0.9996632115337248, 0.999594641594841, 0.9993216781174502, 0.9994218604212134, 0.119720423554646, 0.8185042405004374, 0.0616165016094205, 0.36829697957884766, 0.6317021577527268, 0.9998476212018008, 0.999506090246393, 0.09232932026821894, 0.26883526144322467, 0.16417498339083963, 0.10150110704983009, 0.3730879045275381, 0.7364485599499647, 0.154757714455349, 0.10876664976771065, 0.9999654191906968, 0.12269137776655546, 0.68414859838871, 0.14685183546288688, 0.046232974604090996, 0.9999464500484632, 0.25661268434633977, 0.08493748927024894, 0.11423192198580687, 0.5439927058464499, 0.23019109564921117, 0.6664032219044663, 0.1031256108508466, 0.9996599032142232, 0.9999694312418933, 0.30694522797952606, 0.6929889184023249, 0.9996431337395897, 0.9988249831989701, 0.20237885327593405, 0.0875935208627116, 0.05813802550799579, 0.43512419660827617, 0.21168204159321544, 0.00507948560943553, 0.9993992104700345, 0.9999076042915971, 0.1521262298410193, 0.13743142383061727, 0.2978847104108644, 0.12329641995394482, 0.2032081745438455, 0.08592962752749389, 0.9990942367474154, 0.9997929015414065, 0.9996298894721146, 0.9999435765063579, 0.9995034156570796, 0.9994467085248749, 0.9997397336992438, 0.9998091358280904, 0.9021895411926057, 0.0975878311665291, 0.9994449973732761, 0.2336815551213636, 0.18321037690940603, 0.21854020165777632, 0.36457014395104026, 0.9997501268975199, 0.23030098187506423, 0.0026694528984464766, 0.7668610144628061, 0.0029067304628621073, 0.9962818661459873, 0.22080039833711193, 0.7791521319589081, 0.24956684573249585, 0.7503492033955552, 0.9999217532768656, 0.697242525459661, 0.3026898394221648, 0.9998193806718948, 0.061920591065691054, 0.13143314687579355, 0.49352159257601813, 4.388418927405461e-05, 0.07398874311605606, 0.10913997872457382, 0.12998496862974976, 0.9997984692275521, 0.9996754810331636, 0.35034679244768147, 0.1480311965933615, 0.35645182053847907, 0.0693896234031382, 0.011234510455746185, 0.06454336399085553, 0.1539870810896514, 0.14658615161092398, 0.6240177248870246, 0.0003819834569665771, 0.07501200136181159, 0.30066839270756196, 0.2586464830008713, 0.3158158252762528, 0.12484416197743567, 0.3525300018946259, 0.6472464125266081, 0.9998329962073874, 0.2027670186588264, 0.2012032627308663, 0.5958952589479958, 0.9999272862505325, 0.1930479153006375, 0.806311757860337, 0.9997537062114751, 0.28328256193066037, 0.09098242586306601, 0.04126132822035537, 0.19856515398886687, 0.1072634915438252, 0.0568241115916693, 0.0661218770417107, 0.097766203230049, 0.05794143962858415, 0.9994588382040089, 0.24198955098493063, 0.7577269858936645, 0.9997637016428012, 0.7855153476656913, 0.21442323800657562, 0.999941272176887, 0.9989069793143511, 0.9998922006820841, 0.999968559805145, 0.999775361164661, 0.9997303515806119, 0.09250808943383841, 0.0006088729010564178, 0.23216323717281212, 0.25016557928071353, 0.11724862498009753, 0.05073940842136815, 2.029576336854726e-05, 0.2565181532150688, 0.9996809979944882, 0.9999664537562166, 0.9993361490635186, 0.9991785487218223, 0.44384377096463895, 0.5561077780740328, 0.9998828501784466, 0.08432490411229553, 0.00041769328960053145, 0.5416253456443597, 0.23110724011662345, 0.14253169252780487, 0.9992697519915062, 0.9994826879027768, 0.7250650554926442, 0.2747782138011554, 0.9999013255244994, 0.18041007319870597, 0.16344943528047604, 0.281476888190898, 0.37452805923543336, 0.9995122740911475, 0.9994648614001913, 0.26888984947458683, 0.7309551452930185, 0.9999163238212431, 0.9994463697044178, 0.9996465547316109, 0.024643293840312414, 0.7218385442373125, 0.25350545322724966, 0.9992997914061018, 0.24501089905121903, 0.22443474102410207, 0.3283859671264154, 0.10621103536540707, 0.09586348768703036, 0.9998858174998154, 0.9988711308609907, 0.9995426125090876, 0.9989579183510668, 0.9986824005543363, 0.9990670060441069, 0.21774341203408087, 0.7822143037396877, 0.9995500295105124, 0.9999752532227009, 0.9995248609573112, 0.9995502720911643, 0.9856112351860172, 0.013841513714476755, 0.9992246334415883, 0.8583464714564379, 0.14133563996896634, 0.9995942009839615, 0.16701518475140745, 0.08016151127445759, 0.2547836142128706, 0.07462483031556112, 0.12614003575920654, 0.29724754991501573, 0.9997209669435538, 0.999732001223788, 0.9997088344752804, 0.1762895447153118, 0.0014569383860769571, 0.8221988958760962, 0.6251428078551317, 0.3704669149971395, 0.0043563958735549245, 0.9990402316632024, 0.9999505916145767, 0.9994213740388566, 0.23079634678640887, 0.13389284896498152, 0.1400864147378557, 0.39251723085590146, 0.040860329751600526, 0.06180662510847364, 0.5330609935021069, 0.46686568187377964, 0.9998190726376971, 0.33504455711439796, 0.6648540430238835, 0.19252761871643229, 0.2774290038897603, 0.15028812360532384, 0.07484838533688416, 0.2085786268586535, 0.09630604885332725, 0.2314530252117359, 0.3024392056820803, 0.08295319940021088, 0.38308059460720334, 0.9989025022514487, 0.999228260468302, 0.7882077924997082, 0.21177911657651208, 0.9993058582904055, 0.999452179735523, 0.9996838933032659, 0.9997992642315542, 0.9996475084842297, 0.9991037296470431, 0.3574376578830552, 0.5972297470838022, 0.04524232621489822, 0.16021786593082651, 0.09919751289612418, 0.054268359472434344, 0.5055791815036558, 0.1806631548483483, 0.9997036907552199, 0.9998625244750733, 0.9999283579955717, 0.9997034487310776, 0.9921671896496305, 0.007289986698380826, 0.9997468661842981, 0.9997576379594322, 0.9998636666146032, 0.0014937694545036145, 0.049605593968307535, 0.20309040541855392, 0.24423130581134098, 0.14645164693529186, 0.0984020628154256, 0.04138986196853765, 0.16748890008621778, 0.0004356827575635542, 0.04742718018048976, 0.9999012728624812, 0.9988571994409269, 0.9995499553019388, 0.11729260168232471, 0.11502486072606065, 0.30564108666092343, 0.161891507155518, 0.30022370548762595, 0.92072641633096, 0.07915166683142547, 0.9991468424624139, 0.9999020357476127, 0.9992747508309465, 0.9999706375604197, 0.9989126125942867, 0.1322264129272216, 0.506373410936898, 0.27068789248027963, 0.05555659365917733, 0.035131375402126845, 0.04847426894821805, 0.00015945483206650674, 0.8671153767776636, 0.08419215133111556, 0.839755607351573, 0.1600114872809653, 0.9990545133586642, 0.9997655901444119, 0.20601080159671067, 0.7938348917296327, 0.999673623457599, 0.9995978210958484, 0.48625436500009767, 0.006749526717880107, 0.39995272423130585, 0.1070117270228, 0.9995834148467175, 0.9998807647182935, 0.9993771312417392, 0.9998586095767046, 0.9998584524507886, 0.31806417531892556, 0.19200857057098564, 0.4899122668667849, 0.1742645740474483, 0.825698335029327, 0.8919469360458968, 0.1080378044239373, 0.301281473935744, 0.6985111245883069, 0.00010648948258263869, 0.04078547182915062, 0.09956766621476718, 0.45258030097621443, 0.05707836266429434, 0.2053117224193274, 0.1445062278646407, 0.5297029354696201, 0.09335358664712116, 0.26978137624314114, 0.008915791983152021, 0.0045103418267710225, 0.09377315332868126, 0.08585312246296778, 0.6535298401939442, 0.26058947759347867, 0.9994733699675236, 0.14401553593707883, 0.43012822769409176, 0.0008221629073477384, 0.09482278864743915, 0.3299613801488923, 0.25319823195113905, 0.21886626829674735, 0.527853941186273, 0.9996043758284252, 0.9996928367681702, 0.9992447731517721, 0.0005862392332952608, 0.9998712101507556, 0.7879646312202311, 0.21195619698800186, 0.20512222965442625, 0.1750066887235501, 0.09649738837774, 0.37438433542584393, 0.07125603904261257, 0.07763890898942641, 0.9995195788110289, 0.7223109927067431, 0.1185952661086851, 0.1590123480347219, 0.9991527659909478, 0.9991141283947976, 0.9998844603636161, 0.9987778110618258, 0.10070352936681158, 0.2227244219303913, 0.25267569925344907, 0.07831647769421993, 0.34543297137128615, 0.14965776606332204, 0.16340244855948052, 0.1082467484139519, 0.06612785012100277, 0.29223672569085435, 0.12901124729226857, 0.09125761296805646, 0.2253130316831101, 0.7741993421322282, 0.9997720985143295, 0.9997708145137434, 0.9998625429445133, 0.14035772328807652, 0.8596123792856077, 0.998817455336058, 0.9993736533559472, 0.9998813650994008, 0.9998336130354125, 0.08242209827258667, 0.8248746940142152, 0.08498246748528435, 0.0076811076380930085, 0.99985911484492, 0.9997057735183115, 0.999173367179544, 0.9999112522547982, 0.9996427367367292, 0.9998671439034723, 0.4543682913953294, 0.5455948570851877, 0.2613072617862668, 0.13727367736332607, 0.10104799556361005, 0.33548131405823967, 0.07215604554128219, 0.0009351738508078865, 0.09174547673188949, 0.26815607668569247, 0.5339678164534871, 0.19764563553968995, 0.9999281149302359, 0.999458604045732, 0.9995802069317581, 0.9999391731247874, 0.21284445486356213, 0.4474357619663568, 0.3397087234002218, 0.32096973810913426, 0.5452801222704806, 0.1335026054525501, 0.9997240453956547, 0.11633846318037998, 0.1609487097651774, 0.5401061578095588, 0.051389739087493704, 0.05105372925499855, 0.01025818253323432, 0.06987027987472702, 0.9998324095451845, 0.999846508286194, 0.29927715748251255, 0.7006929411884146, 0.9998599855382739, 0.9998374958005778, 0.9997520474930505, 0.99981561709002, 0.4806744369371812, 0.5192520759255536, 0.7904583901577932, 0.2094829009191409, 0.999975241559271, 0.9979478506979135, 0.9998546019403923, 0.0012422013033662742, 0.9987298479064844, 0.9997275363018403, 0.9999499509925414, 0.9995357475618385], \"Term\": [\"1\", \"11\", \"13\", \"14\", \"18\", \"2\", \"2\", \"3\", \"3\", \"absolutely\", \"abuse\", \"account\", \"add\", \"add\", \"affair\", \"age\", \"ago\", \"agree\", \"air\", \"also\", \"also\", \"also\", \"also\", \"also\", \"also\", \"also\", \"also\", \"always\", \"always\", \"always\", \"always\", \"always\", \"always\", \"always\", \"american\", \"anger\", \"answer\", \"anymore\", \"anyone\", \"anyone\", \"anyone\", \"anyone\", \"anyone\", \"anything\", \"apple\", \"article\", \"asian\", \"ask\", \"ask\", \"ask\", \"ask\", \"asking\", \"ass\", \"ass\", \"asshole\", \"attitude\", \"average\", \"away\", \"away\", \"awesome\", \"awesome\", \"awful\", \"baby\", \"baby\", \"baby\", \"back\", \"back\", \"bad\", \"bad\", \"bad\", \"bag\", \"bag\", \"base\", \"base\", \"beach\", \"bed\", \"better\", \"better\", \"better\", \"better\", \"big\", \"big\", \"big\", \"big\", \"big\", \"big\", \"bill\", \"birthday\", \"bitch\", \"black\", \"blue\", \"body\", \"body\", \"book\", \"bore\", \"boring\", \"boss\", \"box\", \"boy\", \"brand\", \"brother\", \"business\", \"buy\", \"buy\", \"buy\", \"call\", \"call\", \"call\", \"camp\", \"cancer\", \"cant\", \"cant\", \"cant\", \"car\", \"card\", \"care\", \"career\", \"case\", \"case\", \"cat\", \"charge\", \"cheap\", \"cheap\", \"cheese\", \"chicken\", \"child\", \"choice\", \"christmas\", \"class\", \"class\", \"clothes\", \"coffee\", \"college\", \"come\", \"come\", \"come\", \"come\", \"comment\", \"company\", \"confuse\", \"cook\", \"cool\", \"cost\", \"country\", \"country\", \"course\", \"cream\", \"curious\", \"cute\", \"dad\", \"dad\", \"damn\", \"dark\", \"dark\", \"day\", \"days\", \"dc\", \"dc\", \"dc\", \"dd\", \"dds\", \"dead\", \"degree\", \"depress\", \"depression\", \"deserve\", \"dh\", \"dh\", \"dh\", \"dh\", \"dh\", \"didnt\", \"didnt\", \"diet\", \"different\", \"different\", \"different\", \"different\", \"different\", \"differently\", \"dinner\", \"dinner\", \"dislike\", \"ditto\", \"divorce\", \"doesnt\", \"doesnt\", \"doesnt\", \"dog\", \"dont\", \"door\", \"dress\", \"drink\", \"drinking\", \"drive\", \"drunk\", \"dry\", \"ds\", \"dumb\", \"dying\", \"easy\", \"easy\", \"easy\", \"easy\", \"eat\", \"eating\", \"either\", \"else\", \"else\", \"etc\", \"etc\", \"etc\", \"etc\", \"etc\", \"etc\", \"etc\", \"even\", \"even\", \"even\", \"even\", \"even\", \"even\", \"even\", \"even\", \"every\", \"every\", \"exactly\", \"exactly\", \"excite\", \"experience\", \"experience\", \"eye\", \"face\", \"fake\", \"fat\", \"fat\", \"favorite\", \"feel\", \"feel\", \"feelings\", \"find\", \"find\", \"find\", \"fine\", \"fine\", \"fire\", \"food\", \"free\", \"free\", \"free\", \"friend\", \"friend\", \"friend\", \"fruit\", \"fuck\", \"fucking\", \"fucking\", \"fucking\", \"fun\", \"fun\", \"fun\", \"gain\", \"game\", \"gay\", \"get\", \"get\", \"get\", \"get\", \"get\", \"get\", \"get\", \"get\", \"gift\", \"girl\", \"give\", \"give\", \"give\", \"give\", \"give\", \"glad\", \"go\", \"go\", \"go\", \"god\", \"going\", \"going\", \"going\", \"going\", \"going\", \"good\", \"good\", \"good\", \"good\", \"google\", \"government\", \"grade\", \"grader\", \"great\", \"great\", \"great\", \"great\", \"great\", \"great\", \"gross\", \"gun\", \"guy\", \"guy\", \"guy\", \"guy\", \"ha\", \"hair\", \"hands\", \"happen\", \"happen\", \"happen\", \"happy\", \"happy\", \"happy\", \"hard\", \"hard\", \"hard\", \"hate\", \"he\", \"he\", \"he\", \"he\", \"hear\", \"hear\", \"hear\", \"hell\", \"help\", \"help\", \"hey\", \"high\", \"high\", \"high\", \"high\", \"high\", \"hillary\", \"home\", \"honestly\", \"hope\", \"hospital\", \"hot\", \"hot\", \"hour\", \"hours\", \"house\", \"hs\", \"huh\", \"hurt\", \"ice\", \"idea\", \"idea\", \"idea\", \"idea\", \"idea\", \"idiot\", \"idiot\", \"ignore\", \"im\", \"imagine\", \"imagine\", \"income\", \"insurance\", \"interest\", \"interview\", \"invite\", \"issue\", \"issue\", \"issue\", \"ita\", \"jean\", \"jew\", \"jewish\", \"job\", \"job\", \"job\", \"joke\", \"kid\", \"kid\", \"kid\", \"kill\", \"kind\", \"kind\", \"kind\", \"kind\", \"kind\", \"kind\", \"kind\", \"know\", \"know\", \"know\", \"knowing\", \"last\", \"law\", \"lawyer\", \"lazy\", \"learn\", \"level\", \"liberal\", \"lie\", \"life\", \"life\", \"life\", \"like\", \"like\", \"link\", \"list\", \"little\", \"little\", \"little\", \"little\", \"little\", \"live\", \"live\", \"live\", \"lol\", \"long\", \"long\", \"long\", \"long\", \"look\", \"looking\", \"looking\", \"looking\", \"looking\", \"lose\", \"lose\", \"lose\", \"loser\", \"love\", \"low\", \"low\", \"luck\", \"lying\", \"make\", \"make\", \"make\", \"make\", \"make\", \"make\", \"male\", \"man\", \"many\", \"many\", \"many\", \"many\", \"many\", \"many\", \"math\", \"matter\", \"meal\", \"mean\", \"meat\", \"med\", \"medium\", \"men\", \"middle\", \"middle\", \"million\", \"mine\", \"mine\", \"mine\", \"mine\", \"minutes\", \"miss\", \"miss\", \"miss\", \"mix\", \"mix\", \"mom\", \"mom\", \"money\", \"money\", \"month\", \"move\", \"move\", \"movie\", \"much\", \"much\", \"much\", \"much\", \"much\", \"much\", \"much\", \"name\", \"near\", \"need\", \"need\", \"need\", \"need\", \"need\", \"need\", \"never\", \"never\", \"never\", \"never\", \"never\", \"new\", \"new\", \"new\", \"new\", \"news\", \"news\", \"next\", \"nice\", \"nice\", \"nice\", \"night\", \"none\", \"none\", \"nope\", \"np\", \"np\", \"np\", \"np\", \"np\", \"np\", \"np\", \"np\", \"np\", \"nurse\", \"nut\", \"nut\", \"ny\", \"nyc\", \"nyc\", \"oh\", \"oil\", \"ok\", \"old\", \"older\", \"omg\", \"one\", \"one\", \"one\", \"one\", \"one\", \"one\", \"one\", \"one\", \"online\", \"op\", \"pair\", \"pants\", \"parent\", \"parent\", \"pay\", \"people\", \"people\", \"people\", \"people\", \"people\", \"pg\", \"pic\", \"play\", \"play\", \"please\", \"point\", \"point\", \"point\", \"point\", \"police\", \"policy\", \"poor\", \"poor\", \"post\", \"practice\", \"prefer\", \"pretty\", \"pretty\", \"pretty\", \"program\", \"put\", \"put\", \"put\", \"put\", \"put\", \"question\", \"race\", \"racist\", \"rape\", \"rare\", \"rate\", \"read\", \"read\", \"reading\", \"really\", \"relationship\", \"report\", \"republican\", \"republican\", \"response\", \"rich\", \"rich\", \"ridiculous\", \"right\", \"right\", \"right\", \"right\", \"right\", \"right\", \"room\", \"sad\", \"salad\", \"save\", \"save\", \"save\", \"say\", \"say\", \"say\", \"scary\", \"school\", \"season\", \"see\", \"see\", \"see\", \"see\", \"see\", \"see\", \"seem\", \"seem\", \"sense\", \"sex\", \"sex\", \"shes\", \"shes\", \"shes\", \"shes\", \"shes\", \"shes\", \"shit\", \"shit\", \"shit\", \"shit\", \"shitty\", \"shoes\", \"show\", \"show\", \"silly\", \"site\", \"situation\", \"size\", \"sleep\", \"smell\", \"someone\", \"someone\", \"someone\", \"something\", \"something\", \"something\", \"something\", \"something\", \"son\", \"sorry\", \"sound\", \"speak\", \"specific\", \"specific\", \"sport\", \"state\", \"stay\", \"still\", \"still\", \"still\", \"still\", \"still\", \"still\", \"still\", \"still\", \"still\", \"still\", \"stop\", \"strange\", \"study\", \"stuff\", \"stuff\", \"stuff\", \"stuff\", \"stuff\", \"stupid\", \"stupid\", \"style\", \"suck\", \"sugar\", \"sure\", \"surgery\", \"take\", \"take\", \"take\", \"take\", \"take\", \"talk\", \"talk\", \"talk\", \"talk\", \"talking\", \"talking\", \"target\", \"tax\", \"teacher\", \"teacher\", \"team\", \"teen\", \"tell\", \"tell\", \"tell\", \"tell\", \"term\", \"test\", \"text\", \"thank\", \"thanks\", \"thats\", \"thats\", \"thats\", \"things\", \"things\", \"think\", \"think\", \"thinking\", \"thinking\", \"though\", \"though\", \"though\", \"though\", \"though\", \"though\", \"though\", \"thought\", \"thought\", \"thought\", \"thought\", \"thought\", \"thought\", \"time\", \"time\", \"time\", \"tiny\", \"today\", \"today\", \"today\", \"today\", \"today\", \"totally\", \"totally\", \"totally\", \"town\", \"trip\", \"troll\", \"troll\", \"true\", \"trump\", \"trump\", \"try\", \"try\", \"try\", \"try\", \"try\", \"try\", \"tv\", \"two\", \"two\", \"two\", \"ty\", \"ugly\", \"understand\", \"unfortunately\", \"us\", \"us\", \"us\", \"us\", \"us\", \"use\", \"use\", \"use\", \"use\", \"use\", \"use\", \"use\", \"v\", \"v\", \"vacation\", \"vote\", \"walk\", \"want\", \"want\", \"warm\", \"wash\", \"watch\", \"water\", \"way\", \"way\", \"way\", \"way\", \"wear\", \"wearing\", \"website\", \"week\", \"weekend\", \"weight\", \"weird\", \"weird\", \"well\", \"well\", \"well\", \"well\", \"well\", \"well\", \"well\", \"whats\", \"whats\", \"whats\", \"white\", \"win\", \"wine\", \"woman\", \"work\", \"work\", \"work\", \"world\", \"world\", \"world\", \"worse\", \"would\", \"would\", \"would\", \"would\", \"would\", \"would\", \"would\", \"wouldnt\", \"wow\", \"write\", \"write\", \"wrong\", \"wtf\", \"ybm\", \"yeah\", \"year\", \"year\", \"years\", \"years\", \"yes\", \"yikes\", \"yo\", \"young\", \"young\", \"younger\", \"youre\", \"yup\"]}, \"R\": 30, \"lambda.step\": 0.01, \"plot.opts\": {\"xlab\": \"PC1\", \"ylab\": \"PC2\"}, \"topic.order\": [1, 2, 3, 4, 5, 6, 7, 8, 9, 10]};\n",
       "\n",
       "function LDAvis_load_lib(url, callback){\n",
       "  var s = document.createElement('script');\n",
       "  s.src = url;\n",
       "  s.async = true;\n",
       "  s.onreadystatechange = s.onload = callback;\n",
       "  s.onerror = function(){console.warn(\"failed to load library \" + url);};\n",
       "  document.getElementsByTagName(\"head\")[0].appendChild(s);\n",
       "}\n",
       "\n",
       "if(typeof(LDAvis) !== \"undefined\"){\n",
       "   // already loaded: just create the visualization\n",
       "   !function(LDAvis){\n",
       "       new LDAvis(\"#\" + \"ldavis_el2958121400783170498886102808194\", ldavis_el2958121400783170498886102808194_data);\n",
       "   }(LDAvis);\n",
       "}else if(typeof define === \"function\" && define.amd){\n",
       "   // require.js is available: use it to load d3/LDAvis\n",
       "   require.config({paths: {d3: \"https://cdnjs.cloudflare.com/ajax/libs/d3/3.5.5/d3.min\"}});\n",
       "   require([\"d3\"], function(d3){\n",
       "      window.d3 = d3;\n",
       "      LDAvis_load_lib(\"https://cdn.rawgit.com/bmabey/pyLDAvis/files/ldavis.v1.0.0.js\", function(){\n",
       "        new LDAvis(\"#\" + \"ldavis_el2958121400783170498886102808194\", ldavis_el2958121400783170498886102808194_data);\n",
       "      });\n",
       "    });\n",
       "}else{\n",
       "    // require.js not available: dynamically load d3 & LDAvis\n",
       "    LDAvis_load_lib(\"https://cdnjs.cloudflare.com/ajax/libs/d3/3.5.5/d3.min.js\", function(){\n",
       "         LDAvis_load_lib(\"https://cdn.rawgit.com/bmabey/pyLDAvis/files/ldavis.v1.0.0.js\", function(){\n",
       "                 new LDAvis(\"#\" + \"ldavis_el2958121400783170498886102808194\", ldavis_el2958121400783170498886102808194_data);\n",
       "            })\n",
       "         });\n",
       "}\n",
       "</script>"
      ],
      "text/plain": [
       "<IPython.core.display.HTML object>"
      ]
     },
     "execution_count": 47,
     "metadata": {},
     "output_type": "execute_result"
    }
   ],
   "source": [
    "pyLDAvis.display(pyLDAvis.gensim.prepare(spammod, corpus, dictionary, sort_topics=False))"
   ]
  },
  {
   "cell_type": "code",
   "execution_count": 48,
   "metadata": {
    "scrolled": true
   },
   "outputs": [
    {
     "name": "stderr",
     "output_type": "stream",
     "text": [
      "/home/mwh/miniconda3/envs/forum/lib/python3.8/site-packages/ipykernel/ipkernel.py:287: DeprecationWarning: `should_run_async` will not call `transform_cell` automatically in the future. Please pass the result to `transformed_cell` argument and any exception that happen during thetransform in `preprocessing_exc_tuple` in IPython 7.17 and above.\n",
      "  and should_run_async(code)\n"
     ]
    },
    {
     "name": "stdout",
     "output_type": "stream",
     "text": [
      "CPU times: user 3h 46min 1s, sys: 4.46 s, total: 3h 46min 5s\n",
      "Wall time: 3h 46min 5s\n"
     ]
    }
   ],
   "source": [
    "%time samp_topic_sents_keywords = format_topics_sentences(ldamodel=spammod, corpus=corpus)"
   ]
  },
  {
   "cell_type": "code",
   "execution_count": null,
   "metadata": {},
   "outputs": [],
   "source": [
    "samp['dom_topic'] = samp_topic_sents_keywords['Dominant_Topic']\n",
    "samp['per_contr'] = samp_topic_sents_keywords['Perc_Contribution']\n",
    "samp['keywords'] = samp_topic_sents_keywords['Topic_Keywords']"
   ]
  },
  {
   "cell_type": "code",
   "execution_count": null,
   "metadata": {
    "scrolled": false
   },
   "outputs": [],
   "source": [
    "samp['dom_topic'].value_counts()"
   ]
  },
  {
   "cell_type": "code",
   "execution_count": null,
   "metadata": {
    "scrolled": true
   },
   "outputs": [],
   "source": [
    "for i in range(100000):\n",
    "#     if samp['dom_topic'].iloc[i]==19.0:\n",
    "#         print(\"topic 20: \" + samp['text_clean'].iloc[i])"
   ]
  },
  {
   "cell_type": "markdown",
   "metadata": {},
   "source": [
    "## Clean Up Dataframe"
   ]
  },
  {
   "cell_type": "code",
   "execution_count": null,
   "metadata": {},
   "outputs": [],
   "source": [
    "samp.drop('title', axis=1, inplace=True)\n",
    "samp.drop('body', axis=1, inplace=True)"
   ]
  },
  {
   "cell_type": "code",
   "execution_count": null,
   "metadata": {
    "scrolled": true
   },
   "outputs": [],
   "source": [
    "samp = has_url(samp)"
   ]
  },
  {
   "cell_type": "code",
   "execution_count": null,
   "metadata": {
    "scrolled": true
   },
   "outputs": [],
   "source": [
    "samp['has_url'].value_counts()"
   ]
  },
  {
   "cell_type": "code",
   "execution_count": null,
   "metadata": {
    "scrolled": false
   },
   "outputs": [],
   "source": [
    "samp['text'].loc[samp['has_url']].head(50)"
   ]
  },
  {
   "cell_type": "code",
   "execution_count": null,
   "metadata": {},
   "outputs": [],
   "source": [
    "s = samp['text'].loc[3278]\n",
    "pattern = r'''((http|ftp|https):\\/\\/)[-a-zA-Z0-9@:%\\._\\+~#=]{1,256}\\.[a-zA-Z0-9\\(\\)]{1,8}\\b([-a-zA-Z0-9\\(\\)@:%\\!,\\[\\]\\{\\}\\|'\"_\\+\\.~#\\?&/=]*)|(www\\.)*[-a-zA-Z0-9@:%\\._\\+~#=]{1,256}\\.(com|be|io|org|net)\\b([-a-zA-Z0-9\\(\\)@:%\\!,\\[\\]\\{\\}\\|'\"_\\+\\.~#\\?&/=]*)'''\n",
    "regex_pat = re.compile(pattern, flags=re.IGNORECASE)\n",
    "print(s)\n",
    "print(re.sub(pattern, \"\", s))\n",
    "print(s.contains(pattern))"
   ]
  },
  {
   "cell_type": "code",
   "execution_count": null,
   "metadata": {
    "scrolled": true
   },
   "outputs": [],
   "source": [
    "samp.info(verbose=True)"
   ]
  },
  {
   "cell_type": "code",
   "execution_count": null,
   "metadata": {},
   "outputs": [],
   "source": [
    "# samp.to_csv(path_spam_sample, columns=['message_id', 'has_url', 'n_symbols', 'text'], index=False)\n",
    "samp.to_csv(path_spam_sample, sep ='\\t', index=False)"
   ]
  },
  {
   "cell_type": "code",
   "execution_count": null,
   "metadata": {},
   "outputs": [],
   "source": [
    "samp.info()"
   ]
  },
  {
   "cell_type": "markdown",
   "metadata": {},
   "source": [
    "## Process Data"
   ]
  },
  {
   "cell_type": "code",
   "execution_count": null,
   "metadata": {},
   "outputs": [],
   "source": [
    "conn = create_connection(path_db)"
   ]
  },
  {
   "cell_type": "code",
   "execution_count": null,
   "metadata": {},
   "outputs": [],
   "source": [
    "size = get_size(conn)\n",
    "nchunks = 1\n",
    "chunksize = floor(size / nchunks)"
   ]
  },
  {
   "cell_type": "code",
   "execution_count": null,
   "metadata": {},
   "outputs": [],
   "source": [
    "sql = ''' SELECT message_id, title, body FROM posts '''"
   ]
  },
  {
   "cell_type": "code",
   "execution_count": null,
   "metadata": {},
   "outputs": [],
   "source": [
    "process_data(sql, chunksize, analyzer)"
   ]
  },
  {
   "cell_type": "code",
   "execution_count": null,
   "metadata": {},
   "outputs": [],
   "source": []
  }
 ],
 "metadata": {
  "kernelspec": {
   "display_name": "Python 3",
   "language": "python",
   "name": "python3"
  },
  "language_info": {
   "codemirror_mode": {
    "name": "ipython",
    "version": 3
   },
   "file_extension": ".py",
   "mimetype": "text/x-python",
   "name": "python",
   "nbconvert_exporter": "python",
   "pygments_lexer": "ipython3",
   "version": "3.8.5"
  }
 },
 "nbformat": 4,
 "nbformat_minor": 4
}
