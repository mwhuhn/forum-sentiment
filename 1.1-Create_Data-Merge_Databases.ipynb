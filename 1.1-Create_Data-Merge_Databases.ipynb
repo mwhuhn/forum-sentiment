{
 "cells": [
  {
   "cell_type": "markdown",
   "metadata": {},
   "source": [
    "# Merge Youbemom Databases\n",
    "This notebook first finds and scrapes missing posts then merges the 40 + 1 youbemomTables databases into one sqlite database\n",
    "\n",
    "## Data Sources\n",
    "- database/youbemom-all/youbemomTables-[01 to 40].db (scraped with 1-Scrape_Forum.ipynb)\n",
    "- database/youbemomTables.db (scraped with 1-Scrape_Forum.ipynb)\n",
    "\n",
    "## Changes\n",
    "- 2020-12-08: Created\n",
    "- 2020-12-09: Added merge databases youbemomTables-[01-40]\n",
    "- 2020-12-12: Added merge youbemomTables\n",
    "\n",
    "## Database Structure\n",
    "- threads\n",
    " - id: automatically assigned\n",
    " - url: url of top post\n",
    " - subforum: subforum of post\n",
    " - dne: post does not exist\n",
    "- posts\n",
    " - id: automatically assigned\n",
    " - family_id: thread->id\n",
    " - message_id: the unique id of the message from the html\n",
    " - parent_id: id of post this post is responding to, 0 if top post\n",
    " - date_recorded: date the data is fetched\n",
    " - date_created: date the data was created\n",
    " - title: title of the post\n",
    " - body: body of the post\n",
    " - subforum: subforum of post\n",
    " - deleted: has post been deleted\n",
    "\n",
    "## TODO\n",
    "-"
   ]
  },
  {
   "cell_type": "markdown",
   "metadata": {},
   "source": [
    "## Imports"
   ]
  },
  {
   "cell_type": "code",
   "execution_count": 3,
   "metadata": {},
   "outputs": [],
   "source": [
    "import sqlite3\n",
    "from pathlib import Path\n",
    "from youbemom import loop_list_links, create_connection, set_up_db"
   ]
  },
  {
   "cell_type": "markdown",
   "metadata": {},
   "source": [
    "## Functions"
   ]
  },
  {
   "cell_type": "markdown",
   "metadata": {},
   "source": [
    "For formatting strings"
   ]
  },
  {
   "cell_type": "code",
   "execution_count": 4,
   "metadata": {},
   "outputs": [],
   "source": [
    "def pad(n):\n",
    "    \"\"\" pad an int if less than 10 \n",
    "    :param n: input int\n",
    "    :return: string padded with 0 if less than 10\n",
    "    \"\"\"\n",
    "    if n < 10:\n",
    "        return \"0\" + str(n)\n",
    "    else:\n",
    "        return str(n)"
   ]
  },
  {
   "cell_type": "code",
   "execution_count": 5,
   "metadata": {},
   "outputs": [],
   "source": [
    "def permalink_n(url):\n",
    "    \"\"\" extract permalink number from url\n",
    "    :param url: url string of permalink\n",
    "    :return: int of permalink number\n",
    "    \"\"\"\n",
    "    return int(url[17:])"
   ]
  },
  {
   "cell_type": "markdown",
   "metadata": {},
   "source": [
    "For testing"
   ]
  },
  {
   "cell_type": "code",
   "execution_count": 6,
   "metadata": {},
   "outputs": [],
   "source": [
    "def check_ids_for_missing(cur):\n",
    "    \"\"\" checks for missing ids and scrapes them \n",
    "    :param cur: database cursor\n",
    "    \"\"\"\n",
    "    cur.execute(ids_sql)\n",
    "    ids = list(cur.fetchall())\n",
    "    ids = [i[0] for i in ids]\n",
    "    if ids:\n",
    "        print(\"got ids for db-{}\".format(n))\n",
    "        missing_ids = find_missing(ids)\n",
    "        if len(missing_ids) > 0:\n",
    "            print(missing_ids)\n",
    "            cur.execute(min_permalink_sql)\n",
    "            min_permalink = cur.fetchone()\n",
    "            if min_permalink:\n",
    "                min_permalink = permalink_n(min_permalink[0])\n",
    "                loop_list_links(conn, path_db, missing_ids, min_permalink)"
   ]
  },
  {
   "cell_type": "code",
   "execution_count": 7,
   "metadata": {},
   "outputs": [],
   "source": [
    "def find_missing(number_list):\n",
    "    \"\"\" extracts all missing ints in the range from the first value\n",
    "        on the number list to the last number\n",
    "    :param number_list: ideally sorted, a list of ints\n",
    "    :return: list of numbers between first and last not in list\n",
    "    \"\"\"\n",
    "    return [x for x in range(number_list[0], number_list[-1] + 1) if x not in number_list] "
   ]
  },
  {
   "cell_type": "markdown",
   "metadata": {},
   "source": [
    "## File Locations"
   ]
  },
  {
   "cell_type": "code",
   "execution_count": 8,
   "metadata": {},
   "outputs": [],
   "source": [
    "p = Path.cwd()\n",
    "path_parent = p.parents[0]"
   ]
  },
  {
   "cell_type": "markdown",
   "metadata": {},
   "source": [
    "## Loop Databases\n",
    "Find missing permalinks in each database, skipped due to errors"
   ]
  },
  {
   "cell_type": "code",
   "execution_count": 7,
   "metadata": {},
   "outputs": [],
   "source": [
    "# count_sql = ''' SELECT Count(*) FROM threads '''\n",
    "max_id_sql = ''' SELECT MAX(family_id) FROM threads '''\n",
    "min_permalink_sql = ''' SELECT url FROM threads ORDER BY ROWID ASC LIMIT 1 '''\n",
    "ids_sql = ''' SELECT family_id from threads ORDER BY family_id ASC '''\n",
    "update_threads_sql = ''' UPDATE threads SET family_id = family_id + {} '''\n",
    "update_posts_sql = ''' UPDATE posts SET family_id = family_id + {} '''"
   ]
  },
  {
   "cell_type": "code",
   "execution_count": null,
   "metadata": {
    "scrolled": true
   },
   "outputs": [],
   "source": [
    "last_max_value = 0\n",
    "for i in range(1, 31):\n",
    "    n = pad(i)\n",
    "    # n = str(i)\n",
    "    fn = \"youbemomTables-{}.db\".format(n)\n",
    "    path_db = path_parent / \"database\" / fn\n",
    "    path_db = str(path_db)\n",
    "    conn = create_connection(path_db)\n",
    "    cur = conn.cursor()\n",
    "    # don't run more than once\n",
    "    # won't mess anything up but\n",
    "    # takes a lot of time\n",
    "    # check_ids_for_missing(cur)\n",
    "    cur.execute(max_id_sql)\n",
    "    max_id = cur.fetchone() # must do this before updating values\n",
    "    cur.execute(update_threads_sql.format(last_max_value))\n",
    "    cur.execute(update_posts_sql.format(last_max_value))\n",
    "    if max_id:\n",
    "        last_max_value += int(max_id[0])\n",
    "    else:\n",
    "        last_max_value += 10000\n",
    "    conn.commit()\n",
    "    conn.close()"
   ]
  },
  {
   "cell_type": "markdown",
   "metadata": {},
   "source": [
    "## Merge Databases\n",
    "Merge all the databases into one SQLite DB"
   ]
  },
  {
   "cell_type": "markdown",
   "metadata": {},
   "source": [
    "### Create new database"
   ]
  },
  {
   "cell_type": "code",
   "execution_count": null,
   "metadata": {},
   "outputs": [],
   "source": [
    "db = \"youbemom-merged.db\"\n",
    "path_db = path_parent / \"database\" / db\n",
    "path_db = str(path_db)\n",
    "conn = create_connection(path_db)\n",
    "set_up_db(conn)\n",
    "cur = conn.cursor()\n",
    "script = '''\n",
    "    ATTACH DATABASE \"{0}\" AS db{1};\n",
    "    INSERT INTO main.threads (family_id, url, subforum, dne) SELECT family_id, url, subforum, dne FROM db{1}.threads;\n",
    "    INSERT INTO main.posts (family_id, message_id, parent_id, date_recorded, date_created, title, body, subforum, deleted) SELECT family_id, message_id, parent_id, date_recorded, date_created, title, body, subforum, deleted FROM db{1}.posts;\n",
    "    DETACH DATABASE db{1};\n",
    "'''"
   ]
  },
  {
   "cell_type": "markdown",
   "metadata": {},
   "source": [
    "### Merge numbered databases\n",
    "Merge the databases in youbemomTables-[01-40] into empty youbemomTables-merged"
   ]
  },
  {
   "cell_type": "code",
   "execution_count": null,
   "metadata": {},
   "outputs": [],
   "source": [
    "for i in range(1, 11):\n",
    "    n = pad(i)\n",
    "    fn = \"youbemomTables-{}.db\".format(n)\n",
    "    path_db = path_parent / \"database\" / fn\n",
    "    path_db = str(path_db)\n",
    "    cur.executescript(script.format(path_db, n))"
   ]
  },
  {
   "cell_type": "code",
   "execution_count": null,
   "metadata": {},
   "outputs": [],
   "source": [
    "conn.commit()\n",
    "conn.close()"
   ]
  },
  {
   "cell_type": "markdown",
   "metadata": {},
   "source": [
    "### Merge longer-range scraped database\n",
    "Merge the database of looping through pages and not permalinks using pandas to filter and alter the ids"
   ]
  },
  {
   "cell_type": "code",
   "execution_count": 8,
   "metadata": {},
   "outputs": [],
   "source": [
    "min_date_created_sql = ''' SELECT MIN(date_created) FROM posts '''\n",
    "min_group_id_sql = ''' SELECT MIN(family_id) FROM posts WHERE date_created < \"{0}\" AND subforum = \"{1}\" '''\n",
    "max_group_id_sql = ''' SELECT MAX(family_id) FROM posts WHERE date_created < \"{0}\" AND subforum = \"{1}\" '''\n",
    "script = '''\n",
    "    DELETE FROM posts WHERE date_created >= \"{0}\" AND subforum = \"{1}\";\n",
    "    DELETE FROM threads WHERE subforum = \"{1}\" AND family_id NOT IN\n",
    "        (SELECT family_id \n",
    "        FROM posts \n",
    "        WHERE family_id is NOT NULL AND subforum = \"{1}\"\n",
    "      );\n",
    "    UPDATE threads SET family_id = family_id + {2} WHERE subforum = \"{1}\";\n",
    "    UPDATE posts SET family_id = family_id + {2} where subforum = \"{1}\";\n",
    "'''\n",
    "forum_list = [\"special-needs\", \"newborn\", \"preschool\", \"elementary\", \"tween-teen\"]"
   ]
  },
  {
   "cell_type": "markdown",
   "metadata": {},
   "source": [
    "Find max family_id to start and min_date to filter"
   ]
  },
  {
   "cell_type": "code",
   "execution_count": 9,
   "metadata": {},
   "outputs": [
    {
     "name": "stdout",
     "output_type": "stream",
     "text": [
      "1537041\n",
      "2018-01-01 00:00:00\n"
     ]
    }
   ],
   "source": [
    "db = \"youbemom-merged.db\"\n",
    "path_db = path_parent / \"database\" / db\n",
    "path_db = str(path_db)\n",
    "conn = create_connection(path_db)\n",
    "cur = conn.cursor()\n",
    "cur.execute(max_id_sql)\n",
    "max_id = cur.fetchone()\n",
    "max_id = int(max_id[0])\n",
    "print(max_id)\n",
    "cur.execute(min_date_created_sql)\n",
    "min_date = cur.fetchone()\n",
    "min_date = min_date[0]\n",
    "print(min_date)"
   ]
  },
  {
   "cell_type": "markdown",
   "metadata": {},
   "source": [
    "Renumber family_id in youbemomTables to match youbemom-merged"
   ]
  },
  {
   "cell_type": "code",
   "execution_count": 9,
   "metadata": {},
   "outputs": [],
   "source": [
    "ybm = \"youbemomTables.db\"\n",
    "path_ybm = path_parent / \"database\" / ybm\n",
    "path_ybm = str(path_ybm)"
   ]
  },
  {
   "cell_type": "code",
   "execution_count": 11,
   "metadata": {},
   "outputs": [
    {
     "name": "stdout",
     "output_type": "stream",
     "text": [
      "special-needs\n",
      "min id: 1158\n",
      "add: 1535884\n",
      "newborn\n",
      "min id: 91\n",
      "add: 1560794\n",
      "preschool\n",
      "min id: 114\n",
      "add: 1561031\n",
      "elementary\n",
      "min id: 237\n",
      "add: 1561270\n",
      "tween-teen\n",
      "min id: 313\n",
      "add: 1561708\n"
     ]
    }
   ],
   "source": [
    "conn = create_connection(path_ybm)\n",
    "cur = conn.cursor()\n",
    "for subforum in forum_list:\n",
    "    print(subforum)\n",
    "    cur.execute(min_group_id_sql.format(min_date, subforum))\n",
    "    min_group_id = cur.fetchone()\n",
    "    min_group_id = int(min_group_id[0])\n",
    "    print(\"min id: {}\".format(min_group_id))\n",
    "    add = max_id - min_group_id + 1\n",
    "    print(\"add: {}\".format(add))\n",
    "    cur.executescript(script.format(min_date, subforum, add))\n",
    "    cur.execute(max_group_id_sql.format(min_date, subforum))\n",
    "    max_id = cur.fetchone()\n",
    "    max_id = int(max_id[0])"
   ]
  },
  {
   "cell_type": "markdown",
   "metadata": {},
   "source": [
    "Merge database"
   ]
  },
  {
   "cell_type": "code",
   "execution_count": 12,
   "metadata": {},
   "outputs": [],
   "source": [
    "db = \"youbemom-merged.db\"\n",
    "path_db = path_parent / \"database\" / db\n",
    "path_db = str(path_db)\n",
    "conn = create_connection(path_db)\n",
    "set_up_db(conn)\n",
    "cur = conn.cursor()\n",
    "script = '''\n",
    "    ATTACH DATABASE \"{}\" AS ybm;\n",
    "    INSERT INTO main.threads (family_id, url, subforum, dne) SELECT family_id, url, subforum, dne FROM ybm.threads;\n",
    "    INSERT INTO main.posts (family_id, message_id, parent_id, date_recorded, date_created, title, body, subforum, deleted) SELECT family_id, message_id, parent_id, date_recorded, date_created, title, body, subforum, deleted FROM ybm.posts;\n",
    "    DETACH DATABASE ybm;\n",
    "'''"
   ]
  },
  {
   "cell_type": "code",
   "execution_count": 13,
   "metadata": {},
   "outputs": [
    {
     "data": {
      "text/plain": [
       "<sqlite3.Cursor at 0x255a59927a0>"
      ]
     },
     "execution_count": 13,
     "metadata": {},
     "output_type": "execute_result"
    }
   ],
   "source": [
    "cur.executescript(script.format(path_ybm))"
   ]
  },
  {
   "cell_type": "code",
   "execution_count": 14,
   "metadata": {},
   "outputs": [],
   "source": [
    "conn.commit()\n",
    "conn.close()"
   ]
  }
 ],
 "metadata": {
  "kernelspec": {
   "display_name": "Python 3",
   "language": "python",
   "name": "python3"
  },
  "language_info": {
   "codemirror_mode": {
    "name": "ipython",
    "version": 3
   },
   "file_extension": ".py",
   "mimetype": "text/x-python",
   "name": "python",
   "nbconvert_exporter": "python",
   "pygments_lexer": "ipython3",
   "version": "3.8.5"
  }
 },
 "nbformat": 4,
 "nbformat_minor": 4
}
