{
 "cells": [
  {
   "cell_type": "markdown",
   "metadata": {},
   "source": [
    "# Merge Forum Data\n",
    "This notebook merges the data from individual netmums databases into netmumsTables.db\n",
    "\n",
    "## Changes\n",
    "- 2020-02-08: Created\n",
    "- 2020-02-09: Added merge loop\n",
    "\n",
    "## TODO\n",
    "- "
   ]
  },
  {
   "cell_type": "markdown",
   "metadata": {},
   "source": [
    "## Imports"
   ]
  },
  {
   "cell_type": "code",
   "execution_count": 1,
   "metadata": {},
   "outputs": [],
   "source": [
    "import sqlite3\n",
    "from pathlib import Path\n",
    "from scraping import create_connection\n",
    "from netmums import set_up_merged_db\n",
    "import pandas as pd"
   ]
  },
  {
   "cell_type": "markdown",
   "metadata": {},
   "source": [
    "## Functions"
   ]
  },
  {
   "cell_type": "code",
   "execution_count": 2,
   "metadata": {},
   "outputs": [],
   "source": [
    "def pad(n):\n",
    "    \"\"\" pad an int if less than 10 \n",
    "    :param n: input int\n",
    "    :return: string padded with 0 if less than 10\n",
    "    \"\"\"\n",
    "    if n < 10:\n",
    "        return \"0\" + str(n)\n",
    "    else:\n",
    "        return str(n)"
   ]
  },
  {
   "cell_type": "markdown",
   "metadata": {},
   "source": [
    "## File Locations"
   ]
  },
  {
   "cell_type": "code",
   "execution_count": 3,
   "metadata": {},
   "outputs": [],
   "source": [
    "p = Path.cwd()\n",
    "path_parent = p.parents[0]"
   ]
  },
  {
   "cell_type": "markdown",
   "metadata": {},
   "source": [
    "## Merge Databases"
   ]
  },
  {
   "cell_type": "code",
   "execution_count": 4,
   "metadata": {},
   "outputs": [],
   "source": [
    "db = \"netmums-merged.db\"\n",
    "path_db = str(path_parent / \"database\" / db)\n",
    "conn = create_connection(path_db)\n",
    "cur = conn.cursor()\n",
    "loop_sql = '''\n",
    "    ATTACH DATABASE \"{0}\" AS db{1};\n",
    "    INSERT INTO main.users (name, data_user_id, url) SELECT name, data_user_id, url FROM db{1}.users;\n",
    "    INSERT INTO main.quotes (quoting_id, quoted_id) SELECT quoting_id, quoted_id FROM db{1}.quotes;\n",
    "    INSERT INTO main.posts (thread_id, post_id, post_count, data_user_id, date_created, date_recorded, body) SELECT thread_id, post_id, post_count, data_user_id, date_created, date_recorded, body FROM db{1}.posts;\n",
    "    DETACH DATABASE db{1};\n",
    "'''"
   ]
  },
  {
   "cell_type": "code",
   "execution_count": 5,
   "metadata": {},
   "outputs": [],
   "source": [
    "duplicates_sql = '''\n",
    "    DELETE FROM users\n",
    "    WHERE id NOT IN (\n",
    "        SELECT MIN(id)\n",
    "        FROM users\n",
    "        GROUP BY name, data_user_id, url\n",
    "    );\n",
    "    DELETE FROM quotes\n",
    "    WHERE id NOT IN (\n",
    "        SELECT MIN(id)\n",
    "        FROM quotes\n",
    "        GROUP BY quoting_id, quoted_id\n",
    "    );\n",
    "'''"
   ]
  },
  {
   "cell_type": "code",
   "execution_count": 8,
   "metadata": {},
   "outputs": [
    {
     "name": "stdout",
     "output_type": "stream",
     "text": [
      "netmumsTables-01.db\n",
      "netmumsTables-02.db\n",
      "netmumsTables-03.db\n",
      "netmumsTables-04.db\n",
      "netmumsTables-05.db\n",
      "netmumsTables-06.db\n",
      "netmumsTables-07.db\n",
      "netmumsTables-08.db\n",
      "netmumsTables-09.db\n",
      "netmumsTables-10.db\n"
     ]
    }
   ],
   "source": [
    "for i in range(1, 11):\n",
    "    n = pad(i)\n",
    "    fn = \"netmumsTables-{}.db\".format(n)\n",
    "    path_add = str(path_parent / \"database\" / fn)\n",
    "    cur.executescript(loop_sql.format(path_add, n))"
   ]
  },
  {
   "cell_type": "code",
   "execution_count": 9,
   "metadata": {},
   "outputs": [
    {
     "data": {
      "text/plain": [
       "<sqlite3.Cursor at 0x7fe68665e2d0>"
      ]
     },
     "execution_count": 9,
     "metadata": {},
     "output_type": "execute_result"
    }
   ],
   "source": [
    "cur.executescript(duplicates_sql)"
   ]
  },
  {
   "cell_type": "code",
   "execution_count": 11,
   "metadata": {},
   "outputs": [],
   "source": [
    "conn.commit()"
   ]
  },
  {
   "cell_type": "code",
   "execution_count": 12,
   "metadata": {},
   "outputs": [],
   "source": [
    "conn.close()"
   ]
  }
 ],
 "metadata": {
  "kernelspec": {
   "display_name": "Python 3",
   "language": "python",
   "name": "python3"
  },
  "language_info": {
   "codemirror_mode": {
    "name": "ipython",
    "version": 3
   },
   "file_extension": ".py",
   "mimetype": "text/x-python",
   "name": "python",
   "nbconvert_exporter": "python",
   "pygments_lexer": "ipython3",
   "version": "3.8.5"
  }
 },
 "nbformat": 4,
 "nbformat_minor": 4
}
