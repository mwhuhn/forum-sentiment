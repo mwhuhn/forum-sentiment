{
 "cells": [
  {
   "cell_type": "markdown",
   "metadata": {},
   "source": [
    "# Run Sentiment Analysis on Forum Data\n",
    "This notebook loads the Youbemom forum data and calculates sentiment\n",
    "\n",
    "## Data Sources\n",
    "- youbemom-merged.db (created with 1.1-Merge_Databases.ipynb)\n",
    "\n",
    "## Changes\n",
    "- 2020-08-13: Set up data cleaning\n",
    "- 2020-08-20: Added t-tests\n",
    "- 2020-08-26: Added plots\n",
    "- 2020-09-14: Added more plots\n",
    "- 2020-09-15: Compared parent and child sentiment\n",
    "- 2020-12-10: Changed data set\n",
    "- 2020-12-13: Moved data analysis to new file\n",
    "- 2020-12-15: Created new sentiment table, removed urls from strings\n",
    "\n",
    "## Database Structure\n",
    "- threads\n",
    " - id: automatically assigned\n",
    " - url: url of top post\n",
    " - subforum: subforum of post\n",
    " - dne: post does not exist\n",
    "- posts\n",
    " - id: automatically assigned\n",
    " - family_id: thread->id\n",
    " - message_id: the unique id of the message from the html\n",
    " - parent_id: id of post this post is responding to, 0 if top post\n",
    " - date_recorded: date the data is fetched\n",
    " - date_created: date the data was created\n",
    " - title: title of the post\n",
    " - body: body of the post\n",
    " - subforum: subforum of post\n",
    " - deleted: has post been deleted\n",
    " - text: title + body\n",
    " - text_no_url: text without urls\n",
    " - neg_sentiment\n",
    " - neu_sentiment\n",
    " - pos_sentiment\n",
    " - compound_sentiment\n",
    " - neg_sentiment_no_url\n",
    " - neu_sentiment_no_url\n",
    " - pos_sentiment_no_url\n",
    " - compound_sentiment_no_url\n",
    "\n",
    "## TODO\n",
    "- "
   ]
  },
  {
   "cell_type": "markdown",
   "metadata": {},
   "source": [
    "## Imports"
   ]
  },
  {
   "cell_type": "code",
   "execution_count": 1,
   "metadata": {},
   "outputs": [],
   "source": [
    "import sqlite3\n",
    "import pandas as pd\n",
    "from vaderSentiment.vaderSentiment import SentimentIntensityAnalyzer\n",
    "from datetime import datetime\n",
    "from pathlib import Path\n",
    "from youbemom import create_connection\n",
    "import re\n",
    "from math import floor"
   ]
  },
  {
   "cell_type": "markdown",
   "metadata": {},
   "source": [
    "## Functions\n",
    "For formatting the data"
   ]
  },
  {
   "cell_type": "code",
   "execution_count": 2,
   "metadata": {},
   "outputs": [],
   "source": [
    "def format_data(df):\n",
    "    \"\"\" format the data frame from sql so dates are in\n",
    "        datetime format and creates text column from\n",
    "        title and body\n",
    "    :param df: data frame\n",
    "    :return df: formatted data frame\n",
    "    \"\"\"\n",
    "    df['title'] = df['title'].replace('This post has been deleted\\.', '', regex=True)\n",
    "    df['text'] = df['title'] + \" \" + df['body']\n",
    "    return df"
   ]
  },
  {
   "cell_type": "code",
   "execution_count": 3,
   "metadata": {},
   "outputs": [],
   "source": [
    "def remove_urls(df):\n",
    "    \"\"\" removes urls from text strings and creates\n",
    "        new column of text without urls\n",
    "    :param df: data frame\n",
    "    :return df: formatted data frame\n",
    "    \"\"\"\n",
    "    pattern = r'(http|ftp|https):\\/\\/[-a-zA-Z0-9@:%._\\+~#=]{1,256}\\.[a-zA-Z0-9()]{1,6}\\b([-a-zA-Z0-9()@:%_\\+.~#?&//=]*)'\n",
    "    regex_pat = re.compile(pattern, flags=re.IGNORECASE)\n",
    "    df['text_no_url'] = df['text'].str.replace(regex_pat, \"\")\n",
    "    return df"
   ]
  },
  {
   "cell_type": "markdown",
   "metadata": {},
   "source": [
    "For creating the sentiment values"
   ]
  },
  {
   "cell_type": "code",
   "execution_count": 4,
   "metadata": {},
   "outputs": [],
   "source": [
    "def sentiment_analyzer_scores(sentence, analyzer):\n",
    "    \"\"\" create sentiment scores with the VADER analyzer\n",
    "    :param sentence: sentence to create scores for\n",
    "    :param analyzer: VADER sentiment analyzer\n",
    "    :return score: a dictionary of scores (neg, neu, pos, compound)\n",
    "    \"\"\"\n",
    "    score = analyzer.polarity_scores(sentence)\n",
    "    return score"
   ]
  },
  {
   "cell_type": "markdown",
   "metadata": {},
   "source": [
    "## File Locations"
   ]
  },
  {
   "cell_type": "code",
   "execution_count": 5,
   "metadata": {},
   "outputs": [],
   "source": [
    "p = Path.cwd()\n",
    "path_parent = p.parents[0]"
   ]
  },
  {
   "cell_type": "code",
   "execution_count": 6,
   "metadata": {},
   "outputs": [],
   "source": [
    "path_db = path_parent / \"database\" / \"youbemom-merged.db\"\n",
    "path_db = str(path_db)"
   ]
  },
  {
   "cell_type": "markdown",
   "metadata": {},
   "source": [
    "## Load Data"
   ]
  },
  {
   "cell_type": "code",
   "execution_count": 7,
   "metadata": {},
   "outputs": [],
   "source": [
    "conn = create_connection(path_db)"
   ]
  },
  {
   "cell_type": "code",
   "execution_count": 8,
   "metadata": {},
   "outputs": [],
   "source": [
    "df = pd.read_sql_query(\"SELECT * FROM posts\", conn)"
   ]
  },
  {
   "cell_type": "markdown",
   "metadata": {},
   "source": [
    "## Format Data\n",
    "Format the data to create a text column from the title and body and a text_no_url column that removes all urls from the text."
   ]
  },
  {
   "cell_type": "code",
   "execution_count": 9,
   "metadata": {},
   "outputs": [],
   "source": [
    "df = format_data(df)"
   ]
  },
  {
   "cell_type": "code",
   "execution_count": 10,
   "metadata": {},
   "outputs": [],
   "source": [
    "df = remove_urls(df)"
   ]
  },
  {
   "cell_type": "markdown",
   "metadata": {},
   "source": [
    "If creating a separate table for sentiment, run these, else keep commented out"
   ]
  },
  {
   "cell_type": "code",
   "execution_count": 11,
   "metadata": {},
   "outputs": [],
   "source": [
    "# df.drop('title', axis=1, inplace=True)\n",
    "# df.drop('body', axis=1, inplace=True)"
   ]
  },
  {
   "cell_type": "markdown",
   "metadata": {},
   "source": [
    "## Add Sentiment Scores"
   ]
  },
  {
   "cell_type": "code",
   "execution_count": 12,
   "metadata": {},
   "outputs": [],
   "source": [
    "analyzer = SentimentIntensityAnalyzer()"
   ]
  },
  {
   "cell_type": "markdown",
   "metadata": {},
   "source": [
    "With the text as collected:"
   ]
  },
  {
   "cell_type": "code",
   "execution_count": 13,
   "metadata": {},
   "outputs": [],
   "source": [
    "sentiment = df['text'].apply(lambda x: sentiment_analyzer_scores(x, analyzer))"
   ]
  },
  {
   "cell_type": "code",
   "execution_count": 14,
   "metadata": {},
   "outputs": [],
   "source": [
    "df['neg_sentiment'] = sentiment.apply(lambda x: x.get('neg', 0))\n",
    "df['neu_sentiment'] = sentiment.apply(lambda x: x.get('neu', 0))\n",
    "df['pos_sentiment'] = sentiment.apply(lambda x: x.get('pos', 0))\n",
    "df['compound_sentiment'] = sentiment.apply(lambda x: x.get('compound', 0))"
   ]
  },
  {
   "cell_type": "code",
   "execution_count": 15,
   "metadata": {},
   "outputs": [],
   "source": [
    "sentiment_no_urls = df['text_no_url'].apply(lambda x: sentiment_analyzer_scores(x, analyzer))"
   ]
  },
  {
   "cell_type": "code",
   "execution_count": 16,
   "metadata": {},
   "outputs": [],
   "source": [
    "df['neg_sentiment_no_url'] = sentiment_no_urls.apply(lambda x: x.get('neg', 0))\n",
    "df['neu_sentiment_no_url'] = sentiment_no_urls.apply(lambda x: x.get('neu', 0))\n",
    "df['pos_sentiment_no_url'] = sentiment_no_urls.apply(lambda x: x.get('pos', 0))\n",
    "df['compound_sentiment_no_url'] = sentiment_no_urls.apply(lambda x: x.get('compound', 0))"
   ]
  },
  {
   "cell_type": "markdown",
   "metadata": {},
   "source": [
    "To explore differences:"
   ]
  },
  {
   "cell_type": "code",
   "execution_count": 17,
   "metadata": {
    "scrolled": true
   },
   "outputs": [],
   "source": [
    "# sum(sentiment != sentiment_no_urls)\n",
    "# sum(df['text'] != df['text_no_url'])\n",
    "# df[sentiment != sentiment_no_urls]\n",
    "# df[(sentiment == sentiment_no_urls) & (df['text'] != df['text_no_url'])]"
   ]
  },
  {
   "cell_type": "markdown",
   "metadata": {},
   "source": [
    "## Write to Database"
   ]
  },
  {
   "cell_type": "code",
   "execution_count": 18,
   "metadata": {},
   "outputs": [],
   "source": [
    "nrow = len(df.index)\n",
    "nchunks = 167\n",
    "chunksize = floor(nrow / nchunks)"
   ]
  },
  {
   "cell_type": "code",
   "execution_count": 19,
   "metadata": {},
   "outputs": [],
   "source": [
    "for i in range(nchunks):\n",
    "    if i == 0:\n",
    "        df[0 : chunksize].to_sql('posts', conn, if_exists='replace', index=False)\n",
    "    elif i == nchunks - 1:\n",
    "        df[chunksize * i : nrow + 1].to_sql('posts', conn, if_exists='append', index=False)\n",
    "    else:\n",
    "        df[chunksize * i : chunksize * (i + 1)].to_sql('posts', conn, if_exists='append', index=False)"
   ]
  },
  {
   "cell_type": "code",
   "execution_count": 20,
   "metadata": {},
   "outputs": [],
   "source": [
    "conn.commit()\n",
    "conn.close()"
   ]
  }
 ],
 "metadata": {
  "kernelspec": {
   "display_name": "Python 3",
   "language": "python",
   "name": "python3"
  },
  "language_info": {
   "codemirror_mode": {
    "name": "ipython",
    "version": 3
   },
   "file_extension": ".py",
   "mimetype": "text/x-python",
   "name": "python",
   "nbconvert_exporter": "python",
   "pygments_lexer": "ipython3",
   "version": "3.8.5"
  }
 },
 "nbformat": 4,
 "nbformat_minor": 4
}
