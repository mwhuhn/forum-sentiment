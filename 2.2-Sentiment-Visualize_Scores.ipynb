{
 "cells": [
  {
   "cell_type": "markdown",
   "metadata": {},
   "source": [
    "# Visualize Sentiment\n",
    "This notebook loads the sentiment data and explores results\n",
    "\n",
    "## Data Sources\n",
    "- youbemom-merged.db (with sentiment scores from 2.0-Sentiment-Create_Scores.ipynb)\n",
    "\n",
    "## Changes\n",
    "- 2020-01-09: Created\n",
    "\n",
    "## Database Structure\n",
    "- threads\n",
    " - id: automatically assigned\n",
    " - url: url of top post\n",
    " - subforum: subforum of post\n",
    " - dne: post does not exist\n",
    "- posts\n",
    " - id: automatically assigned\n",
    " - family_id: thread->id\n",
    " - message_id: the unique id of the message from the html\n",
    " - parent_id: id of post this post is responding to, 0 if top post\n",
    " - date_recorded: date the data is fetched\n",
    " - date_created: date the data was created\n",
    " - title: title of the post\n",
    " - body: body of the post\n",
    " - subforum: subforum of post\n",
    " - deleted: has post been deleted\n",
    "- sentiment\n",
    " - message_id: message id connecting to posts\n",
    " - text: title + body\n",
    " - text_no_url: text without urls\n",
    " - neg_sen_all\n",
    " - neu_sen_all\n",
    " - pos_sen_all\n",
    " - com_sen_all\n",
    " - neg_sen_no_url\n",
    " - neu_sen_no_url\n",
    " - pos_sen_no_url\n",
    " - com_sen_no_url\n"
   ]
  },
  {
   "cell_type": "markdown",
   "metadata": {},
   "source": [
    "## Imports"
   ]
  },
  {
   "cell_type": "code",
   "execution_count": 1,
   "metadata": {},
   "outputs": [],
   "source": [
    "import sqlite3\n",
    "import pandas as pd\n",
    "import numpy as np\n",
    "from pathlib import Path\n",
    "from scraping import create_connection"
   ]
  },
  {
   "cell_type": "markdown",
   "metadata": {},
   "source": [
    "## Functions"
   ]
  },
  {
   "cell_type": "code",
   "execution_count": 2,
   "metadata": {},
   "outputs": [],
   "source": [
    "def create_dates(df):\n",
    "    \"\"\" create date variables\n",
    "    :param df: data frame\n",
    "    :return: formatted data frame\n",
    "    \"\"\"\n",
    "    df['date_created'] = pd.to_datetime(df['date_created'])\n",
    "    df['before'] = df['date_created'] <= pd.Timestamp(2020,2,28)\n",
    "    df['during'] = df['date_created'] >= pd.Timestamp(2020,4,1)\n",
    "    df['march'] = ~df['before'] & ~df['during']\n",
    "    df.loc[df['before'], 'period'] = 'before'\n",
    "    df.loc[df['march'], 'period'] = 'march'\n",
    "    df.loc[df['during'], 'period'] = 'during'\n",
    "    df['weekday'] = df['date_created'].dt.day_name()\n",
    "    df['week_n'] = df['date_created'].dt.isocalendar().week\n",
    "    df['weekday_n'] = df['date_created'].dt.day\n",
    "    df['month'] = df['date_created'].dt.month_name()\n",
    "    df['month_n'] = df['date_created'].dt.month\n",
    "#     df['ymd'] = df['date_created'].dt.to_period('D')\n",
    "    return df"
   ]
  },
  {
   "cell_type": "code",
   "execution_count": 3,
   "metadata": {},
   "outputs": [],
   "source": [
    "def filter_dates(df, start, end):\n",
    "    \"\"\" creates filter for date created\n",
    "    :param df: data frame\n",
    "    :param start: datetime start date (inclusive)\n",
    "    :param end: datetime end date (exclusive)\n",
    "    :return: copy of masked data frame\n",
    "    \"\"\"\n",
    "    mask = (df['date_created'] >= start) & (df['date_created'] < end)\n",
    "    return df.loc[mask].copy()"
   ]
  },
  {
   "cell_type": "markdown",
   "metadata": {},
   "source": [
    "## Path"
   ]
  },
  {
   "cell_type": "code",
   "execution_count": 4,
   "metadata": {},
   "outputs": [],
   "source": [
    "p = Path.cwd()\n",
    "path_parent = p.parents[0]"
   ]
  },
  {
   "cell_type": "code",
   "execution_count": 5,
   "metadata": {},
   "outputs": [],
   "source": [
    "path_db = path_parent / \"database\" / \"youbemom-merged.db\"\n",
    "path_db = str(path_db)\n",
    "path_counts = path_parent / \"clean_data\" / \"subforum-counts.csv\"\n",
    "path_counts = str(path_counts)"
   ]
  },
  {
   "cell_type": "markdown",
   "metadata": {},
   "source": [
    "## Load Data"
   ]
  },
  {
   "cell_type": "code",
   "execution_count": 11,
   "metadata": {},
   "outputs": [],
   "source": [
    "conn = create_connection(path_db)"
   ]
  },
  {
   "cell_type": "code",
   "execution_count": 13,
   "metadata": {
    "scrolled": true
   },
   "outputs": [
    {
     "name": "stdout",
     "output_type": "stream",
     "text": [
      "('/forum/permalink/10991516', '2020-12-02 12:31:00', '12-08-2020 13:13:48', 'Last night I asked dh to sit down with me and plan Xmas shopping for his family. He refused because he doesn’t get paid for another week. I told him I’m finished and this was last')\n"
     ]
    }
   ],
   "source": [
    "cur = conn.cursor()\n",
    "cur.execute('''\n",
    "    SELECT threads.url, posts.date_created, posts.date_recorded, posts.title\n",
    "    FROM threads\n",
    "    JOIN posts\n",
    "        ON threads.family_id=posts.family_id\n",
    "        WHERE posts.parent_id=\"\"\n",
    "            AND posts.subforum=\"toddler\"\n",
    "    ORDER BY posts.date_created DESC LIMIT 1\n",
    "    ''')\n",
    "url = cur.fetchone()\n",
    "print(url)"
   ]
  },
  {
   "cell_type": "code",
   "execution_count": null,
   "metadata": {},
   "outputs": [],
   "source": [
    "# posts: message_id (merge var), date_created, parent_id\n",
    "# sentiment: message_id (merge var), *_sen_* (sentiment variables)\n",
    "sn_sql = '''\n",
    "    SELECT\n",
    "        p.message_id AS message_id,\n",
    "        p.date_created AS date_created,\n",
    "        p.parent_id AS parent_id,\n",
    "        s.neg_sen_all as neg_sen_all,\n",
    "        s.neu_sen_all as neu_sen_all,\n",
    "        s.pos_sen_all as pos_sen_all,\n",
    "        s.com_sen_all as com_sen_all,\n",
    "        s.neg_sen_no_url as neg_sen_no_url,\n",
    "        s.neu_sen_no_url as neu_sen_no_url,\n",
    "        s.pos_sen_no_url as pos_sen_no_url,\n",
    "        s.com_sen_no_url as com_sen_no_url\n",
    "    FROM posts AS p\n",
    "    JOIN sentiment AS s\n",
    "    ON p.message_id = s.message_id\n",
    "    WHERE p.subforum = \"special-needs\"\n",
    "'''"
   ]
  },
  {
   "cell_type": "code",
   "execution_count": null,
   "metadata": {},
   "outputs": [],
   "source": [
    "sn = pd.read_sql_query(sn_sql, conn)\n",
    "sn = create_dates(sn)"
   ]
  },
  {
   "cell_type": "code",
   "execution_count": null,
   "metadata": {},
   "outputs": [],
   "source": [
    "# posts: message_id (merge var), date_created, parent_id\n",
    "# sentiment: message_id (merge var), *_sen_* (sentiment variables)\n",
    "td_sql = '''\n",
    "    SELECT\n",
    "        p.message_id AS message_id,\n",
    "        p.date_created AS date_created,\n",
    "        p.parent_id AS parent_id,\n",
    "        s.neg_sen_all as neg_sen_all,\n",
    "        s.neu_sen_all as neu_sen_all,\n",
    "        s.pos_sen_all as pos_sen_all,\n",
    "        s.com_sen_all as com_sen_all,\n",
    "        s.neg_sen_no_url as neg_sen_no_url,\n",
    "        s.neu_sen_no_url as neu_sen_no_url,\n",
    "        s.pos_sen_no_url as pos_sen_no_url,\n",
    "        s.com_sen_no_url as com_sen_no_url\n",
    "    FROM posts AS p\n",
    "    JOIN sentiment AS s\n",
    "    ON p.message_id = s.message_id\n",
    "    WHERE p.family_id IN (SELECT family_id FROM temp)\n",
    "'''"
   ]
  },
  {
   "cell_type": "code",
   "execution_count": null,
   "metadata": {},
   "outputs": [],
   "source": [
    "td = pd.read_sql_query(td_sql, conn)\n",
    "td = create_dates(td)"
   ]
  },
  {
   "cell_type": "code",
   "execution_count": null,
   "metadata": {},
   "outputs": [],
   "source": [
    "conn.close()"
   ]
  },
  {
   "cell_type": "markdown",
   "metadata": {},
   "source": [
    "## Filter Data"
   ]
  },
  {
   "cell_type": "code",
   "execution_count": null,
   "metadata": {},
   "outputs": [],
   "source": [
    "td_sub = filter_dates(td, pd.Timestamp(2014, 1, 1, 0, 0, 0), pd.Timestamp(2020, 12, 1, 0, 0, 0))\n",
    "sn_sub = filter_dates(sn, pd.Timestamp(2014, 1, 1, 0, 0, 0), pd.Timestamp(2020, 12, 1, 0, 0, 0))"
   ]
  },
  {
   "cell_type": "markdown",
   "metadata": {},
   "source": [
    "## Post Frequency"
   ]
  }
 ],
 "metadata": {
  "kernelspec": {
   "display_name": "Python 3",
   "language": "python",
   "name": "python3"
  },
  "language_info": {
   "codemirror_mode": {
    "name": "ipython",
    "version": 3
   },
   "file_extension": ".py",
   "mimetype": "text/x-python",
   "name": "python",
   "nbconvert_exporter": "python",
   "pygments_lexer": "ipython3",
   "version": "3.8.5"
  }
 },
 "nbformat": 4,
 "nbformat_minor": 4
}
