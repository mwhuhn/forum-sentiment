{
 "cells": [
  {
   "cell_type": "markdown",
   "metadata": {},
   "source": [
    "# Explore Topic Models\n",
    "Explores the topic models of forum posts with LDA (Latent Dirichlet Allocation)\n",
    "\n",
    "## Data Sources\n",
    "- topicmodel (created with 4-Generate_Topic_Models.ipynb)\n",
    "- sentiments (created with 2-Sentiment_Analysis.ipynb)\n",
    "\n",
    "## Changes\n",
    "- 2020-09-17: Created\n",
    "\n",
    "## TODO\n",
    "- Tutorial\n",
    " - https://towardsdatascience.com/topic-modelling-in-python-with-nltk-and-gensim-4ef03213cd21\n",
    " - https://www.machinelearningplus.com/nlp/topic-modeling-gensim-python\n"
   ]
  },
  {
   "cell_type": "markdown",
   "metadata": {},
   "source": [
    "## Imports"
   ]
  },
  {
   "cell_type": "code",
   "execution_count": 1,
   "metadata": {},
   "outputs": [],
   "source": [
    "import sqlite3\n",
    "import pandas as pd\n",
    "from pathlib import Path"
   ]
  },
  {
   "cell_type": "markdown",
   "metadata": {},
   "source": [
    "## Functions"
   ]
  },
  {
   "cell_type": "code",
   "execution_count": 2,
   "metadata": {},
   "outputs": [],
   "source": [
    "def create_connection(db_file):\n",
    "    \"\"\" create a database connection to the SQLite database\n",
    "        specified by the db_file\n",
    "    :param db_file: database file\n",
    "    :return: Connection object or None\n",
    "    \"\"\"\n",
    "    conn = None\n",
    "    try:\n",
    "        conn = sqlite3.connect(db_file)\n",
    "    except Error as err:\n",
    "        print(err)\n",
    "    return conn"
   ]
  },
  {
   "cell_type": "markdown",
   "metadata": {},
   "source": [
    "## File Locations"
   ]
  },
  {
   "cell_type": "code",
   "execution_count": 3,
   "metadata": {},
   "outputs": [],
   "source": [
    "p = Path.cwd()\n",
    "path_parent = p.parents[0]\n",
    "path_db = path_parent / \"database\" / \"youbemomTables.db\"\n",
    "path_db = str(path_db)"
   ]
  },
  {
   "cell_type": "markdown",
   "metadata": {},
   "source": [
    "## Load and Merge Data"
   ]
  },
  {
   "cell_type": "code",
   "execution_count": 6,
   "metadata": {},
   "outputs": [
    {
     "name": "stdout",
     "output_type": "stream",
     "text": [
      "<class 'pandas.core.frame.DataFrame'>\n",
      "RangeIndex: 27227 entries, 0 to 27226\n",
      "Data columns (total 22 columns):\n",
      " #   Column              Non-Null Count  Dtype  \n",
      "---  ------              --------------  -----  \n",
      " 0   id                  27227 non-null  int64  \n",
      " 1   family_id           27227 non-null  int64  \n",
      " 2   message_id          27227 non-null  object \n",
      " 3   parent_id           27227 non-null  object \n",
      " 4   date_recorded       27227 non-null  object \n",
      " 5   date_created        27227 non-null  object \n",
      " 6   title               27227 non-null  object \n",
      " 7   body                27227 non-null  object \n",
      " 8   text                27227 non-null  object \n",
      " 9   before              27227 non-null  int64  \n",
      " 10  during              27227 non-null  int64  \n",
      " 11  march               27227 non-null  int64  \n",
      " 12  period              27227 non-null  object \n",
      " 13  is_parent           27227 non-null  int64  \n",
      " 14  neg_sentiment       27227 non-null  float64\n",
      " 15  neu_sentiment       27227 non-null  float64\n",
      " 16  pos_sentiment       27227 non-null  float64\n",
      " 17  compound_sentiment  27227 non-null  float64\n",
      " 18  day                 27227 non-null  object \n",
      " 19  Dominant_Topic      27227 non-null  float64\n",
      " 20  Perc_Contribution   27227 non-null  float64\n",
      " 21  Topic_Keywords      27227 non-null  object \n",
      "dtypes: float64(6), int64(6), object(10)\n",
      "memory usage: 4.6+ MB\n",
      "<class 'pandas.core.frame.DataFrame'>\n",
      "RangeIndex: 27227 entries, 0 to 27226\n",
      "Data columns (total 4 columns):\n",
      " #   Column             Non-Null Count  Dtype  \n",
      "---  ------             --------------  -----  \n",
      " 0   Dominant_Topic     27227 non-null  float64\n",
      " 1   Perc_Contribution  27227 non-null  float64\n",
      " 2   Topic_Keywords     27227 non-null  object \n",
      " 3   text               27227 non-null  object \n",
      "dtypes: float64(2), object(2)\n",
      "memory usage: 851.0+ KB\n"
     ]
    }
   ],
   "source": [
    "conn = sqlite3.connect(path_db)\n",
    "sentiments = pd.read_sql_query(\"SELECT * from sentiments\", conn)\n",
    "topicmodel = pd.read_sql_query(\"SELECT * from topicmodel\", conn)\n",
    "df = pd.concat([sentiments, topicmodel], axis=1)\n",
    "df.info()\n",
    "topic_text = df[['Dominant_Topic', 'Perc_Contribution', 'Topic_Keywords', 'text']]\n",
    "topic_text.info()"
   ]
  },
  {
   "cell_type": "markdown",
   "metadata": {},
   "source": [
    "## Most Representative Post for Each Topic"
   ]
  },
  {
   "cell_type": "code",
   "execution_count": 12,
   "metadata": {},
   "outputs": [
    {
     "name": "stdout",
     "output_type": "stream",
     "text": [
      "<class 'pandas.core.frame.DataFrame'>\n",
      "RangeIndex: 7 entries, 0 to 6\n",
      "Data columns (total 4 columns):\n",
      " #   Column             Non-Null Count  Dtype  \n",
      "---  ------             --------------  -----  \n",
      " 0   Dominant_Topic     7 non-null      float64\n",
      " 1   Perc_Contribution  7 non-null      float64\n",
      " 2   Topic_Keywords     7 non-null      object \n",
      " 3   text               7 non-null      object \n",
      "dtypes: float64(2), object(2)\n",
      "memory usage: 352.0+ bytes\n"
     ]
    }
   ],
   "source": [
    "topic_dominant = pd.DataFrame()\n",
    "topic_grouped = topic_text.groupby('Dominant_Topic')\n",
    "for i, grp in topic_grouped:\n",
    "    topic_dominant = pd.concat([topic_dominant,\n",
    "                                grp.sort_values(['Perc_Contribution'],\n",
    "                                                ascending=[0]).head(1)],\n",
    "                               axis=0)\n",
    "topic_dominant.reset_index(drop=True, inplace=True)\n",
    "topic_dominant.info()"
   ]
  },
  {
   "cell_type": "code",
   "execution_count": 13,
   "metadata": {},
   "outputs": [
    {
     "name": "stdout",
     "output_type": "stream",
     "text": [
      "Write to the school board asking for a meeting for an IEP. Those psycho-social reports will support what is needed. \n",
      "HD NEws https://joshuaruiz2live.com/ https://ruizvsjoshua2.co/ https://livevsushd.com/cowboysvsbears/ https://livevsushd.com/patriotsvschiefs/ https://livevsushd.com/eaglesvsgiants/ https://livevsushd.com/dubairugby7s/ https://livevsushd.com/dubairugbysevens/ https://livevsushd.com/nationalfinalsrodeo/ https://livevsushd.com/nfrlivestream/ https://livevsushd.com/presidentscup/ https://livevsushd.com/ruizvsjoshuarematch2/ https://livevsushd.com/anthonyjoshuavsandyruizjr2/ https://livevsushd.com/ufc245/ https://presidentscup2019live.com/ https://golfpresidentscup.co/ https://jumanjithenextlevel.co/ https://ufc245live.co/\n",
      "don't hand him the pill. Get one of the those 7 day pill boxes, and put the alarm on his phone. Keep the pill box next to his toothbrush. If he doesn't take it at 7pm, maybe he'll remember when he sees it at bedtime. (I also have a 17yo with adhd who takes meds.) Sometimes he can't remember whether or not he takes it.\n",
      "yep. mine is a mess. brilliant but forgets to flush the toilet when he's done \n",
      "Honestly your kid is so young and so much can and will change. Even up until sophomore year of hs I was not sure if my kid would be able to go away to college or if he would be able to handle college without a support program.\n",
      ">> I did cancel the trip and lost $  in part because he is opposed but also because without his support, my older son won't go. My older son already tends toward histrionics. \n",
      "Has she disclosed her disability to HR and requested accommodations? Unless she has, she is not going to get accommodations She needs to start by identifying what accommodations she needs to succeed in her job. It could be as basic as using Dragon Naturally Speaking or other dictation software, or restructuring her work to focus on less writing focused tasks. She needs to look at the askJan.org website and/or work with a professional to assess what she needs. The ADA protects her IF she can do the essential functions of her job, with or without accommodations. But if she doesn’t ask or disclose, she can be fired for bad performance.\n"
     ]
    }
   ],
   "source": [
    "for t in topic_dominant['text']:\n",
    "    print(t)"
   ]
  }
 ],
 "metadata": {
  "kernelspec": {
   "display_name": "Python 3",
   "language": "python",
   "name": "python3"
  },
  "language_info": {
   "codemirror_mode": {
    "name": "ipython",
    "version": 3
   },
   "file_extension": ".py",
   "mimetype": "text/x-python",
   "name": "python",
   "nbconvert_exporter": "python",
   "pygments_lexer": "ipython3",
   "version": "3.6.10"
  }
 },
 "nbformat": 4,
 "nbformat_minor": 4
}
