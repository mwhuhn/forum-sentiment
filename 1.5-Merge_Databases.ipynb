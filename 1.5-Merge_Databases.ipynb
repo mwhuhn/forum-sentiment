{
 "cells": [
  {
   "cell_type": "markdown",
   "metadata": {},
   "source": [
    "# Merge Youbemom Databases\n",
    "This notebook first finds and scrapes missing posts then merges the 30 + 1 youbemomTables databases into one sqlite database\n",
    "\n",
    "## Data Sources\n",
    "- database/youbemom-all/youbemomTables-[01 to 30].db (scraped with 1-Scrape_Forum.ipynb)\n",
    "- database/youbemomTables.db (scraped with 1-Scrape_Forum.ipynb)\n",
    "\n",
    "## Changes\n",
    "- 2020-12-08: Created\n",
    "- 2020-12-09: Added merge databases\n",
    "\n",
    "## Database Structure\n",
    "- threads\n",
    " - id: automatically assigned\n",
    " - url: url of top post\n",
    "- posts\n",
    " - id: automatically assigned\n",
    " - family_id: thread->id\n",
    " - message_id: the unique id of the message from the html\n",
    " - parent_id: id of post this post is responding to, 0 if top post\n",
    " - date_recorded: date the data is fetched\n",
    " - date_created: date the data was created\n",
    " - title: title of the post\n",
    " - body: body of the post\n",
    "\n",
    "## TODO\n",
    "-"
   ]
  },
  {
   "cell_type": "markdown",
   "metadata": {},
   "source": [
    "## Imports"
   ]
  },
  {
   "cell_type": "code",
   "execution_count": 1,
   "metadata": {},
   "outputs": [],
   "source": [
    "import sqlite3\n",
    "from pathlib import Path\n",
    "from youbemom import loop_list_links, create_connection, set_up_db"
   ]
  },
  {
   "cell_type": "markdown",
   "metadata": {},
   "source": [
    "## Functions"
   ]
  },
  {
   "cell_type": "markdown",
   "metadata": {},
   "source": [
    "For formatting strings"
   ]
  },
  {
   "cell_type": "code",
   "execution_count": 2,
   "metadata": {},
   "outputs": [],
   "source": [
    "def pad(n):\n",
    "    \"\"\" pad an int if less than 10 \n",
    "    :param n: input int\n",
    "    :return: string padded with 0 if less than 10\n",
    "    \"\"\"\n",
    "    if n < 10:\n",
    "        return \"0\" + str(n)\n",
    "    else:\n",
    "        return str(n)"
   ]
  },
  {
   "cell_type": "code",
   "execution_count": 3,
   "metadata": {},
   "outputs": [],
   "source": [
    "def permalink_n(url):\n",
    "    \"\"\" extract permalink number from url\n",
    "    :param url: url string of permalink\n",
    "    :return: int of permalink number\n",
    "    \"\"\"\n",
    "    return int(url[17:])"
   ]
  },
  {
   "cell_type": "markdown",
   "metadata": {},
   "source": [
    "For testing"
   ]
  },
  {
   "cell_type": "code",
   "execution_count": 4,
   "metadata": {},
   "outputs": [],
   "source": [
    "def check_ids_for_missing(cur):\n",
    "    \"\"\" checks for missing ids and scrapes them \n",
    "    :param cur: database cursor\n",
    "    \"\"\"\n",
    "    cur.execute(ids_sql)\n",
    "    ids = list(cur.fetchall())\n",
    "    ids = [i[0] for i in ids]\n",
    "    if ids:\n",
    "        print(\"got ids for db-{}\".format(n))\n",
    "        missing_ids = find_missing(ids)\n",
    "        if len(missing_ids) > 0:\n",
    "            print(missing_ids)\n",
    "            cur.execute(min_permalink_sql)\n",
    "            min_permalink = cur.fetchone()\n",
    "            if min_permalink:\n",
    "                min_permalink = permalink_n(min_permalink[0])\n",
    "                loop_list_links(conn, path_db, missing_ids, min_permalink)"
   ]
  },
  {
   "cell_type": "code",
   "execution_count": 5,
   "metadata": {},
   "outputs": [],
   "source": [
    "def find_missing(number_list):\n",
    "    \"\"\" extracts all missing ints in the range from the first value\n",
    "        on the number list to the last number\n",
    "    :param number_list: ideally sorted, a list of ints\n",
    "    :return: list of numbers between first and last not in list\n",
    "    \"\"\"\n",
    "    return [x for x in range(number_list[0], number_list[-1] + 1) if x not in number_list] "
   ]
  },
  {
   "cell_type": "markdown",
   "metadata": {},
   "source": [
    "## File Locations"
   ]
  },
  {
   "cell_type": "code",
   "execution_count": 6,
   "metadata": {},
   "outputs": [],
   "source": [
    "p = Path.cwd()\n",
    "path_parent = p.parents[0]"
   ]
  },
  {
   "cell_type": "markdown",
   "metadata": {},
   "source": [
    "## Loop Databases\n",
    "Find missing permalinks in each database, skipped due to errors"
   ]
  },
  {
   "cell_type": "code",
   "execution_count": 7,
   "metadata": {},
   "outputs": [],
   "source": [
    "# count_sql = ''' SELECT Count(*) FROM threads '''\n",
    "maxid_sql = ''' SELECT MAX(family_id) FROM threads '''\n",
    "min_permalink_sql = ''' SELECT url FROM threads ORDER BY ROWID ASC LIMIT 1 '''\n",
    "ids_sql = ''' SELECT family_id from threads ORDER BY family_id ASC '''\n",
    "update_threads_sql = ''' UPDATE threads SET family_id = family_id + {} '''\n",
    "update_posts_sql = ''' UPDATE posts SET family_id = family_id + {} '''"
   ]
  },
  {
   "cell_type": "code",
   "execution_count": 8,
   "metadata": {},
   "outputs": [
    {
     "name": "stdout",
     "output_type": "stream",
     "text": [
      "adding: 0\n",
      "adding: 48819\n",
      "adding: 97638\n",
      "adding: 146457\n",
      "adding: 195276\n",
      "adding: 244095\n",
      "adding: 292914\n",
      "adding: 341733\n",
      "adding: 390552\n",
      "adding: 439371\n",
      "adding: 488190\n",
      "adding: 537009\n",
      "adding: 585828\n",
      "adding: 634647\n",
      "adding: 683466\n",
      "adding: 732285\n",
      "adding: 781104\n",
      "adding: 829923\n",
      "adding: 878742\n",
      "adding: 927561\n",
      "adding: 976380\n",
      "adding: 1025199\n",
      "adding: 1074018\n",
      "adding: 1122837\n",
      "adding: 1171656\n",
      "adding: 1220475\n",
      "adding: 1269294\n",
      "adding: 1318113\n",
      "adding: 1366932\n",
      "adding: 1415751\n"
     ]
    }
   ],
   "source": [
    "last_max_value = 0\n",
    "for i in range(1, 31):\n",
    "    n = pad(i)\n",
    "    # n = str(i)\n",
    "    fn = \"youbemomTables-{}.db\".format(n)\n",
    "    path_db = path_parent / \"database\" / \"youbemom-all\" / fn\n",
    "    path_db = str(path_db)\n",
    "    conn = create_connection(path_db)\n",
    "    cur = conn.cursor()\n",
    "    # don't run more than once\n",
    "    # won't mess anything up but\n",
    "    # takes a lot of time\n",
    "    # check_ids_for_missing(cur)\n",
    "    cur.execute(maxid_sql)\n",
    "    maxid = cur.fetchone() # must do this before updating values\n",
    "    print(\"adding: {}\".format(last_max_value))\n",
    "    cur.execute(update_threads_sql.format(last_max_value))\n",
    "    cur.execute(update_posts_sql.format(last_max_value))\n",
    "    if maxid:\n",
    "        last_max_value += int(maxid[0])\n",
    "    else:\n",
    "        print(\"no max id, adding 50k\")\n",
    "        last_max_value += 50000\n",
    "    conn.commit()\n",
    "    conn.close()"
   ]
  },
  {
   "cell_type": "markdown",
   "metadata": {},
   "source": [
    "## Merge Databases\n",
    "Merge all the databases into one SQLite DB"
   ]
  },
  {
   "cell_type": "markdown",
   "metadata": {},
   "source": [
    "### Create new database"
   ]
  },
  {
   "cell_type": "code",
   "execution_count": 22,
   "metadata": {},
   "outputs": [],
   "source": [
    "db = \"youbemom-merged.db\"\n",
    "path_db = path_parent / \"database\" / db\n",
    "path_db = str(path_db)\n",
    "conn = create_connection(path_db)\n",
    "set_up_db(conn)\n",
    "cur = conn.cursor()\n",
    "script = '''\n",
    "    ATTACH DATABASE \"{0}\" AS db{1};\n",
    "    INSERT INTO main.threads (family_id, url, subforum, dne) SELECT family_id, url, subforum, dne FROM db{1}.threads;\n",
    "    INSERT INTO main.posts (family_id, message_id, parent_id, date_recorded, date_created, title, body, subforum, deleted) SELECT family_id, message_id, parent_id, date_recorded, date_created, title, body, subforum, deleted FROM db{1}.posts;\n",
    "    DETACH DATABASE db{1};\n",
    "'''\n",
    "# attach_sql = ''' ATTACH DATABASE \"{0}\" AS db{1} '''\n",
    "# insert_threads_sql = ''' INSERT INTO main.threads SELECT * FROM db{}.threads '''\n",
    "# insert_posts_sql = ''' INSERT INTO main.posts SELECT * FROM db{}.posts '''"
   ]
  },
  {
   "cell_type": "markdown",
   "metadata": {},
   "source": [
    "### Loop through databases"
   ]
  },
  {
   "cell_type": "code",
   "execution_count": 23,
   "metadata": {},
   "outputs": [],
   "source": [
    "for i in range(1, 31):\n",
    "    n = pad(i)\n",
    "    fn = \"youbemomTables-{}.db\".format(n)\n",
    "    path_db = path_parent / \"database\" / \"youbemom-all\" / fn\n",
    "    path_db = str(path_db)\n",
    "    cur.executescript(script.format(path_db, n))"
   ]
  },
  {
   "cell_type": "code",
   "execution_count": 24,
   "metadata": {},
   "outputs": [],
   "source": [
    "conn.commit()\n",
    "conn.close()"
   ]
  }
 ],
 "metadata": {
  "kernelspec": {
   "display_name": "Python 3",
   "language": "python",
   "name": "python3"
  },
  "language_info": {
   "codemirror_mode": {
    "name": "ipython",
    "version": 3
   },
   "file_extension": ".py",
   "mimetype": "text/x-python",
   "name": "python",
   "nbconvert_exporter": "python",
   "pygments_lexer": "ipython3",
   "version": "3.6.10"
  }
 },
 "nbformat": 4,
 "nbformat_minor": 4
}
